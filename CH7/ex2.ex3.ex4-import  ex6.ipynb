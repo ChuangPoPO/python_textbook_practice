{
 "cells": [
  {
   "cell_type": "markdown",
   "metadata": {},
   "source": [
    "## 2"
   ]
  },
  {
   "cell_type": "code",
   "execution_count": 1,
   "metadata": {
    "collapsed": true
   },
   "outputs": [],
   "source": [
    "import exlotto"
   ]
  },
  {
   "cell_type": "code",
   "execution_count": 3,
   "metadata": {},
   "outputs": [
    {
     "name": "stdout",
     "output_type": "stream",
     "text": [
      "n:48\n",
      "m:6\n",
      "[8, 17, 29, 44, 47, 48]\n"
     ]
    }
   ],
   "source": [
    "n = int(input('n:'))\n",
    "m = int(input('m:'))\n",
    "result = sorted(exlotto.lotto(n,m))\n",
    "print(result)"
   ]
  },
  {
   "cell_type": "markdown",
   "metadata": {},
   "source": [
    "## 3"
   ]
  },
  {
   "cell_type": "code",
   "execution_count": 4,
   "metadata": {
    "collapsed": true
   },
   "outputs": [],
   "source": [
    "from exlotto import lotto"
   ]
  },
  {
   "cell_type": "code",
   "execution_count": 5,
   "metadata": {},
   "outputs": [
    {
     "name": "stdout",
     "output_type": "stream",
     "text": [
      "n:48\n",
      "m:6\n",
      "[6, 16, 24, 32, 36, 41]\n"
     ]
    }
   ],
   "source": [
    "n = int(input('n:'))\n",
    "m = int(input('m:'))\n",
    "result = sorted(lotto(n,m))\n",
    "print(result)"
   ]
  },
  {
   "cell_type": "markdown",
   "metadata": {},
   "source": [
    "## 4"
   ]
  },
  {
   "cell_type": "code",
   "execution_count": 6,
   "metadata": {
    "collapsed": true
   },
   "outputs": [],
   "source": [
    "import exlotto as ex"
   ]
  },
  {
   "cell_type": "code",
   "execution_count": 7,
   "metadata": {},
   "outputs": [
    {
     "name": "stdout",
     "output_type": "stream",
     "text": [
      "n:48\n",
      "m:6\n",
      "[13, 17, 18, 27, 30, 33]\n"
     ]
    }
   ],
   "source": [
    "n = int(input('n:'))\n",
    "m = int(input('m:'))\n",
    "result = sorted(ex.lotto(n,m))\n",
    "print(result)"
   ]
  },
  {
   "cell_type": "markdown",
   "metadata": {
    "collapsed": true
   },
   "source": [
    "## 6"
   ]
  },
  {
   "cell_type": "code",
   "execution_count": 1,
   "metadata": {
    "collapsed": true
   },
   "outputs": [],
   "source": [
    "from prize import exlotto, exreciept"
   ]
  },
  {
   "cell_type": "code",
   "execution_count": 2,
   "metadata": {},
   "outputs": [
    {
     "name": "stdout",
     "output_type": "stream",
     "text": [
      "n:48\n",
      "m:6\n",
      "[3, 17, 24, 28, 41, 42]\n",
      "77223420\n"
     ]
    }
   ],
   "source": [
    "n = int(input('n:'))\n",
    "m = int(input('m:'))\n",
    "result = sorted(exlotto.lotto(n,m))\n",
    "print(result)\n",
    "\n",
    "print(exreciept.recipt())"
   ]
  },
  {
   "cell_type": "code",
   "execution_count": null,
   "metadata": {
    "collapsed": true
   },
   "outputs": [],
   "source": []
  }
 ],
 "metadata": {
  "kernelspec": {
   "display_name": "Python 3",
   "language": "python",
   "name": "python3"
  },
  "language_info": {
   "codemirror_mode": {
    "name": "ipython",
    "version": 3
   },
   "file_extension": ".py",
   "mimetype": "text/x-python",
   "name": "python",
   "nbconvert_exporter": "python",
   "pygments_lexer": "ipython3",
   "version": "3.6.3"
  }
 },
 "nbformat": 4,
 "nbformat_minor": 2
}
