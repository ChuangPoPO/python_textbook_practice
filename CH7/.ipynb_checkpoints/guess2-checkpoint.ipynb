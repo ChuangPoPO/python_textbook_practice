{
 "cells": [
  {
   "cell_type": "code",
   "execution_count": null,
   "metadata": {
    "collapsed": true
   },
   "outputs": [],
   "source": [
    "from guess import finger_guess\n",
    "def run():\n",
    "    computer = finger_guess()\n",
    "    my = int(input('請輸入1、2、3(【1剪刀】、【2石頭】、【3布】)：'))\n",
    "    print('電腦出', computer)\n",
    "    if my == 1 :\n",
    "        if computer == '剪刀':\n",
    "            print('平手')\n",
    "        elif computer == '石頭'：\n",
    "            print('電腦獲勝')\n",
    "        else :\n",
    "            print('你贏了!!!')\n",
    "    elif my == 2:\n",
    "        if computer == '石頭':\n",
    "            print('平手')\n",
    "        elif computer == '布'：\n",
    "            print('電腦獲勝')\n",
    "        else :\n",
    "            print('你贏了!!!')\n",
    "    else :\n",
    "        if computer == '布':\n",
    "            print('平手')\n",
    "        elif computer == '剪刀'：\n",
    "            print('電腦獲勝')\n",
    "        else :\n",
    "            print('你贏了!!!')\n",
    "    \n",
    "if __name__ == '__main__':\n",
    "    for i in range(5):\n",
    "        run()\n",
    "else :\n",
    "    print('我不是獨立執行的 python 程式')"
   ]
  }
 ],
 "metadata": {
  "kernelspec": {
   "display_name": "Python 3",
   "language": "python",
   "name": "python3"
  },
  "language_info": {
   "codemirror_mode": {
    "name": "ipython",
    "version": 3
   },
   "file_extension": ".py",
   "mimetype": "text/x-python",
   "name": "python",
   "nbconvert_exporter": "python",
   "pygments_lexer": "ipython3",
   "version": "3.6.3"
  }
 },
 "nbformat": 4,
 "nbformat_minor": 2
}
