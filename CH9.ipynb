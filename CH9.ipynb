{
 "cells": [
  {
   "cell_type": "markdown",
   "metadata": {},
   "source": [
    "### 9-1-2 密碼隨機產生器"
   ]
  },
  {
   "cell_type": "code",
   "execution_count": 1,
   "metadata": {
    "collapsed": true
   },
   "outputs": [],
   "source": [
    "import string, random"
   ]
  },
  {
   "cell_type": "code",
   "execution_count": 4,
   "metadata": {},
   "outputs": [
    {
     "name": "stdout",
     "output_type": "stream",
     "text": [
      "V5Ik3d2CA\n"
     ]
    }
   ],
   "source": [
    "letters = string.ascii_letters + string.digits\n",
    "pwd = ''\n",
    "for i in range(random.randint(8,12)):\n",
    "    pwd += random.choice(letters)\n",
    "print(pwd)"
   ]
  },
  {
   "cell_type": "markdown",
   "metadata": {},
   "source": [
    "### 9-2-1 Unicode 字元表示\n",
    "- `unicodedata.name('中文字/4個16進位/8個16進位/標準名稱')` --> Unicode 標準名稱\n",
    "- `unicodedata.lookup('標準名稱')` --> Unicode 字元"
   ]
  },
  {
   "cell_type": "code",
   "execution_count": 6,
   "metadata": {
    "collapsed": true
   },
   "outputs": [],
   "source": [
    "import unicodedata as uc\n",
    "# 找 unicode\n",
    "def unicode_name(value):\n",
    "    print(value, '-->', uc.name(value))\n",
    "    return uc.name(value)\n",
    "# 找字元\n",
    "def unicode_lookup(name):\n",
    "    print(name, '-->', uc.lookup(name))\n",
    "    return uc.lookup(name)"
   ]
  },
  {
   "cell_type": "code",
   "execution_count": 10,
   "metadata": {},
   "outputs": [
    {
     "name": "stdout",
     "output_type": "stream",
     "text": [
      "縉 --> CJK UNIFIED IDEOGRAPH-7E09\n",
      "CJK UNIFIED IDEOGRAPH-7E09 --> 縉\n",
      "\n",
      "我 --> CJK UNIFIED IDEOGRAPH-6211\n",
      "CJK UNIFIED IDEOGRAPH-6211 --> 我\n",
      "\n",
      "我 --> CJK UNIFIED IDEOGRAPH-6211\n",
      "CJK UNIFIED IDEOGRAPH-6211 --> 我\n",
      "\n",
      "縉 --> CJK UNIFIED IDEOGRAPH-7E09\n",
      "CJK UNIFIED IDEOGRAPH-7E09 --> 縉\n",
      "\n"
     ]
    }
   ],
   "source": [
    "name = unicode_name('縉')\n",
    "value = unicode_lookup(name)\n",
    "print()\n",
    "name = unicode_name('\\u6211')\n",
    "value = unicode_lookup(name)\n",
    "print()\n",
    "name = unicode_name('\\U00006211')\n",
    "value = unicode_lookup(name)\n",
    "print()\n",
    "name = unicode_name('\\N{CJK UNIFIED IDEOGRAPH-7E09}')\n",
    "value = unicode_lookup(name)\n",
    "print()"
   ]
  },
  {
   "cell_type": "markdown",
   "metadata": {},
   "source": [
    "### 9-2-2 編碼與解碼"
   ]
  },
  {
   "cell_type": "markdown",
   "metadata": {},
   "source": [
    "編碼"
   ]
  },
  {
   "cell_type": "code",
   "execution_count": 17,
   "metadata": {},
   "outputs": [
    {
     "name": "stdout",
     "output_type": "stream",
     "text": [
      "b'\\xe7\\xb8\\x89'\n",
      "b'\\\\u7e09'\n"
     ]
    }
   ],
   "source": [
    "\n",
    "s = '縉'\n",
    "print(s.encode('utf-8'))\n",
    "\n",
    "# 編成 unicode 碼\n",
    "print(s.encode('unicode-escape'))\n",
    "byte = s.encode('unicode-escape')"
   ]
  },
  {
   "cell_type": "markdown",
   "metadata": {},
   "source": [
    "解碼"
   ]
  },
  {
   "cell_type": "code",
   "execution_count": 18,
   "metadata": {},
   "outputs": [
    {
     "data": {
      "text/plain": [
       "'縉'"
      ]
     },
     "execution_count": 18,
     "metadata": {},
     "output_type": "execute_result"
    }
   ],
   "source": [
    "# 解 unicode-escape 碼\n",
    "byte.decode('unicode-escape')"
   ]
  },
  {
   "cell_type": "code",
   "execution_count": 22,
   "metadata": {},
   "outputs": [
    {
     "name": "stdout",
     "output_type": "stream",
     "text": [
      "縉 ： 1\n",
      "b'\\xe7\\xb8\\x89' ： 3\n",
      "b'\\\\u7e09' ： 6\n"
     ]
    },
    {
     "data": {
      "text/plain": [
       "'縉'"
      ]
     },
     "execution_count": 22,
     "metadata": {},
     "output_type": "execute_result"
    }
   ],
   "source": [
    "s = '縉'\n",
    "\n",
    "# 經由 utf-8 編碼\n",
    "byte1 = s.encode('utf-8')\n",
    "\n",
    "# 經由 unicode-escape 編碼\n",
    "byte2 = s.encode('unicode-escape')\n",
    "\n",
    "print(s,'：',len(s))\n",
    "print(byte1,'：',len(byte1))\n",
    "print(byte2,'：',len(byte2))\n",
    "\n",
    "# 經由 utf-8 解碼\n",
    "byte.decode('utf-8')"
   ]
  },
  {
   "cell_type": "code",
   "execution_count": null,
   "metadata": {
    "collapsed": true
   },
   "outputs": [],
   "source": []
  }
 ],
 "metadata": {
  "kernelspec": {
   "display_name": "Python 3",
   "language": "python",
   "name": "python3"
  },
  "language_info": {
   "codemirror_mode": {
    "name": "ipython",
    "version": 3
   },
   "file_extension": ".py",
   "mimetype": "text/x-python",
   "name": "python",
   "nbconvert_exporter": "python",
   "pygments_lexer": "ipython3",
   "version": "3.6.3"
  }
 },
 "nbformat": 4,
 "nbformat_minor": 2
}
