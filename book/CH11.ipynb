{
 "cells": [
  {
   "cell_type": "markdown",
   "metadata": {},
   "source": [
    "# 11.1"
   ]
  },
  {
   "cell_type": "code",
   "execution_count": 1,
   "metadata": {
    "collapsed": true
   },
   "outputs": [],
   "source": [
    "import os"
   ]
  },
  {
   "cell_type": "code",
   "execution_count": 3,
   "metadata": {},
   "outputs": [
    {
     "data": {
      "text/plain": [
       "'C:\\\\Users\\\\poduo\\\\Anaconda3_JupyterNB\\\\python_textbook_practice'"
      ]
     },
     "execution_count": 3,
     "metadata": {},
     "output_type": "execute_result"
    }
   ],
   "source": [
    "os.getcwd()"
   ]
  },
  {
   "cell_type": "code",
   "execution_count": 4,
   "metadata": {},
   "outputs": [
    {
     "data": {
      "text/plain": [
       "0"
      ]
     },
     "execution_count": 4,
     "metadata": {},
     "output_type": "execute_result"
    }
   ],
   "source": [
    "os.system('dir')"
   ]
  },
  {
   "cell_type": "code",
   "execution_count": 6,
   "metadata": {},
   "outputs": [
    {
     "name": "stdout",
     "output_type": "stream",
     "text": [
      "DESKTOP-RU1VTEV\n",
      "C:\n",
      "\\Users\\poduo\n",
      "poduo\n"
     ]
    }
   ],
   "source": [
    "print(os.getenv('COMPUTERNAME'))\n",
    "print(os.getenv('HOMEDRIVE'))\n",
    "print(os.getenv('HOMEPATH'))\n",
    "print(os.getenv('USERNAME'))"
   ]
  },
  {
   "cell_type": "code",
   "execution_count": 1,
   "metadata": {
    "collapsed": true
   },
   "outputs": [],
   "source": [
    "import pprint"
   ]
  },
  {
   "cell_type": "code",
   "execution_count": 2,
   "metadata": {},
   "outputs": [
    {
     "name": "stdout",
     "output_type": "stream",
     "text": [
      "在函式外，顯示全域變數 {'__name__': '__main__', '__doc__': 'Automatically created module for IPython interactive environment', '__package__': None, '__loader__': None, '__spec__': None, '__builtin__': <module 'builtins' (built-in)>, '__builtins__': <module 'builtins' (built-in)>, '_ih': ['', 'import pprint', \"print('在函式外，顯示全域變數', globals())\\nprint('在函式外，顯示區域變數', locals())\\nprint()\\ndef add(x, y):\\n    sum = x + y\\n    print('在函式內，顯示全域變數')\\n    pprint.pprint(globals())\\n    print()\\n    print('在函式內，顯示區域變數')\\n    pprint.pprint(locals())\\n    print()\\n    return sum\\n\\nans = add(5,6)\"], '_oh': {}, '_dh': ['C:\\\\Users\\\\poduo\\\\Anaconda3_JupyterNB\\\\python_textbook_practice'], 'In': ['', 'import pprint', \"print('在函式外，顯示全域變數', globals())\\nprint('在函式外，顯示區域變數', locals())\\nprint()\\ndef add(x, y):\\n    sum = x + y\\n    print('在函式內，顯示全域變數')\\n    pprint.pprint(globals())\\n    print()\\n    print('在函式內，顯示區域變數')\\n    pprint.pprint(locals())\\n    print()\\n    return sum\\n\\nans = add(5,6)\"], 'Out': {}, 'get_ipython': <bound method InteractiveShell.get_ipython of <ipykernel.zmqshell.ZMQInteractiveShell object at 0x0000021EC3F88CC0>>, 'exit': <IPython.core.autocall.ZMQExitAutocall object at 0x0000021EC4FB5048>, 'quit': <IPython.core.autocall.ZMQExitAutocall object at 0x0000021EC4FB5048>, '_': '', '__': '', '___': '', '_i': 'import pprint', '_ii': '', '_iii': '', '_i1': 'import pprint', 'pprint': <module 'pprint' from 'C:\\\\Users\\\\poduo\\\\Anaconda3\\\\lib\\\\pprint.py'>, '_i2': \"print('在函式外，顯示全域變數', globals())\\nprint('在函式外，顯示區域變數', locals())\\nprint()\\ndef add(x, y):\\n    sum = x + y\\n    print('在函式內，顯示全域變數')\\n    pprint.pprint(globals())\\n    print()\\n    print('在函式內，顯示區域變數')\\n    pprint.pprint(locals())\\n    print()\\n    return sum\\n\\nans = add(5,6)\"}\n",
      "在函式外，顯示區域變數 {'__name__': '__main__', '__doc__': 'Automatically created module for IPython interactive environment', '__package__': None, '__loader__': None, '__spec__': None, '__builtin__': <module 'builtins' (built-in)>, '__builtins__': <module 'builtins' (built-in)>, '_ih': ['', 'import pprint', \"print('在函式外，顯示全域變數', globals())\\nprint('在函式外，顯示區域變數', locals())\\nprint()\\ndef add(x, y):\\n    sum = x + y\\n    print('在函式內，顯示全域變數')\\n    pprint.pprint(globals())\\n    print()\\n    print('在函式內，顯示區域變數')\\n    pprint.pprint(locals())\\n    print()\\n    return sum\\n\\nans = add(5,6)\"], '_oh': {}, '_dh': ['C:\\\\Users\\\\poduo\\\\Anaconda3_JupyterNB\\\\python_textbook_practice'], 'In': ['', 'import pprint', \"print('在函式外，顯示全域變數', globals())\\nprint('在函式外，顯示區域變數', locals())\\nprint()\\ndef add(x, y):\\n    sum = x + y\\n    print('在函式內，顯示全域變數')\\n    pprint.pprint(globals())\\n    print()\\n    print('在函式內，顯示區域變數')\\n    pprint.pprint(locals())\\n    print()\\n    return sum\\n\\nans = add(5,6)\"], 'Out': {}, 'get_ipython': <bound method InteractiveShell.get_ipython of <ipykernel.zmqshell.ZMQInteractiveShell object at 0x0000021EC3F88CC0>>, 'exit': <IPython.core.autocall.ZMQExitAutocall object at 0x0000021EC4FB5048>, 'quit': <IPython.core.autocall.ZMQExitAutocall object at 0x0000021EC4FB5048>, '_': '', '__': '', '___': '', '_i': 'import pprint', '_ii': '', '_iii': '', '_i1': 'import pprint', 'pprint': <module 'pprint' from 'C:\\\\Users\\\\poduo\\\\Anaconda3\\\\lib\\\\pprint.py'>, '_i2': \"print('在函式外，顯示全域變數', globals())\\nprint('在函式外，顯示區域變數', locals())\\nprint()\\ndef add(x, y):\\n    sum = x + y\\n    print('在函式內，顯示全域變數')\\n    pprint.pprint(globals())\\n    print()\\n    print('在函式內，顯示區域變數')\\n    pprint.pprint(locals())\\n    print()\\n    return sum\\n\\nans = add(5,6)\"}\n",
      "\n",
      "在函式內，顯示全域變數\n",
      "{'In': ['',\n",
      "        'import pprint',\n",
      "        \"print('在函式外，顯示全域變數', globals())\\n\"\n",
      "        \"print('在函式外，顯示區域變數', locals())\\n\"\n",
      "        'print()\\n'\n",
      "        'def add(x, y):\\n'\n",
      "        '    sum = x + y\\n'\n",
      "        \"    print('在函式內，顯示全域變數')\\n\"\n",
      "        '    pprint.pprint(globals())\\n'\n",
      "        '    print()\\n'\n",
      "        \"    print('在函式內，顯示區域變數')\\n\"\n",
      "        '    pprint.pprint(locals())\\n'\n",
      "        '    print()\\n'\n",
      "        '    return sum\\n'\n",
      "        '\\n'\n",
      "        'ans = add(5,6)'],\n",
      " 'Out': {},\n",
      " '_': '',\n",
      " '__': '',\n",
      " '___': '',\n",
      " '__builtin__': <module 'builtins' (built-in)>,\n",
      " '__builtins__': <module 'builtins' (built-in)>,\n",
      " '__doc__': 'Automatically created module for IPython interactive environment',\n",
      " '__loader__': None,\n",
      " '__name__': '__main__',\n",
      " '__package__': None,\n",
      " '__spec__': None,\n",
      " '_dh': ['C:\\\\Users\\\\poduo\\\\Anaconda3_JupyterNB\\\\python_textbook_practice'],\n",
      " '_i': 'import pprint',\n",
      " '_i1': 'import pprint',\n",
      " '_i2': \"print('在函式外，顯示全域變數', globals())\\n\"\n",
      "        \"print('在函式外，顯示區域變數', locals())\\n\"\n",
      "        'print()\\n'\n",
      "        'def add(x, y):\\n'\n",
      "        '    sum = x + y\\n'\n",
      "        \"    print('在函式內，顯示全域變數')\\n\"\n",
      "        '    pprint.pprint(globals())\\n'\n",
      "        '    print()\\n'\n",
      "        \"    print('在函式內，顯示區域變數')\\n\"\n",
      "        '    pprint.pprint(locals())\\n'\n",
      "        '    print()\\n'\n",
      "        '    return sum\\n'\n",
      "        '\\n'\n",
      "        'ans = add(5,6)',\n",
      " '_ih': ['',\n",
      "         'import pprint',\n",
      "         \"print('在函式外，顯示全域變數', globals())\\n\"\n",
      "         \"print('在函式外，顯示區域變數', locals())\\n\"\n",
      "         'print()\\n'\n",
      "         'def add(x, y):\\n'\n",
      "         '    sum = x + y\\n'\n",
      "         \"    print('在函式內，顯示全域變數')\\n\"\n",
      "         '    pprint.pprint(globals())\\n'\n",
      "         '    print()\\n'\n",
      "         \"    print('在函式內，顯示區域變數')\\n\"\n",
      "         '    pprint.pprint(locals())\\n'\n",
      "         '    print()\\n'\n",
      "         '    return sum\\n'\n",
      "         '\\n'\n",
      "         'ans = add(5,6)'],\n",
      " '_ii': '',\n",
      " '_iii': '',\n",
      " '_oh': {},\n",
      " 'add': <function add at 0x0000021EC507DAE8>,\n",
      " 'exit': <IPython.core.autocall.ZMQExitAutocall object at 0x0000021EC4FB5048>,\n",
      " 'get_ipython': <bound method InteractiveShell.get_ipython of <ipykernel.zmqshell.ZMQInteractiveShell object at 0x0000021EC3F88CC0>>,\n",
      " 'pprint': <module 'pprint' from 'C:\\\\Users\\\\poduo\\\\Anaconda3\\\\lib\\\\pprint.py'>,\n",
      " 'quit': <IPython.core.autocall.ZMQExitAutocall object at 0x0000021EC4FB5048>}\n",
      "\n",
      "在函式內，顯示區域變數\n",
      "{'sum': 11, 'x': 5, 'y': 6}\n",
      "\n"
     ]
    }
   ],
   "source": [
    "print('在函式外，顯示全域變數', globals())\n",
    "print('在函式外，顯示區域變數', locals())\n",
    "print()\n",
    "def add(x, y):\n",
    "    sum = x + y\n",
    "    print('在函式內，顯示全域變數')\n",
    "    pprint.pprint(globals())\n",
    "    print()\n",
    "    print('在函式內，顯示區域變數')\n",
    "    pprint.pprint(locals())\n",
    "    print()\n",
    "    return sum\n",
    "\n",
    "ans = add(5,6)"
   ]
  },
  {
   "cell_type": "markdown",
   "metadata": {},
   "source": [
    "# 11.2"
   ]
  },
  {
   "cell_type": "code",
   "execution_count": 3,
   "metadata": {
    "collapsed": true
   },
   "outputs": [],
   "source": [
    "import itertools"
   ]
  },
  {
   "cell_type": "code",
   "execution_count": 4,
   "metadata": {},
   "outputs": [
    {
     "name": "stdout",
     "output_type": "stream",
     "text": [
      "1\n",
      "3\n",
      "5\n",
      "7\n",
      "9\n"
     ]
    }
   ],
   "source": [
    "nums = itertools.count(1,2)\n",
    "for i in range(5):\n",
    "    num = nums.__next__()\n",
    "    print(num)"
   ]
  },
  {
   "cell_type": "code",
   "execution_count": 5,
   "metadata": {},
   "outputs": [
    {
     "name": "stdout",
     "output_type": "stream",
     "text": [
      "1\n",
      "3\n",
      "5\n",
      "1\n",
      "3\n",
      "5\n"
     ]
    }
   ],
   "source": [
    "nums = [1,3,5]\n",
    "cyclenums = itertools.cycle(nums)\n",
    "for i in range(6):\n",
    "    num = cyclenums.__next__()\n",
    "    print(num)"
   ]
  },
  {
   "cell_type": "code",
   "execution_count": 8,
   "metadata": {},
   "outputs": [
    {
     "name": "stdout",
     "output_type": "stream",
     "text": [
      "[1, 3, 5]\n",
      "[1, 3, 5]\n",
      "[1, 3, 5]\n"
     ]
    }
   ],
   "source": [
    "nums = [1,3,5]\n",
    "# nums = 5\n",
    "repeatnums = itertools.repeat(nums, 3)\n",
    "for i in range(3):\n",
    "    num = repeatnums.__next__()\n",
    "    print(num)"
   ]
  },
  {
   "cell_type": "code",
   "execution_count": 9,
   "metadata": {},
   "outputs": [
    {
     "name": "stdout",
     "output_type": "stream",
     "text": [
      "[1, 3, 6, 10, 15]\n",
      "[1, 2, 6, 24, 120]\n"
     ]
    }
   ],
   "source": [
    "nums = [i for i in range(1,6)]\n",
    "sums = itertools.accumulate(nums)\n",
    "print(list(sums))\n",
    "\n",
    "sums = itertools.accumulate(nums, lambda x,y: x*y)\n",
    "print(list(sums))"
   ]
  },
  {
   "cell_type": "code",
   "execution_count": 10,
   "metadata": {},
   "outputs": [
    {
     "name": "stdout",
     "output_type": "stream",
     "text": [
      "['P', 'y', 't', 'h', 'o', 'n']\n"
     ]
    }
   ],
   "source": [
    "s = itertools.chain('Py','thon')\n",
    "print(list(s))"
   ]
  },
  {
   "cell_type": "code",
   "execution_count": 12,
   "metadata": {},
   "outputs": [
    {
     "name": "stdout",
     "output_type": "stream",
     "text": [
      "[('A', 'B', 'C'), ('A', 'B', 'D'), ('A', 'C', 'B'), ('A', 'C', 'D'), ('A', 'D', 'B'), ('A', 'D', 'C'), ('B', 'A', 'C'), ('B', 'A', 'D'), ('B', 'C', 'A'), ('B', 'C', 'D'), ('B', 'D', 'A'), ('B', 'D', 'C'), ('C', 'A', 'B'), ('C', 'A', 'D'), ('C', 'B', 'A'), ('C', 'B', 'D'), ('C', 'D', 'A'), ('C', 'D', 'B'), ('D', 'A', 'B'), ('D', 'A', 'C'), ('D', 'B', 'A'), ('D', 'B', 'C'), ('D', 'C', 'A'), ('D', 'C', 'B')]\n",
      "[('A', 'B', 'C'), ('A', 'B', 'D'), ('A', 'C', 'D'), ('B', 'C', 'D')]\n"
     ]
    }
   ],
   "source": [
    "perm = itertools.permutations('ABCD', 3)\n",
    "comb = itertools.combinations('ABCD', 3)\n",
    "print(list(perm))\n",
    "print(list(comb))"
   ]
  },
  {
   "cell_type": "code",
   "execution_count": 14,
   "metadata": {},
   "outputs": [
    {
     "name": "stdout",
     "output_type": "stream",
     "text": [
      "1 ： Sun\n",
      "2 ： Mon\n",
      "3 ： Tue\n",
      "4 ： Wed\n",
      "5 ： Thu\n",
      "6 ： Fri\n",
      "7 ： Sat\n",
      "Sun ： buy food\n",
      "Mon ： Python\n",
      "Tue ： ShareCourse\n",
      "Wed ： HaHow\n",
      "Thu ： Kaggle\n",
      "Fri ： Practice\n",
      "Sat ： coffee\n"
     ]
    }
   ],
   "source": [
    "days = ['Sun', 'Mon', 'Tue', 'Wed', 'Thu', 'Fri', 'Sat']\n",
    "da = enumerate(days, start=1)\n",
    "for i, day in da:\n",
    "    print(i, '：', day)\n",
    "\n",
    "do = ['buy food', 'Python', 'ShareCourse', 'HaHow', 'Kaggle','Practice','coffee','hand_made_soap']\n",
    "d = zip(days, do)\n",
    "for i, j in d:\n",
    "    print(i, '：', j)"
   ]
  },
  {
   "cell_type": "code",
   "execution_count": 15,
   "metadata": {},
   "outputs": [
    {
     "name": "stdout",
     "output_type": "stream",
     "text": [
      "[1, 3, 5, 7, 9]\n",
      "[2, 4, 6, 8]\n"
     ]
    }
   ],
   "source": [
    "nums = [i for i in range(1,10)]\n",
    "nums2 = filter(lambda x : x % 2, nums)\n",
    "print(list(nums2))\n",
    "\n",
    "nums2 = filter(lambda x : x%2 == 0, nums)\n",
    "print(list(nums2))"
   ]
  },
  {
   "cell_type": "code",
   "execution_count": 17,
   "metadata": {},
   "outputs": [
    {
     "name": "stdout",
     "output_type": "stream",
     "text": [
      "[2, 4, 6, 8, 10]\n",
      "[6, 14, 24, 36, 50]\n"
     ]
    }
   ],
   "source": [
    "nums = [i for i in range(1,6)]\n",
    "def double(x):\n",
    "    return x*2\n",
    "nums2 = map(double, nums)\n",
    "print(list(nums2))\n",
    "\n",
    "a = [i for i in range(1,6)]\n",
    "b = [i for i in range(6,11)]\n",
    "c = map(lambda x, y: x*y, a, b)\n",
    "print(list(c))"
   ]
  },
  {
   "cell_type": "code",
   "execution_count": 18,
   "metadata": {
    "collapsed": true
   },
   "outputs": [],
   "source": [
    "import functools"
   ]
  },
  {
   "cell_type": "code",
   "execution_count": 20,
   "metadata": {},
   "outputs": [
    {
     "name": "stdout",
     "output_type": "stream",
     "text": [
      "45\n",
      "48\n"
     ]
    }
   ],
   "source": [
    "nums = functools.reduce(lambda x,y: x+y, range(1,10))\n",
    "print(nums)\n",
    "\n",
    "nums = functools.reduce(lambda x,y: x+y, range(1,10),3)\n",
    "print(nums)"
   ]
  },
  {
   "cell_type": "code",
   "execution_count": 15,
   "metadata": {
    "scrolled": true
   },
   "outputs": [
    {
     "name": "stdout",
     "output_type": "stream",
     "text": [
      "2  3  5  7  11  13  17  19  23  29  31  37  41  43  47  53  59  61  67  71  73  79  83  89  97  "
     ]
    }
   ],
   "source": [
    "import itertools\n",
    "def iter_primes():\n",
    "    numbers = itertools.count(2)\n",
    "    while True:\n",
    "        prime = numbers.__next__()\n",
    "        yield prime\n",
    "        numbers = filter(prime.__rmod__ ,numbers)\n",
    "for p in iter_primes():\n",
    "    if p>100:\n",
    "        break\n",
    "    print(p,' ',end='')"
   ]
  },
  {
   "cell_type": "markdown",
   "metadata": {},
   "source": [
    "# 11.3"
   ]
  },
  {
   "cell_type": "code",
   "execution_count": 16,
   "metadata": {
    "collapsed": true
   },
   "outputs": [],
   "source": [
    "from datetime import datetime, date"
   ]
  },
  {
   "cell_type": "code",
   "execution_count": 17,
   "metadata": {},
   "outputs": [
    {
     "name": "stdout",
     "output_type": "stream",
     "text": [
      "2017-12-28\n",
      "2017-12-28 15:26:52.990483\n",
      "2017 12 28\n",
      "15 26 52 990483\n"
     ]
    }
   ],
   "source": [
    "now = date.today()\n",
    "print(now)\n",
    "now = datetime.now()\n",
    "print(now)\n",
    "print(now.year, now.month, now.day)\n",
    "print(now.hour, now.minute, now.second, now.microsecond)"
   ]
  },
  {
   "cell_type": "code",
   "execution_count": 25,
   "metadata": {},
   "outputs": [
    {
     "name": "stdout",
     "output_type": "stream",
     "text": [
      "time.time() =  1514448545.578609\n",
      "time.ctime() =  Thu Dec 28 16:09:05 2017\n",
      "time.localtime() =  time.struct_time(tm_year=2017, tm_mon=12, tm_mday=28, tm_hour=16, tm_min=9, tm_sec=5, tm_wday=3, tm_yday=362, tm_isdst=0)\n",
      "目前的時間為 2017-12-28(Thu) 16 09 05\n",
      "目前的時間為 2017-December-28(Thursday) PM 04 09 05\n"
     ]
    }
   ],
   "source": [
    "import time\n",
    "now = time.time()\n",
    "print('time.time() = ', now)\n",
    "print('time.ctime() = ', time.ctime())\n",
    "\n",
    "t = time.localtime()\n",
    "print('time.localtime() = ', t)\n",
    "\n",
    "fmt = '%Y-%m-%d(%a) %H %M %S'\n",
    "print('目前的時間為',time.strftime(fmt))\n",
    "\n",
    "fmt2 = '%Y-%B-%d(%A) %p %I %M %S'\n",
    "print('目前的時間為',time.strftime(fmt2))"
   ]
  },
  {
   "cell_type": "code",
   "execution_count": 41,
   "metadata": {},
   "outputs": [
    {
     "name": "stdout",
     "output_type": "stream",
     "text": [
      "1989-01-26 10:20:00\n",
      "2017-12-28 10:20:00\n",
      "<class 'datetime.datetime'>\n"
     ]
    }
   ],
   "source": [
    "from datetime import datetime, timedelta\n",
    "birthday = datetime(1989, 1, 26, 10, 20, 0, 0)\n",
    "print(birthday)\n",
    "day1000 = timedelta(days = 10563)\n",
    "someday = birthday + day1000\n",
    "print(someday)\n",
    "print(type(someday))"
   ]
  },
  {
   "cell_type": "code",
   "execution_count": 42,
   "metadata": {},
   "outputs": [
    {
     "name": "stdout",
     "output_type": "stream",
     "text": [
      "執行時間: 1.7450799942016602 秒\n"
     ]
    }
   ],
   "source": [
    "import time as t\n",
    "def count():\n",
    "    st = t.time()\n",
    "    [x for x in range(0, 9999999)]\n",
    "    et = t.time()\n",
    "    print('執行時間:', et-st, '秒')\n",
    "count()"
   ]
  },
  {
   "cell_type": "markdown",
   "metadata": {},
   "source": [
    "# 11.4"
   ]
  },
  {
   "cell_type": "code",
   "execution_count": null,
   "metadata": {
    "collapsed": true
   },
   "outputs": [],
   "source": []
  },
  {
   "cell_type": "code",
   "execution_count": null,
   "metadata": {
    "collapsed": true
   },
   "outputs": [],
   "source": []
  },
  {
   "cell_type": "code",
   "execution_count": null,
   "metadata": {
    "collapsed": true
   },
   "outputs": [],
   "source": []
  },
  {
   "cell_type": "code",
   "execution_count": null,
   "metadata": {
    "collapsed": true
   },
   "outputs": [],
   "source": []
  },
  {
   "cell_type": "code",
   "execution_count": null,
   "metadata": {
    "collapsed": true
   },
   "outputs": [],
   "source": []
  },
  {
   "cell_type": "code",
   "execution_count": null,
   "metadata": {
    "collapsed": true
   },
   "outputs": [],
   "source": []
  },
  {
   "cell_type": "code",
   "execution_count": null,
   "metadata": {
    "collapsed": true
   },
   "outputs": [],
   "source": []
  },
  {
   "cell_type": "markdown",
   "metadata": {},
   "source": [
    "# 11.5"
   ]
  },
  {
   "cell_type": "code",
   "execution_count": null,
   "metadata": {
    "collapsed": true
   },
   "outputs": [],
   "source": []
  },
  {
   "cell_type": "code",
   "execution_count": null,
   "metadata": {
    "collapsed": true
   },
   "outputs": [],
   "source": []
  },
  {
   "cell_type": "code",
   "execution_count": null,
   "metadata": {
    "collapsed": true
   },
   "outputs": [],
   "source": []
  },
  {
   "cell_type": "code",
   "execution_count": null,
   "metadata": {
    "collapsed": true
   },
   "outputs": [],
   "source": []
  },
  {
   "cell_type": "markdown",
   "metadata": {},
   "source": [
    "# Practice"
   ]
  },
  {
   "cell_type": "code",
   "execution_count": null,
   "metadata": {
    "collapsed": true
   },
   "outputs": [],
   "source": []
  },
  {
   "cell_type": "code",
   "execution_count": null,
   "metadata": {
    "collapsed": true
   },
   "outputs": [],
   "source": []
  },
  {
   "cell_type": "code",
   "execution_count": null,
   "metadata": {
    "collapsed": true
   },
   "outputs": [],
   "source": []
  },
  {
   "cell_type": "code",
   "execution_count": null,
   "metadata": {
    "collapsed": true
   },
   "outputs": [],
   "source": []
  },
  {
   "cell_type": "code",
   "execution_count": null,
   "metadata": {
    "collapsed": true
   },
   "outputs": [],
   "source": []
  }
 ],
 "metadata": {
  "kernelspec": {
   "display_name": "Python 3",
   "language": "python",
   "name": "python3"
  },
  "language_info": {
   "codemirror_mode": {
    "name": "ipython",
    "version": 3
   },
   "file_extension": ".py",
   "mimetype": "text/x-python",
   "name": "python",
   "nbconvert_exporter": "python",
   "pygments_lexer": "ipython3",
   "version": "3.6.3"
  }
 },
 "nbformat": 4,
 "nbformat_minor": 2
}
