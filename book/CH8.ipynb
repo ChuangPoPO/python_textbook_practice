{
 "cells": [
  {
   "cell_type": "markdown",
   "metadata": {},
   "source": [
    "# 8.1 類別"
   ]
  },
  {
   "cell_type": "markdown",
   "metadata": {},
   "source": [
    "### 8-1-1 實作類別"
   ]
  },
  {
   "cell_type": "code",
   "execution_count": 3,
   "metadata": {
    "collapsed": true,
    "scrolled": true
   },
   "outputs": [],
   "source": [
    "class Animal():\n",
    "    def __init__(self, name):\n",
    "        print(type(self))\n",
    "        print(type(name))\n",
    "        self.name = name"
   ]
  },
  {
   "cell_type": "code",
   "execution_count": 4,
   "metadata": {},
   "outputs": [
    {
     "name": "stdout",
     "output_type": "stream",
     "text": [
      "<class '__main__.Animal'>\n",
      "<class 'str'>\n",
      "動物\n"
     ]
    }
   ],
   "source": [
    "a = Animal('動物')\n",
    "print(a.name)"
   ]
  },
  {
   "cell_type": "markdown",
   "metadata": {},
   "source": [
    "### 8-1-2 繼承"
   ]
  },
  {
   "cell_type": "code",
   "execution_count": 6,
   "metadata": {
    "collapsed": true,
    "scrolled": true
   },
   "outputs": [],
   "source": [
    "class Animal():\n",
    "    def __init__(self, name):\n",
    "        self.name = name"
   ]
  },
  {
   "cell_type": "code",
   "execution_count": 9,
   "metadata": {
    "collapsed": true
   },
   "outputs": [],
   "source": [
    "# 繼承\n",
    "class Dog(Animal):\n",
    "    def __init__(self, name):\n",
    "        super().__init__('狗 - ' + name)"
   ]
  },
  {
   "cell_type": "code",
   "execution_count": 10,
   "metadata": {},
   "outputs": [
    {
     "name": "stdout",
     "output_type": "stream",
     "text": [
      "動物\n",
      "狗 - 憨吉\n"
     ]
    }
   ],
   "source": [
    "a = Animal('動物')\n",
    "d = Dog('憨吉')\n",
    "print(a.name)\n",
    "print(d.name)"
   ]
  },
  {
   "cell_type": "markdown",
   "metadata": {
    "collapsed": true
   },
   "source": [
    "### 8-1-3 覆寫函式"
   ]
  },
  {
   "cell_type": "code",
   "execution_count": 1,
   "metadata": {
    "collapsed": true
   },
   "outputs": [],
   "source": [
    "class Animal():\n",
    "    def __init__(self, name):\n",
    "        self.name = name\n",
    "    def sound(self):\n",
    "        pass"
   ]
  },
  {
   "cell_type": "code",
   "execution_count": 2,
   "metadata": {
    "collapsed": true
   },
   "outputs": [],
   "source": [
    "# 繼承\n",
    "class Dog(Animal):\n",
    "    def __init__(self, name):\n",
    "        super().__init__('(狗) ' + name)\n",
    "    def sound(self):\n",
    "        return '汪汪'"
   ]
  },
  {
   "cell_type": "code",
   "execution_count": 4,
   "metadata": {},
   "outputs": [
    {
     "name": "stdout",
     "output_type": "stream",
     "text": [
      "(狗) 憨吉\n",
      "汪汪\n"
     ]
    }
   ],
   "source": [
    "d = Dog('憨吉')\n",
    "print(d.name)\n",
    "print(d.sound())"
   ]
  },
  {
   "cell_type": "markdown",
   "metadata": {
    "collapsed": true
   },
   "source": [
    "### 8-1-4 新增參數的覆寫函式"
   ]
  },
  {
   "cell_type": "code",
   "execution_count": 5,
   "metadata": {
    "collapsed": true
   },
   "outputs": [],
   "source": [
    "class Animal():\n",
    "    def __init__(self, name):\n",
    "        self.name = name\n",
    "    def sound(self):\n",
    "        pass"
   ]
  },
  {
   "cell_type": "markdown",
   "metadata": {},
   "source": [
    "覆寫函式時，新增參數\n",
    "新增 leg 參數"
   ]
  },
  {
   "cell_type": "code",
   "execution_count": 6,
   "metadata": {
    "collapsed": true
   },
   "outputs": [],
   "source": [
    "# 繼承\n",
    "class Dog(Animal):\n",
    "    def __init__(self, name, leg):\n",
    "        super().__init__('(狗) ' + name)\n",
    "        self.leg = leg\n",
    "    def sound(self):\n",
    "        return '汪汪'"
   ]
  },
  {
   "cell_type": "code",
   "execution_count": 7,
   "metadata": {},
   "outputs": [
    {
     "name": "stdout",
     "output_type": "stream",
     "text": [
      "(狗) 憨吉 有 4 四條腿\n",
      "(狗) 憨吉 汪汪\n"
     ]
    }
   ],
   "source": [
    "d = Dog('憨吉', 4)\n",
    "print(d.name, '有', d.leg, '四條腿')\n",
    "print(d.name, d.sound())"
   ]
  },
  {
   "cell_type": "markdown",
   "metadata": {
    "collapsed": true
   },
   "source": [
    "### 8-1-5 新增函式"
   ]
  },
  {
   "cell_type": "code",
   "execution_count": 8,
   "metadata": {
    "collapsed": true
   },
   "outputs": [],
   "source": [
    "class Animal():\n",
    "    def __init__(self, name):\n",
    "        self.name = name\n",
    "    def sound(self):\n",
    "        pass"
   ]
  },
  {
   "cell_type": "markdown",
   "metadata": {},
   "source": [
    "在衍伸類別內，**新增基礎類別沒有的函式**\n",
    "\n",
    "新增 move 函式"
   ]
  },
  {
   "cell_type": "code",
   "execution_count": 12,
   "metadata": {
    "collapsed": true
   },
   "outputs": [],
   "source": [
    "# 繼承\n",
    "class Dog(Animal):\n",
    "    def __init__(self, name, leg):\n",
    "        super().__init__('(狗) ' + name)\n",
    "        self.leg = leg\n",
    "    def sound(self):\n",
    "        return '汪汪'\n",
    "    def move(self):\n",
    "        print(self.name + '在散步')"
   ]
  },
  {
   "cell_type": "code",
   "execution_count": 13,
   "metadata": {},
   "outputs": [
    {
     "name": "stdout",
     "output_type": "stream",
     "text": [
      "(狗) 憨吉 汪汪\n",
      "(狗) 憨吉在散步\n"
     ]
    }
   ],
   "source": [
    "d = Dog('憨吉', 4)\n",
    "print(d.name, d.sound())\n",
    "d.move()"
   ]
  },
  {
   "cell_type": "markdown",
   "metadata": {
    "collapsed": true
   },
   "source": [
    "### 8-1-6 多型(polymorphism)"
   ]
  },
  {
   "cell_type": "markdown",
   "metadata": {},
   "source": [
    "- 多個類別可以定義**相同的**函式名稱\n",
    "- 而相同的函式名稱在不同類別可以定義**各自特有的功能**\n",
    "    * call：物件的函式名稱\n",
    "\t* output：不同的物件都定義此 相同函式名稱 而產生的**不同功能**\n",
    "- python 中，類別不一定要有繼承關係"
   ]
  },
  {
   "cell_type": "code",
   "execution_count": 14,
   "metadata": {
    "collapsed": true
   },
   "outputs": [],
   "source": [
    "class Animal():\n",
    "    def __init__(self, name):\n",
    "        self.name = name\n",
    "    def who(self):\n",
    "        return self.name\n",
    "    def sound(self):\n",
    "        pass"
   ]
  },
  {
   "cell_type": "code",
   "execution_count": 19,
   "metadata": {
    "collapsed": true
   },
   "outputs": [],
   "source": [
    "# 繼承\n",
    "class Dog(Animal):\n",
    "    def __init__(self, name):\n",
    "        super().__init__('(狗) ' + name)\n",
    "    def sound(self):\n",
    "        return '汪汪'"
   ]
  },
  {
   "cell_type": "code",
   "execution_count": 20,
   "metadata": {
    "collapsed": true
   },
   "outputs": [],
   "source": [
    "class Bird():\n",
    "    def __init__(self, name):\n",
    "        self.name = '(鳥) ' + name\n",
    "    def who(self):\n",
    "        return self.name\n",
    "    def sound(self):\n",
    "        return '啾啾'"
   ]
  },
  {
   "cell_type": "code",
   "execution_count": 21,
   "metadata": {
    "collapsed": true
   },
   "outputs": [],
   "source": [
    "def talk(obj):\n",
    "    print(obj.who(), '正在', obj.sound())"
   ]
  },
  {
   "cell_type": "code",
   "execution_count": 22,
   "metadata": {},
   "outputs": [
    {
     "name": "stdout",
     "output_type": "stream",
     "text": [
      "動物 正在 None\n",
      "(狗) 憨吉 正在 汪汪\n",
      "(鳥) 阿弟 正在 啾啾\n"
     ]
    }
   ],
   "source": [
    "a = Animal('動物')\n",
    "talk(a)\n",
    "d = Dog('憨吉')\n",
    "talk(d)\n",
    "b = Bird('阿弟')\n",
    "talk(b)"
   ]
  },
  {
   "cell_type": "markdown",
   "metadata": {
    "collapsed": true
   },
   "source": [
    "### 8-1-7 類別內無法直接存取的變數"
   ]
  },
  {
   "cell_type": "markdown",
   "metadata": {},
   "source": [
    "- 目的：資料保護\n",
    "- 用法：變數名稱前加上 `__`\n",
    "- e.g. `__變數名稱`\n",
    "- 作用：其他物件 無法直接使用 `類別物件.__變數名稱` 來存取\n",
    "- 解法：需要在類別內定義函式，回傳 `self.__變數名稱` 才能讓 其他物件 存取到該變數"
   ]
  },
  {
   "cell_type": "code",
   "execution_count": 18,
   "metadata": {
    "collapsed": true
   },
   "outputs": [],
   "source": [
    "class Animal():\n",
    "    def __init__(self, name):\n",
    "        self.__name = name\n",
    "    def sound(self):\n",
    "        pass\n",
    "    def show_name(self):\n",
    "        return self.__name"
   ]
  },
  {
   "cell_type": "code",
   "execution_count": 19,
   "metadata": {
    "collapsed": true
   },
   "outputs": [],
   "source": [
    "# 繼承\n",
    "class Dog(Animal):\n",
    "    def __init__(self, name, leg):\n",
    "        super().__init__('(狗) ' + name)\n",
    "        self.leg = leg\n",
    "    def sound(self):\n",
    "        return '汪汪'"
   ]
  },
  {
   "cell_type": "code",
   "execution_count": 20,
   "metadata": {},
   "outputs": [
    {
     "name": "stdout",
     "output_type": "stream",
     "text": [
      "(狗) 憨吉 有 4 四條腿\n"
     ]
    }
   ],
   "source": [
    "d = Dog('憨吉', 4)\n",
    "# print(d.name, '有', d.leg, '四條腿')\n",
    "print(d.show_name(), '有', d.leg, '四條腿')"
   ]
  },
  {
   "cell_type": "markdown",
   "metadata": {
    "collapsed": true
   },
   "source": [
    "### 8-1-8 特殊函式(special method)"
   ]
  },
  {
   "cell_type": "code",
   "execution_count": 35,
   "metadata": {
    "collapsed": true
   },
   "outputs": [],
   "source": [
    "class Animal():\n",
    "    def __init__(self, name):\n",
    "        self.__name = name\n",
    "    def sound(self):\n",
    "        pass\n",
    "    def show_name(self):\n",
    "        return self.__name\n",
    "    \n",
    "    def eq(self, other):\n",
    "        return self.__name == other.show_name()\n",
    "    def __eq__(self, other):\n",
    "        return self.__name == other.show_name()\n",
    "    "
   ]
  },
  {
   "cell_type": "code",
   "execution_count": 36,
   "metadata": {
    "collapsed": true
   },
   "outputs": [],
   "source": [
    "# 繼承\n",
    "class Dog(Animal):\n",
    "    def __init__(self, name, leg):\n",
    "        super().__init__('(狗) ' + name)\n",
    "        self.leg = leg\n",
    "    def sound(self):\n",
    "        return '汪汪'"
   ]
  },
  {
   "cell_type": "code",
   "execution_count": 37,
   "metadata": {},
   "outputs": [
    {
     "name": "stdout",
     "output_type": "stream",
     "text": [
      "True\n",
      "True\n",
      "False\n",
      "False\n"
     ]
    }
   ],
   "source": [
    "d1 = Dog('阿弟', 4)\n",
    "d2 = Dog('阿弟', 4)\n",
    "d3 = Dog('憨吉', 4)\n",
    "print(d1 == d2)\n",
    "print(d1.eq(d2))\n",
    "print(d1 == d3)\n",
    "print(d1.eq(d3))"
   ]
  },
  {
   "cell_type": "markdown",
   "metadata": {
    "collapsed": true
   },
   "source": [
    "### 8-1-9 組合(composition)"
   ]
  },
  {
   "cell_type": "markdown",
   "metadata": {},
   "source": [
    "- 類別與類別間不全然是繼承關係\n",
    "- 也可能 類別A 是 類別B 的一部分\n",
    "\t- ex. 腳是動物的一部分，但腳不是動物，腳無法繼承動物\n",
    "\t- 因此在 動物類別 初始化時，將 腳 當成參數傳入，讓 腳 為 動物 的一部分"
   ]
  },
  {
   "cell_type": "code",
   "execution_count": 40,
   "metadata": {
    "collapsed": true
   },
   "outputs": [],
   "source": [
    "class Leg():\n",
    "    def __init__(self, num, look):\n",
    "        self.num = num\n",
    "        self.look = look"
   ]
  },
  {
   "cell_type": "code",
   "execution_count": 43,
   "metadata": {
    "collapsed": true
   },
   "outputs": [],
   "source": [
    "class Animal():\n",
    "    def __init__(self, name, leg):\n",
    "        self.__name = name\n",
    "        self.leg = leg\n",
    "    def show_name(self):\n",
    "        return self.__name\n",
    "    def show(self):\n",
    "        print(self.show_name(), '有', self.leg.num, '隻', self.leg.look, '腳')"
   ]
  },
  {
   "cell_type": "code",
   "execution_count": 44,
   "metadata": {},
   "outputs": [
    {
     "name": "stdout",
     "output_type": "stream",
     "text": [
      "狗 有 4 隻 短短的 腳\n"
     ]
    }
   ],
   "source": [
    "leg = Leg(4, '短短的')\n",
    "a = Animal('狗', leg)\n",
    "a.show()"
   ]
  },
  {
   "cell_type": "markdown",
   "metadata": {},
   "source": [
    "### 8-1-10 類別方法 classmethod"
   ]
  },
  {
   "cell_type": "markdown",
   "metadata": {},
   "source": [
    "- 作用對象：類別(class)\n",
    "- 影響：整個類別、類別所產生的物件\n",
    "- 類別方法：\n",
    "\t* 第一個參數：通常取名為`cls`\n",
    "\t* 需在類別中，函式的前一行使用裝飾器`@classmethod`"
   ]
  },
  {
   "cell_type": "code",
   "execution_count": 1,
   "metadata": {
    "collapsed": true
   },
   "outputs": [],
   "source": [
    "class Animal():\n",
    "    count = 0\n",
    "    def __init__(self):\n",
    "        Animal.count += 1\n",
    "    def lose(self):\n",
    "        Animal.count -= 1\n",
    "    @classmethod\n",
    "    def show_count(cls):\n",
    "        print('現在有', cls.count, '隻動物')"
   ]
  },
  {
   "cell_type": "code",
   "execution_count": 2,
   "metadata": {},
   "outputs": [
    {
     "name": "stdout",
     "output_type": "stream",
     "text": [
      "現在有 1 隻動物\n",
      "現在有 2 隻動物\n",
      "現在有 3 隻動物\n",
      "現在有 2 隻動物\n"
     ]
    }
   ],
   "source": [
    "a = Animal()\n",
    "Animal.show_count()\n",
    "b = Animal()\n",
    "Animal.show_count()\n",
    "c = Animal()\n",
    "Animal.show_count()\n",
    "a.lose()\n",
    "Animal.show_count()"
   ]
  },
  {
   "cell_type": "markdown",
   "metadata": {},
   "source": [
    "### 8-1-11 靜態方法 staticmehod"
   ]
  },
  {
   "cell_type": "markdown",
   "metadata": {
    "collapsed": true
   },
   "source": [
    "- 讓類別**不需要建立物件，就可以直接使用**該類別的靜態方法\n",
    "- 需在類別中，函式的前一行使用裝飾器`@staticmethod`"
   ]
  },
  {
   "cell_type": "code",
   "execution_count": 3,
   "metadata": {
    "collapsed": true
   },
   "outputs": [],
   "source": [
    "class Say():\n",
    "    @staticmethod\n",
    "    def hello():\n",
    "        print('Hello')"
   ]
  },
  {
   "cell_type": "code",
   "execution_count": 4,
   "metadata": {},
   "outputs": [
    {
     "name": "stdout",
     "output_type": "stream",
     "text": [
      "Hello\n"
     ]
    }
   ],
   "source": [
    "Say.hello()"
   ]
  },
  {
   "cell_type": "markdown",
   "metadata": {},
   "source": [
    "# 8.2 例外(exception)"
   ]
  },
  {
   "cell_type": "markdown",
   "metadata": {
    "collapsed": true
   },
   "source": [
    "### try-except"
   ]
  },
  {
   "cell_type": "code",
   "execution_count": 3,
   "metadata": {},
   "outputs": [
    {
     "name": "stdout",
     "output_type": "stream",
     "text": [
      "請輸入密碼：***\n"
     ]
    }
   ],
   "source": [
    "try:\n",
    "    pwd = input('請輸入密碼：')\n",
    "except:\n",
    "    print('發生錯誤')"
   ]
  },
  {
   "cell_type": "markdown",
   "metadata": {},
   "source": [
    "### try-except-else"
   ]
  },
  {
   "cell_type": "code",
   "execution_count": 5,
   "metadata": {},
   "outputs": [
    {
     "name": "stdout",
     "output_type": "stream",
     "text": [
      "請輸入密碼：-1\n",
      "輸入密碼為： -1\n"
     ]
    }
   ],
   "source": [
    "try:\n",
    "    pwd = input('請輸入密碼：')\n",
    "except EOFError:\n",
    "    print('輸入EOF')\n",
    "else:\n",
    "    print('輸入密碼為：', pwd)"
   ]
  },
  {
   "cell_type": "markdown",
   "metadata": {},
   "source": [
    "### try-except-as-else"
   ]
  },
  {
   "cell_type": "code",
   "execution_count": 8,
   "metadata": {},
   "outputs": [
    {
     "name": "stdout",
     "output_type": "stream",
     "text": [
      "請輸入整數：156\n",
      "輸入整數為： 156\n"
     ]
    }
   ],
   "source": [
    "try:\n",
    "    num = int(input('請輸入整數：'))\n",
    "except EOFError:\n",
    "    print('輸入EOF')\n",
    "except ValueError as ve:\n",
    "    print('發生ValueError錯誤：', ve)\n",
    "except Exception as e:\n",
    "    print('發生其他錯誤：', e)\n",
    "else:\n",
    "    print('輸入整數為：', num)"
   ]
  },
  {
   "cell_type": "markdown",
   "metadata": {},
   "source": [
    "### try-except-as-else & 自訂例外類別"
   ]
  },
  {
   "cell_type": "code",
   "execution_count": 10,
   "metadata": {},
   "outputs": [
    {
     "name": "stdout",
     "output_type": "stream",
     "text": [
      "請輸入密碼，長度至少8個字元：123ss\n",
      "密碼 123ss 長度為 5 ；密碼長度不足\n"
     ]
    }
   ],
   "source": [
    "# 自定義類別 PwdException 繼承自 Exception\n",
    "class PwdException(Exception):\n",
    "#     定義函式「__init__」輸入參數為 self、pwd、lenth\n",
    "    def __init__(self, pwd, lenth):\n",
    "#   「super()」呼叫基礎類別 Exception 的函式「__init__」，並傳入 self\n",
    "        super().__init__(self)\n",
    "        self.pwd = pwd\n",
    "        self.len = lenth\n",
    "    \n",
    "try:\n",
    "    pwd = input('請輸入密碼，長度至少8個字元：')\n",
    "    if len(pwd) < 8:\n",
    "#       使用「raise」，發出自訂例外類別 PwdException，並傳入參數 pwd、lenth\n",
    "        raise PwdException(pwd, len(pwd))\n",
    "except EOFError:\n",
    "    print('輸入EOF')\n",
    "except PwdException as pex:\n",
    "    print('密碼', pex.pwd, '長度為', pex.len, '；密碼長度不足')\n",
    "else:\n",
    "    print('輸入密碼為：', pwd)"
   ]
  },
  {
   "cell_type": "markdown",
   "metadata": {},
   "source": [
    "### try-except-as-else-finally & 自訂例外類別"
   ]
  },
  {
   "cell_type": "code",
   "execution_count": 11,
   "metadata": {},
   "outputs": [
    {
     "name": "stdout",
     "output_type": "stream",
     "text": [
      "請輸入密碼，長度至少8個字元：12366\n",
      "密碼 12366 長度為 5 ；密碼長度不足\n",
      "請妥善保管密碼\n"
     ]
    }
   ],
   "source": [
    "# 自定義類別 PwdException 繼承自 Exception\n",
    "class PwdException(Exception):\n",
    "#     定義函式「__init__」輸入參數為 self、pwd、lenth\n",
    "    def __init__(self, pwd, lenth):\n",
    "#   「super()」呼叫基礎類別 Exception 的函式「__init__」，並傳入 self\n",
    "        super().__init__(self)\n",
    "        self.pwd = pwd\n",
    "        self.len = lenth\n",
    "    \n",
    "try:\n",
    "    pwd = input('請輸入密碼，長度至少8個字元：')\n",
    "    if len(pwd) < 8:\n",
    "#       使用「raise」，發出自訂例外類別 PwdException，並傳入參數 pwd、lenth\n",
    "        raise PwdException(pwd, len(pwd))\n",
    "except EOFError:\n",
    "    print('輸入EOF')\n",
    "except PwdException as pex:\n",
    "    print('密碼', pex.pwd, '長度為', pex.len, '；密碼長度不足')\n",
    "else:\n",
    "    print('輸入密碼為：', pwd)\n",
    "# 最後不管有沒有錯誤都會執行 finally 區塊\n",
    "finally:\n",
    "    print('請妥善保管密碼')"
   ]
  },
  {
   "cell_type": "markdown",
   "metadata": {},
   "source": [
    "# 習題"
   ]
  },
  {
   "cell_type": "markdown",
   "metadata": {},
   "source": [
    "### 1.形狀類別"
   ]
  },
  {
   "cell_type": "code",
   "execution_count": 32,
   "metadata": {
    "collapsed": true
   },
   "outputs": [],
   "source": [
    "class Shape():\n",
    "    def __init__(self, name):\n",
    "        self.name = name\n",
    "    def lenth(self):\n",
    "        pass"
   ]
  },
  {
   "cell_type": "code",
   "execution_count": 38,
   "metadata": {
    "collapsed": true
   },
   "outputs": [],
   "source": [
    "# 繼承至 Shape\n",
    "class Tri(Shape):\n",
    "    def __init__(self, name, e1, e2, e3):\n",
    "#         呼叫 Shape 的 __init__\n",
    "        super().__init__(name)\n",
    "        self.e1 = e1\n",
    "        self.e2 = e2\n",
    "        self.e3 = e3\n",
    "    def lenth(self):\n",
    "        return self.e1 + self.e2 + self.e3"
   ]
  },
  {
   "cell_type": "code",
   "execution_count": 39,
   "metadata": {},
   "outputs": [
    {
     "name": "stdout",
     "output_type": "stream",
     "text": [
      "形狀 None\n",
      "三角形 周長為 12\n"
     ]
    }
   ],
   "source": [
    "s = Shape('形狀')\n",
    "print(s.name, s.lenth())\n",
    "t = Tri('三角形', 5, 3, 4)\n",
    "print(t.name, '周長為',t.lenth())"
   ]
  },
  {
   "cell_type": "markdown",
   "metadata": {},
   "source": [
    "### 2.形狀類別 - 長方形與圓形"
   ]
  },
  {
   "cell_type": "code",
   "execution_count": 32,
   "metadata": {
    "collapsed": true
   },
   "outputs": [],
   "source": [
    "class Shape():\n",
    "    def __init__(self, name):\n",
    "        self.name = name\n",
    "    def lenth(self):\n",
    "        pass"
   ]
  },
  {
   "cell_type": "code",
   "execution_count": 38,
   "metadata": {
    "collapsed": true
   },
   "outputs": [],
   "source": [
    "# 繼承至 Shape\n",
    "class Tri(Shape):\n",
    "    def __init__(self, name, e1, e2, e3):\n",
    "#         呼叫 Shape 的 __init__\n",
    "        super().__init__(name)\n",
    "        self.e1 = e1\n",
    "        self.e2 = e2\n",
    "        self.e3 = e3\n",
    "    def lenth(self):\n",
    "        return self.e1 + self.e2 + self.e3"
   ]
  },
  {
   "cell_type": "code",
   "execution_count": 40,
   "metadata": {
    "collapsed": true
   },
   "outputs": [],
   "source": [
    "class Rec(Shape):\n",
    "    def __init__(self, name, el, ew):\n",
    "        super().__init__(name)\n",
    "        self.el = el\n",
    "        self.ew = ew\n",
    "    def lenth(self):\n",
    "        return self.el*2 + self.ew*2"
   ]
  },
  {
   "cell_type": "code",
   "execution_count": 41,
   "metadata": {
    "collapsed": true
   },
   "outputs": [],
   "source": [
    "class Cri(Shape):\n",
    "    def __init__(self, name, radius):\n",
    "        super().__init__(name)\n",
    "        self.radius = radius\n",
    "    def lenth(self):\n",
    "        return self.radius*2*3.14"
   ]
  },
  {
   "cell_type": "code",
   "execution_count": 42,
   "metadata": {},
   "outputs": [
    {
     "name": "stdout",
     "output_type": "stream",
     "text": [
      "形狀 None\n",
      "三角形 周長為 12\n",
      "長方形 周長為 20\n",
      "圓形 周長為 31.400000000000002\n"
     ]
    }
   ],
   "source": [
    "s = Shape('形狀')\n",
    "print(s.name, s.lenth())\n",
    "t = Tri('三角形', 5, 3, 4)\n",
    "print(t.name, '周長為',t.lenth())\n",
    "r = Rec('長方形', 6, 4)\n",
    "print(r.name, '周長為',r.lenth())\n",
    "c = Cri('圓形', 5)\n",
    "print(c.name, '周長為',c.lenth())"
   ]
  },
  {
   "cell_type": "markdown",
   "metadata": {},
   "source": [
    "### 3.形狀類別 - 新增函式與多型"
   ]
  },
  {
   "cell_type": "code",
   "execution_count": 44,
   "metadata": {
    "collapsed": true
   },
   "outputs": [],
   "source": [
    "class Shape():\n",
    "    def __init__(self, name):\n",
    "        self.__name = name\n",
    "    def which(self):\n",
    "        return self.__name\n",
    "    def lenth(self):\n",
    "        pass"
   ]
  },
  {
   "cell_type": "code",
   "execution_count": 77,
   "metadata": {
    "collapsed": true
   },
   "outputs": [],
   "source": [
    "import math as m\n",
    "# 繼承至 Shape\n",
    "class Tri(Shape):\n",
    "    def __init__(self, name, e1, e2, e3):\n",
    "#         呼叫 Shape 的 __init__\n",
    "        super().__init__(name)\n",
    "        self.e1 = e1\n",
    "        self.e2 = e2\n",
    "        self.e3 = e3\n",
    "    def lenth(self):\n",
    "        return self.e1 + self.e2 + self.e3\n",
    "    def area(self):\n",
    "        s = self.lenth()/2\n",
    "        return m.sqrt(s*(s-self.e1)*(s-self.e2)*(s-self.e3))"
   ]
  },
  {
   "cell_type": "code",
   "execution_count": 78,
   "metadata": {
    "collapsed": true
   },
   "outputs": [],
   "source": [
    "class Rec(Shape):\n",
    "    def __init__(self, name, el, ew):\n",
    "        super().__init__(name)\n",
    "        self.el = el\n",
    "        self.ew = ew\n",
    "    def lenth(self):\n",
    "        return self.el*2 + self.ew*2\n",
    "    def area(self):\n",
    "        return self.el*self.ew"
   ]
  },
  {
   "cell_type": "code",
   "execution_count": 79,
   "metadata": {
    "collapsed": true
   },
   "outputs": [],
   "source": [
    "class Cri(Shape):\n",
    "    def __init__(self, name, radius):\n",
    "        super().__init__(name)\n",
    "        self.radius = radius\n",
    "    def lenth(self):\n",
    "        return self.radius*2*3.14\n",
    "    def area(self):\n",
    "        return self.radius**2*3.14"
   ]
  },
  {
   "cell_type": "code",
   "execution_count": 80,
   "metadata": {},
   "outputs": [
    {
     "name": "stdout",
     "output_type": "stream",
     "text": [
      "三角形 面積為 6.0\n",
      "長方形 面積為 20\n",
      "圓形 面積為 78.5\n"
     ]
    }
   ],
   "source": [
    "def Area(obj):\n",
    "    print(obj.which(), '面積為', obj.area())\n",
    "    \n",
    "t = Tri('三角形', 3, 4, 5)\n",
    "r = Rec('長方形', 4, 5)\n",
    "c = Cri('圓形', 5)\n",
    "\n",
    "Area(t)\n",
    "Area(r)\n",
    "Area(c)"
   ]
  },
  {
   "cell_type": "markdown",
   "metadata": {},
   "source": [
    "### 4.形狀類別 - 特殊方法()"
   ]
  },
  {
   "cell_type": "code",
   "execution_count": 90,
   "metadata": {
    "collapsed": true
   },
   "outputs": [],
   "source": [
    "class Shape():\n",
    "    def __init__(self, name):\n",
    "        self.__name = name\n",
    "    def which(self):\n",
    "        return self.__name\n",
    "    def lenth(self):\n",
    "        pass"
   ]
  },
  {
   "cell_type": "code",
   "execution_count": 105,
   "metadata": {
    "collapsed": true
   },
   "outputs": [],
   "source": [
    "import math as m\n",
    "# 繼承至 Shape\n",
    "class Tri(Shape):\n",
    "    def __init__(self, name, e1, e2, e3):\n",
    "#         呼叫 Shape 的 __init__\n",
    "        super().__init__(name)\n",
    "        self.e1 = e1\n",
    "        self.e2 = e2\n",
    "        self.e3 = e3\n",
    "    def lenth(self):\n",
    "        return self.e1 + self.e2 + self.e3\n",
    "    def area(self):\n",
    "        s = self.lenth()/2\n",
    "        return m.sqrt(s*(s-self.e1)*(s-self.e2)*(s-self.e3))       \n",
    "    def __eq__(self, other):\n",
    "        return self.area() == other.area()"
   ]
  },
  {
   "cell_type": "code",
   "execution_count": 106,
   "metadata": {
    "collapsed": true
   },
   "outputs": [],
   "source": [
    "class Rec(Shape):\n",
    "    def __init__(self, name, el, ew):\n",
    "        super().__init__(name)\n",
    "        self.el = el\n",
    "        self.ew = ew\n",
    "    def lenth(self):\n",
    "        return self.el*2 + self.ew*2\n",
    "    def area(self):\n",
    "        return self.el*self.ew\n",
    "    def __eq__(self, other):\n",
    "        return self.area() == other.area()"
   ]
  },
  {
   "cell_type": "code",
   "execution_count": 107,
   "metadata": {
    "collapsed": true
   },
   "outputs": [],
   "source": [
    "class Cri(Shape):\n",
    "    def __init__(self, name, radius):\n",
    "        super().__init__(name)\n",
    "        self.radius = radius\n",
    "    def lenth(self):\n",
    "        return self.radius*2*3.14\n",
    "    def area(self):\n",
    "        return self.radius**2*3.14\n",
    "    def __eq__(self, other):\n",
    "        return self.area() == other.area()"
   ]
  },
  {
   "cell_type": "code",
   "execution_count": 108,
   "metadata": {},
   "outputs": [
    {
     "name": "stdout",
     "output_type": "stream",
     "text": [
      "6.0\n",
      "6.0\n",
      "True\n"
     ]
    }
   ],
   "source": [
    "def Area(obj):\n",
    "    print(obj.which(), '面積為', obj.area())\n",
    "# def __eq__(obj1, obj2):\n",
    "#     return obj1.area() == obj2.area()\n",
    "    \n",
    "t1 = Tri('三角形1', 3, 4, 5)\n",
    "t2 = Tri('三角形2', 5, 3, 4)\n",
    "\n",
    "print(t1.area())\n",
    "print(t2.area())\n",
    "print(t1 == t2)"
   ]
  },
  {
   "cell_type": "markdown",
   "metadata": {},
   "source": [
    "### 5.自訂例外類別"
   ]
  },
  {
   "cell_type": "code",
   "execution_count": 4,
   "metadata": {},
   "outputs": [
    {
     "name": "stdout",
     "output_type": "stream",
     "text": [
      "輸入 index:-9\n",
      "Error： -9 < 0\n"
     ]
    }
   ],
   "source": [
    "class NegativeException(Exception):\n",
    "    def __init__(self,index):\n",
    "        super().__init__(self)\n",
    "        self.index = index\n",
    "        \n",
    "try:\n",
    "    a = [1,2,3,4]\n",
    "    index = int(input('輸入 index:'))\n",
    "    if (index < 0):\n",
    "        raise NegativeException(index)\n",
    "    elif index > len(a):\n",
    "        raise IndexError\n",
    "except IndexError :\n",
    "    print('Error：', index, '>', len(a))\n",
    "except NegativeException as ne:\n",
    "    print('Error：', ne.index, '< 0' )\n",
    "else:\n",
    "    print(a[index])"
   ]
  },
  {
   "cell_type": "code",
   "execution_count": null,
   "metadata": {
    "collapsed": true
   },
   "outputs": [],
   "source": []
  }
 ],
 "metadata": {
  "kernelspec": {
   "display_name": "Python 3",
   "language": "python",
   "name": "python3"
  },
  "language_info": {
   "codemirror_mode": {
    "name": "ipython",
    "version": 3
   },
   "file_extension": ".py",
   "mimetype": "text/x-python",
   "name": "python",
   "nbconvert_exporter": "python",
   "pygments_lexer": "ipython3",
   "version": "3.6.3"
  }
 },
 "nbformat": 4,
 "nbformat_minor": 2
}
