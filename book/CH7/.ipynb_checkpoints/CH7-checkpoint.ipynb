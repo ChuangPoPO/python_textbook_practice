{
 "cells": [
  {
   "cell_type": "markdown",
   "metadata": {},
   "source": [
    "### 匯入模組的路徑"
   ]
  },
  {
   "cell_type": "code",
   "execution_count": 1,
   "metadata": {},
   "outputs": [
    {
     "name": "stdout",
     "output_type": "stream",
     "text": [
      "\n",
      "C:\\Users\\poduo\\Anaconda3\\python36.zip\n",
      "C:\\Users\\poduo\\Anaconda3\\DLLs\n",
      "C:\\Users\\poduo\\Anaconda3\\lib\n",
      "C:\\Users\\poduo\\Anaconda3\n",
      "C:\\Users\\poduo\\Anaconda3\\lib\\site-packages\n",
      "C:\\Users\\poduo\\Anaconda3\\lib\\site-packages\\Babel-2.5.0-py3.6.egg\n",
      "C:\\Users\\poduo\\Anaconda3\\lib\\site-packages\\win32\n",
      "C:\\Users\\poduo\\Anaconda3\\lib\\site-packages\\win32\\lib\n",
      "C:\\Users\\poduo\\Anaconda3\\lib\\site-packages\\Pythonwin\n",
      "C:\\Users\\poduo\\Anaconda3\\lib\\site-packages\\IPython\\extensions\n",
      "C:\\Users\\poduo\\.ipython\n"
     ]
    }
   ],
   "source": [
    "import sys\n",
    "for path in sys.path:\n",
    "    print(path)"
   ]
  },
  {
   "cell_type": "code",
   "execution_count": null,
   "metadata": {
    "collapsed": true
   },
   "outputs": [],
   "source": []
  }
 ],
 "metadata": {
  "kernelspec": {
   "display_name": "Python 3",
   "language": "python",
   "name": "python3"
  },
  "language_info": {
   "codemirror_mode": {
    "name": "ipython",
    "version": 3
   },
   "file_extension": ".py",
   "mimetype": "text/x-python",
   "name": "python",
   "nbconvert_exporter": "python",
   "pygments_lexer": "ipython3",
   "version": "3.6.3"
  }
 },
 "nbformat": 4,
 "nbformat_minor": 2
}
