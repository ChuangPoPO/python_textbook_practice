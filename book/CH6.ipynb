{
 "cells": [
  {
   "cell_type": "markdown",
   "metadata": {},
   "source": [
    "# 6.2\\_函式範例練習"
   ]
  },
  {
   "cell_type": "markdown",
   "metadata": {},
   "source": [
    "### 6-2-1 BMI"
   ]
  },
  {
   "cell_type": "code",
   "execution_count": 4,
   "metadata": {},
   "outputs": [
    {
     "name": "stdout",
     "output_type": "stream",
     "text": [
      "體重：80\n",
      "身高：170\n",
      "BMI： 27.68166089965398\n",
      "體重肥胖\n"
     ]
    }
   ],
   "source": [
    "def bmi(kg, cm):\n",
    "    return kg / ((cm/100)**2)\n",
    "\n",
    "ukg = float(input('體重：'))\n",
    "ucm = float(input('身高：'))\n",
    "\n",
    "ubmi = bmi(ukg, ucm)\n",
    "print('BMI：', ubmi)\n",
    "\n",
    "if ubmi < 18 :\n",
    "    print('體重過輕')\n",
    "elif ubmi < 24:\n",
    "    print('體重正常')\n",
    "elif ubmi < 27:\n",
    "    print('體重過重')\n",
    "else :\n",
    "    print('體重肥胖')"
   ]
  },
  {
   "cell_type": "markdown",
   "metadata": {},
   "source": [
    "### 6-2-2 求質數"
   ]
  },
  {
   "cell_type": "code",
   "execution_count": 6,
   "metadata": {},
   "outputs": [
    {
     "name": "stdout",
     "output_type": "stream",
     "text": [
      "1  為質數\n",
      "2  為質數\n",
      "3  為質數\n",
      "5  為質數\n",
      "7  為質數\n",
      "11  為質數\n",
      "13  為質數\n",
      "17  為質數\n",
      "19  為質數\n",
      "23  為質數\n",
      "29  為質數\n",
      "31  為質數\n",
      "37  為質數\n",
      "41  為質數\n",
      "43  為質數\n",
      "47  為質數\n",
      "53  為質數\n",
      "59  為質數\n",
      "61  為質數\n",
      "67  為質數\n",
      "71  為質數\n",
      "73  為質數\n",
      "79  為質數\n",
      "83  為質數\n",
      "89  為質數\n",
      "97  為質數\n"
     ]
    }
   ],
   "source": [
    "import math\n",
    "\n",
    "def prime(n):\n",
    "    j = 2\n",
    "    while (j <= math.sqrt(n)):\n",
    "        if( n % j == 0 ):\n",
    "            return False\n",
    "        j += 1\n",
    "    return True\n",
    "\n",
    "for i in range(1, 101):\n",
    "    if prime(i) :\n",
    "        print(i, ' 為質數')"
   ]
  },
  {
   "cell_type": "markdown",
   "metadata": {},
   "source": [
    "### 印出函式中的說明文字"
   ]
  },
  {
   "cell_type": "code",
   "execution_count": 9,
   "metadata": {},
   "outputs": [
    {
     "name": "stdout",
     "output_type": "stream",
     "text": [
      "sqrt(x)\n",
      "\n",
      "Return the square root of x.\n"
     ]
    }
   ],
   "source": [
    "print(math.sqrt.__doc__)"
   ]
  },
  {
   "cell_type": "code",
   "execution_count": 10,
   "metadata": {},
   "outputs": [
    {
     "name": "stdout",
     "output_type": "stream",
     "text": [
      "Help on built-in function sqrt in module math:\n",
      "\n",
      "sqrt(...)\n",
      "    sqrt(x)\n",
      "    \n",
      "    Return the square root of x.\n",
      "\n"
     ]
    }
   ],
   "source": [
    "help(math.sqrt)"
   ]
  },
  {
   "cell_type": "markdown",
   "metadata": {},
   "source": [
    "# 6.7 產生器"
   ]
  },
  {
   "cell_type": "code",
   "execution_count": 11,
   "metadata": {
    "collapsed": true
   },
   "outputs": [],
   "source": [
    "def myrange( start, stop, step = 1):\n",
    "    if start < stop:\n",
    "        i = start\n",
    "        while i < stop:\n",
    "            yield i\n",
    "            i = i + step\n",
    "    else:\n",
    "        i = start\n",
    "        while i > stop:\n",
    "            yield i\n",
    "            i = i + step"
   ]
  },
  {
   "cell_type": "code",
   "execution_count": 12,
   "metadata": {},
   "outputs": [
    {
     "name": "stdout",
     "output_type": "stream",
     "text": [
      "<generator object myrange at 0x0000020BFCD36C50>\n"
     ]
    }
   ],
   "source": [
    "x = myrange(1, 10)\n",
    "print(x)"
   ]
  },
  {
   "cell_type": "code",
   "execution_count": 13,
   "metadata": {},
   "outputs": [
    {
     "name": "stdout",
     "output_type": "stream",
     "text": [
      "1\n",
      "2\n",
      "3\n",
      "4\n"
     ]
    }
   ],
   "source": [
    "for i in myrange(1, 5, 1):\n",
    "    print(i)"
   ]
  },
  {
   "cell_type": "code",
   "execution_count": 14,
   "metadata": {},
   "outputs": [
    {
     "name": "stdout",
     "output_type": "stream",
     "text": [
      "4\n",
      "3\n",
      "2\n"
     ]
    }
   ],
   "source": [
    "for i in myrange(4, 1, -1):\n",
    "    print(i)"
   ]
  },
  {
   "cell_type": "markdown",
   "metadata": {},
   "source": [
    "# 6.9 closure 函式"
   ]
  },
  {
   "cell_type": "code",
   "execution_count": 15,
   "metadata": {
    "collapsed": true
   },
   "outputs": [],
   "source": [
    "def hello(msg):\n",
    "    def say(hi):\n",
    "        return hi + msg\n",
    "#     回傳 say 函式\n",
    "    return say"
   ]
  },
  {
   "cell_type": "code",
   "execution_count": 16,
   "metadata": {
    "collapsed": true
   },
   "outputs": [],
   "source": [
    "x = hello('Virginia')\n",
    "y = hello('Popo')"
   ]
  },
  {
   "cell_type": "code",
   "execution_count": 17,
   "metadata": {},
   "outputs": [
    {
     "name": "stdout",
     "output_type": "stream",
     "text": [
      "Hello, Virginia\n",
      "Hi, Popo\n"
     ]
    }
   ],
   "source": [
    "print(x('Hello, '))\n",
    "print(y('Hi, '))"
   ]
  },
  {
   "cell_type": "markdown",
   "metadata": {
    "collapsed": true
   },
   "source": [
    "# 6.10 Decorator 裝飾器"
   ]
  },
  {
   "cell_type": "code",
   "execution_count": 171,
   "metadata": {
    "collapsed": true
   },
   "outputs": [],
   "source": [
    "def debug( func1 ):\n",
    "    print('A')\n",
    "    def func2(*args, **kwargs):\n",
    "        print('正在執行函式：', func1.__name__)\n",
    "        print('函式的說明文件為：', func1.__doc__)\n",
    "        print('位置引數：', args)\n",
    "        print('關鍵引數：', kwargs)\n",
    "        return func1(*args, **kwargs)\n",
    "    return func2"
   ]
  },
  {
   "cell_type": "code",
   "execution_count": 172,
   "metadata": {},
   "outputs": [
    {
     "name": "stdout",
     "output_type": "stream",
     "text": [
      "A\n",
      "正在執行函式： add\n",
      "函式的說明文件為： 回傳 a + b 的結果\n",
      "位置引數： (3,)\n",
      "關鍵引數： {'b': 5}\n",
      "8\n"
     ]
    }
   ],
   "source": [
    "def add (a, b):\n",
    "    '回傳 a + b 的結果'\n",
    "    return a+b\n",
    "\n",
    "# 下行可用 @debug 省略 \n",
    "func2 = debug(add)\n",
    "\n",
    "print (func2(3, b=5))"
   ]
  },
  {
   "cell_type": "code",
   "execution_count": 173,
   "metadata": {},
   "outputs": [
    {
     "name": "stdout",
     "output_type": "stream",
     "text": [
      "A\n",
      "正在執行函式： add\n",
      "函式的說明文件為： None\n",
      "位置引數： (1, 2)\n",
      "關鍵引數： {'c': 3}\n",
      "C\n",
      "6\n"
     ]
    }
   ],
   "source": [
    "@debug\n",
    "def add(a, b, c):\n",
    "    print(\"C\")\n",
    "    '回傳 a + b + c 的結果'\n",
    "    return a+b+c\n",
    "\n",
    "print(add(1,2,c=3))"
   ]
  },
  {
   "cell_type": "markdown",
   "metadata": {},
   "source": [
    "# 6.11 遞迴"
   ]
  },
  {
   "cell_type": "markdown",
   "metadata": {},
   "source": [
    "### 6-11-1 n階乘"
   ]
  },
  {
   "cell_type": "code",
   "execution_count": 11,
   "metadata": {
    "collapsed": true
   },
   "outputs": [],
   "source": [
    "def fac(num):\n",
    "    if num ==1:\n",
    "        return 1\n",
    "    else :\n",
    "        return num * fac(num-1)"
   ]
  },
  {
   "cell_type": "code",
   "execution_count": 17,
   "metadata": {
    "scrolled": true
   },
   "outputs": [
    {
     "name": "stdout",
     "output_type": "stream",
     "text": [
      "請輸入 n 值：30\n",
      "30! 為 265252859812191058636308480000000\n"
     ]
    }
   ],
   "source": [
    "n = int(input('請輸入 n 值：'))\n",
    "ans = fac(n)\n",
    "print(n, '! 為 ', ans, sep = '')"
   ]
  },
  {
   "cell_type": "markdown",
   "metadata": {},
   "source": [
    "### 6-11-2 最大公因數"
   ]
  },
  {
   "cell_type": "code",
   "execution_count": 21,
   "metadata": {},
   "outputs": [
    {
     "name": "stdout",
     "output_type": "stream",
     "text": [
      "M : 25\n",
      "N : 11\n",
      "25與11的最大公因數相當於11與25的最大公因數\n",
      "11與25的最大公因數相當於3與11的最大公因數\n",
      "3與11的最大公因數相當於2與3的最大公因數\n",
      "2與3的最大公因數相當於1與2的最大公因數\n",
      "1與2的最大公因數相當於0與1的最大公因數\n",
      "25 與 11 的最大公因為 1\n"
     ]
    }
   ],
   "source": [
    "m = int(input('M : '))\n",
    "n = int(input('N : '))\n",
    "\n",
    "ans = gcd(m , n)\n",
    "print(m, '與', n, '的最大公因為', ans) #, sep = '')"
   ]
  },
  {
   "cell_type": "code",
   "execution_count": 1,
   "metadata": {
    "collapsed": true
   },
   "outputs": [],
   "source": [
    "def gcd(m, n):\n",
    "    if m == 0 :\n",
    "        return n\n",
    "    else :\n",
    "        print(m, '與', n, '的最大公因數相當於', n % m, '與', m, '的最大公因數')\n",
    "        return gcd( n%m , m)"
   ]
  },
  {
   "cell_type": "code",
   "execution_count": 2,
   "metadata": {},
   "outputs": [
    {
     "name": "stdout",
     "output_type": "stream",
     "text": [
      "M : 1\n",
      "N : 5\n",
      "1 與 5 的最大公因數相當於 0 與 1 的最大公因數\n",
      "1 與 5 的最大公因為 1\n",
      "0 : Stop；1 : continue，which one?1\n",
      "M : 5\n",
      "N : 1\n",
      "5 與 1 的最大公因數相當於 1 與 5 的最大公因數\n",
      "1 與 5 的最大公因數相當於 0 與 1 的最大公因數\n",
      "5 與 1 的最大公因為 1\n",
      "0 : Stop；1 : continue，which one?1\n",
      "M : 6\n",
      "N : 2\n",
      "6 與 2 的最大公因數相當於 2 與 6 的最大公因數\n",
      "2 與 6 的最大公因數相當於 0 與 2 的最大公因數\n",
      "6 與 2 的最大公因為 2\n",
      "0 : Stop；1 : continue，which one?0\n"
     ]
    }
   ],
   "source": [
    "choice = 1\n",
    "while choice == 1:\n",
    "    m = int(input('M : '))\n",
    "    n = int(input('N : '))\n",
    "\n",
    "    ans = gcd(m , n)\n",
    "    print(m, '與', n, '的最大公因為', ans) #, sep = '')\n",
    "    \n",
    "    choice = int(input('0 : Stop；1 : continue，which one?'))"
   ]
  },
  {
   "cell_type": "markdown",
   "metadata": {},
   "source": [
    "# 習題"
   ]
  },
  {
   "cell_type": "markdown",
   "metadata": {},
   "source": [
    "### 1. 檢查密碼"
   ]
  },
  {
   "cell_type": "markdown",
   "metadata": {},
   "source": [
    "###### 我的寫法"
   ]
  },
  {
   "cell_type": "code",
   "execution_count": 95,
   "metadata": {},
   "outputs": [],
   "source": [
    "# 檢查是否有英文字\n",
    "def check_chr(str_pw):\n",
    "    for i in str_pw:\n",
    "        if ord(i) in range(97,123):\n",
    "            return True\n",
    "    return False        "
   ]
  },
  {
   "cell_type": "code",
   "execution_count": 96,
   "metadata": {
    "collapsed": true
   },
   "outputs": [],
   "source": [
    "# 檢查是否有數字\n",
    "def check_num(str_pw):    \n",
    "    for i in str_pw:\n",
    "        if ord(i) in range(48,58):\n",
    "            return True\n",
    "    return False\n"
   ]
  },
  {
   "cell_type": "code",
   "execution_count": 112,
   "metadata": {
    "collapsed": true
   },
   "outputs": [],
   "source": [
    "# 檢查密碼\n",
    "def check_pw(str_pw):\n",
    "    pw = set(str_pw)\n",
    "    chr = check_chr(pw)\n",
    "    num = check_num(pw)\n",
    "\n",
    "    if len(str_pw) < 6 :\n",
    "        print('不安全的密碼')\n",
    "    elif (9 < len(str_pw)) and ( chr==True and num==True ):\n",
    "            print('非常安全的密碼')\n",
    "    elif (6 <= len(str_pw)) and ( chr==True and num==True ) :\n",
    "        print('安全的密碼')\n",
    "    elif 6 <= len(str_pw):\n",
    "        if( chr==True and num!=True ) or ( num==True and chr!=True ):\n",
    "            print('可能是安全的密碼')\n"
   ]
  },
  {
   "cell_type": "code",
   "execution_count": 114,
   "metadata": {},
   "outputs": [
    {
     "name": "stdout",
     "output_type": "stream",
     "text": [
      "請輸入密碼：aa22aa22a\n",
      "安全的密碼\n"
     ]
    }
   ],
   "source": [
    "pw = str(input('請輸入密碼：'))\n",
    "\n",
    "check_pw(pw)"
   ]
  },
  {
   "cell_type": "markdown",
   "metadata": {},
   "source": [
    "###### 課本的寫法"
   ]
  },
  {
   "cell_type": "code",
   "execution_count": 115,
   "metadata": {
    "collapsed": true
   },
   "outputs": [],
   "source": [
    "def check2(pwd):\n",
    "    if pwd.isdigit():\n",
    "        if len(pwd) < 6:\n",
    "            return '不安全的密碼'\n",
    "        else :\n",
    "            return '可能是安全的密碼'\n",
    "    elif pwd.isalpha():\n",
    "        if len(pwd) < 6:\n",
    "            return '不安全的密碼'\n",
    "        else :\n",
    "            return '可能是安全的密碼'\n",
    "    elif len(pwd) < 6 :\n",
    "        return '不安全的密碼'\n",
    "    elif len(pwd) < 10:\n",
    "        return '安全的密碼'\n",
    "    else:\n",
    "        return '非常安全的密碼'\n",
    "        "
   ]
  },
  {
   "cell_type": "code",
   "execution_count": 119,
   "metadata": {},
   "outputs": [
    {
     "name": "stdout",
     "output_type": "stream",
     "text": [
      "請輸入密碼：1a1a1a1a1a1a1a\n",
      "非常安全的密碼\n"
     ]
    }
   ],
   "source": [
    "pw = str(input('請輸入密碼：'))\n",
    "\n",
    "print(check2(pw))"
   ]
  },
  {
   "cell_type": "markdown",
   "metadata": {},
   "source": [
    "##### 檢查字串內是否皆為 數字 或 字元 的方法"
   ]
  },
  {
   "cell_type": "code",
   "execution_count": 122,
   "metadata": {},
   "outputs": [
    {
     "data": {
      "text/plain": [
       "False"
      ]
     },
     "execution_count": 122,
     "metadata": {},
     "output_type": "execute_result"
    }
   ],
   "source": [
    "s = '1a345'\n",
    "\n",
    "s.isdigit()"
   ]
  },
  {
   "cell_type": "code",
   "execution_count": 124,
   "metadata": {},
   "outputs": [
    {
     "data": {
      "text/plain": [
       "True"
      ]
     },
     "execution_count": 124,
     "metadata": {},
     "output_type": "execute_result"
    }
   ],
   "source": [
    "s = 'saa'\n",
    "\n",
    "s.isalpha()"
   ]
  },
  {
   "cell_type": "markdown",
   "metadata": {},
   "source": [
    "### 2. 印出m列n行個字元"
   ]
  },
  {
   "cell_type": "code",
   "execution_count": 129,
   "metadata": {
    "collapsed": true
   },
   "outputs": [],
   "source": [
    "def draw(m, n, c):\n",
    "    for i in range(m):\n",
    "        for j in range(n):\n",
    "            print(c, sep='', end='')\n",
    "        print()\n"
   ]
  },
  {
   "cell_type": "code",
   "execution_count": 131,
   "metadata": {},
   "outputs": [
    {
     "name": "stdout",
     "output_type": "stream",
     "text": [
      "Row(m) is 5\n",
      "Column(n) is 5\n",
      "要顯示的字元：*\n",
      "*****\n",
      "*****\n",
      "*****\n",
      "*****\n",
      "*****\n"
     ]
    }
   ],
   "source": [
    "m = int(input('Row(m) is '))\n",
    "n = int(input('Column(n) is '))\n",
    "c = input('要顯示的字元：')\n",
    "draw(m, n, c)\n"
   ]
  },
  {
   "cell_type": "markdown",
   "metadata": {},
   "source": [
    "### 3. 多鍵值排序"
   ]
  },
  {
   "cell_type": "code",
   "execution_count": 134,
   "metadata": {},
   "outputs": [
    {
     "data": {
      "text/plain": [
       "[('Tina', 75, 90, 165),\n",
       " ('Tony', 80, 80, 160),\n",
       " ('Mary', 70, 85, 155),\n",
       " ('John', 60, 70, 130)]"
      ]
     },
     "execution_count": 134,
     "metadata": {},
     "output_type": "execute_result"
    }
   ],
   "source": [
    "st = [('John', 60, 70, 130),\n",
    "      ('Tony', 80, 80, 160),\n",
    "      ('Mary', 70, 85, 155),\n",
    "      ('Tina', 75, 90, 165)]\n",
    "sorted(st, key=lambda st: st[3], reverse=True)"
   ]
  },
  {
   "cell_type": "markdown",
   "metadata": {},
   "source": [
    "### 4. N階乘產生器"
   ]
  },
  {
   "cell_type": "markdown",
   "metadata": {},
   "source": [
    "###### 我的寫法"
   ]
  },
  {
   "cell_type": "code",
   "execution_count": 141,
   "metadata": {
    "collapsed": true
   },
   "outputs": [],
   "source": [
    "def myrange(start, end, step=1):\n",
    "    i = start\n",
    "    while i < end:\n",
    "        yield i\n",
    "        i += step"
   ]
  },
  {
   "cell_type": "code",
   "execution_count": 142,
   "metadata": {
    "collapsed": true
   },
   "outputs": [],
   "source": [
    "def fac(n):\n",
    "    if n==1:\n",
    "        return 1\n",
    "    else:\n",
    "        return n*fac(n-1)"
   ]
  },
  {
   "cell_type": "code",
   "execution_count": 146,
   "metadata": {},
   "outputs": [
    {
     "name": "stdout",
     "output_type": "stream",
     "text": [
      "請輸入 N 值：7\n",
      "1\n",
      "2\n",
      "6\n",
      "24\n",
      "120\n",
      "720\n",
      "5040\n"
     ]
    }
   ],
   "source": [
    "n = int(input('請輸入 N 值：'))\n",
    "\n",
    "for i in myrange(1, n+1, 1):\n",
    "    print(fac(i))"
   ]
  },
  {
   "cell_type": "markdown",
   "metadata": {},
   "source": [
    "###### 課本的寫法"
   ]
  },
  {
   "cell_type": "code",
   "execution_count": 147,
   "metadata": {},
   "outputs": [
    {
     "name": "stdout",
     "output_type": "stream",
     "text": [
      "請輸入 N 值：7\n",
      "1\n",
      "2\n",
      "6\n",
      "24\n",
      "120\n",
      "720\n",
      "5040\n"
     ]
    }
   ],
   "source": [
    "def fac(n):\n",
    "    result = 1\n",
    "    for i in range(1, n+1):\n",
    "        result *= i\n",
    "        yield result\n",
    "\n",
    "n = int(input('請輸入 N 值：'))\n",
    "for i in fac(n):\n",
    "    print(i)"
   ]
  },
  {
   "cell_type": "markdown",
   "metadata": {},
   "source": [
    "### 5. HTML標籤裝飾器"
   ]
  },
  {
   "cell_type": "markdown",
   "metadata": {},
   "source": [
    "###### 我的版本"
   ]
  },
  {
   "cell_type": "code",
   "execution_count": 152,
   "metadata": {},
   "outputs": [
    {
     "name": "stdout",
     "output_type": "stream",
     "text": [
      "<p>Hello</p>\n"
     ]
    }
   ],
   "source": [
    "def add_attr_p(func1):\n",
    "    def func2(string):\n",
    "        return func1(string)\n",
    "    return func2\n",
    "\n",
    "@add_attr_p\n",
    "def add(string):\n",
    "    return '<p>'+string+'</p>'\n",
    "print(add('Hello'))"
   ]
  },
  {
   "cell_type": "markdown",
   "metadata": {},
   "source": [
    "###### 課本版本"
   ]
  },
  {
   "cell_type": "code",
   "execution_count": 159,
   "metadata": {},
   "outputs": [
    {
     "name": "stdout",
     "output_type": "stream",
     "text": [
      "A\n",
      "C\n",
      "B\n",
      "D\n",
      "<p>Dear Gaduo</p>\n"
     ]
    }
   ],
   "source": [
    "def add_attr_p(func1):\n",
    "    print(\"A\")\n",
    "    def func2(string):\n",
    "        print(\"B\")\n",
    "        return '<p>'+ str(func1(string)) + '</p>'\n",
    "    print(\"C\")\n",
    "    return func2\n",
    "\n",
    "\n",
    "# add === func1\n",
    "@add_attr_p\n",
    "def add(string):\n",
    "    print(\"D\")\n",
    "    return 'Dear ' + string\n",
    "\n",
    "# 執行 func2\n",
    "print(add('Gaduo'))"
   ]
  },
  {
   "cell_type": "markdown",
   "metadata": {},
   "source": [
    "### 6. 加總"
   ]
  },
  {
   "cell_type": "code",
   "execution_count": 176,
   "metadata": {},
   "outputs": [
    {
     "name": "stdout",
     "output_type": "stream",
     "text": [
      "請輸入 n 值：10\n",
      "1+2+...+10 為 55\n"
     ]
    }
   ],
   "source": [
    "def sum(n):\n",
    "    if(n==1):\n",
    "        return 1\n",
    "    else:\n",
    "        return n+sum(n-1)\n",
    "\n",
    "n = int(input('請輸入 n 值：'))\n",
    "print('1+2+...+', n ,' 為 ', sum(n), sep='')"
   ]
  },
  {
   "cell_type": "markdown",
   "metadata": {},
   "source": [
    "### 7. 組合"
   ]
  },
  {
   "cell_type": "code",
   "execution_count": 179,
   "metadata": {
    "collapsed": true
   },
   "outputs": [],
   "source": [
    "def c(m, n):\n",
    "    if m==n or n==0:\n",
    "        return 1\n",
    "    else :\n",
    "        if( m!=n and n!=0):\n",
    "            return c(m-1, n) + c(m-1, n-1)"
   ]
  },
  {
   "cell_type": "code",
   "execution_count": 180,
   "metadata": {},
   "outputs": [
    {
     "name": "stdout",
     "output_type": "stream",
     "text": [
      "請輸入 m 值：10\n",
      "請輸入 n 值：3\n",
      "從 10 取 3 個的組合結果為 120\n"
     ]
    }
   ],
   "source": [
    "m = int(input('請輸入 m 值：'))\n",
    "n = int(input('請輸入 n 值：'))\n",
    "\n",
    "while m<n:\n",
    "    m = int(input('請輸入 m 值：'))\n",
    "    n = int(input('請輸入 n 值：'))\n",
    "\n",
    "result = c(m, n)\n",
    "print('從', m, '取', n, '個的組合結果為', result)"
   ]
  },
  {
   "cell_type": "code",
   "execution_count": null,
   "metadata": {
    "collapsed": true
   },
   "outputs": [],
   "source": []
  }
 ],
 "metadata": {
  "kernelspec": {
   "display_name": "Python 3",
   "language": "python",
   "name": "python3"
  },
  "language_info": {
   "codemirror_mode": {
    "name": "ipython",
    "version": 3
   },
   "file_extension": ".py",
   "mimetype": "text/x-python",
   "name": "python",
   "nbconvert_exporter": "python",
   "pygments_lexer": "ipython3",
   "version": "3.6.3"
  }
 },
 "nbformat": 4,
 "nbformat_minor": 2
}
