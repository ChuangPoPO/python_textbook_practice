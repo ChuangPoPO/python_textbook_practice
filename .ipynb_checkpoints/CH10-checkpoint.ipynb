{
 "cells": [
  {
   "cell_type": "markdown",
   "metadata": {},
   "source": [
    "# 10-1 資料夾與檔案相關模組"
   ]
  },
  {
   "cell_type": "markdown",
   "metadata": {},
   "source": [
    "### 找出C磁碟下的檔案與資料夾"
   ]
  },
  {
   "cell_type": "code",
   "execution_count": 1,
   "metadata": {
    "collapsed": true
   },
   "outputs": [],
   "source": [
    "import os, glob, fnmatch"
   ]
  },
  {
   "cell_type": "code",
   "execution_count": 4,
   "metadata": {},
   "outputs": [
    {
     "data": {
      "text/plain": [
       "['$RECYCLE.BIN',\n",
       " '$SysReset',\n",
       " 'bcdbackup',\n",
       " 'bcdbackup.LOG',\n",
       " 'bcdbackup.LOG1',\n",
       " 'bcdbackup.LOG2',\n",
       " 'Documents and Settings',\n",
       " 'hiberfil.sys',\n",
       " 'Intel',\n",
       " 'MSOCache',\n",
       " 'OneDriveTemp',\n",
       " 'pagefile.sys',\n",
       " 'PerfLogs',\n",
       " 'Program Files',\n",
       " 'Program Files (x86)',\n",
       " 'ProgramData',\n",
       " 'Recovery',\n",
       " 'swapfile.sys',\n",
       " 'System Volume Information',\n",
       " 'Users',\n",
       " 'Windows',\n",
       " 'Windows.old']"
      ]
     },
     "execution_count": 4,
     "metadata": {},
     "output_type": "execute_result"
    }
   ],
   "source": [
    "os.chdir('C:\\\\')\n",
    "clist = os.listdir(path = '.')\n",
    "clist"
   ]
  },
  {
   "cell_type": "code",
   "execution_count": 6,
   "metadata": {},
   "outputs": [
    {
     "name": "stdout",
     "output_type": "stream",
     "text": [
      "C:\\\n",
      "資料夾： $RECYCLE.BIN\n",
      "資料夾： $SysReset\n",
      "檔案： bcdbackup\n",
      "檔案： bcdbackup.LOG\n",
      "檔案： bcdbackup.LOG1\n",
      "檔案： bcdbackup.LOG2\n",
      "資料夾： Documents and Settings\n",
      "檔案： hiberfil.sys\n",
      "資料夾： Intel\n",
      "資料夾： MSOCache\n",
      "資料夾： OneDriveTemp\n",
      "檔案： pagefile.sys\n",
      "資料夾： PerfLogs\n",
      "資料夾： Program Files\n",
      "資料夾： Program Files (x86)\n",
      "資料夾： ProgramData\n",
      "資料夾： Recovery\n",
      "檔案： swapfile.sys\n",
      "資料夾： System Volume Information\n",
      "資料夾： Users\n",
      "資料夾： Windows\n",
      "資料夾： Windows.old\n"
     ]
    }
   ],
   "source": [
    "print(os.getcwd())\n",
    "for i in clist:\n",
    "    if (os.path.isfile(i)):\n",
    "        print('檔案：', i)\n",
    "    else :\n",
    "        print('資料夾：', i)\n"
   ]
  },
  {
   "cell_type": "markdown",
   "metadata": {},
   "source": [
    "### 使用串列生成式找出C磁碟下的檔案與資料夾"
   ]
  },
  {
   "cell_type": "code",
   "execution_count": 11,
   "metadata": {},
   "outputs": [
    {
     "name": "stdout",
     "output_type": "stream",
     "text": [
      "檔案： ['bcdbackup', 'bcdbackup.LOG', 'bcdbackup.LOG1', 'bcdbackup.LOG2', 'hiberfil.sys', 'pagefile.sys', 'swapfile.sys']\n",
      "\n",
      "資料夾： ['$RECYCLE.BIN', '$SysReset', 'Documents and Settings', 'Intel', 'MSOCache', 'OneDriveTemp', 'PerfLogs', 'Program Files', 'Program Files (x86)', 'ProgramData', 'Recovery', 'System Volume Information', 'Users', 'Windows', 'Windows.old']\n"
     ]
    }
   ],
   "source": [
    "path = 'C:\\\\'\n",
    "\n",
    "files = [ f for f in os.listdir(path) if (os.path.isfile(os.path.join(path, f))) ]\n",
    "dirs = [ d for d in os.listdir(path) if (os.path.isdir(os.path.join(path, d))) ]\n",
    "print('檔案：', files)\n",
    "print()\n",
    "print('資料夾：', dirs)"
   ]
  },
  {
   "cell_type": "markdown",
   "metadata": {},
   "source": [
    "### 使用模組 glob 列出附檔名為 py 的檔案"
   ]
  },
  {
   "cell_type": "code",
   "execution_count": 16,
   "metadata": {},
   "outputs": [
    {
     "data": {
      "text/plain": [
       "['7-3-2-argv.py', 'exlotto.py', 'guess.py', 'guess2.py']"
      ]
     },
     "execution_count": 16,
     "metadata": {},
     "output_type": "execute_result"
    }
   ],
   "source": [
    "path = \"C:\\\\Users\\\\poduo\\\\Anaconda3_JupyterNB\\\\python_textbook_practice\\\\CH7\"\n",
    "os.chdir(path)\n",
    "glob.glob('*.py')"
   ]
  },
  {
   "cell_type": "markdown",
   "metadata": {},
   "source": [
    "### 使用遞迴列出所有資料夾與檔案"
   ]
  },
  {
   "cell_type": "code",
   "execution_count": 30,
   "metadata": {
    "collapsed": true
   },
   "outputs": [],
   "source": [
    "def find_dir(path):\n",
    "    fds = os.listdir(path)\n",
    "    for f in fds:\n",
    "        fullpath = os.path.join(path, f)\n",
    "        if (os.path.isdir(fullpath)):\n",
    "            print('資料夾_ ', fullpath,' _有：')\n",
    "            find_dir(fullpath)\n",
    "        else :\n",
    "            print('檔案_ ', fullpath)\n",
    "    print()"
   ]
  },
  {
   "cell_type": "code",
   "execution_count": 31,
   "metadata": {},
   "outputs": [
    {
     "name": "stdout",
     "output_type": "stream",
     "text": [
      "資料夾_  C:\\Users\\poduo\\Anaconda3_JupyterNB\\python_textbook_practice\\CH7\\.ipynb_checkpoints  _有：\n",
      "檔案_  C:\\Users\\poduo\\Anaconda3_JupyterNB\\python_textbook_practice\\CH7\\.ipynb_checkpoints\\7-3-2-argv-checkpoint.ipynb\n",
      "檔案_  C:\\Users\\poduo\\Anaconda3_JupyterNB\\python_textbook_practice\\CH7\\.ipynb_checkpoints\\CH7-checkpoint.ipynb\n",
      "檔案_  C:\\Users\\poduo\\Anaconda3_JupyterNB\\python_textbook_practice\\CH7\\.ipynb_checkpoints\\ex2.ex3.ex4-import  ex6-checkpoint.ipynb\n",
      "檔案_  C:\\Users\\poduo\\Anaconda3_JupyterNB\\python_textbook_practice\\CH7\\.ipynb_checkpoints\\exlotto-checkpoint.ipynb\n",
      "檔案_  C:\\Users\\poduo\\Anaconda3_JupyterNB\\python_textbook_practice\\CH7\\.ipynb_checkpoints\\guess-checkpoint.ipynb\n",
      "檔案_  C:\\Users\\poduo\\Anaconda3_JupyterNB\\python_textbook_practice\\CH7\\.ipynb_checkpoints\\guess2-checkpoint.ipynb\n",
      "\n",
      "檔案_  C:\\Users\\poduo\\Anaconda3_JupyterNB\\python_textbook_practice\\CH7\\7-3-2-argv.ipynb\n",
      "檔案_  C:\\Users\\poduo\\Anaconda3_JupyterNB\\python_textbook_practice\\CH7\\7-3-2-argv.py\n",
      "檔案_  C:\\Users\\poduo\\Anaconda3_JupyterNB\\python_textbook_practice\\CH7\\CH7.ipynb\n",
      "檔案_  C:\\Users\\poduo\\Anaconda3_JupyterNB\\python_textbook_practice\\CH7\\ex2.ex3.ex4-import  ex6.ipynb\n",
      "檔案_  C:\\Users\\poduo\\Anaconda3_JupyterNB\\python_textbook_practice\\CH7\\exlotto.ipynb\n",
      "檔案_  C:\\Users\\poduo\\Anaconda3_JupyterNB\\python_textbook_practice\\CH7\\exlotto.py\n",
      "檔案_  C:\\Users\\poduo\\Anaconda3_JupyterNB\\python_textbook_practice\\CH7\\exreciept.ipynb\n",
      "檔案_  C:\\Users\\poduo\\Anaconda3_JupyterNB\\python_textbook_practice\\CH7\\guess.ipynb\n",
      "檔案_  C:\\Users\\poduo\\Anaconda3_JupyterNB\\python_textbook_practice\\CH7\\guess.py\n",
      "檔案_  C:\\Users\\poduo\\Anaconda3_JupyterNB\\python_textbook_practice\\CH7\\guess2.ipynb\n",
      "檔案_  C:\\Users\\poduo\\Anaconda3_JupyterNB\\python_textbook_practice\\CH7\\guess2.py\n",
      "資料夾_  C:\\Users\\poduo\\Anaconda3_JupyterNB\\python_textbook_practice\\CH7\\prize  _有：\n",
      "資料夾_  C:\\Users\\poduo\\Anaconda3_JupyterNB\\python_textbook_practice\\CH7\\prize\\.ipynb_checkpoints  _有：\n",
      "檔案_  C:\\Users\\poduo\\Anaconda3_JupyterNB\\python_textbook_practice\\CH7\\prize\\.ipynb_checkpoints\\exreciept-checkpoint.ipynb\n",
      "檔案_  C:\\Users\\poduo\\Anaconda3_JupyterNB\\python_textbook_practice\\CH7\\prize\\.ipynb_checkpoints\\Untitled-checkpoint.ipynb\n",
      "\n",
      "檔案_  C:\\Users\\poduo\\Anaconda3_JupyterNB\\python_textbook_practice\\CH7\\prize\\exlotto.py\n",
      "檔案_  C:\\Users\\poduo\\Anaconda3_JupyterNB\\python_textbook_practice\\CH7\\prize\\exreciept.py\n",
      "檔案_  C:\\Users\\poduo\\Anaconda3_JupyterNB\\python_textbook_practice\\CH7\\prize\\__init__.py\n",
      "資料夾_  C:\\Users\\poduo\\Anaconda3_JupyterNB\\python_textbook_practice\\CH7\\prize\\__pycache__  _有：\n",
      "檔案_  C:\\Users\\poduo\\Anaconda3_JupyterNB\\python_textbook_practice\\CH7\\prize\\__pycache__\\exlotto.cpython-36.pyc\n",
      "檔案_  C:\\Users\\poduo\\Anaconda3_JupyterNB\\python_textbook_practice\\CH7\\prize\\__pycache__\\exreciept.cpython-36.pyc\n",
      "檔案_  C:\\Users\\poduo\\Anaconda3_JupyterNB\\python_textbook_practice\\CH7\\prize\\__pycache__\\__init__.cpython-36.pyc\n",
      "\n",
      "\n",
      "資料夾_  C:\\Users\\poduo\\Anaconda3_JupyterNB\\python_textbook_practice\\CH7\\__pycache__  _有：\n",
      "檔案_  C:\\Users\\poduo\\Anaconda3_JupyterNB\\python_textbook_practice\\CH7\\__pycache__\\exlotto.cpython-36.pyc\n",
      "檔案_  C:\\Users\\poduo\\Anaconda3_JupyterNB\\python_textbook_practice\\CH7\\__pycache__\\guess.cpython-36.pyc\n",
      "檔案_  C:\\Users\\poduo\\Anaconda3_JupyterNB\\python_textbook_practice\\CH7\\__pycache__\\guess2.cpython-36.pyc\n",
      "\n",
      "\n"
     ]
    }
   ],
   "source": [
    "path = \"C:\\\\Users\\\\poduo\\\\Anaconda3_JupyterNB\\\\python_textbook_practice\\\\CH7\"\n",
    "find_dir(path)"
   ]
  },
  {
   "cell_type": "markdown",
   "metadata": {},
   "source": [
    "### 使用os.walk列出所有python檔案"
   ]
  },
  {
   "cell_type": "code",
   "execution_count": 48,
   "metadata": {},
   "outputs": [
    {
     "name": "stdout",
     "output_type": "stream",
     "text": [
      "7-3-2-argv.py\n",
      "exlotto.py\n",
      "guess.py\n",
      "guess2.py\n",
      "exlotto.py\n",
      "exreciept.py\n",
      "__init__.py\n"
     ]
    }
   ],
   "source": [
    "path = \"C:\\\\Users\\\\poduo\\\\Anaconda3_JupyterNB\\\\python_textbook_practice\\\\CH7\"\n",
    "for dpath, dname, fname in os.walk(path):\n",
    "    for f in fname:\n",
    "        if f.endswith('.py'):\n",
    "            print(f)"
   ]
  },
  {
   "cell_type": "markdown",
   "metadata": {},
   "source": [
    "### 使用os.walk列出所有jpg與png檔案"
   ]
  },
  {
   "cell_type": "code",
   "execution_count": 63,
   "metadata": {},
   "outputs": [
    {
     "data": {
      "text/plain": [
       "['C:\\\\Users\\\\poduo\\\\Desktop\\\\查詢用\\\\IMG_6597.JPG',\n",
       " 'C:\\\\Users\\\\poduo\\\\Desktop\\\\查詢用\\\\quick-introduction-to-git-43-728.jpg',\n",
       " 'C:\\\\Users\\\\poduo\\\\Desktop\\\\查詢用\\\\20171129-花旗1127卡費繳款.PNG',\n",
       " 'C:\\\\Users\\\\poduo\\\\Desktop\\\\查詢用\\\\AI-1.PNG',\n",
       " 'C:\\\\Users\\\\poduo\\\\Desktop\\\\查詢用\\\\AI-2.PNG',\n",
       " 'C:\\\\Users\\\\poduo\\\\Desktop\\\\查詢用\\\\AI-3.PNG',\n",
       " 'C:\\\\Users\\\\poduo\\\\Desktop\\\\查詢用\\\\AI-4.PNG',\n",
       " 'C:\\\\Users\\\\poduo\\\\Desktop\\\\查詢用\\\\gaduo funday.PNG',\n",
       " 'C:\\\\Users\\\\poduo\\\\Desktop\\\\查詢用\\\\keybord.PNG',\n",
       " 'C:\\\\Users\\\\poduo\\\\Desktop\\\\查詢用\\\\建立arrayz方法.PNG',\n",
       " 'C:\\\\Users\\\\poduo\\\\Desktop\\\\查詢用\\\\擷取.PNG',\n",
       " 'C:\\\\Users\\\\poduo\\\\Desktop\\\\查詢用\\\\擷取2.png',\n",
       " 'C:\\\\Users\\\\poduo\\\\Desktop\\\\查詢用\\\\擷取ori.PNG']"
      ]
     },
     "execution_count": 63,
     "metadata": {},
     "output_type": "execute_result"
    }
   ],
   "source": [
    "path = \"C:\\\\Users\\\\poduo\\\\Desktop\\\\查詢用\"\n",
    "patterns = ['*.jpg','*.png']\n",
    "match = []\n",
    "for dpath, dname, fname in os.walk(path):\n",
    "    for p in patterns:\n",
    "        for f in fnmatch.filter(fname, p):\n",
    "            match.append(os.path.join(path, f))\n",
    "match"
   ]
  },
  {
   "cell_type": "markdown",
   "metadata": {},
   "source": [
    "# 10-2 存取文字檔"
   ]
  },
  {
   "cell_type": "markdown",
   "metadata": {},
   "source": [
    "### 使用read()讀取存文字檔"
   ]
  },
  {
   "cell_type": "code",
   "execution_count": 66,
   "metadata": {},
   "outputs": [
    {
     "name": "stdout",
     "output_type": "stream",
     "text": [
      "﻿'C:\\\\Users\\\\poduo\\\\Desktop\\\\查詢用\\\\IMG_6597.JPG',\n",
      "'C:\\\\Users\\\\poduo\\\\Desktop\\\\查詢用\\\\quick-introduction-to-git-43-728.jpg',\n",
      "'C:\\\\Users\\\\poduo\\\\Desktop\\\\查詢用\\\\20171129-花旗1127卡費繳款.PNG',\n",
      "'C:\\\\Users\\\\poduo\\\\Desktop\\\\查詢用\\\\AI-1.PNG',\n",
      "'C:\\\\Users\\\\poduo\\\\Desktop\\\\查詢用\\\\AI-2.PNG',\n",
      "'C:\\\\Users\\\\poduo\\\\Desktop\\\\查詢用\\\\AI-3.PNG',\n",
      "'C:\\\\Users\\\\poduo\\\\Desktop\\\\查詢用\\\\AI-4.PNG',\n",
      "'C:\\\\Users\\\\poduo\\\\Desktop\\\\查詢用\\\\gaduo funday.PNG',\n",
      "'C:\\\\Users\\\\poduo\\\\Desktop\\\\查詢用\\\\keybord.PNG',\n",
      "'C:\\\\Users\\\\poduo\\\\Desktop\\\\查詢用\\\\建立arrayz方法.PNG',\n",
      "'C:\\\\Users\\\\poduo\\\\Desktop\\\\查詢用\\\\擷取.PNG',\n",
      "'C:\\\\Users\\\\poduo\\\\Desktop\\\\查詢用\\\\擷取2.png',\n",
      "'C:\\\\Users\\\\poduo\\\\Desktop\\\\查詢用\\\\擷取ori.PNG'\n"
     ]
    }
   ],
   "source": [
    "path = 'C:\\\\Users\\\\poduo\\\\Anaconda3_JupyterNB\\\\python_textbook_practice\\\\test.txt'\n",
    "file = open(path,'rt',encoding = 'utf-8')\n",
    "print(file.read())\n",
    "file.close()"
   ]
  },
  {
   "cell_type": "markdown",
   "metadata": {},
   "source": [
    "### 使用 for-loop 讀取純文字檔"
   ]
  },
  {
   "cell_type": "code",
   "execution_count": 67,
   "metadata": {},
   "outputs": [
    {
     "name": "stdout",
     "output_type": "stream",
     "text": [
      "﻿'C:\\\\Users\\\\poduo\\\\Desktop\\\\查詢用\\\\IMG_6597.JPG',\n",
      "\n",
      "'C:\\\\Users\\\\poduo\\\\Desktop\\\\查詢用\\\\quick-introduction-to-git-43-728.jpg',\n",
      "\n",
      "'C:\\\\Users\\\\poduo\\\\Desktop\\\\查詢用\\\\20171129-花旗1127卡費繳款.PNG',\n",
      "\n",
      "'C:\\\\Users\\\\poduo\\\\Desktop\\\\查詢用\\\\AI-1.PNG',\n",
      "\n",
      "'C:\\\\Users\\\\poduo\\\\Desktop\\\\查詢用\\\\AI-2.PNG',\n",
      "\n",
      "'C:\\\\Users\\\\poduo\\\\Desktop\\\\查詢用\\\\AI-3.PNG',\n",
      "\n",
      "'C:\\\\Users\\\\poduo\\\\Desktop\\\\查詢用\\\\AI-4.PNG',\n",
      "\n",
      "'C:\\\\Users\\\\poduo\\\\Desktop\\\\查詢用\\\\gaduo funday.PNG',\n",
      "\n",
      "'C:\\\\Users\\\\poduo\\\\Desktop\\\\查詢用\\\\keybord.PNG',\n",
      "\n",
      "'C:\\\\Users\\\\poduo\\\\Desktop\\\\查詢用\\\\建立arrayz方法.PNG',\n",
      "\n",
      "'C:\\\\Users\\\\poduo\\\\Desktop\\\\查詢用\\\\擷取.PNG',\n",
      "\n",
      "'C:\\\\Users\\\\poduo\\\\Desktop\\\\查詢用\\\\擷取2.png',\n",
      "\n",
      "'C:\\\\Users\\\\poduo\\\\Desktop\\\\查詢用\\\\擷取ori.PNG'\n"
     ]
    }
   ],
   "source": [
    "path = 'C:\\\\Users\\\\poduo\\\\Anaconda3_JupyterNB\\\\python_textbook_practice\\\\test.txt'\n",
    "file = open(path,'rt',encoding = 'utf-8')\n",
    "for l in file.readlines():\n",
    "    print(l)\n",
    "file.close()"
   ]
  },
  {
   "cell_type": "code",
   "execution_count": 68,
   "metadata": {},
   "outputs": [
    {
     "name": "stdout",
     "output_type": "stream",
     "text": [
      "﻿'C:\\\\Users\\\\poduo\\\\Desktop\\\\查詢用\\\\IMG_6597.JPG',\n",
      "'C:\\\\Users\\\\poduo\\\\Desktop\\\\查詢用\\\\quick-introduction-to-git-43-728.jpg',\n",
      "'C:\\\\Users\\\\poduo\\\\Desktop\\\\查詢用\\\\20171129-花旗1127卡費繳款.PNG',\n",
      "'C:\\\\Users\\\\poduo\\\\Desktop\\\\查詢用\\\\AI-1.PNG',\n",
      "'C:\\\\Users\\\\poduo\\\\Desktop\\\\查詢用\\\\AI-2.PNG',\n",
      "'C:\\\\Users\\\\poduo\\\\Desktop\\\\查詢用\\\\AI-3.PNG',\n",
      "'C:\\\\Users\\\\poduo\\\\Desktop\\\\查詢用\\\\AI-4.PNG',\n",
      "'C:\\\\Users\\\\poduo\\\\Desktop\\\\查詢用\\\\gaduo funday.PNG',\n",
      "'C:\\\\Users\\\\poduo\\\\Desktop\\\\查詢用\\\\keybord.PNG',\n",
      "'C:\\\\Users\\\\poduo\\\\Desktop\\\\查詢用\\\\建立arrayz方法.PNG',\n",
      "'C:\\\\Users\\\\poduo\\\\Desktop\\\\查詢用\\\\擷取.PNG',\n",
      "'C:\\\\Users\\\\poduo\\\\Desktop\\\\查詢用\\\\擷取2.png',\n",
      "'C:\\\\Users\\\\poduo\\\\Desktop\\\\查詢用\\\\擷取ori.PNG'\n"
     ]
    }
   ],
   "source": [
    "path = 'C:\\\\Users\\\\poduo\\\\Anaconda3_JupyterNB\\\\python_textbook_practice\\\\test.txt'\n",
    "file = open(path,'rt',encoding = 'utf-8')\n",
    "for l in file:\n",
    "    print(l.rstrip())\n",
    "file.close()"
   ]
  },
  {
   "cell_type": "markdown",
   "metadata": {},
   "source": [
    "### 讀取指定資料夾下所有 python 檔的程式\n",
    "有 ** UnicodeDecodeError: 'cp950' codec can't decode byte 0xe5 in position 37: illegal multibyte sequence ** 問題"
   ]
  },
  {
   "cell_type": "code",
   "execution_count": 75,
   "metadata": {},
   "outputs": [
    {
     "name": "stdout",
     "output_type": "stream",
     "text": [
      "C:\\Users\\poduo\\Anaconda3_JupyterNB\\python_textbook_practice\\CH7\\7-3-2-argv.py  檔案：\n",
      "\n",
      "# coding: utf-8\n",
      "\n",
      "# In[1]:\n",
      "\n",
      "\n",
      "import sys\n",
      "for i in sys.argv:\n",
      "    print(i)\n",
      "\n",
      "\n",
      "C:\\Users\\poduo\\Anaconda3_JupyterNB\\python_textbook_practice\\CH7\\exlotto.py  檔案：\n",
      "\n",
      "# coding: utf-8\n",
      "\n",
      "# In[1]:\n",
      "\n",
      "\n",
      "import random\n",
      "\n",
      "\n",
      "# In[6]:\n",
      "\n",
      "\n",
      "def lotto(n, m):\n",
      "    nums = [i for i in range(1, n+1)]\n",
      "    return random.sample(nums, m)\n",
      "\n",
      "\n",
      "\n",
      "# In[9]:\n",
      "\n",
      "\n",
      "# n = int(input('n:'))\n",
      "# m = int(input('m:'))\n",
      "# print(lotto(n,m))\n",
      "\n",
      "\n",
      "C:\\Users\\poduo\\Anaconda3_JupyterNB\\python_textbook_practice\\CH7\\guess.py  檔案：\n"
     ]
    },
    {
     "ename": "UnicodeDecodeError",
     "evalue": "'cp950' codec can't decode byte 0xe5 in position 37: illegal multibyte sequence",
     "output_type": "error",
     "traceback": [
      "\u001b[1;31m---------------------------------------------------------------------------\u001b[0m",
      "\u001b[1;31mUnicodeDecodeError\u001b[0m                        Traceback (most recent call last)",
      "\u001b[1;32m<ipython-input-75-6616b64c38c8>\u001b[0m in \u001b[0;36m<module>\u001b[1;34m()\u001b[0m\n\u001b[0;32m      6\u001b[0m     \u001b[0mprint\u001b[0m\u001b[1;33m(\u001b[0m\u001b[0mfile\u001b[0m\u001b[1;33m,\u001b[0m \u001b[1;34m' 檔案：'\u001b[0m\u001b[1;33m)\u001b[0m\u001b[1;33m\u001b[0m\u001b[0m\n\u001b[0;32m      7\u001b[0m     \u001b[1;32mwith\u001b[0m \u001b[0mopen\u001b[0m \u001b[1;33m(\u001b[0m\u001b[0mfile\u001b[0m\u001b[1;33m)\u001b[0m \u001b[1;32mas\u001b[0m \u001b[0mf\u001b[0m\u001b[1;33m:\u001b[0m\u001b[1;33m\u001b[0m\u001b[0m\n\u001b[1;32m----> 8\u001b[1;33m         \u001b[1;32mfor\u001b[0m \u001b[0ml\u001b[0m \u001b[1;32min\u001b[0m \u001b[0mf\u001b[0m\u001b[1;33m:\u001b[0m\u001b[1;33m\u001b[0m\u001b[0m\n\u001b[0m\u001b[0;32m      9\u001b[0m             \u001b[0mprint\u001b[0m\u001b[1;33m(\u001b[0m\u001b[0ml\u001b[0m\u001b[1;33m.\u001b[0m\u001b[0mrstrip\u001b[0m\u001b[1;33m(\u001b[0m\u001b[1;33m)\u001b[0m\u001b[1;33m)\u001b[0m\u001b[1;33m\u001b[0m\u001b[0m\n\u001b[0;32m     10\u001b[0m     \u001b[0mprint\u001b[0m\u001b[1;33m(\u001b[0m\u001b[1;33m)\u001b[0m\u001b[1;33m\u001b[0m\u001b[0m\n",
      "\u001b[1;31mUnicodeDecodeError\u001b[0m: 'cp950' codec can't decode byte 0xe5 in position 37: illegal multibyte sequence"
     ]
    }
   ],
   "source": [
    "path = \"C:\\\\Users\\\\poduo\\\\Anaconda3_JupyterNB\\\\python_textbook_practice\\\\CH7\\\\*.py\"\n",
    "\n",
    "flist = glob.glob(path)\n",
    "# print(flist)\n",
    "for file in flist:\n",
    "    print(file, ' 檔案：')\n",
    "    with open (file) as f:\n",
    "        for l in f:\n",
    "            print(l.rstrip())\n",
    "    print()\n",
    "            "
   ]
  },
  {
   "cell_type": "markdown",
   "metadata": {},
   "source": [
    "### 將字串寫入檔案"
   ]
  },
  {
   "cell_type": "code",
   "execution_count": 77,
   "metadata": {},
   "outputs": [],
   "source": [
    "s = '昔人已乘黃鶴去，此地空余黃鶴樓。\\n黃鶴一去不復返，白雲千載空悠悠。'\n",
    "with open('C:\\\\Users\\\\poduo\\\\Anaconda3_JupyterNB\\\\python_textbook_practice\\\\test.txt', mode = 'at',encoding = 'utf-8') as file :\n",
    "    print(s, file = file)\n",
    "    file.write(s)"
   ]
  },
  {
   "cell_type": "markdown",
   "metadata": {},
   "source": [
    "### 將字串寫入檔案，使用try偵測錯誤"
   ]
  },
  {
   "cell_type": "code",
   "execution_count": 84,
   "metadata": {},
   "outputs": [
    {
     "name": "stdout",
     "output_type": "stream",
     "text": [
      "程式發生錯誤\n",
      "程式結束\n"
     ]
    }
   ],
   "source": [
    "s = '\\n昔人已乘黃鶴去，此地空余黃鶴樓。\\n黃鶴一去不復返，白雲千載空悠悠。'\n",
    "try:\n",
    "    with open('C:\\\\Users\\\\poduo\\\\Anaconda3_JupyterNB\\\\python_textbook_practice\\\\test2.txt', 'wt',encoding = 'big-5') as file :\n",
    "        print(s, file = file)\n",
    "        file.write(s)\n",
    "except FileNotFoundError:\n",
    "    print('找不到檔案')\n",
    "except :\n",
    "    print('程式發生錯誤')\n",
    "else :\n",
    "    print('資料寫入結束')\n",
    "finally :\n",
    "    print('程式結束')"
   ]
  },
  {
   "cell_type": "markdown",
   "metadata": {},
   "source": [
    "### 拷貝檔案"
   ]
  },
  {
   "cell_type": "code",
   "execution_count": 86,
   "metadata": {},
   "outputs": [
    {
     "data": {
      "text/plain": [
       "'C:\\\\Users\\\\poduo\\\\Anaconda3_JupyterNB\\\\python_textbook_practice'"
      ]
     },
     "execution_count": 86,
     "metadata": {},
     "output_type": "execute_result"
    }
   ],
   "source": [
    "os.chdir('C:\\\\Users\\\\poduo\\\\Anaconda3_JupyterNB\\\\python_textbook_practice')\n",
    "os.getcwd()"
   ]
  },
  {
   "cell_type": "code",
   "execution_count": 91,
   "metadata": {},
   "outputs": [],
   "source": [
    "f1 = open('test.txt','rt',encoding = 'utf-8')\n",
    "f2 = open('test2.txt','wt',encoding = 'utf-8')\n",
    "s = f1.readline()\n",
    "while s:\n",
    "    f2.write(s)\n",
    "    s = f1.readline()\n",
    "f1.close()\n",
    "f2.close()"
   ]
  },
  {
   "cell_type": "markdown",
   "metadata": {},
   "source": [
    "### 產生費式數列儲存到檔案"
   ]
  },
  {
   "cell_type": "code",
   "execution_count": 98,
   "metadata": {
    "collapsed": true
   },
   "outputs": [],
   "source": [
    "f2 = open('test2.txt','wt',encoding = 'utf-8')\n",
    "\n",
    "def fib(n):\n",
    "    counter = 1\n",
    "    a = 1\n",
    "    b = 1\n",
    "    print(counter, a, file = f2)\n",
    "    while counter < n+1 :\n",
    "        counter += 1\n",
    "        a , b = b, a + b\n",
    "        print(counter, a, file = f2)\n",
    "\n",
    "fib(1000)\n",
    "f2.close()"
   ]
  },
  {
   "cell_type": "markdown",
   "metadata": {},
   "source": [
    "# 10-3 存取 csv 檔"
   ]
  },
  {
   "cell_type": "markdown",
   "metadata": {},
   "source": [
    "### 使用模組csv對csv檔進行寫入與讀取"
   ]
  },
  {
   "cell_type": "code",
   "execution_count": 99,
   "metadata": {},
   "outputs": [
    {
     "data": {
      "text/plain": [
       "'C:\\\\Users\\\\poduo\\\\Anaconda3_JupyterNB\\\\python_textbook_practice'"
      ]
     },
     "execution_count": 99,
     "metadata": {},
     "output_type": "execute_result"
    }
   ],
   "source": [
    "os.getcwd()"
   ]
  },
  {
   "cell_type": "code",
   "execution_count": 100,
   "metadata": {
    "collapsed": true
   },
   "outputs": [],
   "source": [
    "import csv"
   ]
  },
  {
   "cell_type": "code",
   "execution_count": 110,
   "metadata": {},
   "outputs": [],
   "source": [
    "file = open('test99.csv', 'wt', newline='')\n",
    "w = csv.writer(file)\n",
    "for i in range(1,10):\n",
    "    for j in range(1,10):\n",
    "        w.writerows([(str(i), str(j), str(i*j))])\n",
    "file.close()"
   ]
  },
  {
   "cell_type": "code",
   "execution_count": 111,
   "metadata": {
    "scrolled": true
   },
   "outputs": [
    {
     "name": "stdout",
     "output_type": "stream",
     "text": [
      "[['1', '1', '1'], ['1', '2', '2'], ['1', '3', '3'], ['1', '4', '4'], ['1', '5', '5'], ['1', '6', '6'], ['1', '7', '7'], ['1', '8', '8'], ['1', '9', '9'], ['2', '1', '2'], ['2', '2', '4'], ['2', '3', '6'], ['2', '4', '8'], ['2', '5', '10'], ['2', '6', '12'], ['2', '7', '14'], ['2', '8', '16'], ['2', '9', '18'], ['3', '1', '3'], ['3', '2', '6'], ['3', '3', '9'], ['3', '4', '12'], ['3', '5', '15'], ['3', '6', '18'], ['3', '7', '21'], ['3', '8', '24'], ['3', '9', '27'], ['4', '1', '4'], ['4', '2', '8'], ['4', '3', '12'], ['4', '4', '16'], ['4', '5', '20'], ['4', '6', '24'], ['4', '7', '28'], ['4', '8', '32'], ['4', '9', '36'], ['5', '1', '5'], ['5', '2', '10'], ['5', '3', '15'], ['5', '4', '20'], ['5', '5', '25'], ['5', '6', '30'], ['5', '7', '35'], ['5', '8', '40'], ['5', '9', '45'], ['6', '1', '6'], ['6', '2', '12'], ['6', '3', '18'], ['6', '4', '24'], ['6', '5', '30'], ['6', '6', '36'], ['6', '7', '42'], ['6', '8', '48'], ['6', '9', '54'], ['7', '1', '7'], ['7', '2', '14'], ['7', '3', '21'], ['7', '4', '28'], ['7', '5', '35'], ['7', '6', '42'], ['7', '7', '49'], ['7', '8', '56'], ['7', '9', '63'], ['8', '1', '8'], ['8', '2', '16'], ['8', '3', '24'], ['8', '4', '32'], ['8', '5', '40'], ['8', '6', '48'], ['8', '7', '56'], ['8', '8', '64'], ['8', '9', '72'], ['9', '1', '9'], ['9', '2', '18'], ['9', '3', '27'], ['9', '4', '36'], ['9', '5', '45'], ['9', '6', '54'], ['9', '7', '63'], ['9', '8', '72'], ['9', '9', '81']]\n"
     ]
    }
   ],
   "source": [
    "file = open('test99.csv', 'rt')\n",
    "r = csv.reader(file)\n",
    "content = [i for i in r ]\n",
    "file.close()\n",
    "print(content)"
   ]
  },
  {
   "cell_type": "markdown",
   "metadata": {},
   "source": [
    "### 使用模組csv寫入與讀取csv檔，並加上標題"
   ]
  },
  {
   "cell_type": "code",
   "execution_count": 2,
   "metadata": {
    "collapsed": true
   },
   "outputs": [],
   "source": [
    "import csv"
   ]
  },
  {
   "cell_type": "code",
   "execution_count": 8,
   "metadata": {
    "scrolled": true
   },
   "outputs": [
    {
     "name": "stdout",
     "output_type": "stream",
     "text": [
      "[OrderedDict([('被乘數', '1'), ('乘數', '1'), ('積', '1')]), OrderedDict([('被乘數', '1'), ('乘數', '2'), ('積', '2')]), OrderedDict([('被乘數', '1'), ('乘數', '3'), ('積', '3')]), OrderedDict([('被乘數', '1'), ('乘數', '4'), ('積', '4')]), OrderedDict([('被乘數', '1'), ('乘數', '5'), ('積', '5')]), OrderedDict([('被乘數', '1'), ('乘數', '6'), ('積', '6')]), OrderedDict([('被乘數', '1'), ('乘數', '7'), ('積', '7')]), OrderedDict([('被乘數', '1'), ('乘數', '8'), ('積', '8')]), OrderedDict([('被乘數', '1'), ('乘數', '9'), ('積', '9')]), OrderedDict([('被乘數', '2'), ('乘數', '1'), ('積', '2')]), OrderedDict([('被乘數', '2'), ('乘數', '2'), ('積', '4')]), OrderedDict([('被乘數', '2'), ('乘數', '3'), ('積', '6')]), OrderedDict([('被乘數', '2'), ('乘數', '4'), ('積', '8')]), OrderedDict([('被乘數', '2'), ('乘數', '5'), ('積', '10')]), OrderedDict([('被乘數', '2'), ('乘數', '6'), ('積', '12')]), OrderedDict([('被乘數', '2'), ('乘數', '7'), ('積', '14')]), OrderedDict([('被乘數', '2'), ('乘數', '8'), ('積', '16')]), OrderedDict([('被乘數', '2'), ('乘數', '9'), ('積', '18')]), OrderedDict([('被乘數', '3'), ('乘數', '1'), ('積', '3')]), OrderedDict([('被乘數', '3'), ('乘數', '2'), ('積', '6')]), OrderedDict([('被乘數', '3'), ('乘數', '3'), ('積', '9')]), OrderedDict([('被乘數', '3'), ('乘數', '4'), ('積', '12')]), OrderedDict([('被乘數', '3'), ('乘數', '5'), ('積', '15')]), OrderedDict([('被乘數', '3'), ('乘數', '6'), ('積', '18')]), OrderedDict([('被乘數', '3'), ('乘數', '7'), ('積', '21')]), OrderedDict([('被乘數', '3'), ('乘數', '8'), ('積', '24')]), OrderedDict([('被乘數', '3'), ('乘數', '9'), ('積', '27')]), OrderedDict([('被乘數', '4'), ('乘數', '1'), ('積', '4')]), OrderedDict([('被乘數', '4'), ('乘數', '2'), ('積', '8')]), OrderedDict([('被乘數', '4'), ('乘數', '3'), ('積', '12')]), OrderedDict([('被乘數', '4'), ('乘數', '4'), ('積', '16')]), OrderedDict([('被乘數', '4'), ('乘數', '5'), ('積', '20')]), OrderedDict([('被乘數', '4'), ('乘數', '6'), ('積', '24')]), OrderedDict([('被乘數', '4'), ('乘數', '7'), ('積', '28')]), OrderedDict([('被乘數', '4'), ('乘數', '8'), ('積', '32')]), OrderedDict([('被乘數', '4'), ('乘數', '9'), ('積', '36')]), OrderedDict([('被乘數', '5'), ('乘數', '1'), ('積', '5')]), OrderedDict([('被乘數', '5'), ('乘數', '2'), ('積', '10')]), OrderedDict([('被乘數', '5'), ('乘數', '3'), ('積', '15')]), OrderedDict([('被乘數', '5'), ('乘數', '4'), ('積', '20')]), OrderedDict([('被乘數', '5'), ('乘數', '5'), ('積', '25')]), OrderedDict([('被乘數', '5'), ('乘數', '6'), ('積', '30')]), OrderedDict([('被乘數', '5'), ('乘數', '7'), ('積', '35')]), OrderedDict([('被乘數', '5'), ('乘數', '8'), ('積', '40')]), OrderedDict([('被乘數', '5'), ('乘數', '9'), ('積', '45')]), OrderedDict([('被乘數', '6'), ('乘數', '1'), ('積', '6')]), OrderedDict([('被乘數', '6'), ('乘數', '2'), ('積', '12')]), OrderedDict([('被乘數', '6'), ('乘數', '3'), ('積', '18')]), OrderedDict([('被乘數', '6'), ('乘數', '4'), ('積', '24')]), OrderedDict([('被乘數', '6'), ('乘數', '5'), ('積', '30')]), OrderedDict([('被乘數', '6'), ('乘數', '6'), ('積', '36')]), OrderedDict([('被乘數', '6'), ('乘數', '7'), ('積', '42')]), OrderedDict([('被乘數', '6'), ('乘數', '8'), ('積', '48')]), OrderedDict([('被乘數', '6'), ('乘數', '9'), ('積', '54')]), OrderedDict([('被乘數', '7'), ('乘數', '1'), ('積', '7')]), OrderedDict([('被乘數', '7'), ('乘數', '2'), ('積', '14')]), OrderedDict([('被乘數', '7'), ('乘數', '3'), ('積', '21')]), OrderedDict([('被乘數', '7'), ('乘數', '4'), ('積', '28')]), OrderedDict([('被乘數', '7'), ('乘數', '5'), ('積', '35')]), OrderedDict([('被乘數', '7'), ('乘數', '6'), ('積', '42')]), OrderedDict([('被乘數', '7'), ('乘數', '7'), ('積', '49')]), OrderedDict([('被乘數', '7'), ('乘數', '8'), ('積', '56')]), OrderedDict([('被乘數', '7'), ('乘數', '9'), ('積', '63')]), OrderedDict([('被乘數', '8'), ('乘數', '1'), ('積', '8')]), OrderedDict([('被乘數', '8'), ('乘數', '2'), ('積', '16')]), OrderedDict([('被乘數', '8'), ('乘數', '3'), ('積', '24')]), OrderedDict([('被乘數', '8'), ('乘數', '4'), ('積', '32')]), OrderedDict([('被乘數', '8'), ('乘數', '5'), ('積', '40')]), OrderedDict([('被乘數', '8'), ('乘數', '6'), ('積', '48')]), OrderedDict([('被乘數', '8'), ('乘數', '7'), ('積', '56')]), OrderedDict([('被乘數', '8'), ('乘數', '8'), ('積', '64')]), OrderedDict([('被乘數', '8'), ('乘數', '9'), ('積', '72')]), OrderedDict([('被乘數', '9'), ('乘數', '1'), ('積', '9')]), OrderedDict([('被乘數', '9'), ('乘數', '2'), ('積', '18')]), OrderedDict([('被乘數', '9'), ('乘數', '3'), ('積', '27')]), OrderedDict([('被乘數', '9'), ('乘數', '4'), ('積', '36')]), OrderedDict([('被乘數', '9'), ('乘數', '5'), ('積', '45')]), OrderedDict([('被乘數', '9'), ('乘數', '6'), ('積', '54')]), OrderedDict([('被乘數', '9'), ('乘數', '7'), ('積', '63')]), OrderedDict([('被乘數', '9'), ('乘數', '8'), ('積', '72')]), OrderedDict([('被乘數', '9'), ('乘數', '9'), ('積', '81')])]\n"
     ]
    }
   ],
   "source": [
    "with open('test99.csv','rt') as fi:\n",
    "    reader = csv.DictReader(fi, fieldnames = ['被乘數', '乘數', '積'])\n",
    "    rows = [i for i in reader]\n",
    "    print(rows)\n",
    "#     big5hkscs\n",
    "    f2 = open('test99bb.csv', 'wt', newline='', encoding= 'utf-8-sig')\n",
    "    writer = csv.DictWriter(f2, fieldnames = ['被乘數', '乘數', '積'])\n",
    "    writer.writeheader()\n",
    "    writer.writerows(rows)\n",
    "    f2.close()"
   ]
  },
  {
   "cell_type": "markdown",
   "metadata": {},
   "source": [
    "# 10-4 存取二進位檔"
   ]
  },
  {
   "cell_type": "markdown",
   "metadata": {},
   "source": [
    "### 產生二進位資料"
   ]
  },
  {
   "cell_type": "code",
   "execution_count": 9,
   "metadata": {},
   "outputs": [
    {
     "name": "stdout",
     "output_type": "stream",
     "text": [
      "b'\\x00\\x01\\x02\\x03\\x04\\x05\\x06\\x07\\x08\\t\\n\\x0b\\x0c\\r\\x0e\\x0f\\x10\\x11\\x12\\x13\\x14\\x15\\x16\\x17\\x18\\x19\\x1a\\x1b\\x1c\\x1d\\x1e\\x1f'\n",
      "bytearray(b'\\x00\\x01\\x02\\x03\\x04\\x05\\x06\\x07\\x08\\t\\n\\x0b\\x0c\\r\\x0e\\x0f\\x10\\x11\\x12\\x13\\x14\\x15\\x16\\x17\\x18\\x19\\x1a\\x1b\\x1c\\x1d\\x1e\\x1f')\n"
     ]
    }
   ],
   "source": [
    "mybytes = bytes(range(0, 32))\n",
    "print(mybytes)\n",
    "\n",
    "mybytesarray = bytearray(range(0,32))\n",
    "print(mybytesarray)"
   ]
  },
  {
   "cell_type": "markdown",
   "metadata": {},
   "source": [
    "### 存取二進位檔案"
   ]
  },
  {
   "cell_type": "code",
   "execution_count": 10,
   "metadata": {},
   "outputs": [
    {
     "name": "stdout",
     "output_type": "stream",
     "text": [
      "b'\\x00\\x01\\x02\\x03\\x04\\x05\\x06\\x07\\x08\\t\\n\\x0b\\x0c\\r\\x0e\\x0f\\x10\\x11\\x12\\x13\\x14\\x15\\x16\\x17\\x18\\x19\\x1a\\x1b\\x1c\\x1d\\x1e\\x1f'\n"
     ]
    }
   ],
   "source": [
    "data = bytes(range(0, 32))\n",
    "with open('byte_test', 'wb') as fout:\n",
    "    fout.write(data)\n",
    "with open('byte_test', 'rb') as fin:\n",
    "    print(fin.read())"
   ]
  },
  {
   "cell_type": "markdown",
   "metadata": {},
   "source": [
    "### 使用模組 pickle 將物件轉成二進位檔"
   ]
  },
  {
   "cell_type": "code",
   "execution_count": 11,
   "metadata": {},
   "outputs": [
    {
     "name": "stdout",
     "output_type": "stream",
     "text": [
      "[1, 2, 3, 4, 5, 6, 7, 8, 9]\n"
     ]
    }
   ],
   "source": [
    "import pickle\n",
    "li = [a for a in range(1,10)]\n",
    "with open('pickle', 'wb') as fw:\n",
    "    pickle.dump(li,fw)\n",
    "with open('pickle', 'rb') as fr:\n",
    "    print(pickle.load(fr))"
   ]
  },
  {
   "cell_type": "code",
   "execution_count": 12,
   "metadata": {},
   "outputs": [
    {
     "ename": "UnpicklingError",
     "evalue": "invalid load key, '\\x00'.",
     "output_type": "error",
     "traceback": [
      "\u001b[1;31m---------------------------------------------------------------------------\u001b[0m",
      "\u001b[1;31mUnpicklingError\u001b[0m                           Traceback (most recent call last)",
      "\u001b[1;32m<ipython-input-12-623406ebf92b>\u001b[0m in \u001b[0;36m<module>\u001b[1;34m()\u001b[0m\n\u001b[0;32m      1\u001b[0m \u001b[1;32mwith\u001b[0m \u001b[0mopen\u001b[0m\u001b[1;33m(\u001b[0m\u001b[1;34m'byte_test'\u001b[0m\u001b[1;33m,\u001b[0m \u001b[1;34m'rb'\u001b[0m\u001b[1;33m)\u001b[0m \u001b[1;32mas\u001b[0m \u001b[0mfr\u001b[0m\u001b[1;33m:\u001b[0m\u001b[1;33m\u001b[0m\u001b[0m\n\u001b[1;32m----> 2\u001b[1;33m     \u001b[0mprint\u001b[0m\u001b[1;33m(\u001b[0m\u001b[0mpickle\u001b[0m\u001b[1;33m.\u001b[0m\u001b[0mload\u001b[0m\u001b[1;33m(\u001b[0m\u001b[0mfr\u001b[0m\u001b[1;33m)\u001b[0m\u001b[1;33m)\u001b[0m\u001b[1;33m\u001b[0m\u001b[0m\n\u001b[0m",
      "\u001b[1;31mUnpicklingError\u001b[0m: invalid load key, '\\x00'."
     ]
    }
   ],
   "source": [
    "with open('byte_test', 'rb') as fr:\n",
    "    print(pickle.load(fr))"
   ]
  },
  {
   "cell_type": "markdown",
   "metadata": {},
   "source": [
    "# 習題"
   ]
  },
  {
   "cell_type": "markdown",
   "metadata": {},
   "source": [
    "### 1. 找出大於 100 MB 的檔案"
   ]
  },
  {
   "cell_type": "code",
   "execution_count": 15,
   "metadata": {},
   "outputs": [
    {
     "data": {
      "text/plain": [
       "'C:\\\\Users\\\\poduo\\\\Anaconda3_JupyterNB\\\\python_textbook_practice'"
      ]
     },
     "execution_count": 15,
     "metadata": {},
     "output_type": "execute_result"
    }
   ],
   "source": [
    "import os\n",
    "os.getcwd()"
   ]
  },
  {
   "cell_type": "code",
   "execution_count": 27,
   "metadata": {},
   "outputs": [
    {
     "data": {
      "text/plain": [
       "['COMMIT_EDITMSG',\n",
       " 'config',\n",
       " 'description',\n",
       " 'FETCH_HEAD',\n",
       " 'HEAD',\n",
       " 'hooks',\n",
       " 'index',\n",
       " 'info',\n",
       " 'logs',\n",
       " 'objects',\n",
       " 'ORIG_HEAD',\n",
       " 'packed-refs',\n",
       " 'refs']"
      ]
     },
     "execution_count": 27,
     "metadata": {},
     "output_type": "execute_result"
    }
   ],
   "source": [
    "ignore = 'C:\\\\Users\\\\poduo\\\\Anaconda3_JupyterNB\\\\python_textbook_practice\\\\.git'\n",
    "li = os.listdir(ignore)\n",
    "li"
   ]
  },
  {
   "cell_type": "code",
   "execution_count": 28,
   "metadata": {},
   "outputs": [
    {
     "name": "stdout",
     "output_type": "stream",
     "text": [
      "Big: CH10.ipynb\n",
      "Big: CH4.ipynb\n",
      "Big: CH5.ipynb\n",
      "Big: CH6.ipynb\n",
      "Big: CH8.ipynb\n",
      "Big: CH9.ipynb\n",
      "Big: README.md\n",
      "Big: test.txt\n",
      "Big: test2.txt\n"
     ]
    },
    {
     "ename": "FileNotFoundError",
     "evalue": "[WinError 2] 系統找不到指定的檔案。: 'COMMIT_EDITMSG'",
     "output_type": "error",
     "traceback": [
      "\u001b[1;31m---------------------------------------------------------------------------\u001b[0m",
      "\u001b[1;31mFileNotFoundError\u001b[0m                         Traceback (most recent call last)",
      "\u001b[1;32m<ipython-input-28-065fed4d96c5>\u001b[0m in \u001b[0;36m<module>\u001b[1;34m()\u001b[0m\n\u001b[0;32m      4\u001b[0m     \u001b[1;32mfor\u001b[0m \u001b[0mfi\u001b[0m \u001b[1;32min\u001b[0m \u001b[0mf\u001b[0m\u001b[1;33m:\u001b[0m\u001b[1;33m\u001b[0m\u001b[0m\n\u001b[0;32m      5\u001b[0m         \u001b[1;32mif\u001b[0m \u001b[0mf\u001b[0m \u001b[1;32mnot\u001b[0m \u001b[1;32min\u001b[0m \u001b[0mli\u001b[0m \u001b[1;33m:\u001b[0m\u001b[1;33m\u001b[0m\u001b[0m\n\u001b[1;32m----> 6\u001b[1;33m             \u001b[1;32mif\u001b[0m \u001b[0mos\u001b[0m\u001b[1;33m.\u001b[0m\u001b[0mpath\u001b[0m\u001b[1;33m.\u001b[0m\u001b[0mgetsize\u001b[0m\u001b[1;33m(\u001b[0m\u001b[0mfi\u001b[0m\u001b[1;33m)\u001b[0m \u001b[1;33m>\u001b[0m \u001b[1;36m1000\u001b[0m\u001b[1;33m:\u001b[0m\u001b[1;33m\u001b[0m\u001b[0m\n\u001b[0m\u001b[0;32m      7\u001b[0m                 \u001b[0mprint\u001b[0m\u001b[1;33m(\u001b[0m\u001b[1;34m'Big:'\u001b[0m\u001b[1;33m,\u001b[0m\u001b[0mfi\u001b[0m\u001b[1;33m)\u001b[0m\u001b[1;33m\u001b[0m\u001b[0m\n",
      "\u001b[1;32m~\\Anaconda3\\lib\\genericpath.py\u001b[0m in \u001b[0;36mgetsize\u001b[1;34m(filename)\u001b[0m\n\u001b[0;32m     48\u001b[0m \u001b[1;32mdef\u001b[0m \u001b[0mgetsize\u001b[0m\u001b[1;33m(\u001b[0m\u001b[0mfilename\u001b[0m\u001b[1;33m)\u001b[0m\u001b[1;33m:\u001b[0m\u001b[1;33m\u001b[0m\u001b[0m\n\u001b[0;32m     49\u001b[0m     \u001b[1;34m\"\"\"Return the size of a file, reported by os.stat().\"\"\"\u001b[0m\u001b[1;33m\u001b[0m\u001b[0m\n\u001b[1;32m---> 50\u001b[1;33m     \u001b[1;32mreturn\u001b[0m \u001b[0mos\u001b[0m\u001b[1;33m.\u001b[0m\u001b[0mstat\u001b[0m\u001b[1;33m(\u001b[0m\u001b[0mfilename\u001b[0m\u001b[1;33m)\u001b[0m\u001b[1;33m.\u001b[0m\u001b[0mst_size\u001b[0m\u001b[1;33m\u001b[0m\u001b[0m\n\u001b[0m\u001b[0;32m     51\u001b[0m \u001b[1;33m\u001b[0m\u001b[0m\n\u001b[0;32m     52\u001b[0m \u001b[1;33m\u001b[0m\u001b[0m\n",
      "\u001b[1;31mFileNotFoundError\u001b[0m: [WinError 2] 系統找不到指定的檔案。: 'COMMIT_EDITMSG'"
     ]
    }
   ],
   "source": [
    "path = os.getcwd()\n",
    "for r, d, f in os.walk(path):\n",
    "    for fi in f:\n",
    "        if f not in li :\n",
    "            if os.path.getsize(fi) > 1000:\n",
    "                print('Big:',fi)"
   ]
  },
  {
   "cell_type": "markdown",
   "metadata": {},
   "source": [
    "### 2. 計算文字的出現次數"
   ]
  },
  {
   "cell_type": "code",
   "execution_count": 71,
   "metadata": {},
   "outputs": [
    {
     "name": "stdout",
     "output_type": "stream",
     "text": [
      "黃 3\n",
      "鶴 3\n",
      "去 2\n",
      "悠 2\n",
      "空 2\n",
      "乘 1\n",
      "已 1\n",
      "千 1\n",
      "人 1\n",
      "復 1\n",
      "不 1\n",
      "余 1\n",
      "昔 1\n",
      "載 1\n",
      "此 1\n",
      "一 1\n",
      "雲 1\n",
      "白 1\n",
      "返 1\n",
      "地 1\n",
      "樓 1\n"
     ]
    }
   ],
   "source": [
    "import re\n",
    "with open('poem.txt', 'rt', encoding = 'utf-8') as fread:\n",
    "    poem = fread.read()\n",
    "    plist = re.findall('\\w',poem)\n",
    "    p = [(i , plist.count(i)) for i in set(plist)] \n",
    "    sort_p = sorted(p, key = lambda x: x[1], reverse = True)\n",
    "\n",
    "    fw = open('ex2-poem.txt','wt', encoding = 'utf-8')\n",
    "    for i, j in sort_p:\n",
    "        print(i, j, end='\\n', file = fw)\n",
    "        print(i, j)\n",
    "    fw.close()"
   ]
  },
  {
   "cell_type": "markdown",
   "metadata": {},
   "source": [
    "### 3. 計算文字的出現次數到csv"
   ]
  },
  {
   "cell_type": "code",
   "execution_count": 85,
   "metadata": {},
   "outputs": [
    {
     "name": "stdout",
     "output_type": "stream",
     "text": [
      "黃 3\n",
      "鶴 3\n",
      "去 2\n",
      "悠 2\n",
      "空 2\n",
      "乘 1\n",
      "已 1\n",
      "千 1\n",
      "人 1\n",
      "復 1\n",
      "不 1\n",
      "余 1\n",
      "昔 1\n",
      "載 1\n",
      "此 1\n",
      "一 1\n",
      "雲 1\n",
      "白 1\n",
      "返 1\n",
      "地 1\n",
      "樓 1\n"
     ]
    }
   ],
   "source": [
    "with open('poem.txt','rt',encoding='utf-8') as f:\n",
    "    peom = f.read()\n",
    "    peom = re.findall('\\w', peom)\n",
    "    plist = [(w, peom.count(w)) for w in set(peom)]\n",
    "    psort = sorted(plist, key = lambda x: x[1], reverse=True)\n",
    "    with open('ex3-poem.csv', 'wt', newline='') as f2:\n",
    "        writer = csv.writer(f2)\n",
    "        for w, c in psort:\n",
    "            writer.writerows([(w , str(c))])\n",
    "            print(w , c)"
   ]
  },
  {
   "cell_type": "code",
   "execution_count": null,
   "metadata": {
    "collapsed": true
   },
   "outputs": [],
   "source": []
  }
 ],
 "metadata": {
  "kernelspec": {
   "display_name": "Python 3",
   "language": "python",
   "name": "python3"
  },
  "language_info": {
   "codemirror_mode": {
    "name": "ipython",
    "version": 3
   },
   "file_extension": ".py",
   "mimetype": "text/x-python",
   "name": "python",
   "nbconvert_exporter": "python",
   "pygments_lexer": "ipython3",
   "version": "3.6.3"
  }
 },
 "nbformat": 4,
 "nbformat_minor": 2
}
