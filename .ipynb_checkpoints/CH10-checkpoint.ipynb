{
 "cells": [
  {
   "cell_type": "markdown",
   "metadata": {},
   "source": [
    "# 10-1 資料夾與檔案相關模組"
   ]
  },
  {
   "cell_type": "markdown",
   "metadata": {},
   "source": [
    "### 找出C磁碟下的檔案與資料夾"
   ]
  },
  {
   "cell_type": "code",
   "execution_count": 1,
   "metadata": {
    "collapsed": true
   },
   "outputs": [],
   "source": [
    "import os, glob, fnmatch"
   ]
  },
  {
   "cell_type": "code",
   "execution_count": 4,
   "metadata": {},
   "outputs": [
    {
     "data": {
      "text/plain": [
       "['$RECYCLE.BIN',\n",
       " '$SysReset',\n",
       " 'bcdbackup',\n",
       " 'bcdbackup.LOG',\n",
       " 'bcdbackup.LOG1',\n",
       " 'bcdbackup.LOG2',\n",
       " 'Documents and Settings',\n",
       " 'hiberfil.sys',\n",
       " 'Intel',\n",
       " 'MSOCache',\n",
       " 'OneDriveTemp',\n",
       " 'pagefile.sys',\n",
       " 'PerfLogs',\n",
       " 'Program Files',\n",
       " 'Program Files (x86)',\n",
       " 'ProgramData',\n",
       " 'Recovery',\n",
       " 'swapfile.sys',\n",
       " 'System Volume Information',\n",
       " 'Users',\n",
       " 'Windows',\n",
       " 'Windows.old']"
      ]
     },
     "execution_count": 4,
     "metadata": {},
     "output_type": "execute_result"
    }
   ],
   "source": [
    "os.chdir('C:\\\\')\n",
    "clist = os.listdir(path = '.')\n",
    "clist"
   ]
  },
  {
   "cell_type": "code",
   "execution_count": 6,
   "metadata": {},
   "outputs": [
    {
     "name": "stdout",
     "output_type": "stream",
     "text": [
      "C:\\\n",
      "資料夾： $RECYCLE.BIN\n",
      "資料夾： $SysReset\n",
      "檔案： bcdbackup\n",
      "檔案： bcdbackup.LOG\n",
      "檔案： bcdbackup.LOG1\n",
      "檔案： bcdbackup.LOG2\n",
      "資料夾： Documents and Settings\n",
      "檔案： hiberfil.sys\n",
      "資料夾： Intel\n",
      "資料夾： MSOCache\n",
      "資料夾： OneDriveTemp\n",
      "檔案： pagefile.sys\n",
      "資料夾： PerfLogs\n",
      "資料夾： Program Files\n",
      "資料夾： Program Files (x86)\n",
      "資料夾： ProgramData\n",
      "資料夾： Recovery\n",
      "檔案： swapfile.sys\n",
      "資料夾： System Volume Information\n",
      "資料夾： Users\n",
      "資料夾： Windows\n",
      "資料夾： Windows.old\n"
     ]
    }
   ],
   "source": [
    "print(os.getcwd())\n",
    "for i in clist:\n",
    "    if (os.path.isfile(i)):\n",
    "        print('檔案：', i)\n",
    "    else :\n",
    "        print('資料夾：', i)\n"
   ]
  },
  {
   "cell_type": "markdown",
   "metadata": {},
   "source": [
    "### 使用串列生成式找出C磁碟下的檔案與資料夾"
   ]
  },
  {
   "cell_type": "code",
   "execution_count": 11,
   "metadata": {},
   "outputs": [
    {
     "name": "stdout",
     "output_type": "stream",
     "text": [
      "檔案： ['bcdbackup', 'bcdbackup.LOG', 'bcdbackup.LOG1', 'bcdbackup.LOG2', 'hiberfil.sys', 'pagefile.sys', 'swapfile.sys']\n",
      "\n",
      "資料夾： ['$RECYCLE.BIN', '$SysReset', 'Documents and Settings', 'Intel', 'MSOCache', 'OneDriveTemp', 'PerfLogs', 'Program Files', 'Program Files (x86)', 'ProgramData', 'Recovery', 'System Volume Information', 'Users', 'Windows', 'Windows.old']\n"
     ]
    }
   ],
   "source": [
    "path = 'C:\\\\'\n",
    "\n",
    "files = [ f for f in os.listdir(path) if (os.path.isfile(os.path.join(path, f))) ]\n",
    "dirs = [ d for d in os.listdir(path) if (os.path.isdir(os.path.join(path, d))) ]\n",
    "print('檔案：', files)\n",
    "print()\n",
    "print('資料夾：', dirs)"
   ]
  },
  {
   "cell_type": "markdown",
   "metadata": {},
   "source": [
    "### 使用模組 glob 列出附檔名為 py 的檔案"
   ]
  },
  {
   "cell_type": "code",
   "execution_count": 16,
   "metadata": {},
   "outputs": [
    {
     "data": {
      "text/plain": [
       "['7-3-2-argv.py', 'exlotto.py', 'guess.py', 'guess2.py']"
      ]
     },
     "execution_count": 16,
     "metadata": {},
     "output_type": "execute_result"
    }
   ],
   "source": [
    "path = \"C:\\\\Users\\\\poduo\\\\Anaconda3_JupyterNB\\\\python_textbook_practice\\\\CH7\"\n",
    "os.chdir(path)\n",
    "glob.glob('*.py')"
   ]
  },
  {
   "cell_type": "markdown",
   "metadata": {},
   "source": [
    "### 使用遞迴列出所有資料夾與檔案"
   ]
  },
  {
   "cell_type": "code",
   "execution_count": 30,
   "metadata": {
    "collapsed": true
   },
   "outputs": [],
   "source": [
    "def find_dir(path):\n",
    "    fds = os.listdir(path)\n",
    "    for f in fds:\n",
    "        fullpath = os.path.join(path, f)\n",
    "        if (os.path.isdir(fullpath)):\n",
    "            print('資料夾_ ', fullpath,' _有：')\n",
    "            find_dir(fullpath)\n",
    "        else :\n",
    "            print('檔案_ ', fullpath)\n",
    "    print()"
   ]
  },
  {
   "cell_type": "code",
   "execution_count": 31,
   "metadata": {},
   "outputs": [
    {
     "name": "stdout",
     "output_type": "stream",
     "text": [
      "資料夾_  C:\\Users\\poduo\\Anaconda3_JupyterNB\\python_textbook_practice\\CH7\\.ipynb_checkpoints  _有：\n",
      "檔案_  C:\\Users\\poduo\\Anaconda3_JupyterNB\\python_textbook_practice\\CH7\\.ipynb_checkpoints\\7-3-2-argv-checkpoint.ipynb\n",
      "檔案_  C:\\Users\\poduo\\Anaconda3_JupyterNB\\python_textbook_practice\\CH7\\.ipynb_checkpoints\\CH7-checkpoint.ipynb\n",
      "檔案_  C:\\Users\\poduo\\Anaconda3_JupyterNB\\python_textbook_practice\\CH7\\.ipynb_checkpoints\\ex2.ex3.ex4-import  ex6-checkpoint.ipynb\n",
      "檔案_  C:\\Users\\poduo\\Anaconda3_JupyterNB\\python_textbook_practice\\CH7\\.ipynb_checkpoints\\exlotto-checkpoint.ipynb\n",
      "檔案_  C:\\Users\\poduo\\Anaconda3_JupyterNB\\python_textbook_practice\\CH7\\.ipynb_checkpoints\\guess-checkpoint.ipynb\n",
      "檔案_  C:\\Users\\poduo\\Anaconda3_JupyterNB\\python_textbook_practice\\CH7\\.ipynb_checkpoints\\guess2-checkpoint.ipynb\n",
      "\n",
      "檔案_  C:\\Users\\poduo\\Anaconda3_JupyterNB\\python_textbook_practice\\CH7\\7-3-2-argv.ipynb\n",
      "檔案_  C:\\Users\\poduo\\Anaconda3_JupyterNB\\python_textbook_practice\\CH7\\7-3-2-argv.py\n",
      "檔案_  C:\\Users\\poduo\\Anaconda3_JupyterNB\\python_textbook_practice\\CH7\\CH7.ipynb\n",
      "檔案_  C:\\Users\\poduo\\Anaconda3_JupyterNB\\python_textbook_practice\\CH7\\ex2.ex3.ex4-import  ex6.ipynb\n",
      "檔案_  C:\\Users\\poduo\\Anaconda3_JupyterNB\\python_textbook_practice\\CH7\\exlotto.ipynb\n",
      "檔案_  C:\\Users\\poduo\\Anaconda3_JupyterNB\\python_textbook_practice\\CH7\\exlotto.py\n",
      "檔案_  C:\\Users\\poduo\\Anaconda3_JupyterNB\\python_textbook_practice\\CH7\\exreciept.ipynb\n",
      "檔案_  C:\\Users\\poduo\\Anaconda3_JupyterNB\\python_textbook_practice\\CH7\\guess.ipynb\n",
      "檔案_  C:\\Users\\poduo\\Anaconda3_JupyterNB\\python_textbook_practice\\CH7\\guess.py\n",
      "檔案_  C:\\Users\\poduo\\Anaconda3_JupyterNB\\python_textbook_practice\\CH7\\guess2.ipynb\n",
      "檔案_  C:\\Users\\poduo\\Anaconda3_JupyterNB\\python_textbook_practice\\CH7\\guess2.py\n",
      "資料夾_  C:\\Users\\poduo\\Anaconda3_JupyterNB\\python_textbook_practice\\CH7\\prize  _有：\n",
      "資料夾_  C:\\Users\\poduo\\Anaconda3_JupyterNB\\python_textbook_practice\\CH7\\prize\\.ipynb_checkpoints  _有：\n",
      "檔案_  C:\\Users\\poduo\\Anaconda3_JupyterNB\\python_textbook_practice\\CH7\\prize\\.ipynb_checkpoints\\exreciept-checkpoint.ipynb\n",
      "檔案_  C:\\Users\\poduo\\Anaconda3_JupyterNB\\python_textbook_practice\\CH7\\prize\\.ipynb_checkpoints\\Untitled-checkpoint.ipynb\n",
      "\n",
      "檔案_  C:\\Users\\poduo\\Anaconda3_JupyterNB\\python_textbook_practice\\CH7\\prize\\exlotto.py\n",
      "檔案_  C:\\Users\\poduo\\Anaconda3_JupyterNB\\python_textbook_practice\\CH7\\prize\\exreciept.py\n",
      "檔案_  C:\\Users\\poduo\\Anaconda3_JupyterNB\\python_textbook_practice\\CH7\\prize\\__init__.py\n",
      "資料夾_  C:\\Users\\poduo\\Anaconda3_JupyterNB\\python_textbook_practice\\CH7\\prize\\__pycache__  _有：\n",
      "檔案_  C:\\Users\\poduo\\Anaconda3_JupyterNB\\python_textbook_practice\\CH7\\prize\\__pycache__\\exlotto.cpython-36.pyc\n",
      "檔案_  C:\\Users\\poduo\\Anaconda3_JupyterNB\\python_textbook_practice\\CH7\\prize\\__pycache__\\exreciept.cpython-36.pyc\n",
      "檔案_  C:\\Users\\poduo\\Anaconda3_JupyterNB\\python_textbook_practice\\CH7\\prize\\__pycache__\\__init__.cpython-36.pyc\n",
      "\n",
      "\n",
      "資料夾_  C:\\Users\\poduo\\Anaconda3_JupyterNB\\python_textbook_practice\\CH7\\__pycache__  _有：\n",
      "檔案_  C:\\Users\\poduo\\Anaconda3_JupyterNB\\python_textbook_practice\\CH7\\__pycache__\\exlotto.cpython-36.pyc\n",
      "檔案_  C:\\Users\\poduo\\Anaconda3_JupyterNB\\python_textbook_practice\\CH7\\__pycache__\\guess.cpython-36.pyc\n",
      "檔案_  C:\\Users\\poduo\\Anaconda3_JupyterNB\\python_textbook_practice\\CH7\\__pycache__\\guess2.cpython-36.pyc\n",
      "\n",
      "\n"
     ]
    }
   ],
   "source": [
    "path = \"C:\\\\Users\\\\poduo\\\\Anaconda3_JupyterNB\\\\python_textbook_practice\\\\CH7\"\n",
    "find_dir(path)"
   ]
  },
  {
   "cell_type": "markdown",
   "metadata": {},
   "source": [
    "### 使用os.walk列出所有python檔案"
   ]
  },
  {
   "cell_type": "code",
   "execution_count": 48,
   "metadata": {},
   "outputs": [
    {
     "name": "stdout",
     "output_type": "stream",
     "text": [
      "7-3-2-argv.py\n",
      "exlotto.py\n",
      "guess.py\n",
      "guess2.py\n",
      "exlotto.py\n",
      "exreciept.py\n",
      "__init__.py\n"
     ]
    }
   ],
   "source": [
    "path = \"C:\\\\Users\\\\poduo\\\\Anaconda3_JupyterNB\\\\python_textbook_practice\\\\CH7\"\n",
    "for dpath, dname, fname in os.walk(path):\n",
    "    for f in fname:\n",
    "        if f.endswith('.py'):\n",
    "            print(f)"
   ]
  },
  {
   "cell_type": "markdown",
   "metadata": {},
   "source": [
    "### 使用os.walk列出所有jpg與png檔案"
   ]
  },
  {
   "cell_type": "code",
   "execution_count": 63,
   "metadata": {},
   "outputs": [
    {
     "data": {
      "text/plain": [
       "['C:\\\\Users\\\\poduo\\\\Desktop\\\\查詢用\\\\IMG_6597.JPG',\n",
       " 'C:\\\\Users\\\\poduo\\\\Desktop\\\\查詢用\\\\quick-introduction-to-git-43-728.jpg',\n",
       " 'C:\\\\Users\\\\poduo\\\\Desktop\\\\查詢用\\\\20171129-花旗1127卡費繳款.PNG',\n",
       " 'C:\\\\Users\\\\poduo\\\\Desktop\\\\查詢用\\\\AI-1.PNG',\n",
       " 'C:\\\\Users\\\\poduo\\\\Desktop\\\\查詢用\\\\AI-2.PNG',\n",
       " 'C:\\\\Users\\\\poduo\\\\Desktop\\\\查詢用\\\\AI-3.PNG',\n",
       " 'C:\\\\Users\\\\poduo\\\\Desktop\\\\查詢用\\\\AI-4.PNG',\n",
       " 'C:\\\\Users\\\\poduo\\\\Desktop\\\\查詢用\\\\gaduo funday.PNG',\n",
       " 'C:\\\\Users\\\\poduo\\\\Desktop\\\\查詢用\\\\keybord.PNG',\n",
       " 'C:\\\\Users\\\\poduo\\\\Desktop\\\\查詢用\\\\建立arrayz方法.PNG',\n",
       " 'C:\\\\Users\\\\poduo\\\\Desktop\\\\查詢用\\\\擷取.PNG',\n",
       " 'C:\\\\Users\\\\poduo\\\\Desktop\\\\查詢用\\\\擷取2.png',\n",
       " 'C:\\\\Users\\\\poduo\\\\Desktop\\\\查詢用\\\\擷取ori.PNG']"
      ]
     },
     "execution_count": 63,
     "metadata": {},
     "output_type": "execute_result"
    }
   ],
   "source": [
    "path = \"C:\\\\Users\\\\poduo\\\\Desktop\\\\查詢用\"\n",
    "patterns = ['*.jpg','*.png']\n",
    "match = []\n",
    "for dpath, dname, fname in os.walk(path):\n",
    "    for p in patterns:\n",
    "        for f in fnmatch.filter(fname, p):\n",
    "            match.append(os.path.join(path, f))\n",
    "match"
   ]
  },
  {
   "cell_type": "markdown",
   "metadata": {},
   "source": [
    "# 10-2 存取文字檔"
   ]
  },
  {
   "cell_type": "markdown",
   "metadata": {},
   "source": [
    "# 10-3 存取 csv 檔"
   ]
  },
  {
   "cell_type": "markdown",
   "metadata": {},
   "source": [
    "# 10-4 存取二進位檔"
   ]
  },
  {
   "cell_type": "code",
   "execution_count": null,
   "metadata": {
    "collapsed": true
   },
   "outputs": [],
   "source": []
  }
 ],
 "metadata": {
  "kernelspec": {
   "display_name": "Python 3",
   "language": "python",
   "name": "python3"
  },
  "language_info": {
   "codemirror_mode": {
    "name": "ipython",
    "version": 3
   },
   "file_extension": ".py",
   "mimetype": "text/x-python",
   "name": "python",
   "nbconvert_exporter": "python",
   "pygments_lexer": "ipython3",
   "version": "3.6.3"
  }
 },
 "nbformat": 4,
 "nbformat_minor": 2
}
