{
 "cells": [
  {
   "cell_type": "markdown",
   "metadata": {},
   "source": [
    "## 第四章 習題"
   ]
  },
  {
   "cell_type": "code",
   "execution_count": 2,
   "metadata": {},
   "outputs": [
    {
     "name": "stdout",
     "output_type": "stream",
     "text": [
      "請輸入眼睛度數：0.8\n",
      "近視\n"
     ]
    }
   ],
   "source": [
    "x = float(input('請輸入眼睛度數：'))\n",
    "if (x < 0.9):\n",
    "    print('近視')\n",
    "else :\n",
    "    print('視力良好')"
   ]
  },
  {
   "cell_type": "code",
   "execution_count": 6,
   "metadata": {},
   "outputs": [
    {
     "name": "stdout",
     "output_type": "stream",
     "text": [
      "請輸入 x 座標：-55\n",
      "請輸入 y 座標：-60\n",
      "第三象限\n"
     ]
    }
   ],
   "source": [
    "x = float(input('請輸入 x 座標：'))\n",
    "y = float(input('請輸入 y 座標：'))\n",
    "\n",
    "if (x>0 and y>0):\n",
    "    print('第一象限')\n",
    "elif (x>0 and y<0):\n",
    "    print('第四象限')\n",
    "elif (x<0 and y>0):\n",
    "    print('第二象限')\n",
    "elif (x<0 and y<0):\n",
    "    print('第三象限')\n",
    "else:\n",
    "    print('原點')"
   ]
  },
  {
   "cell_type": "code",
   "execution_count": 7,
   "metadata": {},
   "outputs": [
    {
     "name": "stdout",
     "output_type": "stream",
     "text": [
      "請輸入體溫：39.555\n",
      "體溫很燒\n"
     ]
    }
   ],
   "source": [
    "temp = float(input('請輸入體溫：'))\n",
    "if ( temp < 36 ):\n",
    "    print('體溫過低')\n",
    "elif ( temp >= 36 and temp < 38):\n",
    "    print('體溫正常')\n",
    "elif ( temp >= 38 and temp < 39):\n",
    "    print('體溫有點燒')\n",
    "else :\n",
    "    print('體溫很燒')\n"
   ]
  },
  {
   "cell_type": "code",
   "execution_count": 11,
   "metadata": {},
   "outputs": [
    {
     "name": "stdout",
     "output_type": "stream",
     "text": [
      "請輸入西元年：2016\n",
      "2016 是閏年\n"
     ]
    }
   ],
   "source": [
    "year = int(input('請輸入西元年：'))\n",
    "if ( (year%400) == 0 ):\n",
    "    print(year, '是閏年')\n",
    "elif ( (year%100) == 0):\n",
    "    print(year, '不是閏年')\n",
    "elif ( (year%4) == 0 ):\n",
    "    print(year, '是閏年')\n",
    "else:\n",
    "    print(year, '不是閏年')"
   ]
  },
  {
   "cell_type": "code",
   "execution_count": null,
   "metadata": {
    "collapsed": true
   },
   "outputs": [],
   "source": []
  }
 ],
 "metadata": {
  "kernelspec": {
   "display_name": "Python 3",
   "language": "python",
   "name": "python3"
  },
  "language_info": {
   "codemirror_mode": {
    "name": "ipython",
    "version": 3
   },
   "file_extension": ".py",
   "mimetype": "text/x-python",
   "name": "python",
   "nbconvert_exporter": "python",
   "pygments_lexer": "ipython3",
   "version": "3.6.3"
  }
 },
 "nbformat": 4,
 "nbformat_minor": 2
}
