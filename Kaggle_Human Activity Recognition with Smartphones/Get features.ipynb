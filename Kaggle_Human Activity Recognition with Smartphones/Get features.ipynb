{
 "cells": [
  {
   "cell_type": "code",
   "execution_count": 1,
   "metadata": {},
   "outputs": [],
   "source": [
    "import pandas as pd\n",
    "import numpy as np"
   ]
  },
  {
   "cell_type": "code",
   "execution_count": 2,
   "metadata": {},
   "outputs": [],
   "source": [
    "# C:\\Users\\poduo\\Anaconda3_JupyterNB\\python_textbook_practice\\Kaggle_Human Activity Recognition with Smartphones\\data\n",
    "addr_train = \"../Kaggle_Human Activity Recognition with Smartphones/data/new_train.csv\"\n",
    "addr_test = \"../Kaggle_Human Activity Recognition with Smartphones/data/new_test.csv\"\n",
    "\n",
    "train = pd.read_csv(addr_train)\n",
    "test = pd.read_csv(addr_test)\n",
    "\n",
    "ori_train = train.copy()\n",
    "ori_test = test.copy()"
   ]
  },
  {
   "cell_type": "code",
   "execution_count": 3,
   "metadata": {},
   "outputs": [
    {
     "name": "stdout",
     "output_type": "stream",
     "text": [
      "<class 'pandas.core.frame.DataFrame'>\n",
      "RangeIndex: 5293 entries, 0 to 5292\n",
      "Columns: 565 entries, Unnamed: 0 to Label\n",
      "dtypes: float64(561), int64(3), object(1)\n",
      "memory usage: 22.8+ MB\n"
     ]
    }
   ],
   "source": [
    "train.info()"
   ]
  },
  {
   "cell_type": "code",
   "execution_count": 4,
   "metadata": {},
   "outputs": [
    {
     "data": {
      "text/html": [
       "<div>\n",
       "<style>\n",
       "    .dataframe thead tr:only-child th {\n",
       "        text-align: right;\n",
       "    }\n",
       "\n",
       "    .dataframe thead th {\n",
       "        text-align: left;\n",
       "    }\n",
       "\n",
       "    .dataframe tbody tr th {\n",
       "        vertical-align: top;\n",
       "    }\n",
       "</style>\n",
       "<table border=\"1\" class=\"dataframe\">\n",
       "  <thead>\n",
       "    <tr style=\"text-align: right;\">\n",
       "      <th></th>\n",
       "      <th>Unnamed: 0</th>\n",
       "      <th>tBodyAcc-mean()-X</th>\n",
       "      <th>tBodyAcc-mean()-Y</th>\n",
       "      <th>tBodyAcc-mean()-Z</th>\n",
       "      <th>tBodyAcc-std()-X</th>\n",
       "      <th>tBodyAcc-std()-Y</th>\n",
       "      <th>tBodyAcc-std()-Z</th>\n",
       "      <th>tBodyAcc-mad()-X</th>\n",
       "      <th>tBodyAcc-mad()-Y</th>\n",
       "      <th>tBodyAcc-mad()-Z</th>\n",
       "      <th>...</th>\n",
       "      <th>angle(tBodyAccMean,gravity)</th>\n",
       "      <th>angle(tBodyAccJerkMean),gravityMean)</th>\n",
       "      <th>angle(tBodyGyroMean,gravityMean)</th>\n",
       "      <th>angle(tBodyGyroJerkMean,gravityMean)</th>\n",
       "      <th>angle(X,gravityMean)</th>\n",
       "      <th>angle(Y,gravityMean)</th>\n",
       "      <th>angle(Z,gravityMean)</th>\n",
       "      <th>subject</th>\n",
       "      <th>Activity</th>\n",
       "      <th>Label</th>\n",
       "    </tr>\n",
       "  </thead>\n",
       "  <tbody>\n",
       "    <tr>\n",
       "      <th>1893</th>\n",
       "      <td>2717</td>\n",
       "      <td>0.278639</td>\n",
       "      <td>-0.017291</td>\n",
       "      <td>-0.110261</td>\n",
       "      <td>-0.997520</td>\n",
       "      <td>-0.972382</td>\n",
       "      <td>-0.989755</td>\n",
       "      <td>-0.998130</td>\n",
       "      <td>-0.972305</td>\n",
       "      <td>-0.990994</td>\n",
       "      <td>...</td>\n",
       "      <td>-0.202278</td>\n",
       "      <td>-0.186170</td>\n",
       "      <td>-0.462158</td>\n",
       "      <td>0.486359</td>\n",
       "      <td>-0.897627</td>\n",
       "      <td>0.168576</td>\n",
       "      <td>0.009808</td>\n",
       "      <td>15</td>\n",
       "      <td>STANDING</td>\n",
       "      <td>2</td>\n",
       "    </tr>\n",
       "    <tr>\n",
       "      <th>1803</th>\n",
       "      <td>2582</td>\n",
       "      <td>0.288540</td>\n",
       "      <td>-0.005374</td>\n",
       "      <td>-0.206321</td>\n",
       "      <td>-0.942659</td>\n",
       "      <td>-0.571523</td>\n",
       "      <td>-0.799414</td>\n",
       "      <td>-0.957285</td>\n",
       "      <td>-0.602136</td>\n",
       "      <td>-0.782460</td>\n",
       "      <td>...</td>\n",
       "      <td>0.008742</td>\n",
       "      <td>-0.109676</td>\n",
       "      <td>0.477186</td>\n",
       "      <td>-0.446561</td>\n",
       "      <td>-0.915433</td>\n",
       "      <td>0.073432</td>\n",
       "      <td>-0.040279</td>\n",
       "      <td>15</td>\n",
       "      <td>SITTING</td>\n",
       "      <td>1</td>\n",
       "    </tr>\n",
       "    <tr>\n",
       "      <th>383</th>\n",
       "      <td>542</td>\n",
       "      <td>0.283264</td>\n",
       "      <td>-0.012031</td>\n",
       "      <td>-0.057917</td>\n",
       "      <td>-0.972687</td>\n",
       "      <td>-0.808524</td>\n",
       "      <td>-0.911085</td>\n",
       "      <td>-0.975785</td>\n",
       "      <td>-0.815202</td>\n",
       "      <td>-0.911610</td>\n",
       "      <td>...</td>\n",
       "      <td>0.049659</td>\n",
       "      <td>0.082925</td>\n",
       "      <td>-0.155458</td>\n",
       "      <td>-0.748384</td>\n",
       "      <td>-0.694895</td>\n",
       "      <td>0.298769</td>\n",
       "      <td>0.083482</td>\n",
       "      <td>3</td>\n",
       "      <td>STANDING</td>\n",
       "      <td>2</td>\n",
       "    </tr>\n",
       "    <tr>\n",
       "      <th>3216</th>\n",
       "      <td>4448</td>\n",
       "      <td>0.278586</td>\n",
       "      <td>-0.016088</td>\n",
       "      <td>-0.109975</td>\n",
       "      <td>-0.993845</td>\n",
       "      <td>-0.986415</td>\n",
       "      <td>-0.995105</td>\n",
       "      <td>-0.994315</td>\n",
       "      <td>-0.987098</td>\n",
       "      <td>-0.995106</td>\n",
       "      <td>...</td>\n",
       "      <td>0.035174</td>\n",
       "      <td>-0.476161</td>\n",
       "      <td>-0.116358</td>\n",
       "      <td>-0.602999</td>\n",
       "      <td>0.537756</td>\n",
       "      <td>-0.410478</td>\n",
       "      <td>-0.598087</td>\n",
       "      <td>22</td>\n",
       "      <td>LAYING</td>\n",
       "      <td>0</td>\n",
       "    </tr>\n",
       "    <tr>\n",
       "      <th>182</th>\n",
       "      <td>233</td>\n",
       "      <td>0.275549</td>\n",
       "      <td>-0.014115</td>\n",
       "      <td>-0.108999</td>\n",
       "      <td>-0.997599</td>\n",
       "      <td>-0.985257</td>\n",
       "      <td>-0.995653</td>\n",
       "      <td>-0.997931</td>\n",
       "      <td>-0.982909</td>\n",
       "      <td>-0.995529</td>\n",
       "      <td>...</td>\n",
       "      <td>0.102840</td>\n",
       "      <td>-0.797698</td>\n",
       "      <td>-0.276761</td>\n",
       "      <td>0.015448</td>\n",
       "      <td>-0.734412</td>\n",
       "      <td>0.004690</td>\n",
       "      <td>-0.148719</td>\n",
       "      <td>1</td>\n",
       "      <td>SITTING</td>\n",
       "      <td>1</td>\n",
       "    </tr>\n",
       "  </tbody>\n",
       "</table>\n",
       "<p>5 rows × 565 columns</p>\n",
       "</div>"
      ],
      "text/plain": [
       "      Unnamed: 0  tBodyAcc-mean()-X  tBodyAcc-mean()-Y  tBodyAcc-mean()-Z  \\\n",
       "1893        2717           0.278639          -0.017291          -0.110261   \n",
       "1803        2582           0.288540          -0.005374          -0.206321   \n",
       "383          542           0.283264          -0.012031          -0.057917   \n",
       "3216        4448           0.278586          -0.016088          -0.109975   \n",
       "182          233           0.275549          -0.014115          -0.108999   \n",
       "\n",
       "      tBodyAcc-std()-X  tBodyAcc-std()-Y  tBodyAcc-std()-Z  tBodyAcc-mad()-X  \\\n",
       "1893         -0.997520         -0.972382         -0.989755         -0.998130   \n",
       "1803         -0.942659         -0.571523         -0.799414         -0.957285   \n",
       "383          -0.972687         -0.808524         -0.911085         -0.975785   \n",
       "3216         -0.993845         -0.986415         -0.995105         -0.994315   \n",
       "182          -0.997599         -0.985257         -0.995653         -0.997931   \n",
       "\n",
       "      tBodyAcc-mad()-Y  tBodyAcc-mad()-Z  ...    angle(tBodyAccMean,gravity)  \\\n",
       "1893         -0.972305         -0.990994  ...                      -0.202278   \n",
       "1803         -0.602136         -0.782460  ...                       0.008742   \n",
       "383          -0.815202         -0.911610  ...                       0.049659   \n",
       "3216         -0.987098         -0.995106  ...                       0.035174   \n",
       "182          -0.982909         -0.995529  ...                       0.102840   \n",
       "\n",
       "      angle(tBodyAccJerkMean),gravityMean)  angle(tBodyGyroMean,gravityMean)  \\\n",
       "1893                             -0.186170                         -0.462158   \n",
       "1803                             -0.109676                          0.477186   \n",
       "383                               0.082925                         -0.155458   \n",
       "3216                             -0.476161                         -0.116358   \n",
       "182                              -0.797698                         -0.276761   \n",
       "\n",
       "      angle(tBodyGyroJerkMean,gravityMean)  angle(X,gravityMean)  \\\n",
       "1893                              0.486359             -0.897627   \n",
       "1803                             -0.446561             -0.915433   \n",
       "383                              -0.748384             -0.694895   \n",
       "3216                             -0.602999              0.537756   \n",
       "182                               0.015448             -0.734412   \n",
       "\n",
       "      angle(Y,gravityMean)  angle(Z,gravityMean)  subject  Activity  Label  \n",
       "1893              0.168576              0.009808       15  STANDING      2  \n",
       "1803              0.073432             -0.040279       15   SITTING      1  \n",
       "383               0.298769              0.083482        3  STANDING      2  \n",
       "3216             -0.410478             -0.598087       22    LAYING      0  \n",
       "182               0.004690             -0.148719        1   SITTING      1  \n",
       "\n",
       "[5 rows x 565 columns]"
      ]
     },
     "execution_count": 4,
     "metadata": {},
     "output_type": "execute_result"
    }
   ],
   "source": [
    "train.sample(5)"
   ]
  },
  {
   "cell_type": "code",
   "execution_count": 5,
   "metadata": {},
   "outputs": [
    {
     "name": "stdout",
     "output_type": "stream",
     "text": [
      "<class 'pandas.core.frame.DataFrame'>\n",
      "RangeIndex: 2056 entries, 0 to 2055\n",
      "Columns: 565 entries, Unnamed: 0 to Label\n",
      "dtypes: float64(561), int64(3), object(1)\n",
      "memory usage: 8.9+ MB\n"
     ]
    }
   ],
   "source": [
    "test.info()"
   ]
  },
  {
   "cell_type": "markdown",
   "metadata": {},
   "source": [
    "### Label：0 Laying、1 SITTING、2 STANDING、3 WALKING"
   ]
  },
  {
   "cell_type": "code",
   "execution_count": 7,
   "metadata": {},
   "outputs": [],
   "source": [
    "features = train.iloc[:, 1:562]\n",
    "labels = train['Label']"
   ]
  },
  {
   "cell_type": "code",
   "execution_count": 8,
   "metadata": {},
   "outputs": [],
   "source": [
    "X_test = test.iloc[:, 1:562]\n",
    "y_test = test['Label']"
   ]
  },
  {
   "cell_type": "code",
   "execution_count": 25,
   "metadata": {},
   "outputs": [],
   "source": [
    "all_colums_list = list(features)"
   ]
  },
  {
   "cell_type": "code",
   "execution_count": 30,
   "metadata": {},
   "outputs": [
    {
     "data": {
      "text/plain": [
       "list"
      ]
     },
     "execution_count": 30,
     "metadata": {},
     "output_type": "execute_result"
    }
   ],
   "source": [
    "type(all_colums_list)"
   ]
  },
  {
   "cell_type": "markdown",
   "metadata": {},
   "source": [
    "## train_test_split"
   ]
  },
  {
   "cell_type": "code",
   "execution_count": 9,
   "metadata": {},
   "outputs": [],
   "source": [
    "from sklearn.model_selection import train_test_split"
   ]
  },
  {
   "cell_type": "code",
   "execution_count": 10,
   "metadata": {},
   "outputs": [],
   "source": [
    "X_train, X_val, y_train, y_val = train_test_split(features, labels, test_size = 0.3)"
   ]
  },
  {
   "cell_type": "code",
   "execution_count": 11,
   "metadata": {},
   "outputs": [
    {
     "name": "stdout",
     "output_type": "stream",
     "text": [
      "X_train.shape： (3705, 561)\n",
      "y_train.shape： (3705,)\n",
      "\n",
      "X_val.shape： (1588, 561)\n",
      "y_val.shape： (1588,)\n",
      "\n",
      "X_test.shape (2056, 561)\n",
      "y_test.shape： (2056,)\n"
     ]
    }
   ],
   "source": [
    "print('X_train.shape：', X_train.shape)\n",
    "print('y_train.shape：', y_train.shape)\n",
    "print()\n",
    "print('X_val.shape：', X_val.shape)\n",
    "print('y_val.shape：', y_val.shape)\n",
    "print()\n",
    "print('X_test.shape', X_test.shape)\n",
    "print('y_test.shape：', y_test.shape)\n"
   ]
  },
  {
   "cell_type": "code",
   "execution_count": null,
   "metadata": {},
   "outputs": [],
   "source": []
  },
  {
   "cell_type": "code",
   "execution_count": 12,
   "metadata": {},
   "outputs": [],
   "source": [
    "from sklearn.feature_selection import SelectFromModel"
   ]
  },
  {
   "cell_type": "code",
   "execution_count": 13,
   "metadata": {},
   "outputs": [],
   "source": [
    "from sklearn.svm import LinearSVC\n",
    "from sklearn.svm import SVC\n",
    "from sklearn.ensemble import GradientBoostingClassifier\n",
    "from sklearn.ensemble import RandomForestClassifier"
   ]
  },
  {
   "cell_type": "markdown",
   "metadata": {},
   "source": [
    "## sklearn.feature_selection.RFE\n",
    "https://machine-learning-python.kspax.io/Feature_Selection/intro.html\n",
    "https://machine-learning-python.kspax.io/Feature_Selection/ex2_Recursive_feature_elimination.html"
   ]
  },
  {
   "cell_type": "code",
   "execution_count": 14,
   "metadata": {},
   "outputs": [],
   "source": [
    "from sklearn.feature_selection import RFE"
   ]
  },
  {
   "cell_type": "code",
   "execution_count": 17,
   "metadata": {},
   "outputs": [],
   "source": [
    "svc = SVC(kernel=\"linear\", C=1)\n",
    "rfe = RFE(estimator=svc, n_features_to_select=30, step=1)\n",
    "rfe.fit(X_train, y_train)\n",
    "ranking = rfe.ranking_"
   ]
  },
  {
   "cell_type": "code",
   "execution_count": 21,
   "metadata": {},
   "outputs": [
    {
     "data": {
      "text/plain": [
       "array([271, 185, 127, 304, 147, 257, 398, 250, 148, 221, 150, 270, 141,\n",
       "        62,  64, 273, 474, 419, 335, 421, 189, 130, 330,  78, 120, 157,\n",
       "       386,  59, 234, 388, 215, 331,  21, 329, 151, 216, 110,  44,  56,\n",
       "       145,  27,   3, 128, 431, 444, 378, 413, 446, 407,  34,   1, 211,\n",
       "        14,   8, 107,  15,   4,  72,  70, 307, 383, 315, 289,  63, 129,\n",
       "       160, 303, 137,  65,  42, 134, 317, 316, 364, 443, 470, 460, 146,\n",
       "       389, 366, 391, 491, 261, 263, 176, 362, 310, 254, 375, 202, 187,\n",
       "       368, 155, 139, 396, 381, 477, 422, 534, 296, 420, 293, 115, 156,\n",
       "         2,  50, 402, 255, 102,  19,  37,  22,  97, 174,  35,  29, 302,\n",
       "       181,  51, 138,  86,  91, 224, 395, 200, 126, 231, 432,  80, 173,\n",
       "       359, 172,  89, 183, 342,  26, 276, 371, 282, 208,  84, 220,  43,\n",
       "        92,  81,  33, 204,  40,  93,  13, 104,  45,  85, 177, 384, 365,\n",
       "        38, 347,  71,  95,  82, 227, 136, 171, 262, 246,  88, 272, 232,\n",
       "       226, 385, 354, 180, 267, 508, 212, 516, 469, 540,  83, 243, 280,\n",
       "         7,  17,  74,  11,  12,  31, 149,  47, 241, 201,  48,  75,  36,\n",
       "        76,  67,  57, 218, 380, 214, 277, 238, 247, 350, 235, 405, 106,\n",
       "       399, 416, 363, 425, 162, 213, 285, 229, 245, 346, 206, 404,  90,\n",
       "       379, 403, 382, 387,  87, 400, 274, 288, 377, 124, 401, 502, 406,\n",
       "       170,  61, 328, 367,  58,  52, 318, 144, 370,  16,  53, 349,  20,\n",
       "        41, 159, 345, 179, 178, 195, 353, 334, 430, 163, 193, 520, 309,\n",
       "       326, 313, 374, 188,  98, 290,  96, 268, 321, 153, 182, 287, 117,\n",
       "       199, 428, 278,  39, 203, 291, 209, 258, 509, 436, 338, 281, 103,\n",
       "       394,  25,   9, 121, 161, 100, 135, 116, 312,  73, 256, 143,  79,\n",
       "       158,  69, 222, 496, 499, 505, 523, 513, 527, 554, 478, 506, 500,\n",
       "       539, 536, 507, 524, 323, 427, 426, 442, 448, 455, 332, 327, 415,\n",
       "       408, 445, 322, 435, 440, 305, 494, 463, 560, 543, 495, 300, 230,\n",
       "       348, 501, 530, 275, 336, 555, 242, 194, 417, 306, 165, 324, 239,\n",
       "       166, 283, 412, 169, 434, 451, 320, 297, 372, 476, 423, 533, 219,\n",
       "       244, 168,  32, 228,  46, 105, 123, 109, 101, 240, 114, 249, 233,\n",
       "       252, 433, 292, 142, 538, 472, 503, 485, 483, 522, 517, 561, 497,\n",
       "       480, 486, 519, 481, 459, 453, 410, 418, 464, 514, 525, 473, 559,\n",
       "       414, 424, 526, 487, 392, 512, 437, 454, 511, 551, 550, 529, 535,\n",
       "       557, 457, 549, 542, 537, 490, 546, 299, 197, 196, 325, 192, 122,\n",
       "       373, 175, 207, 308, 260,  77, 186, 452,  49, 319, 356, 358, 458,\n",
       "       152, 279, 411,   5,  30,   6, 265, 140, 264,  23, 132, 205,  54,\n",
       "        55,  68, 198, 190, 191, 337, 461, 528, 493, 465, 504, 471, 515,\n",
       "       351, 545, 467, 488, 352, 484, 294, 468, 558, 532, 498, 489, 510,\n",
       "       482, 333, 553, 492, 548, 341, 521, 479, 518, 462, 552, 544, 531,\n",
       "       447, 429, 466, 475, 541, 438, 456, 547, 393, 210, 248, 125,  99,\n",
       "       390, 397, 298, 301, 167, 225,  94, 237, 344, 236, 295, 184, 269,\n",
       "       340, 450, 361,  10, 217,  60, 360, 131, 441, 284, 409, 259, 223,\n",
       "       439, 449, 343, 108, 286, 266, 113, 112, 369, 339, 311, 376, 154,\n",
       "       355, 556, 251,  28,  66, 314, 119, 111, 357, 253, 118, 133,  18,\n",
       "        24, 164])"
      ]
     },
     "execution_count": 21,
     "metadata": {},
     "output_type": "execute_result"
    }
   ],
   "source": [
    "ranking"
   ]
  },
  {
   "cell_type": "code",
   "execution_count": 28,
   "metadata": {},
   "outputs": [],
   "source": [
    "import numpy as np"
   ]
  },
  {
   "cell_type": "code",
   "execution_count": 35,
   "metadata": {},
   "outputs": [
    {
     "data": {
      "text/plain": [
       "list"
      ]
     },
     "execution_count": 35,
     "metadata": {},
     "output_type": "execute_result"
    }
   ],
   "source": [
    "ranking_list = ranking.tolist()\n",
    "type(ranking_list)"
   ]
  },
  {
   "cell_type": "code",
   "execution_count": 57,
   "metadata": {},
   "outputs": [],
   "source": [
    "rank_30_feature = []\n",
    "rank_30_index = []\n",
    "\n",
    "\n",
    "for i in ranking_list:\n",
    "    if i < 31:\n",
    "#         index = np.where(ranking == i)[0]\n",
    "#         print(ranking_list.index(i))\n",
    "        rank_30_feature.append(all_colums_list[ranking_list.index(i)])\n",
    "        rank_30_index.append(ranking_list.index(i))\n",
    "        "
   ]
  },
  {
   "cell_type": "code",
   "execution_count": 58,
   "metadata": {},
   "outputs": [
    {
     "data": {
      "text/plain": [
       "['tBodyAcc-arCoeff()-Y,4',\n",
       " 'tGravityAcc-mean()-X',\n",
       " 'tGravityAcc-mean()-Y',\n",
       " 'tGravityAcc-max()-Y',\n",
       " 'tGravityAcc-min()-X',\n",
       " 'tGravityAcc-min()-Y',\n",
       " 'tGravityAcc-sma()',\n",
       " 'tGravityAcc-energy()-X',\n",
       " 'tBodyAccJerk-entropy()-Z',\n",
       " 'tBodyAccJerk-arCoeff()-Y,1',\n",
       " 'tBodyAccJerk-arCoeff()-Y,3',\n",
       " 'tBodyAccJerk-arCoeff()-Z,3',\n",
       " 'tBodyGyro-sma()',\n",
       " 'tBodyGyro-arCoeff()-Y,1',\n",
       " 'tBodyGyroJerk-entropy()-X',\n",
       " 'tBodyGyroJerk-entropy()-Y',\n",
       " 'tBodyGyroJerk-arCoeff()-X,1',\n",
       " 'tBodyGyroJerk-arCoeff()-X,2',\n",
       " 'tBodyGyroMag-min()',\n",
       " 'tBodyGyroMag-iqr()',\n",
       " 'fBodyAcc-entropy()-X',\n",
       " 'fBodyAcc-entropy()-Y',\n",
       " 'fBodyGyro-entropy()-X',\n",
       " 'fBodyGyro-entropy()-Y',\n",
       " 'fBodyGyro-entropy()-Z',\n",
       " 'fBodyGyro-meanFreq()-X',\n",
       " 'fBodyBodyAccJerkMag-entropy()',\n",
       " 'fBodyBodyGyroJerkMag-entropy()',\n",
       " 'angle(X,gravityMean)',\n",
       " 'angle(Y,gravityMean)']"
      ]
     },
     "execution_count": 58,
     "metadata": {},
     "output_type": "execute_result"
    }
   ],
   "source": [
    "rank_30_feature"
   ]
  },
  {
   "cell_type": "code",
   "execution_count": 59,
   "metadata": {},
   "outputs": [
    {
     "data": {
      "text/plain": [
       "[32,\n",
       " 40,\n",
       " 41,\n",
       " 50,\n",
       " 52,\n",
       " 53,\n",
       " 55,\n",
       " 56,\n",
       " 104,\n",
       " 109,\n",
       " 111,\n",
       " 115,\n",
       " 135,\n",
       " 149,\n",
       " 182,\n",
       " 183,\n",
       " 185,\n",
       " 186,\n",
       " 243,\n",
       " 246,\n",
       " 287,\n",
       " 288,\n",
       " 445,\n",
       " 446,\n",
       " 447,\n",
       " 451,\n",
       " 523,\n",
       " 549,\n",
       " 558,\n",
       " 559]"
      ]
     },
     "execution_count": 59,
     "metadata": {},
     "output_type": "execute_result"
    }
   ],
   "source": [
    "rank_30_index"
   ]
  },
  {
   "cell_type": "markdown",
   "metadata": {},
   "source": [
    "## SelectFromModel\n",
    "\n",
    "https://machine-learning-python.kspax.io/Feature_Selection/ex4_feature_selection_using_selectfrommodel_md.html"
   ]
  },
  {
   "cell_type": "code",
   "execution_count": 40,
   "metadata": {},
   "outputs": [
    {
     "name": "stdout",
     "output_type": "stream",
     "text": [
      "(3705, 71)\n"
     ]
    }
   ],
   "source": [
    "en_gbc = GradientBoostingClassifier().fit(X_train, y_train)\n",
    "model_en_gbc = SelectFromModel(en_gbc, prefit=True)\n",
    "features_en_gbc = model_en_gbc.transform(X_train)\n",
    "print(features_en_gbc.shape)"
   ]
  },
  {
   "cell_type": "code",
   "execution_count": 41,
   "metadata": {},
   "outputs": [],
   "source": [
    "Classifiers = [\n",
    "    RandomForestClassifier(n_estimators=200),\n",
    "    GradientBoostingClassifier(n_estimators=200),\n",
    "    LinearSVC(C = 0.1),\n",
    "    SVC(C = 20)\n",
    "              ]"
   ]
  },
  {
   "cell_type": "code",
   "execution_count": 42,
   "metadata": {},
   "outputs": [],
   "source": [
    "def run_Classifiers(time, model, out_accuracy, X_train, y_train, X_test, y_test):\n",
    "    for clf in Classifiers:\n",
    "        start_time = timeit.default_timer()\n",
    "        fit=clf.fit(X_train, y_train)\n",
    "        pred=fit.predict(X_test)\n",
    "        elapsed = timeit.default_timer() - start_time\n",
    "        time.append(elapsed)\n",
    "        model.append(clf.__class__.__name__)\n",
    "        out_accuracy.append(accuracy_score(y_test,pred))\n",
    "    return time, model, out_accuracy"
   ]
  },
  {
   "cell_type": "code",
   "execution_count": 46,
   "metadata": {},
   "outputs": [],
   "source": [
    "import timeit\n",
    "from sklearn.metrics import accuracy_score"
   ]
  },
  {
   "cell_type": "code",
   "execution_count": 47,
   "metadata": {},
   "outputs": [],
   "source": [
    "time_t2=[]\n",
    "model_t2=[]\n",
    "out_accuracy_t2=[]\n",
    "\n",
    "X_val_t2 = model_en_gbc.transform(X_val)\n",
    "\n",
    "time_t2, model_t2, out_accuracy_t2 = run_Classifiers(time_t2, model_t2, out_accuracy_t2, \n",
    "                                                     features_en_gbc, y_train, X_val_t2, y_val)"
   ]
  },
  {
   "cell_type": "code",
   "execution_count": 48,
   "metadata": {},
   "outputs": [
    {
     "data": {
      "text/plain": [
       "[0.98173803526448367,\n",
       " 0.98677581863979846,\n",
       " 0.95654911838790935,\n",
       " 0.96599496221662473]"
      ]
     },
     "execution_count": 48,
     "metadata": {},
     "output_type": "execute_result"
    }
   ],
   "source": [
    "out_accuracy_t2"
   ]
  },
  {
   "cell_type": "code",
   "execution_count": null,
   "metadata": {},
   "outputs": [],
   "source": []
  },
  {
   "cell_type": "code",
   "execution_count": 49,
   "metadata": {},
   "outputs": [],
   "source": [
    "choosed_by_gbc = model_en_gbc.get_support(indices=True)"
   ]
  },
  {
   "cell_type": "code",
   "execution_count": 51,
   "metadata": {},
   "outputs": [
    {
     "data": {
      "text/plain": [
       "(71,)"
      ]
     },
     "execution_count": 51,
     "metadata": {},
     "output_type": "execute_result"
    }
   ],
   "source": [
    "choosed_by_gbc.shape"
   ]
  },
  {
   "cell_type": "code",
   "execution_count": 54,
   "metadata": {},
   "outputs": [],
   "source": [
    "gbc_features = []\n",
    "gbc_index = []\n",
    "for j in choosed_by_gbc :\n",
    "    for i in range( len(all_colums_list)) :\n",
    "        if i == j :\n",
    "            gbc_features.append(all_colums_list[i])\n",
    "            gbc_index.append(i)\n",
    "            "
   ]
  },
  {
   "cell_type": "code",
   "execution_count": 55,
   "metadata": {},
   "outputs": [
    {
     "data": {
      "text/plain": [
       "['tBodyAcc-energy()-X',\n",
       " 'tBodyAcc-energy()-Y',\n",
       " 'tBodyAcc-iqr()-X',\n",
       " 'tBodyAcc-correlation()-Y,Z',\n",
       " 'tGravityAcc-mean()-X',\n",
       " 'tGravityAcc-mean()-Y',\n",
       " 'tGravityAcc-mean()-Z',\n",
       " 'tGravityAcc-max()-X',\n",
       " 'tGravityAcc-max()-Y',\n",
       " 'tGravityAcc-max()-Z',\n",
       " 'tGravityAcc-min()-X',\n",
       " 'tGravityAcc-min()-Y',\n",
       " 'tGravityAcc-min()-Z',\n",
       " 'tGravityAcc-sma()',\n",
       " 'tGravityAcc-energy()-X',\n",
       " 'tGravityAcc-energy()-Y',\n",
       " 'tGravityAcc-entropy()-Y',\n",
       " 'tGravityAcc-arCoeff()-X,1',\n",
       " 'tGravityAcc-correlation()-X,Y',\n",
       " 'tBodyAccJerk-iqr()-Z',\n",
       " 'tBodyAccJerk-arCoeff()-X,1',\n",
       " 'tBodyAccJerk-arCoeff()-Z,1',\n",
       " 'tBodyGyro-max()-X',\n",
       " 'tBodyGyro-min()-X',\n",
       " 'tBodyGyro-sma()',\n",
       " 'tBodyGyro-energy()-X',\n",
       " 'tBodyGyro-energy()-Z',\n",
       " 'tBodyGyro-iqr()-X',\n",
       " 'tBodyGyro-iqr()-Y',\n",
       " 'tBodyGyro-arCoeff()-X,2',\n",
       " 'tBodyGyro-arCoeff()-Y,1',\n",
       " 'tBodyGyro-correlation()-X,Z',\n",
       " 'tBodyGyro-correlation()-Y,Z',\n",
       " 'tBodyGyroJerk-iqr()-X',\n",
       " 'tBodyGyroJerk-iqr()-Z',\n",
       " 'tBodyGyroJerk-arCoeff()-X,2',\n",
       " 'tBodyGyroJerk-arCoeff()-X,3',\n",
       " 'tBodyGyroJerk-arCoeff()-Y,4',\n",
       " 'tBodyGyroJerk-arCoeff()-Z,4',\n",
       " 'tBodyGyroJerk-correlation()-X,Y',\n",
       " 'tBodyAccJerkMag-arCoeff()1',\n",
       " 'fBodyAcc-min()-X',\n",
       " 'fBodyAcc-maxInds-X',\n",
       " 'fBodyAcc-skewness()-X',\n",
       " 'fBodyAcc-skewness()-Z',\n",
       " 'fBodyAcc-bandsEnergy()-57,64',\n",
       " 'fBodyAccJerk-max()-X',\n",
       " 'fBodyAccJerk-entropy()-X',\n",
       " 'fBodyAccJerk-maxInds-Z',\n",
       " 'fBodyAccJerk-meanFreq()-X',\n",
       " 'fBodyAccJerk-meanFreq()-Y',\n",
       " 'fBodyAccJerk-meanFreq()-Z',\n",
       " 'fBodyAccJerk-bandsEnergy()-41,48',\n",
       " 'fBodyAccJerk-bandsEnergy()-1,16',\n",
       " 'fBodyAccJerk-bandsEnergy()-1,8.2',\n",
       " 'fBodyGyro-mad()-X',\n",
       " 'fBodyGyro-iqr()-X',\n",
       " 'fBodyGyro-meanFreq()-X',\n",
       " 'fBodyGyro-bandsEnergy()-1,8',\n",
       " 'fBodyGyro-bandsEnergy()-17,24',\n",
       " 'fBodyGyro-bandsEnergy()-17,32',\n",
       " 'fBodyGyro-bandsEnergy()-17,24.2',\n",
       " 'fBodyBodyGyroMag-min()',\n",
       " 'fBodyBodyGyroMag-meanFreq()',\n",
       " 'fBodyBodyGyroJerkMag-meanFreq()',\n",
       " 'fBodyBodyGyroJerkMag-skewness()',\n",
       " 'angle(tBodyGyroMean,gravityMean)',\n",
       " 'angle(tBodyGyroJerkMean,gravityMean)',\n",
       " 'angle(X,gravityMean)',\n",
       " 'angle(Y,gravityMean)',\n",
       " 'angle(Z,gravityMean)']"
      ]
     },
     "execution_count": 55,
     "metadata": {},
     "output_type": "execute_result"
    }
   ],
   "source": [
    "gbc_features"
   ]
  },
  {
   "cell_type": "code",
   "execution_count": 56,
   "metadata": {},
   "outputs": [
    {
     "data": {
      "text/plain": [
       "[16,\n",
       " 17,\n",
       " 19,\n",
       " 39,\n",
       " 40,\n",
       " 41,\n",
       " 42,\n",
       " 49,\n",
       " 50,\n",
       " 51,\n",
       " 52,\n",
       " 53,\n",
       " 54,\n",
       " 55,\n",
       " 56,\n",
       " 57,\n",
       " 63,\n",
       " 65,\n",
       " 77,\n",
       " 101,\n",
       " 105,\n",
       " 113,\n",
       " 129,\n",
       " 132,\n",
       " 135,\n",
       " 136,\n",
       " 138,\n",
       " 139,\n",
       " 140,\n",
       " 146,\n",
       " 149,\n",
       " 158,\n",
       " 159,\n",
       " 179,\n",
       " 181,\n",
       " 186,\n",
       " 187,\n",
       " 192,\n",
       " 196,\n",
       " 197,\n",
       " 235,\n",
       " 277,\n",
       " 290,\n",
       " 296,\n",
       " 300,\n",
       " 309,\n",
       " 353,\n",
       " 366,\n",
       " 371,\n",
       " 372,\n",
       " 373,\n",
       " 374,\n",
       " 386,\n",
       " 389,\n",
       " 409,\n",
       " 429,\n",
       " 442,\n",
       " 451,\n",
       " 460,\n",
       " 462,\n",
       " 469,\n",
       " 490,\n",
       " 532,\n",
       " 538,\n",
       " 551,\n",
       " 552,\n",
       " 556,\n",
       " 557,\n",
       " 558,\n",
       " 559,\n",
       " 560]"
      ]
     },
     "execution_count": 56,
     "metadata": {},
     "output_type": "execute_result"
    }
   ],
   "source": [
    "gbc_index"
   ]
  },
  {
   "cell_type": "code",
   "execution_count": null,
   "metadata": {},
   "outputs": [],
   "source": []
  }
 ],
 "metadata": {
  "kernelspec": {
   "display_name": "Python 3",
   "language": "python",
   "name": "python3"
  },
  "language_info": {
   "codemirror_mode": {
    "name": "ipython",
    "version": 3
   },
   "file_extension": ".py",
   "mimetype": "text/x-python",
   "name": "python",
   "nbconvert_exporter": "python",
   "pygments_lexer": "ipython3",
   "version": "3.6.3"
  }
 },
 "nbformat": 4,
 "nbformat_minor": 2
}
