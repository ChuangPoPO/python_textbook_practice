{
 "cells": [
  {
   "cell_type": "code",
   "execution_count": 1,
   "metadata": {},
   "outputs": [],
   "source": [
    "import pandas as pd\n",
    "import numpy as np"
   ]
  },
  {
   "cell_type": "code",
   "execution_count": 2,
   "metadata": {},
   "outputs": [],
   "source": [
    "# C:\\Users\\poduo\\Anaconda3_JupyterNB\\python_textbook_practice\\Kaggle_Human Activity Recognition with Smartphones\\data\n",
    "addr_train = \"../Kaggle_Human Activity Recognition with Smartphones/data/new_train.csv\"\n",
    "addr_test = \"../Kaggle_Human Activity Recognition with Smartphones/data/new_test.csv\"\n",
    "\n",
    "train = pd.read_csv(addr_train)\n",
    "test = pd.read_csv(addr_test)\n",
    "\n",
    "ori_train = train.copy()\n",
    "ori_test = test.copy()"
   ]
  },
  {
   "cell_type": "code",
   "execution_count": 3,
   "metadata": {},
   "outputs": [
    {
     "name": "stdout",
     "output_type": "stream",
     "text": [
      "<class 'pandas.core.frame.DataFrame'>\n",
      "RangeIndex: 5293 entries, 0 to 5292\n",
      "Columns: 565 entries, Unnamed: 0 to Label\n",
      "dtypes: float64(561), int64(3), object(1)\n",
      "memory usage: 22.8+ MB\n"
     ]
    }
   ],
   "source": [
    "train.info()"
   ]
  },
  {
   "cell_type": "code",
   "execution_count": 7,
   "metadata": {},
   "outputs": [
    {
     "data": {
      "text/html": [
       "<div>\n",
       "<style>\n",
       "    .dataframe thead tr:only-child th {\n",
       "        text-align: right;\n",
       "    }\n",
       "\n",
       "    .dataframe thead th {\n",
       "        text-align: left;\n",
       "    }\n",
       "\n",
       "    .dataframe tbody tr th {\n",
       "        vertical-align: top;\n",
       "    }\n",
       "</style>\n",
       "<table border=\"1\" class=\"dataframe\">\n",
       "  <thead>\n",
       "    <tr style=\"text-align: right;\">\n",
       "      <th></th>\n",
       "      <th>Unnamed: 0</th>\n",
       "      <th>tBodyAcc-mean()-X</th>\n",
       "      <th>tBodyAcc-mean()-Y</th>\n",
       "      <th>tBodyAcc-mean()-Z</th>\n",
       "      <th>tBodyAcc-std()-X</th>\n",
       "      <th>tBodyAcc-std()-Y</th>\n",
       "      <th>tBodyAcc-std()-Z</th>\n",
       "      <th>tBodyAcc-mad()-X</th>\n",
       "      <th>tBodyAcc-mad()-Y</th>\n",
       "      <th>tBodyAcc-mad()-Z</th>\n",
       "      <th>...</th>\n",
       "      <th>angle(tBodyAccMean,gravity)</th>\n",
       "      <th>angle(tBodyAccJerkMean),gravityMean)</th>\n",
       "      <th>angle(tBodyGyroMean,gravityMean)</th>\n",
       "      <th>angle(tBodyGyroJerkMean,gravityMean)</th>\n",
       "      <th>angle(X,gravityMean)</th>\n",
       "      <th>angle(Y,gravityMean)</th>\n",
       "      <th>angle(Z,gravityMean)</th>\n",
       "      <th>subject</th>\n",
       "      <th>Activity</th>\n",
       "      <th>Label</th>\n",
       "    </tr>\n",
       "  </thead>\n",
       "  <tbody>\n",
       "    <tr>\n",
       "      <th>1962</th>\n",
       "      <td>2786</td>\n",
       "      <td>0.343812</td>\n",
       "      <td>-0.011958</td>\n",
       "      <td>-0.044755</td>\n",
       "      <td>-0.946750</td>\n",
       "      <td>-0.932499</td>\n",
       "      <td>-0.827555</td>\n",
       "      <td>-0.947705</td>\n",
       "      <td>-0.942882</td>\n",
       "      <td>-0.838712</td>\n",
       "      <td>...</td>\n",
       "      <td>0.057026</td>\n",
       "      <td>0.153682</td>\n",
       "      <td>0.165414</td>\n",
       "      <td>0.636957</td>\n",
       "      <td>0.350274</td>\n",
       "      <td>-0.689743</td>\n",
       "      <td>0.290075</td>\n",
       "      <td>15</td>\n",
       "      <td>LAYING</td>\n",
       "      <td>0</td>\n",
       "    </tr>\n",
       "    <tr>\n",
       "      <th>3329</th>\n",
       "      <td>4600</td>\n",
       "      <td>0.277937</td>\n",
       "      <td>-0.104354</td>\n",
       "      <td>-0.035886</td>\n",
       "      <td>-0.860712</td>\n",
       "      <td>-0.589709</td>\n",
       "      <td>-0.846322</td>\n",
       "      <td>-0.881645</td>\n",
       "      <td>-0.552300</td>\n",
       "      <td>-0.840850</td>\n",
       "      <td>...</td>\n",
       "      <td>0.064175</td>\n",
       "      <td>-0.341255</td>\n",
       "      <td>0.344178</td>\n",
       "      <td>-0.094159</td>\n",
       "      <td>0.667221</td>\n",
       "      <td>-0.303696</td>\n",
       "      <td>-0.706892</td>\n",
       "      <td>22</td>\n",
       "      <td>LAYING</td>\n",
       "      <td>0</td>\n",
       "    </tr>\n",
       "    <tr>\n",
       "      <th>412</th>\n",
       "      <td>571</td>\n",
       "      <td>0.278825</td>\n",
       "      <td>-0.014209</td>\n",
       "      <td>-0.096209</td>\n",
       "      <td>-0.999300</td>\n",
       "      <td>-0.987971</td>\n",
       "      <td>-0.974767</td>\n",
       "      <td>-0.999243</td>\n",
       "      <td>-0.987106</td>\n",
       "      <td>-0.974408</td>\n",
       "      <td>...</td>\n",
       "      <td>0.010192</td>\n",
       "      <td>-0.066844</td>\n",
       "      <td>-0.686744</td>\n",
       "      <td>-0.083454</td>\n",
       "      <td>-0.924736</td>\n",
       "      <td>0.087117</td>\n",
       "      <td>0.073128</td>\n",
       "      <td>3</td>\n",
       "      <td>SITTING</td>\n",
       "      <td>1</td>\n",
       "    </tr>\n",
       "    <tr>\n",
       "      <th>3393</th>\n",
       "      <td>4703</td>\n",
       "      <td>0.277471</td>\n",
       "      <td>-0.015750</td>\n",
       "      <td>-0.104021</td>\n",
       "      <td>-0.994795</td>\n",
       "      <td>-0.984898</td>\n",
       "      <td>-0.977006</td>\n",
       "      <td>-0.994786</td>\n",
       "      <td>-0.985031</td>\n",
       "      <td>-0.976810</td>\n",
       "      <td>...</td>\n",
       "      <td>0.019082</td>\n",
       "      <td>0.200182</td>\n",
       "      <td>-0.429377</td>\n",
       "      <td>-0.431770</td>\n",
       "      <td>-0.995107</td>\n",
       "      <td>0.095559</td>\n",
       "      <td>0.023399</td>\n",
       "      <td>23</td>\n",
       "      <td>STANDING</td>\n",
       "      <td>2</td>\n",
       "    </tr>\n",
       "    <tr>\n",
       "      <th>1842</th>\n",
       "      <td>2621</td>\n",
       "      <td>0.275833</td>\n",
       "      <td>-0.019550</td>\n",
       "      <td>-0.090040</td>\n",
       "      <td>-0.994412</td>\n",
       "      <td>-0.987691</td>\n",
       "      <td>-0.976087</td>\n",
       "      <td>-0.994859</td>\n",
       "      <td>-0.988337</td>\n",
       "      <td>-0.978412</td>\n",
       "      <td>...</td>\n",
       "      <td>0.009020</td>\n",
       "      <td>0.179093</td>\n",
       "      <td>0.578780</td>\n",
       "      <td>-0.497711</td>\n",
       "      <td>0.348406</td>\n",
       "      <td>-0.779241</td>\n",
       "      <td>-0.135375</td>\n",
       "      <td>15</td>\n",
       "      <td>LAYING</td>\n",
       "      <td>0</td>\n",
       "    </tr>\n",
       "  </tbody>\n",
       "</table>\n",
       "<p>5 rows × 565 columns</p>\n",
       "</div>"
      ],
      "text/plain": [
       "      Unnamed: 0  tBodyAcc-mean()-X  tBodyAcc-mean()-Y  tBodyAcc-mean()-Z  \\\n",
       "1962        2786           0.343812          -0.011958          -0.044755   \n",
       "3329        4600           0.277937          -0.104354          -0.035886   \n",
       "412          571           0.278825          -0.014209          -0.096209   \n",
       "3393        4703           0.277471          -0.015750          -0.104021   \n",
       "1842        2621           0.275833          -0.019550          -0.090040   \n",
       "\n",
       "      tBodyAcc-std()-X  tBodyAcc-std()-Y  tBodyAcc-std()-Z  tBodyAcc-mad()-X  \\\n",
       "1962         -0.946750         -0.932499         -0.827555         -0.947705   \n",
       "3329         -0.860712         -0.589709         -0.846322         -0.881645   \n",
       "412          -0.999300         -0.987971         -0.974767         -0.999243   \n",
       "3393         -0.994795         -0.984898         -0.977006         -0.994786   \n",
       "1842         -0.994412         -0.987691         -0.976087         -0.994859   \n",
       "\n",
       "      tBodyAcc-mad()-Y  tBodyAcc-mad()-Z  ...    angle(tBodyAccMean,gravity)  \\\n",
       "1962         -0.942882         -0.838712  ...                       0.057026   \n",
       "3329         -0.552300         -0.840850  ...                       0.064175   \n",
       "412          -0.987106         -0.974408  ...                       0.010192   \n",
       "3393         -0.985031         -0.976810  ...                       0.019082   \n",
       "1842         -0.988337         -0.978412  ...                       0.009020   \n",
       "\n",
       "      angle(tBodyAccJerkMean),gravityMean)  angle(tBodyGyroMean,gravityMean)  \\\n",
       "1962                              0.153682                          0.165414   \n",
       "3329                             -0.341255                          0.344178   \n",
       "412                              -0.066844                         -0.686744   \n",
       "3393                              0.200182                         -0.429377   \n",
       "1842                              0.179093                          0.578780   \n",
       "\n",
       "      angle(tBodyGyroJerkMean,gravityMean)  angle(X,gravityMean)  \\\n",
       "1962                              0.636957              0.350274   \n",
       "3329                             -0.094159              0.667221   \n",
       "412                              -0.083454             -0.924736   \n",
       "3393                             -0.431770             -0.995107   \n",
       "1842                             -0.497711              0.348406   \n",
       "\n",
       "      angle(Y,gravityMean)  angle(Z,gravityMean)  subject  Activity  Label  \n",
       "1962             -0.689743              0.290075       15    LAYING      0  \n",
       "3329             -0.303696             -0.706892       22    LAYING      0  \n",
       "412               0.087117              0.073128        3   SITTING      1  \n",
       "3393              0.095559              0.023399       23  STANDING      2  \n",
       "1842             -0.779241             -0.135375       15    LAYING      0  \n",
       "\n",
       "[5 rows x 565 columns]"
      ]
     },
     "execution_count": 7,
     "metadata": {},
     "output_type": "execute_result"
    }
   ],
   "source": [
    "train.sample(5)"
   ]
  },
  {
   "cell_type": "code",
   "execution_count": 4,
   "metadata": {},
   "outputs": [
    {
     "name": "stdout",
     "output_type": "stream",
     "text": [
      "<class 'pandas.core.frame.DataFrame'>\n",
      "RangeIndex: 2056 entries, 0 to 2055\n",
      "Columns: 565 entries, Unnamed: 0 to Label\n",
      "dtypes: float64(561), int64(3), object(1)\n",
      "memory usage: 8.9+ MB\n"
     ]
    }
   ],
   "source": [
    "test.info()"
   ]
  },
  {
   "cell_type": "code",
   "execution_count": 5,
   "metadata": {},
   "outputs": [],
   "source": [
    "all_colums_list = list(train)"
   ]
  },
  {
   "cell_type": "markdown",
   "metadata": {},
   "source": [
    "### Label：0 Laying、1 SITTING 2 STANDING、3 WALKING"
   ]
  },
  {
   "cell_type": "code",
   "execution_count": 8,
   "metadata": {},
   "outputs": [],
   "source": [
    "features = train.iloc[:, 1:562]\n",
    "labels = train['Label']"
   ]
  },
  {
   "cell_type": "code",
   "execution_count": 10,
   "metadata": {},
   "outputs": [],
   "source": [
    "X_test = test.iloc[:, 1:562]\n",
    "y_test = test['Label']"
   ]
  },
  {
   "cell_type": "markdown",
   "metadata": {},
   "source": [
    "## train_test_split"
   ]
  },
  {
   "cell_type": "code",
   "execution_count": 12,
   "metadata": {},
   "outputs": [],
   "source": [
    "from sklearn.model_selection import train_test_split"
   ]
  },
  {
   "cell_type": "code",
   "execution_count": 13,
   "metadata": {},
   "outputs": [],
   "source": [
    "X_train, X_val, y_train, y_val = train_test_split(features, labels, test_size = 0.3)"
   ]
  },
  {
   "cell_type": "code",
   "execution_count": 16,
   "metadata": {},
   "outputs": [
    {
     "name": "stdout",
     "output_type": "stream",
     "text": [
      "X_train.shape： (3705, 561)\n",
      "y_train.shape： (3705,)\n",
      "\n",
      "X_val.shape： (1588, 561)\n",
      "y_val.shape： (1588,)\n",
      "\n",
      "X_test.shape (2056, 561)\n",
      "y_test.shape： (2056,)\n"
     ]
    }
   ],
   "source": [
    "print('X_train.shape：', X_train.shape)\n",
    "print('y_train.shape：', y_train.shape)\n",
    "print()\n",
    "print('X_val.shape：', X_val.shape)\n",
    "print('y_val.shape：', y_val.shape)\n",
    "print()\n",
    "print('X_test.shape', X_test.shape)\n",
    "print('y_test.shape：', y_test.shape)\n"
   ]
  },
  {
   "cell_type": "code",
   "execution_count": null,
   "metadata": {},
   "outputs": [],
   "source": []
  },
  {
   "cell_type": "code",
   "execution_count": 14,
   "metadata": {},
   "outputs": [],
   "source": [
    "from sklearn.feature_selection import SelectFromModel"
   ]
  },
  {
   "cell_type": "code",
   "execution_count": null,
   "metadata": {},
   "outputs": [],
   "source": [
    "from sklearn.svm import LinearSVC\n",
    "from sklearn.svm import SVC\n",
    "\n",
    "from sklearn.tree import DecisionTreeClassifier\n",
    "\n",
    "from sklearn.linear_model import LogisticRegression\n",
    "from sklearn.linear_model import Lasso\n",
    "from sklearn.tree import ExtraTreeClassifier\n",
    "from sklearn.ensemble import ExtraTreesClassifier\n",
    "from sklearn.ensemble import AdaBoostClassifier\n",
    "from sklearn.ensemble import GradientBoostingClassifier\n",
    "from sklearn.ensemble import RandomForestClassifier"
   ]
  },
  {
   "cell_type": "code",
   "execution_count": null,
   "metadata": {},
   "outputs": [],
   "source": []
  },
  {
   "cell_type": "code",
   "execution_count": null,
   "metadata": {},
   "outputs": [],
   "source": []
  },
  {
   "cell_type": "code",
   "execution_count": null,
   "metadata": {},
   "outputs": [],
   "source": []
  }
 ],
 "metadata": {
  "kernelspec": {
   "display_name": "Python 3",
   "language": "python",
   "name": "python3"
  },
  "language_info": {
   "codemirror_mode": {
    "name": "ipython",
    "version": 3
   },
   "file_extension": ".py",
   "mimetype": "text/x-python",
   "name": "python",
   "nbconvert_exporter": "python",
   "pygments_lexer": "ipython3",
   "version": "3.6.3"
  }
 },
 "nbformat": 4,
 "nbformat_minor": 2
}
