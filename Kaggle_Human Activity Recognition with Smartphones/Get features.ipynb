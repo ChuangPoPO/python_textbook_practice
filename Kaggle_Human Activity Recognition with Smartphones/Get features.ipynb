{
 "cells": [
  {
   "cell_type": "code",
   "execution_count": 1,
   "metadata": {},
   "outputs": [],
   "source": [
    "import pandas as pd\n",
    "import numpy as np"
   ]
  },
  {
   "cell_type": "code",
   "execution_count": 2,
   "metadata": {},
   "outputs": [],
   "source": [
    "# C:\\Users\\poduo\\Anaconda3_JupyterNB\\python_textbook_practice\\Kaggle_Human Activity Recognition with Smartphones\\data\n",
    "addr_train = \"../Kaggle_Human Activity Recognition with Smartphones/data/new_train.csv\"\n",
    "addr_test = \"../Kaggle_Human Activity Recognition with Smartphones/data/new_test.csv\"\n",
    "\n",
    "train = pd.read_csv(addr_train)\n",
    "test = pd.read_csv(addr_test)\n",
    "\n",
    "ori_train = train.copy()\n",
    "ori_test = test.copy()"
   ]
  },
  {
   "cell_type": "code",
   "execution_count": 3,
   "metadata": {},
   "outputs": [
    {
     "name": "stdout",
     "output_type": "stream",
     "text": [
      "<class 'pandas.core.frame.DataFrame'>\n",
      "RangeIndex: 5293 entries, 0 to 5292\n",
      "Columns: 565 entries, Unnamed: 0 to Label\n",
      "dtypes: float64(561), int64(3), object(1)\n",
      "memory usage: 22.8+ MB\n"
     ]
    }
   ],
   "source": [
    "train.info()"
   ]
  },
  {
   "cell_type": "code",
   "execution_count": 4,
   "metadata": {},
   "outputs": [
    {
     "data": {
      "text/html": [
       "<div>\n",
       "<style>\n",
       "    .dataframe thead tr:only-child th {\n",
       "        text-align: right;\n",
       "    }\n",
       "\n",
       "    .dataframe thead th {\n",
       "        text-align: left;\n",
       "    }\n",
       "\n",
       "    .dataframe tbody tr th {\n",
       "        vertical-align: top;\n",
       "    }\n",
       "</style>\n",
       "<table border=\"1\" class=\"dataframe\">\n",
       "  <thead>\n",
       "    <tr style=\"text-align: right;\">\n",
       "      <th></th>\n",
       "      <th>Unnamed: 0</th>\n",
       "      <th>tBodyAcc-mean()-X</th>\n",
       "      <th>tBodyAcc-mean()-Y</th>\n",
       "      <th>tBodyAcc-mean()-Z</th>\n",
       "      <th>tBodyAcc-std()-X</th>\n",
       "      <th>tBodyAcc-std()-Y</th>\n",
       "      <th>tBodyAcc-std()-Z</th>\n",
       "      <th>tBodyAcc-mad()-X</th>\n",
       "      <th>tBodyAcc-mad()-Y</th>\n",
       "      <th>tBodyAcc-mad()-Z</th>\n",
       "      <th>...</th>\n",
       "      <th>angle(tBodyAccMean,gravity)</th>\n",
       "      <th>angle(tBodyAccJerkMean),gravityMean)</th>\n",
       "      <th>angle(tBodyGyroMean,gravityMean)</th>\n",
       "      <th>angle(tBodyGyroJerkMean,gravityMean)</th>\n",
       "      <th>angle(X,gravityMean)</th>\n",
       "      <th>angle(Y,gravityMean)</th>\n",
       "      <th>angle(Z,gravityMean)</th>\n",
       "      <th>subject</th>\n",
       "      <th>Activity</th>\n",
       "      <th>Label</th>\n",
       "    </tr>\n",
       "  </thead>\n",
       "  <tbody>\n",
       "    <tr>\n",
       "      <th>3662</th>\n",
       "      <td>5077</td>\n",
       "      <td>0.285717</td>\n",
       "      <td>-0.021643</td>\n",
       "      <td>-0.122403</td>\n",
       "      <td>-0.996899</td>\n",
       "      <td>-0.979404</td>\n",
       "      <td>-0.982244</td>\n",
       "      <td>-0.997271</td>\n",
       "      <td>-0.980163</td>\n",
       "      <td>-0.983001</td>\n",
       "      <td>...</td>\n",
       "      <td>-0.059671</td>\n",
       "      <td>0.049235</td>\n",
       "      <td>0.115171</td>\n",
       "      <td>0.062234</td>\n",
       "      <td>-0.663644</td>\n",
       "      <td>0.199002</td>\n",
       "      <td>-0.199352</td>\n",
       "      <td>25</td>\n",
       "      <td>STANDING</td>\n",
       "      <td>2</td>\n",
       "    </tr>\n",
       "    <tr>\n",
       "      <th>2708</th>\n",
       "      <td>3811</td>\n",
       "      <td>0.288406</td>\n",
       "      <td>0.001878</td>\n",
       "      <td>-0.091938</td>\n",
       "      <td>-0.992375</td>\n",
       "      <td>-0.932408</td>\n",
       "      <td>-0.977465</td>\n",
       "      <td>-0.992800</td>\n",
       "      <td>-0.936311</td>\n",
       "      <td>-0.975794</td>\n",
       "      <td>...</td>\n",
       "      <td>-0.065004</td>\n",
       "      <td>-0.185075</td>\n",
       "      <td>-0.091811</td>\n",
       "      <td>-0.054385</td>\n",
       "      <td>-0.816265</td>\n",
       "      <td>0.201064</td>\n",
       "      <td>-0.059575</td>\n",
       "      <td>19</td>\n",
       "      <td>STANDING</td>\n",
       "      <td>2</td>\n",
       "    </tr>\n",
       "    <tr>\n",
       "      <th>4383</th>\n",
       "      <td>6073</td>\n",
       "      <td>0.277530</td>\n",
       "      <td>-0.020664</td>\n",
       "      <td>-0.106117</td>\n",
       "      <td>-0.996955</td>\n",
       "      <td>-0.969600</td>\n",
       "      <td>-0.966983</td>\n",
       "      <td>-0.997395</td>\n",
       "      <td>-0.972061</td>\n",
       "      <td>-0.963284</td>\n",
       "      <td>...</td>\n",
       "      <td>-0.093482</td>\n",
       "      <td>0.031847</td>\n",
       "      <td>0.744458</td>\n",
       "      <td>0.811900</td>\n",
       "      <td>-0.814470</td>\n",
       "      <td>0.224863</td>\n",
       "      <td>0.038279</td>\n",
       "      <td>27</td>\n",
       "      <td>STANDING</td>\n",
       "      <td>2</td>\n",
       "    </tr>\n",
       "    <tr>\n",
       "      <th>1170</th>\n",
       "      <td>1671</td>\n",
       "      <td>0.274430</td>\n",
       "      <td>-0.017101</td>\n",
       "      <td>-0.104998</td>\n",
       "      <td>-0.994476</td>\n",
       "      <td>-0.991761</td>\n",
       "      <td>-0.991224</td>\n",
       "      <td>-0.995303</td>\n",
       "      <td>-0.990464</td>\n",
       "      <td>-0.991633</td>\n",
       "      <td>...</td>\n",
       "      <td>-0.238908</td>\n",
       "      <td>-0.134882</td>\n",
       "      <td>0.588514</td>\n",
       "      <td>0.451582</td>\n",
       "      <td>0.443873</td>\n",
       "      <td>-0.617058</td>\n",
       "      <td>-0.367938</td>\n",
       "      <td>8</td>\n",
       "      <td>LAYING</td>\n",
       "      <td>0</td>\n",
       "    </tr>\n",
       "    <tr>\n",
       "      <th>2914</th>\n",
       "      <td>4054</td>\n",
       "      <td>0.279440</td>\n",
       "      <td>-0.019260</td>\n",
       "      <td>-0.111554</td>\n",
       "      <td>-0.996488</td>\n",
       "      <td>-0.977516</td>\n",
       "      <td>-0.978028</td>\n",
       "      <td>-0.996948</td>\n",
       "      <td>-0.980164</td>\n",
       "      <td>-0.979302</td>\n",
       "      <td>...</td>\n",
       "      <td>-0.187590</td>\n",
       "      <td>0.063136</td>\n",
       "      <td>0.014398</td>\n",
       "      <td>0.027142</td>\n",
       "      <td>-0.932992</td>\n",
       "      <td>0.108547</td>\n",
       "      <td>0.066374</td>\n",
       "      <td>21</td>\n",
       "      <td>SITTING</td>\n",
       "      <td>1</td>\n",
       "    </tr>\n",
       "  </tbody>\n",
       "</table>\n",
       "<p>5 rows × 565 columns</p>\n",
       "</div>"
      ],
      "text/plain": [
       "      Unnamed: 0  tBodyAcc-mean()-X  tBodyAcc-mean()-Y  tBodyAcc-mean()-Z  \\\n",
       "3662        5077           0.285717          -0.021643          -0.122403   \n",
       "2708        3811           0.288406           0.001878          -0.091938   \n",
       "4383        6073           0.277530          -0.020664          -0.106117   \n",
       "1170        1671           0.274430          -0.017101          -0.104998   \n",
       "2914        4054           0.279440          -0.019260          -0.111554   \n",
       "\n",
       "      tBodyAcc-std()-X  tBodyAcc-std()-Y  tBodyAcc-std()-Z  tBodyAcc-mad()-X  \\\n",
       "3662         -0.996899         -0.979404         -0.982244         -0.997271   \n",
       "2708         -0.992375         -0.932408         -0.977465         -0.992800   \n",
       "4383         -0.996955         -0.969600         -0.966983         -0.997395   \n",
       "1170         -0.994476         -0.991761         -0.991224         -0.995303   \n",
       "2914         -0.996488         -0.977516         -0.978028         -0.996948   \n",
       "\n",
       "      tBodyAcc-mad()-Y  tBodyAcc-mad()-Z  ...    angle(tBodyAccMean,gravity)  \\\n",
       "3662         -0.980163         -0.983001  ...                      -0.059671   \n",
       "2708         -0.936311         -0.975794  ...                      -0.065004   \n",
       "4383         -0.972061         -0.963284  ...                      -0.093482   \n",
       "1170         -0.990464         -0.991633  ...                      -0.238908   \n",
       "2914         -0.980164         -0.979302  ...                      -0.187590   \n",
       "\n",
       "      angle(tBodyAccJerkMean),gravityMean)  angle(tBodyGyroMean,gravityMean)  \\\n",
       "3662                              0.049235                          0.115171   \n",
       "2708                             -0.185075                         -0.091811   \n",
       "4383                              0.031847                          0.744458   \n",
       "1170                             -0.134882                          0.588514   \n",
       "2914                              0.063136                          0.014398   \n",
       "\n",
       "      angle(tBodyGyroJerkMean,gravityMean)  angle(X,gravityMean)  \\\n",
       "3662                              0.062234             -0.663644   \n",
       "2708                             -0.054385             -0.816265   \n",
       "4383                              0.811900             -0.814470   \n",
       "1170                              0.451582              0.443873   \n",
       "2914                              0.027142             -0.932992   \n",
       "\n",
       "      angle(Y,gravityMean)  angle(Z,gravityMean)  subject  Activity  Label  \n",
       "3662              0.199002             -0.199352       25  STANDING      2  \n",
       "2708              0.201064             -0.059575       19  STANDING      2  \n",
       "4383              0.224863              0.038279       27  STANDING      2  \n",
       "1170             -0.617058             -0.367938        8    LAYING      0  \n",
       "2914              0.108547              0.066374       21   SITTING      1  \n",
       "\n",
       "[5 rows x 565 columns]"
      ]
     },
     "execution_count": 4,
     "metadata": {},
     "output_type": "execute_result"
    }
   ],
   "source": [
    "train.sample(5)"
   ]
  },
  {
   "cell_type": "code",
   "execution_count": 5,
   "metadata": {},
   "outputs": [
    {
     "name": "stdout",
     "output_type": "stream",
     "text": [
      "<class 'pandas.core.frame.DataFrame'>\n",
      "RangeIndex: 2056 entries, 0 to 2055\n",
      "Columns: 565 entries, Unnamed: 0 to Label\n",
      "dtypes: float64(561), int64(3), object(1)\n",
      "memory usage: 8.9+ MB\n"
     ]
    }
   ],
   "source": [
    "test.info()"
   ]
  },
  {
   "cell_type": "markdown",
   "metadata": {},
   "source": [
    "## Get Data Set\n",
    "Label：0 Laying、1 SITTING、2 STANDING、3 WALKING"
   ]
  },
  {
   "cell_type": "code",
   "execution_count": 6,
   "metadata": {},
   "outputs": [],
   "source": [
    "features = train.iloc[:, 1:562]\n",
    "labels = train['Label']"
   ]
  },
  {
   "cell_type": "code",
   "execution_count": 7,
   "metadata": {},
   "outputs": [],
   "source": [
    "X_test = test.iloc[:, 1:562]\n",
    "y_test = test['Label']"
   ]
  },
  {
   "cell_type": "code",
   "execution_count": 8,
   "metadata": {},
   "outputs": [],
   "source": [
    "all_colums_list = list(features)"
   ]
  },
  {
   "cell_type": "code",
   "execution_count": 9,
   "metadata": {},
   "outputs": [
    {
     "data": {
      "text/plain": [
       "list"
      ]
     },
     "execution_count": 9,
     "metadata": {},
     "output_type": "execute_result"
    }
   ],
   "source": [
    "type(all_colums_list)"
   ]
  },
  {
   "cell_type": "markdown",
   "metadata": {},
   "source": [
    "## train_test_split"
   ]
  },
  {
   "cell_type": "code",
   "execution_count": 10,
   "metadata": {},
   "outputs": [],
   "source": [
    "from sklearn.model_selection import train_test_split"
   ]
  },
  {
   "cell_type": "code",
   "execution_count": 11,
   "metadata": {},
   "outputs": [],
   "source": [
    "X_train, X_val, y_train, y_val = train_test_split(features, labels, test_size = 0.3)"
   ]
  },
  {
   "cell_type": "markdown",
   "metadata": {},
   "source": [
    "## Learning Model"
   ]
  },
  {
   "cell_type": "code",
   "execution_count": 12,
   "metadata": {},
   "outputs": [],
   "source": [
    "from sklearn.svm import LinearSVC\n",
    "from sklearn.svm import SVC\n",
    "from sklearn.ensemble import GradientBoostingClassifier\n",
    "from sklearn.ensemble import RandomForestClassifier"
   ]
  },
  {
   "cell_type": "code",
   "execution_count": 13,
   "metadata": {},
   "outputs": [],
   "source": [
    "Classifiers = [\n",
    "    RandomForestClassifier(n_estimators=200),\n",
    "    GradientBoostingClassifier(n_estimators=200),\n",
    "    LinearSVC(C= 0.1),\n",
    "    SVC(C= 20),\n",
    "    SVC(C= 100),\n",
    "    SVC(C= 1)\n",
    "              ]"
   ]
  },
  {
   "cell_type": "markdown",
   "metadata": {},
   "source": [
    "# sklearn.feature_selection.RFE\n",
    "https://machine-learning-python.kspax.io/Feature_Selection/intro.html\n",
    "https://machine-learning-python.kspax.io/Feature_Selection/ex2_Recursive_feature_elimination.html"
   ]
  },
  {
   "cell_type": "code",
   "execution_count": 14,
   "metadata": {},
   "outputs": [],
   "source": [
    "from sklearn.feature_selection import RFE"
   ]
  },
  {
   "cell_type": "code",
   "execution_count": 15,
   "metadata": {},
   "outputs": [],
   "source": [
    "svc = SVC(kernel=\"linear\", C=1)\n",
    "rfe = RFE(estimator=svc, n_features_to_select=1, step=1)\n",
    "rfe.fit(X_train, y_train)\n",
    "ranking = rfe.ranking_"
   ]
  },
  {
   "cell_type": "code",
   "execution_count": 16,
   "metadata": {},
   "outputs": [
    {
     "data": {
      "text/plain": [
       "list"
      ]
     },
     "execution_count": 16,
     "metadata": {},
     "output_type": "execute_result"
    }
   ],
   "source": [
    "ranking_list = ranking.tolist()\n",
    "type(ranking_list)"
   ]
  },
  {
   "cell_type": "code",
   "execution_count": 17,
   "metadata": {
    "collapsed": true
   },
   "outputs": [
    {
     "data": {
      "text/plain": [
       "array([228, 191, 136, 302, 293, 259, 334, 403, 190, 295, 146, 393, 113,\n",
       "        51, 357, 187, 479, 325, 354, 338, 418,  33,  43,  53, 278,  99,\n",
       "       210,  81,  82, 229,  78, 172,  27,  67, 130,  79,  45,  42,  85,\n",
       "       144,  22,   1,  97, 353, 169, 308, 318, 174, 140,  37,   4, 114,\n",
       "         2,  14,  40,  13,  17,  75,  60, 170, 369, 119, 220,  71,  90,\n",
       "       297, 283, 110,  76,  64, 141, 254, 438, 300, 366, 443, 330, 272,\n",
       "       266, 239, 514, 186, 439, 312, 304, 270, 387, 377, 315, 282, 316,\n",
       "       291, 192, 145, 236, 386, 495, 450, 510, 401, 362, 277,   3, 105,\n",
       "         6,  50, 235, 253,  96,  21,  63,  28, 115,  34,  35,  86, 335,\n",
       "       409,  38, 107,  57,  88, 179, 324, 363, 202, 352, 269, 128, 288,\n",
       "       256, 298, 111, 280, 247,  15, 251, 422, 155, 156, 103, 258,  41,\n",
       "       433, 404,   9, 126,  49, 133,   8, 134, 135,  62, 100, 195, 106,\n",
       "        52, 207,  58, 167, 296, 241, 425, 245, 305, 219, 109, 314, 185,\n",
       "       201, 303, 378, 218, 446, 342, 199, 471, 506, 541,  77, 252, 203,\n",
       "         5,  39, 193,  29,  10,  19, 125,  93, 149, 348,  72,  95,  54,\n",
       "       166,  56,  55, 310, 161, 157, 230, 171, 473, 346, 154, 374, 108,\n",
       "        89, 160, 394, 180, 286, 151, 223, 168, 474, 344, 147, 372,  80,\n",
       "        83, 127, 405, 209, 183, 395, 333, 373, 426, 208, 397, 502, 371,\n",
       "       143,  73, 320, 175,  87,  20, 194, 132, 231,  32,  23, 268,  59,\n",
       "        12, 347, 138, 226, 120, 198, 385, 329, 392, 204, 188, 546, 379,\n",
       "        68, 367, 412, 341, 299, 350, 261, 222, 294, 322, 200, 313, 181,\n",
       "       189, 356, 345,  47, 158, 122, 410, 307, 501, 370, 464, 390, 159,\n",
       "       217,  36, 233, 102, 349, 131, 468, 243, 121, 123, 336, 112,  92,\n",
       "       196, 124, 273, 485, 519, 491, 527, 538, 507, 545, 461, 498, 489,\n",
       "       532, 520, 500, 535, 255, 441, 452, 513, 536, 517, 417, 406, 323,\n",
       "       445, 526, 411, 358, 515, 456, 486, 437, 556, 544, 481, 398, 311,\n",
       "       470, 472, 525, 359, 466, 549, 292, 360, 267, 381, 224, 284, 321,\n",
       "       281, 242, 388, 225, 364, 276, 365, 265, 376, 494, 451, 512, 240,\n",
       "       407, 178,  18, 104,  44, 173, 206, 184,  26, 257, 331, 355, 249,\n",
       "       351, 238, 263, 262, 533, 503, 487, 490, 523, 505, 492, 554, 509,\n",
       "       478, 508, 488, 497, 477, 453, 434, 457, 551, 496, 465, 521, 550,\n",
       "       428, 476, 469, 528, 424, 530, 444, 484, 475, 555, 557, 543, 534,\n",
       "       504, 455, 518, 552, 531, 463, 553, 301, 454, 101, 285, 306, 215,\n",
       "       383, 458, 244, 289, 264, 164, 447, 142,  48, 427, 332, 436, 408,\n",
       "       309, 326, 317,  11,  25,  65, 250, 117, 165,  66, 118, 129,  30,\n",
       "        31, 116, 150, 197, 271, 319, 483, 467, 558, 440, 442, 432, 415,\n",
       "       327, 480, 435, 423, 328, 516, 416, 482, 559, 547, 524, 540, 522,\n",
       "       459, 420, 560, 529, 539, 431, 537, 430, 499, 448, 561, 548, 402,\n",
       "       246, 227, 419, 449, 493, 232, 413, 542, 337, 176, 340,  61, 216,\n",
       "       339, 429, 275, 421,  46, 343, 221, 237, 384, 287, 212, 290, 177,\n",
       "       382, 462, 414,  84, 211,  74, 205, 139, 396, 152, 260, 213, 389,\n",
       "       391, 380, 460, 162,  91, 137, 214, 234, 400, 375, 368, 279, 153,\n",
       "       399, 511, 361,  24,  94, 182,  69,  70, 248, 274,  98, 163,   7,\n",
       "        16, 148])"
      ]
     },
     "execution_count": 17,
     "metadata": {},
     "output_type": "execute_result"
    }
   ],
   "source": [
    "ranking"
   ]
  },
  {
   "cell_type": "code",
   "execution_count": 18,
   "metadata": {},
   "outputs": [],
   "source": [
    "rank_30_feature = []\n",
    "rank_30_index = []\n",
    "\n",
    "for i in ranking_list:\n",
    "    if i < 31:\n",
    "        rank_30_feature.append(all_colums_list[ranking_list.index(i)])\n",
    "        rank_30_index.append(ranking_list.index(i))        "
   ]
  },
  {
   "cell_type": "code",
   "execution_count": 19,
   "metadata": {
    "collapsed": true
   },
   "outputs": [
    {
     "data": {
      "text/plain": [
       "[32,\n",
       " 40,\n",
       " 41,\n",
       " 50,\n",
       " 52,\n",
       " 53,\n",
       " 55,\n",
       " 56,\n",
       " 102,\n",
       " 104,\n",
       " 109,\n",
       " 111,\n",
       " 135,\n",
       " 145,\n",
       " 149,\n",
       " 182,\n",
       " 185,\n",
       " 186,\n",
       " 187,\n",
       " 239,\n",
       " 244,\n",
       " 247,\n",
       " 366,\n",
       " 372,\n",
       " 445,\n",
       " 446,\n",
       " 454,\n",
       " 549,\n",
       " 558,\n",
       " 559]"
      ]
     },
     "execution_count": 19,
     "metadata": {},
     "output_type": "execute_result"
    }
   ],
   "source": [
    "rank_30_index"
   ]
  },
  {
   "cell_type": "code",
   "execution_count": 20,
   "metadata": {
    "collapsed": true
   },
   "outputs": [
    {
     "data": {
      "text/plain": [
       "['tBodyAcc-arCoeff()-Y,4',\n",
       " 'tGravityAcc-mean()-X',\n",
       " 'tGravityAcc-mean()-Y',\n",
       " 'tGravityAcc-max()-Y',\n",
       " 'tGravityAcc-min()-X',\n",
       " 'tGravityAcc-min()-Y',\n",
       " 'tGravityAcc-sma()',\n",
       " 'tGravityAcc-energy()-X',\n",
       " 'tBodyAccJerk-entropy()-X',\n",
       " 'tBodyAccJerk-entropy()-Z',\n",
       " 'tBodyAccJerk-arCoeff()-Y,1',\n",
       " 'tBodyAccJerk-arCoeff()-Y,3',\n",
       " 'tBodyGyro-sma()',\n",
       " 'tBodyGyro-arCoeff()-X,1',\n",
       " 'tBodyGyro-arCoeff()-Y,1',\n",
       " 'tBodyGyroJerk-entropy()-X',\n",
       " 'tBodyGyroJerk-arCoeff()-X,1',\n",
       " 'tBodyGyroJerk-arCoeff()-X,2',\n",
       " 'tBodyGyroJerk-arCoeff()-X,3',\n",
       " 'tBodyGyroMag-mean()',\n",
       " 'tBodyGyroMag-sma()',\n",
       " 'tBodyGyroMag-entropy()',\n",
       " 'fBodyAccJerk-entropy()-X',\n",
       " 'fBodyAccJerk-meanFreq()-X',\n",
       " 'fBodyGyro-entropy()-X',\n",
       " 'fBodyGyro-entropy()-Y',\n",
       " 'fBodyGyro-skewness()-X',\n",
       " 'fBodyBodyGyroJerkMag-entropy()',\n",
       " 'angle(X,gravityMean)',\n",
       " 'angle(Y,gravityMean)']"
      ]
     },
     "execution_count": 20,
     "metadata": {},
     "output_type": "execute_result"
    }
   ],
   "source": [
    "rank_30_feature"
   ]
  },
  {
   "cell_type": "code",
   "execution_count": 21,
   "metadata": {
    "collapsed": true
   },
   "outputs": [
    {
     "name": "stdout",
     "output_type": "stream",
     "text": [
      "X_train.shape： (3705, 561)\n",
      "y_train.shape： (3705,)\n",
      "\n",
      "X_val.shape： (1588, 561)\n",
      "y_val.shape： (1588,)\n",
      "\n",
      "X_test.shape (2056, 561)\n",
      "y_test.shape： (2056,)\n"
     ]
    }
   ],
   "source": [
    "print('X_train.shape：', X_train.shape)\n",
    "print('y_train.shape：', y_train.shape)\n",
    "print()\n",
    "print('X_val.shape：', X_val.shape)\n",
    "print('y_val.shape：', y_val.shape)\n",
    "print()\n",
    "print('X_test.shape', X_test.shape)\n",
    "print('y_test.shape：', y_test.shape)\n"
   ]
  },
  {
   "cell_type": "markdown",
   "metadata": {},
   "source": [
    "前90個features"
   ]
  },
  {
   "cell_type": "code",
   "execution_count": 66,
   "metadata": {},
   "outputs": [],
   "source": [
    "rank_120_feature = []\n",
    "rank_120_index = []\n",
    "\n",
    "for i in ranking_list:\n",
    "    if i < 121:\n",
    "        rank_120_feature.append(all_colums_list[ranking_list.index(i)])\n",
    "        rank_120_index.append(ranking_list.index(i))        "
   ]
  },
  {
   "cell_type": "code",
   "execution_count": 67,
   "metadata": {},
   "outputs": [
    {
     "data": {
      "text/plain": [
       "[12,\n",
       " 13,\n",
       " 21,\n",
       " 22,\n",
       " 23,\n",
       " 25,\n",
       " 27,\n",
       " 28,\n",
       " 30,\n",
       " 32,\n",
       " 33,\n",
       " 35,\n",
       " 36,\n",
       " 37,\n",
       " 38,\n",
       " 40,\n",
       " 41,\n",
       " 42,\n",
       " 49,\n",
       " 50,\n",
       " 51,\n",
       " 52,\n",
       " 53,\n",
       " 54,\n",
       " 55,\n",
       " 56,\n",
       " 57,\n",
       " 58,\n",
       " 61,\n",
       " 63,\n",
       " 64,\n",
       " 67,\n",
       " 68,\n",
       " 69,\n",
       " 102,\n",
       " 103,\n",
       " 104,\n",
       " 105,\n",
       " 108,\n",
       " 109,\n",
       " 110,\n",
       " 111,\n",
       " 112,\n",
       " 113,\n",
       " 114,\n",
       " 115,\n",
       " 118,\n",
       " 119,\n",
       " 120,\n",
       " 121,\n",
       " 132,\n",
       " 135,\n",
       " 140,\n",
       " 142,\n",
       " 145,\n",
       " 147,\n",
       " 149,\n",
       " 152,\n",
       " 153,\n",
       " 155,\n",
       " 156,\n",
       " 158,\n",
       " 166,\n",
       " 179,\n",
       " 182,\n",
       " 183,\n",
       " 185,\n",
       " 186,\n",
       " 187,\n",
       " 189,\n",
       " 192,\n",
       " 193,\n",
       " 194,\n",
       " 196,\n",
       " 197,\n",
       " 207,\n",
       " 208,\n",
       " 220,\n",
       " 221,\n",
       " 235,\n",
       " 238,\n",
       " 239,\n",
       " 243,\n",
       " 244,\n",
       " 246,\n",
       " 247,\n",
       " 251,\n",
       " 260,\n",
       " 276,\n",
       " 287,\n",
       " 289,\n",
       " 297,\n",
       " 298,\n",
       " 366,\n",
       " 367,\n",
       " 368,\n",
       " 372,\n",
       " 425,\n",
       " 437,\n",
       " 445,\n",
       " 446,\n",
       " 447,\n",
       " 449,\n",
       " 451,\n",
       " 452,\n",
       " 454,\n",
       " 455,\n",
       " 456,\n",
       " 505,\n",
       " 511,\n",
       " 523,\n",
       " 525,\n",
       " 537,\n",
       " 549,\n",
       " 550,\n",
       " 552,\n",
       " 553,\n",
       " 556,\n",
       " 558,\n",
       " 559]"
      ]
     },
     "execution_count": 67,
     "metadata": {},
     "output_type": "execute_result"
    }
   ],
   "source": [
    "rank_120_index"
   ]
  },
  {
   "cell_type": "code",
   "execution_count": 68,
   "metadata": {
    "collapsed": true
   },
   "outputs": [
    {
     "data": {
      "text/plain": [
       "['tBodyAcc-min()-X',\n",
       " 'tBodyAcc-min()-Y',\n",
       " 'tBodyAcc-iqr()-Z',\n",
       " 'tBodyAcc-entropy()-X',\n",
       " 'tBodyAcc-entropy()-Y',\n",
       " 'tBodyAcc-arCoeff()-X,1',\n",
       " 'tBodyAcc-arCoeff()-X,3',\n",
       " 'tBodyAcc-arCoeff()-X,4',\n",
       " 'tBodyAcc-arCoeff()-Y,2',\n",
       " 'tBodyAcc-arCoeff()-Y,4',\n",
       " 'tBodyAcc-arCoeff()-Z,1',\n",
       " 'tBodyAcc-arCoeff()-Z,3',\n",
       " 'tBodyAcc-arCoeff()-Z,4',\n",
       " 'tBodyAcc-correlation()-X,Y',\n",
       " 'tBodyAcc-correlation()-X,Z',\n",
       " 'tGravityAcc-mean()-X',\n",
       " 'tGravityAcc-mean()-Y',\n",
       " 'tGravityAcc-mean()-Z',\n",
       " 'tGravityAcc-max()-X',\n",
       " 'tGravityAcc-max()-Y',\n",
       " 'tGravityAcc-max()-Z',\n",
       " 'tGravityAcc-min()-X',\n",
       " 'tGravityAcc-min()-Y',\n",
       " 'tGravityAcc-min()-Z',\n",
       " 'tGravityAcc-sma()',\n",
       " 'tGravityAcc-energy()-X',\n",
       " 'tGravityAcc-energy()-Y',\n",
       " 'tGravityAcc-energy()-Z',\n",
       " 'tGravityAcc-iqr()-Z',\n",
       " 'tGravityAcc-entropy()-Y',\n",
       " 'tGravityAcc-entropy()-Z',\n",
       " 'tGravityAcc-arCoeff()-X,3',\n",
       " 'tGravityAcc-arCoeff()-X,4',\n",
       " 'tGravityAcc-arCoeff()-Y,1',\n",
       " 'tBodyAccJerk-entropy()-X',\n",
       " 'tBodyAccJerk-entropy()-Y',\n",
       " 'tBodyAccJerk-entropy()-Z',\n",
       " 'tBodyAccJerk-arCoeff()-X,1',\n",
       " 'tBodyAccJerk-arCoeff()-X,4',\n",
       " 'tBodyAccJerk-arCoeff()-Y,1',\n",
       " 'tBodyAccJerk-arCoeff()-Y,2',\n",
       " 'tBodyAccJerk-arCoeff()-Y,3',\n",
       " 'tBodyAccJerk-arCoeff()-Y,4',\n",
       " 'tBodyAccJerk-arCoeff()-Z,1',\n",
       " 'tBodyAccJerk-arCoeff()-Z,2',\n",
       " 'tBodyAccJerk-arCoeff()-Z,3',\n",
       " 'tBodyAccJerk-correlation()-X,Z',\n",
       " 'tBodyAccJerk-correlation()-Y,Z',\n",
       " 'tBodyGyro-mean()-X',\n",
       " 'tBodyGyro-mean()-Y',\n",
       " 'tBodyGyro-min()-X',\n",
       " 'tBodyGyro-sma()',\n",
       " 'tBodyGyro-iqr()-Y',\n",
       " 'tBodyGyro-entropy()-X',\n",
       " 'tBodyGyro-arCoeff()-X,1',\n",
       " 'tBodyGyro-arCoeff()-X,3',\n",
       " 'tBodyGyro-arCoeff()-Y,1',\n",
       " 'tBodyGyro-arCoeff()-Y,4',\n",
       " 'tBodyGyro-arCoeff()-Z,1',\n",
       " 'tBodyGyro-arCoeff()-Z,3',\n",
       " 'tBodyGyro-arCoeff()-Z,4',\n",
       " 'tBodyGyro-correlation()-X,Z',\n",
       " 'tBodyGyroJerk-mad()-X',\n",
       " 'tBodyGyroJerk-iqr()-X',\n",
       " 'tBodyGyroJerk-entropy()-X',\n",
       " 'tBodyGyroJerk-entropy()-Y',\n",
       " 'tBodyGyroJerk-arCoeff()-X,1',\n",
       " 'tBodyGyroJerk-arCoeff()-X,2',\n",
       " 'tBodyGyroJerk-arCoeff()-X,3',\n",
       " 'tBodyGyroJerk-arCoeff()-Y,1',\n",
       " 'tBodyGyroJerk-arCoeff()-Y,4',\n",
       " 'tBodyGyroJerk-arCoeff()-Z,1',\n",
       " 'tBodyGyroJerk-arCoeff()-Z,2',\n",
       " 'tBodyGyroJerk-arCoeff()-Z,4',\n",
       " 'tBodyGyroJerk-correlation()-X,Y',\n",
       " 'tBodyAccMag-iqr()',\n",
       " 'tBodyAccMag-entropy()',\n",
       " 'tGravityAccMag-iqr()',\n",
       " 'tGravityAccMag-entropy()',\n",
       " 'tBodyAccJerkMag-arCoeff()1',\n",
       " 'tBodyAccJerkMag-arCoeff()4',\n",
       " 'tBodyGyroMag-mean()',\n",
       " 'tBodyGyroMag-min()',\n",
       " 'tBodyGyroMag-sma()',\n",
       " 'tBodyGyroMag-iqr()',\n",
       " 'tBodyGyroMag-entropy()',\n",
       " 'tBodyGyroMag-arCoeff()4',\n",
       " 'tBodyGyroJerkMag-entropy()',\n",
       " 'fBodyAcc-max()-Z',\n",
       " 'fBodyAcc-entropy()-X',\n",
       " 'fBodyAcc-entropy()-Z',\n",
       " 'fBodyAcc-kurtosis()-X',\n",
       " 'fBodyAcc-skewness()-Y',\n",
       " 'fBodyAccJerk-entropy()-X',\n",
       " 'fBodyAccJerk-entropy()-Y',\n",
       " 'fBodyAccJerk-entropy()-Z',\n",
       " 'fBodyAccJerk-meanFreq()-X',\n",
       " 'fBodyGyro-mean()-Z',\n",
       " 'fBodyGyro-min()-Z',\n",
       " 'fBodyGyro-entropy()-X',\n",
       " 'fBodyGyro-entropy()-Y',\n",
       " 'fBodyGyro-entropy()-Z',\n",
       " 'fBodyGyro-maxInds-Y',\n",
       " 'fBodyGyro-meanFreq()-X',\n",
       " 'fBodyGyro-meanFreq()-Y',\n",
       " 'fBodyGyro-skewness()-X',\n",
       " 'fBodyGyro-kurtosis()-X',\n",
       " 'fBodyGyro-skewness()-Y',\n",
       " 'fBodyAccMag-max()',\n",
       " 'fBodyAccMag-maxInds',\n",
       " 'fBodyBodyAccJerkMag-entropy()',\n",
       " 'fBodyBodyAccJerkMag-meanFreq()',\n",
       " 'fBodyBodyGyroMag-maxInds',\n",
       " 'fBodyBodyGyroJerkMag-entropy()',\n",
       " 'fBodyBodyGyroJerkMag-maxInds',\n",
       " 'fBodyBodyGyroJerkMag-skewness()',\n",
       " 'fBodyBodyGyroJerkMag-kurtosis()',\n",
       " 'angle(tBodyGyroMean,gravityMean)',\n",
       " 'angle(X,gravityMean)',\n",
       " 'angle(Y,gravityMean)']"
      ]
     },
     "execution_count": 68,
     "metadata": {},
     "output_type": "execute_result"
    }
   ],
   "source": [
    "rank_120_feature"
   ]
  },
  {
   "cell_type": "code",
   "execution_count": 69,
   "metadata": {},
   "outputs": [
    {
     "data": {
      "text/plain": [
       "list"
      ]
     },
     "execution_count": 69,
     "metadata": {},
     "output_type": "execute_result"
    }
   ],
   "source": [
    "type(rank_120_feature)"
   ]
  },
  {
   "cell_type": "markdown",
   "metadata": {},
   "source": [
    "依據挑選出的features，重新設置訓練及驗證資料"
   ]
  },
  {
   "cell_type": "code",
   "execution_count": 22,
   "metadata": {
    "scrolled": false
   },
   "outputs": [],
   "source": [
    "rfe_X_train = pd.DataFrame()\n",
    "rfe_X_val = pd.DataFrame()\n",
    "rfe_X_test = pd.DataFrame()\n",
    "\n",
    "for i in range(X_train.shape[1]):\n",
    "    for rank in rank_30_feature:\n",
    "        if X_train.columns[i] == rank:\n",
    "            rfe_X_train = pd.concat([rfe_X_train, X_train.loc[:, rank]], axis= 1, ignore_index= False)\n",
    "            rfe_X_val = pd.concat([rfe_X_val, X_val.loc[:, rank]], axis= 1, ignore_index= False)\n",
    "            rfe_X_test = pd.concat([rfe_X_test, X_test.loc[:, rank]], axis= 1, ignore_index= False)\n",
    "            break"
   ]
  },
  {
   "cell_type": "code",
   "execution_count": 23,
   "metadata": {
    "collapsed": true
   },
   "outputs": [
    {
     "name": "stdout",
     "output_type": "stream",
     "text": [
      "rfe_X_train.shape： (3705, 30)\n",
      "y_train.shape： (3705,)\n",
      "\n",
      "rfe_X_val.shape： (1588, 30)\n",
      "y_val.shape： (1588,)\n",
      "\n",
      "rfe_X_test.shape (2056, 30)\n",
      "y_test.shape： (2056,)\n"
     ]
    }
   ],
   "source": [
    "print('rfe_X_train.shape：', rfe_X_train.shape)\n",
    "print('y_train.shape：', y_train.shape)\n",
    "print()\n",
    "print('rfe_X_val.shape：', rfe_X_val.shape)\n",
    "print('y_val.shape：', y_val.shape)\n",
    "print()\n",
    "print('rfe_X_test.shape', rfe_X_test.shape)\n",
    "print('y_test.shape：', y_test.shape)"
   ]
  },
  {
   "cell_type": "code",
   "execution_count": 45,
   "metadata": {
    "collapsed": true
   },
   "outputs": [
    {
     "data": {
      "text/html": [
       "<div>\n",
       "<style>\n",
       "    .dataframe thead tr:only-child th {\n",
       "        text-align: right;\n",
       "    }\n",
       "\n",
       "    .dataframe thead th {\n",
       "        text-align: left;\n",
       "    }\n",
       "\n",
       "    .dataframe tbody tr th {\n",
       "        vertical-align: top;\n",
       "    }\n",
       "</style>\n",
       "<table border=\"1\" class=\"dataframe\">\n",
       "  <thead>\n",
       "    <tr style=\"text-align: right;\">\n",
       "      <th></th>\n",
       "      <th>tBodyAcc-arCoeff()-Z,4</th>\n",
       "      <th>tGravityAcc-mean()-X</th>\n",
       "      <th>tGravityAcc-mean()-Y</th>\n",
       "      <th>tGravityAcc-max()-Y</th>\n",
       "      <th>tGravityAcc-min()-X</th>\n",
       "      <th>tGravityAcc-min()-Y</th>\n",
       "      <th>tGravityAcc-sma()</th>\n",
       "      <th>tGravityAcc-energy()-X</th>\n",
       "      <th>tBodyAccJerk-entropy()-Z</th>\n",
       "      <th>tBodyAccJerk-arCoeff()-Y,1</th>\n",
       "      <th>...</th>\n",
       "      <th>tBodyGyroMag-min()</th>\n",
       "      <th>tBodyGyroMag-sma()</th>\n",
       "      <th>tBodyGyroMag-iqr()</th>\n",
       "      <th>tBodyGyroMag-entropy()</th>\n",
       "      <th>fBodyAcc-entropy()-X</th>\n",
       "      <th>fBodyAccJerk-entropy()-X</th>\n",
       "      <th>fBodyAccJerk-meanFreq()-X</th>\n",
       "      <th>fBodyGyro-entropy()-X</th>\n",
       "      <th>angle(X,gravityMean)</th>\n",
       "      <th>angle(Y,gravityMean)</th>\n",
       "    </tr>\n",
       "  </thead>\n",
       "  <tbody>\n",
       "    <tr>\n",
       "      <th>445</th>\n",
       "      <td>-0.512216</td>\n",
       "      <td>0.961842</td>\n",
       "      <td>-0.041201</td>\n",
       "      <td>-0.062480</td>\n",
       "      <td>0.979818</td>\n",
       "      <td>-0.026676</td>\n",
       "      <td>-0.537725</td>\n",
       "      <td>0.895356</td>\n",
       "      <td>-0.489499</td>\n",
       "      <td>-0.088812</td>\n",
       "      <td>...</td>\n",
       "      <td>-0.786028</td>\n",
       "      <td>-0.673533</td>\n",
       "      <td>-0.753764</td>\n",
       "      <td>0.872303</td>\n",
       "      <td>-0.407823</td>\n",
       "      <td>-0.646947</td>\n",
       "      <td>-0.579704</td>\n",
       "      <td>-0.161772</td>\n",
       "      <td>-0.853509</td>\n",
       "      <td>0.112055</td>\n",
       "    </tr>\n",
       "    <tr>\n",
       "      <th>1137</th>\n",
       "      <td>-0.496849</td>\n",
       "      <td>-0.107192</td>\n",
       "      <td>0.451642</td>\n",
       "      <td>0.416415</td>\n",
       "      <td>-0.067708</td>\n",
       "      <td>0.464967</td>\n",
       "      <td>0.494565</td>\n",
       "      <td>-0.875945</td>\n",
       "      <td>-0.429422</td>\n",
       "      <td>0.121406</td>\n",
       "      <td>...</td>\n",
       "      <td>-0.969075</td>\n",
       "      <td>-0.951198</td>\n",
       "      <td>-0.941155</td>\n",
       "      <td>0.273651</td>\n",
       "      <td>-0.782225</td>\n",
       "      <td>-1.000000</td>\n",
       "      <td>-0.205050</td>\n",
       "      <td>-0.397729</td>\n",
       "      <td>0.324136</td>\n",
       "      <td>-0.247840</td>\n",
       "    </tr>\n",
       "    <tr>\n",
       "      <th>1575</th>\n",
       "      <td>-0.068931</td>\n",
       "      <td>0.870844</td>\n",
       "      <td>0.162291</td>\n",
       "      <td>0.138065</td>\n",
       "      <td>0.889270</td>\n",
       "      <td>0.181868</td>\n",
       "      <td>0.200793</td>\n",
       "      <td>0.662841</td>\n",
       "      <td>-0.685725</td>\n",
       "      <td>0.008261</td>\n",
       "      <td>...</td>\n",
       "      <td>-0.990675</td>\n",
       "      <td>-0.978118</td>\n",
       "      <td>-0.975401</td>\n",
       "      <td>-0.038415</td>\n",
       "      <td>-0.854006</td>\n",
       "      <td>-1.000000</td>\n",
       "      <td>0.204247</td>\n",
       "      <td>-0.776641</td>\n",
       "      <td>-0.622640</td>\n",
       "      <td>-0.027893</td>\n",
       "    </tr>\n",
       "  </tbody>\n",
       "</table>\n",
       "<p>3 rows × 30 columns</p>\n",
       "</div>"
      ],
      "text/plain": [
       "      tBodyAcc-arCoeff()-Z,4  tGravityAcc-mean()-X  tGravityAcc-mean()-Y  \\\n",
       "445                -0.512216              0.961842             -0.041201   \n",
       "1137               -0.496849             -0.107192              0.451642   \n",
       "1575               -0.068931              0.870844              0.162291   \n",
       "\n",
       "      tGravityAcc-max()-Y  tGravityAcc-min()-X  tGravityAcc-min()-Y  \\\n",
       "445             -0.062480             0.979818            -0.026676   \n",
       "1137             0.416415            -0.067708             0.464967   \n",
       "1575             0.138065             0.889270             0.181868   \n",
       "\n",
       "      tGravityAcc-sma()  tGravityAcc-energy()-X  tBodyAccJerk-entropy()-Z  \\\n",
       "445           -0.537725                0.895356                 -0.489499   \n",
       "1137           0.494565               -0.875945                 -0.429422   \n",
       "1575           0.200793                0.662841                 -0.685725   \n",
       "\n",
       "      tBodyAccJerk-arCoeff()-Y,1          ...           tBodyGyroMag-min()  \\\n",
       "445                    -0.088812          ...                    -0.786028   \n",
       "1137                    0.121406          ...                    -0.969075   \n",
       "1575                    0.008261          ...                    -0.990675   \n",
       "\n",
       "      tBodyGyroMag-sma()  tBodyGyroMag-iqr()  tBodyGyroMag-entropy()  \\\n",
       "445            -0.673533           -0.753764                0.872303   \n",
       "1137           -0.951198           -0.941155                0.273651   \n",
       "1575           -0.978118           -0.975401               -0.038415   \n",
       "\n",
       "      fBodyAcc-entropy()-X  fBodyAccJerk-entropy()-X  \\\n",
       "445              -0.407823                 -0.646947   \n",
       "1137             -0.782225                 -1.000000   \n",
       "1575             -0.854006                 -1.000000   \n",
       "\n",
       "      fBodyAccJerk-meanFreq()-X  fBodyGyro-entropy()-X  angle(X,gravityMean)  \\\n",
       "445                   -0.579704              -0.161772             -0.853509   \n",
       "1137                  -0.205050              -0.397729              0.324136   \n",
       "1575                   0.204247              -0.776641             -0.622640   \n",
       "\n",
       "      angle(Y,gravityMean)  \n",
       "445               0.112055  \n",
       "1137             -0.247840  \n",
       "1575             -0.027893  \n",
       "\n",
       "[3 rows x 30 columns]"
      ]
     },
     "execution_count": 45,
     "metadata": {},
     "output_type": "execute_result"
    }
   ],
   "source": [
    "rfe_X_test.sample(3)"
   ]
  },
  {
   "cell_type": "markdown",
   "metadata": {},
   "source": [
    "#### 由rfe挑出來的features 來訓練模型"
   ]
  },
  {
   "cell_type": "code",
   "execution_count": 24,
   "metadata": {},
   "outputs": [],
   "source": [
    "from sklearn.metrics import accuracy_score"
   ]
  },
  {
   "cell_type": "code",
   "execution_count": 25,
   "metadata": {},
   "outputs": [],
   "source": [
    "def run_Classifiers(model, out_accuracy, X_train, y_train, X_test, y_test):\n",
    "    for clf in Classifiers:\n",
    "        fit = clf.fit(X_train, y_train)\n",
    "        pred = fit.predict(X_test)\n",
    "        model.append(clf.__class__.__name__)\n",
    "        out_accuracy.append(accuracy_score(y_test,pred))\n",
    "    return model, out_accuracy"
   ]
  },
  {
   "cell_type": "code",
   "execution_count": 26,
   "metadata": {},
   "outputs": [],
   "source": [
    "model_rfe=[]\n",
    "out_accuracy_rfe=[]\n",
    "\n",
    "model_rfe, out_accuracy_rfe = run_Classifiers(model_rfe, out_accuracy_rfe,\n",
    "                                              rfe_X_train, y_train, rfe_X_val, y_val)"
   ]
  },
  {
   "cell_type": "code",
   "execution_count": 27,
   "metadata": {
    "collapsed": true
   },
   "outputs": [
    {
     "data": {
      "text/plain": [
       "[0.97481108312342568,\n",
       " 0.98047858942065491,\n",
       " 0.97229219143576828,\n",
       " 0.97418136020151136,\n",
       " 0.97795969773299751,\n",
       " 0.97040302267002521]"
      ]
     },
     "execution_count": 27,
     "metadata": {},
     "output_type": "execute_result"
    }
   ],
   "source": [
    "out_accuracy_rfe"
   ]
  },
  {
   "cell_type": "code",
   "execution_count": 28,
   "metadata": {},
   "outputs": [
    {
     "name": "stdout",
     "output_type": "stream",
     "text": [
      "[0.91731517509727623, 0.92412451361867709, 0.95087548638132291, 0.95573929961089499, 0.95914396887159536, 0.94941634241245132]\n"
     ]
    }
   ],
   "source": [
    "model_rfe_test=[]\n",
    "out_accuracy_rfe_test=[]\n",
    "\n",
    "model_rfe_test, out_accuracy_rfe_test = run_Classifiers(model_rfe_test, out_accuracy_rfe_test,\n",
    "                                                        rfe_X_train, y_train, rfe_X_test, y_test)\n",
    "out_accuracy_rfe_test"
   ]
  },
  {
   "cell_type": "markdown",
   "metadata": {},
   "source": [
    "# SelectFromModel\n",
    "\n",
    "https://machine-learning-python.kspax.io/Feature_Selection/ex4_feature_selection_using_selectfrommodel_md.html"
   ]
  },
  {
   "cell_type": "code",
   "execution_count": 29,
   "metadata": {},
   "outputs": [],
   "source": [
    "from sklearn.feature_selection import SelectFromModel"
   ]
  },
  {
   "cell_type": "code",
   "execution_count": 30,
   "metadata": {},
   "outputs": [
    {
     "ename": "NameError",
     "evalue": "name 'features_en_gbc' is not defined",
     "output_type": "error",
     "traceback": [
      "\u001b[1;31m---------------------------------------------------------------------------\u001b[0m",
      "\u001b[1;31mNameError\u001b[0m                                 Traceback (most recent call last)",
      "\u001b[1;32m<ipython-input-30-b09fc764d00c>\u001b[0m in \u001b[0;36m<module>\u001b[1;34m()\u001b[0m\n\u001b[0;32m      2\u001b[0m \u001b[0mmodel_en_gbc\u001b[0m \u001b[1;33m=\u001b[0m \u001b[0mSelectFromModel\u001b[0m\u001b[1;33m(\u001b[0m\u001b[0men_gbc\u001b[0m\u001b[1;33m,\u001b[0m \u001b[0mprefit\u001b[0m\u001b[1;33m=\u001b[0m \u001b[1;32mTrue\u001b[0m\u001b[1;33m)\u001b[0m\u001b[1;33m\u001b[0m\u001b[0m\n\u001b[0;32m      3\u001b[0m \u001b[0mgbc_X_train\u001b[0m \u001b[1;33m=\u001b[0m \u001b[0mmodel_en_gbc\u001b[0m\u001b[1;33m.\u001b[0m\u001b[0mtransform\u001b[0m\u001b[1;33m(\u001b[0m\u001b[0mX_train\u001b[0m\u001b[1;33m)\u001b[0m\u001b[1;33m\u001b[0m\u001b[0m\n\u001b[1;32m----> 4\u001b[1;33m \u001b[0mprint\u001b[0m\u001b[1;33m(\u001b[0m\u001b[0mfeatures_en_gbc\u001b[0m\u001b[1;33m.\u001b[0m\u001b[0mshape\u001b[0m\u001b[1;33m)\u001b[0m\u001b[1;33m\u001b[0m\u001b[0m\n\u001b[0m",
      "\u001b[1;31mNameError\u001b[0m: name 'features_en_gbc' is not defined"
     ]
    }
   ],
   "source": [
    "en_gbc = GradientBoostingClassifier().fit(X_train, y_train)\n",
    "model_en_gbc = SelectFromModel(en_gbc, prefit= True)\n",
    "gbc_X_train = model_en_gbc.transform(X_train)\n",
    "print(gbc_X_train.shape)"
   ]
  },
  {
   "cell_type": "code",
   "execution_count": 31,
   "metadata": {},
   "outputs": [
    {
     "data": {
      "text/plain": [
       "(3705, 90)"
      ]
     },
     "execution_count": 31,
     "metadata": {},
     "output_type": "execute_result"
    }
   ],
   "source": [
    "gbc_X_train.shape"
   ]
  },
  {
   "cell_type": "code",
   "execution_count": 32,
   "metadata": {},
   "outputs": [
    {
     "name": "stdout",
     "output_type": "stream",
     "text": [
      "[0.98299748110831231, 0.98551637279596982, 0.96977329974811088, 0.97607052896725444, 0.97984886649874059, 0.96095717884130982]\n"
     ]
    }
   ],
   "source": [
    "model_for_gbc=[]\n",
    "out_accuracy_gbc=[]\n",
    "\n",
    "gbc_X_val = model_en_gbc.transform(X_val)\n",
    "\n",
    "model_for_gbc, out_accuracy_gbc = run_Classifiers(model_for_gbc, out_accuracy_gbc, \n",
    "                                                  gbc_X_train, y_train, gbc_X_val, y_val)\n",
    "out_accuracy_gbc"
   ]
  },
  {
   "cell_type": "code",
   "execution_count": 33,
   "metadata": {
    "collapsed": true
   },
   "outputs": [
    {
     "data": {
      "text/plain": [
       "[0.9382295719844358,\n",
       " 0.94601167315175094,\n",
       " 0.95914396887159536,\n",
       " 0.96400778210116733,\n",
       " 0.96498054474708173,\n",
       " 0.95768482490272377]"
      ]
     },
     "execution_count": 33,
     "metadata": {},
     "output_type": "execute_result"
    }
   ],
   "source": [
    "model_for_gbc_test=[]\n",
    "out_accuracy_gbc_test=[]\n",
    "\n",
    "gbc_X_test = model_en_gbc.transform(X_test)\n",
    "\n",
    "model_for_gbc_test, out_accuracy_gbc_test = run_Classifiers(model_for_gbc_test, out_accuracy_gbc_test, \n",
    "                                                  gbc_X_train, y_train, gbc_X_test, y_test)\n",
    "out_accuracy_gbc_test"
   ]
  },
  {
   "cell_type": "code",
   "execution_count": 39,
   "metadata": {},
   "outputs": [],
   "source": [
    "gbc_index = model_en_gbc.get_support(indices=True)"
   ]
  },
  {
   "cell_type": "code",
   "execution_count": 40,
   "metadata": {
    "scrolled": false
   },
   "outputs": [
    {
     "data": {
      "text/plain": [
       "(90,)"
      ]
     },
     "execution_count": 40,
     "metadata": {},
     "output_type": "execute_result"
    }
   ],
   "source": [
    "gbc_index.shape"
   ]
  },
  {
   "cell_type": "code",
   "execution_count": 46,
   "metadata": {
    "collapsed": true
   },
   "outputs": [
    {
     "data": {
      "text/plain": [
       "[6,\n",
       " 16,\n",
       " 19,\n",
       " 29,\n",
       " 32,\n",
       " 38,\n",
       " 40,\n",
       " 41,\n",
       " 42,\n",
       " 43,\n",
       " 46,\n",
       " 49,\n",
       " 50,\n",
       " 51,\n",
       " 52,\n",
       " 53,\n",
       " 54,\n",
       " 55,\n",
       " 56,\n",
       " 57,\n",
       " 65,\n",
       " 78,\n",
       " 86,\n",
       " 95,\n",
       " 99,\n",
       " 101,\n",
       " 104,\n",
       " 113,\n",
       " 115,\n",
       " 116,\n",
       " 129,\n",
       " 132,\n",
       " 135,\n",
       " 136,\n",
       " 138,\n",
       " 139,\n",
       " 142,\n",
       " 146,\n",
       " 149,\n",
       " 152,\n",
       " 157,\n",
       " 158,\n",
       " 159,\n",
       " 166,\n",
       " 179,\n",
       " 183,\n",
       " 186,\n",
       " 187,\n",
       " 192,\n",
       " 194,\n",
       " 196,\n",
       " 197,\n",
       " 199,\n",
       " 227,\n",
       " 228,\n",
       " 232,\n",
       " 234,\n",
       " 277,\n",
       " 284,\n",
       " 290,\n",
       " 353,\n",
       " 359,\n",
       " 366,\n",
       " 371,\n",
       " 372,\n",
       " 373,\n",
       " 381,\n",
       " 389,\n",
       " 403,\n",
       " 409,\n",
       " 417,\n",
       " 421,\n",
       " 429,\n",
       " 432,\n",
       " 442,\n",
       " 445,\n",
       " 451,\n",
       " 454,\n",
       " 459,\n",
       " 461,\n",
       " 462,\n",
       " 490,\n",
       " 521,\n",
       " 537,\n",
       " 551,\n",
       " 553,\n",
       " 557,\n",
       " 558,\n",
       " 559,\n",
       " 560]"
      ]
     },
     "execution_count": 46,
     "metadata": {},
     "output_type": "execute_result"
    }
   ],
   "source": [
    "list(gbc_index)"
   ]
  },
  {
   "cell_type": "code",
   "execution_count": 47,
   "metadata": {},
   "outputs": [
    {
     "data": {
      "text/plain": [
       "numpy.ndarray"
      ]
     },
     "execution_count": 47,
     "metadata": {},
     "output_type": "execute_result"
    }
   ],
   "source": [
    "type(gbc_index)"
   ]
  },
  {
   "cell_type": "code",
   "execution_count": 42,
   "metadata": {},
   "outputs": [],
   "source": [
    "gbc_features = []\n",
    "\n",
    "for j in gbc_index :\n",
    "    for i in range( len(all_colums_list)) :\n",
    "        if i == j :\n",
    "            gbc_features.append(all_colums_list[i])            "
   ]
  },
  {
   "cell_type": "code",
   "execution_count": 43,
   "metadata": {
    "collapsed": true
   },
   "outputs": [
    {
     "data": {
      "text/plain": [
       "['tBodyAcc-mad()-X',\n",
       " 'tBodyAcc-energy()-X',\n",
       " 'tBodyAcc-iqr()-X',\n",
       " 'tBodyAcc-arCoeff()-Y,1',\n",
       " 'tBodyAcc-arCoeff()-Y,4',\n",
       " 'tBodyAcc-correlation()-X,Z',\n",
       " 'tGravityAcc-mean()-X',\n",
       " 'tGravityAcc-mean()-Y',\n",
       " 'tGravityAcc-mean()-Z',\n",
       " 'tGravityAcc-std()-X',\n",
       " 'tGravityAcc-mad()-X',\n",
       " 'tGravityAcc-max()-X',\n",
       " 'tGravityAcc-max()-Y',\n",
       " 'tGravityAcc-max()-Z',\n",
       " 'tGravityAcc-min()-X',\n",
       " 'tGravityAcc-min()-Y',\n",
       " 'tGravityAcc-min()-Z',\n",
       " 'tGravityAcc-sma()',\n",
       " 'tGravityAcc-energy()-X',\n",
       " 'tGravityAcc-energy()-Y',\n",
       " 'tGravityAcc-arCoeff()-X,1',\n",
       " 'tGravityAcc-correlation()-X,Z',\n",
       " 'tBodyAccJerk-mad()-X',\n",
       " 'tBodyAccJerk-sma()',\n",
       " 'tBodyAccJerk-iqr()-X',\n",
       " 'tBodyAccJerk-iqr()-Z',\n",
       " 'tBodyAccJerk-entropy()-Z',\n",
       " 'tBodyAccJerk-arCoeff()-Z,1',\n",
       " 'tBodyAccJerk-arCoeff()-Z,3',\n",
       " 'tBodyAccJerk-arCoeff()-Z,4',\n",
       " 'tBodyGyro-max()-X',\n",
       " 'tBodyGyro-min()-X',\n",
       " 'tBodyGyro-sma()',\n",
       " 'tBodyGyro-energy()-X',\n",
       " 'tBodyGyro-energy()-Z',\n",
       " 'tBodyGyro-iqr()-X',\n",
       " 'tBodyGyro-entropy()-X',\n",
       " 'tBodyGyro-arCoeff()-X,2',\n",
       " 'tBodyGyro-arCoeff()-Y,1',\n",
       " 'tBodyGyro-arCoeff()-Y,4',\n",
       " 'tBodyGyro-correlation()-X,Y',\n",
       " 'tBodyGyro-correlation()-X,Z',\n",
       " 'tBodyGyro-correlation()-Y,Z',\n",
       " 'tBodyGyroJerk-mad()-X',\n",
       " 'tBodyGyroJerk-iqr()-X',\n",
       " 'tBodyGyroJerk-entropy()-Y',\n",
       " 'tBodyGyroJerk-arCoeff()-X,2',\n",
       " 'tBodyGyroJerk-arCoeff()-X,3',\n",
       " 'tBodyGyroJerk-arCoeff()-Y,4',\n",
       " 'tBodyGyroJerk-arCoeff()-Z,2',\n",
       " 'tBodyGyroJerk-arCoeff()-Z,4',\n",
       " 'tBodyGyroJerk-correlation()-X,Y',\n",
       " 'tBodyGyroJerk-correlation()-Y,Z',\n",
       " 'tBodyAccJerkMag-std()',\n",
       " 'tBodyAccJerkMag-mad()',\n",
       " 'tBodyAccJerkMag-energy()',\n",
       " 'tBodyAccJerkMag-entropy()',\n",
       " 'fBodyAcc-min()-X',\n",
       " 'fBodyAcc-iqr()-X',\n",
       " 'fBodyAcc-maxInds-X',\n",
       " 'fBodyAccJerk-max()-X',\n",
       " 'fBodyAccJerk-sma()',\n",
       " 'fBodyAccJerk-entropy()-X',\n",
       " 'fBodyAccJerk-maxInds-Z',\n",
       " 'fBodyAccJerk-meanFreq()-X',\n",
       " 'fBodyAccJerk-meanFreq()-Y',\n",
       " 'fBodyAccJerk-bandsEnergy()-1,8',\n",
       " 'fBodyAccJerk-bandsEnergy()-1,16',\n",
       " 'fBodyAccJerk-bandsEnergy()-1,16.1',\n",
       " 'fBodyAccJerk-bandsEnergy()-1,8.2',\n",
       " 'fBodyAccJerk-bandsEnergy()-1,16.2',\n",
       " 'fBodyAccJerk-bandsEnergy()-1,24.2',\n",
       " 'fBodyGyro-mad()-X',\n",
       " 'fBodyGyro-max()-X',\n",
       " 'fBodyGyro-iqr()-X',\n",
       " 'fBodyGyro-entropy()-X',\n",
       " 'fBodyGyro-meanFreq()-X',\n",
       " 'fBodyGyro-skewness()-X',\n",
       " 'fBodyGyro-kurtosis()-Z',\n",
       " 'fBodyGyro-bandsEnergy()-9,16',\n",
       " 'fBodyGyro-bandsEnergy()-17,24',\n",
       " 'fBodyGyro-bandsEnergy()-17,24.2',\n",
       " 'fBodyBodyAccJerkMag-energy()',\n",
       " 'fBodyBodyGyroMag-maxInds',\n",
       " 'fBodyBodyGyroJerkMag-meanFreq()',\n",
       " 'fBodyBodyGyroJerkMag-kurtosis()',\n",
       " 'angle(tBodyGyroJerkMean,gravityMean)',\n",
       " 'angle(X,gravityMean)',\n",
       " 'angle(Y,gravityMean)',\n",
       " 'angle(Z,gravityMean)']"
      ]
     },
     "execution_count": 43,
     "metadata": {},
     "output_type": "execute_result"
    }
   ],
   "source": [
    "gbc_features"
   ]
  },
  {
   "cell_type": "markdown",
   "metadata": {},
   "source": [
    "# sklearn.feature_selection.RFECV\n",
    "http://scikit-learn.org/stable/modules/generated/sklearn.feature_selection.RFECV.html#sklearn.feature_selection.RFECV"
   ]
  },
  {
   "cell_type": "code",
   "execution_count": 52,
   "metadata": {},
   "outputs": [],
   "source": [
    "from sklearn.model_selection import StratifiedKFold\n",
    "from sklearn.feature_selection import RFECV\n",
    "import matplotlib.pyplot as plt\n",
    "%matplotlib inline"
   ]
  },
  {
   "cell_type": "code",
   "execution_count": 55,
   "metadata": {},
   "outputs": [
    {
     "name": "stdout",
     "output_type": "stream",
     "text": [
      "Optimal number of features : 225\n"
     ]
    },
    {
     "data": {
      "image/png": "[encoded data removed]",
      "text/plain": [
       "<matplotlib.figure.Figure at 0x198a49a0a58>"
      ]
     },
     "metadata": {},
     "output_type": "display_data"
    }
   ],
   "source": [
    "# Create the RFE object and compute a cross-validated score.\n",
    "svc = SVC(kernel= \"linear\")\n",
    "\n",
    "rfecv = RFECV(estimator= svc, step= 1, cv= StratifiedKFold(n_splits= 10, shuffle= True), scoring='accuracy')\n",
    "rfecv.fit(features, labels)\n",
    "\n",
    "print(\"Optimal number of features : %d\" % rfecv.n_features_)\n",
    "\n",
    "# Plot number of features VS. cross-validation scores\n",
    "plt.figure()\n",
    "plt.xlabel(\"Number of features selected\")\n",
    "plt.ylabel(\"Cross validation score (nb of correct classifications)\")\n",
    "plt.plot(range(1, len(rfecv.grid_scores_) + 1), rfecv.grid_scores_)\n",
    "plt.show()"
   ]
  },
  {
   "cell_type": "code",
   "execution_count": 61,
   "metadata": {},
   "outputs": [],
   "source": [
    "rfecv_index = rfecv.get_support(indices=True)"
   ]
  },
  {
   "cell_type": "code",
   "execution_count": 62,
   "metadata": {
    "scrolled": false
   },
   "outputs": [
    {
     "data": {
      "text/plain": [
       "(225,)"
      ]
     },
     "execution_count": 62,
     "metadata": {},
     "output_type": "execute_result"
    }
   ],
   "source": [
    "rfecv_index.shape"
   ]
  },
  {
   "cell_type": "code",
   "execution_count": 63,
   "metadata": {
    "collapsed": true
   },
   "outputs": [
    {
     "data": {
      "text/plain": [
       "[1,\n",
       " 2,\n",
       " 4,\n",
       " 10,\n",
       " 12,\n",
       " 13,\n",
       " 14,\n",
       " 15,\n",
       " 22,\n",
       " 23,\n",
       " 24,\n",
       " 25,\n",
       " 27,\n",
       " 30,\n",
       " 31,\n",
       " 32,\n",
       " 33,\n",
       " 34,\n",
       " 35,\n",
       " 36,\n",
       " 37,\n",
       " 38,\n",
       " 39,\n",
       " 40,\n",
       " 41,\n",
       " 42,\n",
       " 49,\n",
       " 50,\n",
       " 51,\n",
       " 52,\n",
       " 53,\n",
       " 54,\n",
       " 55,\n",
       " 56,\n",
       " 57,\n",
       " 58,\n",
       " 62,\n",
       " 63,\n",
       " 64,\n",
       " 67,\n",
       " 68,\n",
       " 69,\n",
       " 70,\n",
       " 73,\n",
       " 90,\n",
       " 91,\n",
       " 93,\n",
       " 102,\n",
       " 103,\n",
       " 104,\n",
       " 105,\n",
       " 108,\n",
       " 109,\n",
       " 110,\n",
       " 111,\n",
       " 112,\n",
       " 113,\n",
       " 114,\n",
       " 115,\n",
       " 118,\n",
       " 119,\n",
       " 120,\n",
       " 121,\n",
       " 123,\n",
       " 131,\n",
       " 132,\n",
       " 135,\n",
       " 136,\n",
       " 139,\n",
       " 140,\n",
       " 142,\n",
       " 145,\n",
       " 146,\n",
       " 147,\n",
       " 148,\n",
       " 149,\n",
       " 150,\n",
       " 151,\n",
       " 152,\n",
       " 153,\n",
       " 154,\n",
       " 156,\n",
       " 158,\n",
       " 159,\n",
       " 160,\n",
       " 161,\n",
       " 163,\n",
       " 165,\n",
       " 166,\n",
       " 168,\n",
       " 171,\n",
       " 175,\n",
       " 179,\n",
       " 182,\n",
       " 183,\n",
       " 184,\n",
       " 185,\n",
       " 186,\n",
       " 187,\n",
       " 188,\n",
       " 189,\n",
       " 190,\n",
       " 191,\n",
       " 192,\n",
       " 193,\n",
       " 194,\n",
       " 195,\n",
       " 196,\n",
       " 197,\n",
       " 198,\n",
       " 199,\n",
       " 200,\n",
       " 202,\n",
       " 205,\n",
       " 207,\n",
       " 208,\n",
       " 212,\n",
       " 213,\n",
       " 215,\n",
       " 218,\n",
       " 220,\n",
       " 221,\n",
       " 225,\n",
       " 234,\n",
       " 235,\n",
       " 238,\n",
       " 239,\n",
       " 241,\n",
       " 243,\n",
       " 244,\n",
       " 246,\n",
       " 247,\n",
       " 250,\n",
       " 251,\n",
       " 252,\n",
       " 256,\n",
       " 257,\n",
       " 260,\n",
       " 263,\n",
       " 264,\n",
       " 266,\n",
       " 269,\n",
       " 270,\n",
       " 272,\n",
       " 273,\n",
       " 275,\n",
       " 276,\n",
       " 277,\n",
       " 279,\n",
       " 285,\n",
       " 287,\n",
       " 288,\n",
       " 289,\n",
       " 292,\n",
       " 293,\n",
       " 294,\n",
       " 295,\n",
       " 297,\n",
       " 298,\n",
       " 299,\n",
       " 301,\n",
       " 348,\n",
       " 354,\n",
       " 365,\n",
       " 366,\n",
       " 367,\n",
       " 368,\n",
       " 369,\n",
       " 370,\n",
       " 372,\n",
       " 374,\n",
       " 376,\n",
       " 379,\n",
       " 380,\n",
       " 426,\n",
       " 434,\n",
       " 435,\n",
       " 436,\n",
       " 437,\n",
       " 442,\n",
       " 445,\n",
       " 446,\n",
       " 447,\n",
       " 448,\n",
       " 449,\n",
       " 450,\n",
       " 451,\n",
       " 452,\n",
       " 453,\n",
       " 454,\n",
       " 455,\n",
       " 456,\n",
       " 457,\n",
       " 460,\n",
       " 503,\n",
       " 504,\n",
       " 505,\n",
       " 506,\n",
       " 511,\n",
       " 513,\n",
       " 516,\n",
       " 518,\n",
       " 523,\n",
       " 525,\n",
       " 527,\n",
       " 529,\n",
       " 531,\n",
       " 532,\n",
       " 535,\n",
       " 536,\n",
       " 537,\n",
       " 538,\n",
       " 539,\n",
       " 540,\n",
       " 545,\n",
       " 548,\n",
       " 549,\n",
       " 550,\n",
       " 552,\n",
       " 553,\n",
       " 556,\n",
       " 557,\n",
       " 558,\n",
       " 559,\n",
       " 560]"
      ]
     },
     "execution_count": 63,
     "metadata": {},
     "output_type": "execute_result"
    }
   ],
   "source": [
    "list(rfecv_index)"
   ]
  },
  {
   "cell_type": "code",
   "execution_count": 64,
   "metadata": {},
   "outputs": [],
   "source": [
    "rfecv_features = []\n",
    "\n",
    "for j in rfecv_index :\n",
    "    for i in range( len(all_colums_list)) :\n",
    "        if i == j :\n",
    "            rfecv_features.append(all_colums_list[i])            "
   ]
  },
  {
   "cell_type": "code",
   "execution_count": 65,
   "metadata": {},
   "outputs": [
    {
     "data": {
      "text/plain": [
       "['tBodyAcc-mean()-Y',\n",
       " 'tBodyAcc-mean()-Z',\n",
       " 'tBodyAcc-std()-Y',\n",
       " 'tBodyAcc-max()-Y',\n",
       " 'tBodyAcc-min()-X',\n",
       " 'tBodyAcc-min()-Y',\n",
       " 'tBodyAcc-min()-Z',\n",
       " 'tBodyAcc-sma()',\n",
       " 'tBodyAcc-entropy()-X',\n",
       " 'tBodyAcc-entropy()-Y',\n",
       " 'tBodyAcc-entropy()-Z',\n",
       " 'tBodyAcc-arCoeff()-X,1',\n",
       " 'tBodyAcc-arCoeff()-X,3',\n",
       " 'tBodyAcc-arCoeff()-Y,2',\n",
       " 'tBodyAcc-arCoeff()-Y,3',\n",
       " 'tBodyAcc-arCoeff()-Y,4',\n",
       " 'tBodyAcc-arCoeff()-Z,1',\n",
       " 'tBodyAcc-arCoeff()-Z,2',\n",
       " 'tBodyAcc-arCoeff()-Z,3',\n",
       " 'tBodyAcc-arCoeff()-Z,4',\n",
       " 'tBodyAcc-correlation()-X,Y',\n",
       " 'tBodyAcc-correlation()-X,Z',\n",
       " 'tBodyAcc-correlation()-Y,Z',\n",
       " 'tGravityAcc-mean()-X',\n",
       " 'tGravityAcc-mean()-Y',\n",
       " 'tGravityAcc-mean()-Z',\n",
       " 'tGravityAcc-max()-X',\n",
       " 'tGravityAcc-max()-Y',\n",
       " 'tGravityAcc-max()-Z',\n",
       " 'tGravityAcc-min()-X',\n",
       " 'tGravityAcc-min()-Y',\n",
       " 'tGravityAcc-min()-Z',\n",
       " 'tGravityAcc-sma()',\n",
       " 'tGravityAcc-energy()-X',\n",
       " 'tGravityAcc-energy()-Y',\n",
       " 'tGravityAcc-energy()-Z',\n",
       " 'tGravityAcc-entropy()-X',\n",
       " 'tGravityAcc-entropy()-Y',\n",
       " 'tGravityAcc-entropy()-Z',\n",
       " 'tGravityAcc-arCoeff()-X,3',\n",
       " 'tGravityAcc-arCoeff()-X,4',\n",
       " 'tGravityAcc-arCoeff()-Y,1',\n",
       " 'tGravityAcc-arCoeff()-Y,2',\n",
       " 'tGravityAcc-arCoeff()-Z,1',\n",
       " 'tBodyAccJerk-max()-Y',\n",
       " 'tBodyAccJerk-max()-Z',\n",
       " 'tBodyAccJerk-min()-Y',\n",
       " 'tBodyAccJerk-entropy()-X',\n",
       " 'tBodyAccJerk-entropy()-Y',\n",
       " 'tBodyAccJerk-entropy()-Z',\n",
       " 'tBodyAccJerk-arCoeff()-X,1',\n",
       " 'tBodyAccJerk-arCoeff()-X,4',\n",
       " 'tBodyAccJerk-arCoeff()-Y,1',\n",
       " 'tBodyAccJerk-arCoeff()-Y,2',\n",
       " 'tBodyAccJerk-arCoeff()-Y,3',\n",
       " 'tBodyAccJerk-arCoeff()-Y,4',\n",
       " 'tBodyAccJerk-arCoeff()-Z,1',\n",
       " 'tBodyAccJerk-arCoeff()-Z,2',\n",
       " 'tBodyAccJerk-arCoeff()-Z,3',\n",
       " 'tBodyAccJerk-correlation()-X,Z',\n",
       " 'tBodyAccJerk-correlation()-Y,Z',\n",
       " 'tBodyGyro-mean()-X',\n",
       " 'tBodyGyro-mean()-Y',\n",
       " 'tBodyGyro-std()-X',\n",
       " 'tBodyGyro-max()-Z',\n",
       " 'tBodyGyro-min()-X',\n",
       " 'tBodyGyro-sma()',\n",
       " 'tBodyGyro-energy()-X',\n",
       " 'tBodyGyro-iqr()-X',\n",
       " 'tBodyGyro-iqr()-Y',\n",
       " 'tBodyGyro-entropy()-X',\n",
       " 'tBodyGyro-arCoeff()-X,1',\n",
       " 'tBodyGyro-arCoeff()-X,2',\n",
       " 'tBodyGyro-arCoeff()-X,3',\n",
       " 'tBodyGyro-arCoeff()-X,4',\n",
       " 'tBodyGyro-arCoeff()-Y,1',\n",
       " 'tBodyGyro-arCoeff()-Y,2',\n",
       " 'tBodyGyro-arCoeff()-Y,3',\n",
       " 'tBodyGyro-arCoeff()-Y,4',\n",
       " 'tBodyGyro-arCoeff()-Z,1',\n",
       " 'tBodyGyro-arCoeff()-Z,2',\n",
       " 'tBodyGyro-arCoeff()-Z,4',\n",
       " 'tBodyGyro-correlation()-X,Z',\n",
       " 'tBodyGyro-correlation()-Y,Z',\n",
       " 'tBodyGyroJerk-mean()-X',\n",
       " 'tBodyGyroJerk-mean()-Y',\n",
       " 'tBodyGyroJerk-std()-X',\n",
       " 'tBodyGyroJerk-std()-Z',\n",
       " 'tBodyGyroJerk-mad()-X',\n",
       " 'tBodyGyroJerk-mad()-Z',\n",
       " 'tBodyGyroJerk-max()-Z',\n",
       " 'tBodyGyroJerk-sma()',\n",
       " 'tBodyGyroJerk-iqr()-X',\n",
       " 'tBodyGyroJerk-entropy()-X',\n",
       " 'tBodyGyroJerk-entropy()-Y',\n",
       " 'tBodyGyroJerk-entropy()-Z',\n",
       " 'tBodyGyroJerk-arCoeff()-X,1',\n",
       " 'tBodyGyroJerk-arCoeff()-X,2',\n",
       " 'tBodyGyroJerk-arCoeff()-X,3',\n",
       " 'tBodyGyroJerk-arCoeff()-X,4',\n",
       " 'tBodyGyroJerk-arCoeff()-Y,1',\n",
       " 'tBodyGyroJerk-arCoeff()-Y,2',\n",
       " 'tBodyGyroJerk-arCoeff()-Y,3',\n",
       " 'tBodyGyroJerk-arCoeff()-Y,4',\n",
       " 'tBodyGyroJerk-arCoeff()-Z,1',\n",
       " 'tBodyGyroJerk-arCoeff()-Z,2',\n",
       " 'tBodyGyroJerk-arCoeff()-Z,3',\n",
       " 'tBodyGyroJerk-arCoeff()-Z,4',\n",
       " 'tBodyGyroJerk-correlation()-X,Y',\n",
       " 'tBodyGyroJerk-correlation()-X,Z',\n",
       " 'tBodyGyroJerk-correlation()-Y,Z',\n",
       " 'tBodyAccMag-mean()',\n",
       " 'tBodyAccMag-mad()',\n",
       " 'tBodyAccMag-sma()',\n",
       " 'tBodyAccMag-iqr()',\n",
       " 'tBodyAccMag-entropy()',\n",
       " 'tBodyAccMag-arCoeff()4',\n",
       " 'tGravityAccMag-mean()',\n",
       " 'tGravityAccMag-mad()',\n",
       " 'tGravityAccMag-sma()',\n",
       " 'tGravityAccMag-iqr()',\n",
       " 'tGravityAccMag-entropy()',\n",
       " 'tGravityAccMag-arCoeff()4',\n",
       " 'tBodyAccJerkMag-entropy()',\n",
       " 'tBodyAccJerkMag-arCoeff()1',\n",
       " 'tBodyAccJerkMag-arCoeff()4',\n",
       " 'tBodyGyroMag-mean()',\n",
       " 'tBodyGyroMag-mad()',\n",
       " 'tBodyGyroMag-min()',\n",
       " 'tBodyGyroMag-sma()',\n",
       " 'tBodyGyroMag-iqr()',\n",
       " 'tBodyGyroMag-entropy()',\n",
       " 'tBodyGyroMag-arCoeff()3',\n",
       " 'tBodyGyroMag-arCoeff()4',\n",
       " 'tBodyGyroJerkMag-mean()',\n",
       " 'tBodyGyroJerkMag-min()',\n",
       " 'tBodyGyroJerkMag-sma()',\n",
       " 'tBodyGyroJerkMag-entropy()',\n",
       " 'tBodyGyroJerkMag-arCoeff()3',\n",
       " 'tBodyGyroJerkMag-arCoeff()4',\n",
       " 'fBodyAcc-mean()-Y',\n",
       " 'fBodyAcc-std()-Y',\n",
       " 'fBodyAcc-std()-Z',\n",
       " 'fBodyAcc-mad()-Y',\n",
       " 'fBodyAcc-mad()-Z',\n",
       " 'fBodyAcc-max()-Y',\n",
       " 'fBodyAcc-max()-Z',\n",
       " 'fBodyAcc-min()-X',\n",
       " 'fBodyAcc-min()-Z',\n",
       " 'fBodyAcc-iqr()-Y',\n",
       " 'fBodyAcc-entropy()-X',\n",
       " 'fBodyAcc-entropy()-Y',\n",
       " 'fBodyAcc-entropy()-Z',\n",
       " 'fBodyAcc-maxInds-Z',\n",
       " 'fBodyAcc-meanFreq()-X',\n",
       " 'fBodyAcc-meanFreq()-Y',\n",
       " 'fBodyAcc-meanFreq()-Z',\n",
       " 'fBodyAcc-kurtosis()-X',\n",
       " 'fBodyAcc-skewness()-Y',\n",
       " 'fBodyAcc-kurtosis()-Y',\n",
       " 'fBodyAcc-kurtosis()-Z',\n",
       " 'fBodyAccJerk-std()-Y',\n",
       " 'fBodyAccJerk-max()-Y',\n",
       " 'fBodyAccJerk-iqr()-Z',\n",
       " 'fBodyAccJerk-entropy()-X',\n",
       " 'fBodyAccJerk-entropy()-Y',\n",
       " 'fBodyAccJerk-entropy()-Z',\n",
       " 'fBodyAccJerk-maxInds-X',\n",
       " 'fBodyAccJerk-maxInds-Y',\n",
       " 'fBodyAccJerk-meanFreq()-X',\n",
       " 'fBodyAccJerk-meanFreq()-Z',\n",
       " 'fBodyAccJerk-kurtosis()-X',\n",
       " 'fBodyAccJerk-skewness()-Z',\n",
       " 'fBodyAccJerk-kurtosis()-Z',\n",
       " 'fBodyGyro-std()-X',\n",
       " 'fBodyGyro-max()-Z',\n",
       " 'fBodyGyro-min()-X',\n",
       " 'fBodyGyro-min()-Y',\n",
       " 'fBodyGyro-min()-Z',\n",
       " 'fBodyGyro-iqr()-X',\n",
       " 'fBodyGyro-entropy()-X',\n",
       " 'fBodyGyro-entropy()-Y',\n",
       " 'fBodyGyro-entropy()-Z',\n",
       " 'fBodyGyro-maxInds-X',\n",
       " 'fBodyGyro-maxInds-Y',\n",
       " 'fBodyGyro-maxInds-Z',\n",
       " 'fBodyGyro-meanFreq()-X',\n",
       " 'fBodyGyro-meanFreq()-Y',\n",
       " 'fBodyGyro-meanFreq()-Z',\n",
       " 'fBodyGyro-skewness()-X',\n",
       " 'fBodyGyro-kurtosis()-X',\n",
       " 'fBodyGyro-skewness()-Y',\n",
       " 'fBodyGyro-kurtosis()-Y',\n",
       " 'fBodyGyro-bandsEnergy()-1,8',\n",
       " 'fBodyAccMag-std()',\n",
       " 'fBodyAccMag-mad()',\n",
       " 'fBodyAccMag-max()',\n",
       " 'fBodyAccMag-min()',\n",
       " 'fBodyAccMag-maxInds',\n",
       " 'fBodyAccMag-skewness()',\n",
       " 'fBodyBodyAccJerkMag-std()',\n",
       " 'fBodyBodyAccJerkMag-max()',\n",
       " 'fBodyBodyAccJerkMag-entropy()',\n",
       " 'fBodyBodyAccJerkMag-meanFreq()',\n",
       " 'fBodyBodyAccJerkMag-kurtosis()',\n",
       " 'fBodyBodyGyroMag-std()',\n",
       " 'fBodyBodyGyroMag-max()',\n",
       " 'fBodyBodyGyroMag-min()',\n",
       " 'fBodyBodyGyroMag-iqr()',\n",
       " 'fBodyBodyGyroMag-entropy()',\n",
       " 'fBodyBodyGyroMag-maxInds',\n",
       " 'fBodyBodyGyroMag-meanFreq()',\n",
       " 'fBodyBodyGyroMag-skewness()',\n",
       " 'fBodyBodyGyroMag-kurtosis()',\n",
       " 'fBodyBodyGyroJerkMag-min()',\n",
       " 'fBodyBodyGyroJerkMag-iqr()',\n",
       " 'fBodyBodyGyroJerkMag-entropy()',\n",
       " 'fBodyBodyGyroJerkMag-maxInds',\n",
       " 'fBodyBodyGyroJerkMag-skewness()',\n",
       " 'fBodyBodyGyroJerkMag-kurtosis()',\n",
       " 'angle(tBodyGyroMean,gravityMean)',\n",
       " 'angle(tBodyGyroJerkMean,gravityMean)',\n",
       " 'angle(X,gravityMean)',\n",
       " 'angle(Y,gravityMean)',\n",
       " 'angle(Z,gravityMean)']"
      ]
     },
     "execution_count": 65,
     "metadata": {},
     "output_type": "execute_result"
    }
   ],
   "source": [
    "rfecv_features"
   ]
  },
  {
   "cell_type": "code",
   "execution_count": null,
   "metadata": {},
   "outputs": [],
   "source": []
  },
  {
   "cell_type": "code",
   "execution_count": 54,
   "metadata": {},
   "outputs": [
    {
     "name": "stdout",
     "output_type": "stream",
     "text": [
      "Optimal number of features : 111\n"
     ]
    },
    {
     "data": {
      "image/png": "[encoded data removed]",
      "text/plain": [
       "<matplotlib.figure.Figure at 0x198a6224b70>"
      ]
     },
     "metadata": {},
     "output_type": "display_data"
    }
   ],
   "source": [
    "# Create the RFE object and compute a cross-validated score.\n",
    "svc20 = SVC(kernel= \"linear\")\n",
    "\n",
    "rfecv20 = RFECV(estimator= svc20, step= 5, cv= StratifiedKFold(n_splits= 10, shuffle= True), scoring='accuracy')\n",
    "rfecv20.fit(features, labels)\n",
    "\n",
    "print(\"Optimal number of features : %d\" % rfecv20.n_features_)\n",
    "\n",
    "# Plot number of features VS. cross-validation scores\n",
    "plt.figure()\n",
    "plt.xlabel(\"Number of features selected\")\n",
    "plt.ylabel(\"Cross validation score (nb of correct classifications)\")\n",
    "plt.plot(range(1, len(rfecv20.grid_scores_) + 1), rfecv20.grid_scores_)\n",
    "plt.show()"
   ]
  },
  {
   "cell_type": "code",
   "execution_count": 56,
   "metadata": {},
   "outputs": [],
   "source": [
    "rfecv20_index = rfecv20.get_support(indices=True)"
   ]
  },
  {
   "cell_type": "code",
   "execution_count": 57,
   "metadata": {
    "scrolled": false
   },
   "outputs": [
    {
     "data": {
      "text/plain": [
       "(111,)"
      ]
     },
     "execution_count": 57,
     "metadata": {},
     "output_type": "execute_result"
    }
   ],
   "source": [
    "rfecv20_index.shape"
   ]
  },
  {
   "cell_type": "code",
   "execution_count": 58,
   "metadata": {
    "collapsed": true
   },
   "outputs": [
    {
     "data": {
      "text/plain": [
       "[12,\n",
       " 13,\n",
       " 14,\n",
       " 22,\n",
       " 23,\n",
       " 27,\n",
       " 30,\n",
       " 31,\n",
       " 32,\n",
       " 35,\n",
       " 36,\n",
       " 37,\n",
       " 38,\n",
       " 40,\n",
       " 41,\n",
       " 42,\n",
       " 49,\n",
       " 50,\n",
       " 52,\n",
       " 53,\n",
       " 55,\n",
       " 56,\n",
       " 57,\n",
       " 58,\n",
       " 63,\n",
       " 64,\n",
       " 68,\n",
       " 69,\n",
       " 70,\n",
       " 93,\n",
       " 102,\n",
       " 103,\n",
       " 104,\n",
       " 105,\n",
       " 109,\n",
       " 110,\n",
       " 112,\n",
       " 113,\n",
       " 114,\n",
       " 115,\n",
       " 118,\n",
       " 119,\n",
       " 120,\n",
       " 121,\n",
       " 131,\n",
       " 135,\n",
       " 140,\n",
       " 142,\n",
       " 145,\n",
       " 147,\n",
       " 149,\n",
       " 152,\n",
       " 153,\n",
       " 156,\n",
       " 158,\n",
       " 166,\n",
       " 179,\n",
       " 182,\n",
       " 183,\n",
       " 184,\n",
       " 185,\n",
       " 186,\n",
       " 187,\n",
       " 189,\n",
       " 190,\n",
       " 191,\n",
       " 192,\n",
       " 193,\n",
       " 194,\n",
       " 195,\n",
       " 196,\n",
       " 197,\n",
       " 208,\n",
       " 221,\n",
       " 235,\n",
       " 238,\n",
       " 239,\n",
       " 241,\n",
       " 243,\n",
       " 244,\n",
       " 246,\n",
       " 247,\n",
       " 260,\n",
       " 272,\n",
       " 276,\n",
       " 287,\n",
       " 289,\n",
       " 295,\n",
       " 298,\n",
       " 366,\n",
       " 368,\n",
       " 369,\n",
       " 372,\n",
       " 436,\n",
       " 437,\n",
       " 445,\n",
       " 446,\n",
       " 447,\n",
       " 450,\n",
       " 451,\n",
       " 454,\n",
       " 455,\n",
       " 511,\n",
       " 523,\n",
       " 527,\n",
       " 531,\n",
       " 535,\n",
       " 549,\n",
       " 550,\n",
       " 558,\n",
       " 559]"
      ]
     },
     "execution_count": 58,
     "metadata": {},
     "output_type": "execute_result"
    }
   ],
   "source": [
    "list(rfecv20_index)"
   ]
  },
  {
   "cell_type": "code",
   "execution_count": 59,
   "metadata": {},
   "outputs": [],
   "source": [
    "rfecv20_features = []\n",
    "\n",
    "for j in rfecv20_index :\n",
    "    for i in range( len(all_colums_list)) :\n",
    "        if i == j :\n",
    "            rfecv20_features.append(all_colums_list[i])   "
   ]
  },
  {
   "cell_type": "code",
   "execution_count": 60,
   "metadata": {
    "collapsed": true
   },
   "outputs": [
    {
     "data": {
      "text/plain": [
       "['tBodyAcc-min()-X',\n",
       " 'tBodyAcc-min()-Y',\n",
       " 'tBodyAcc-min()-Z',\n",
       " 'tBodyAcc-entropy()-X',\n",
       " 'tBodyAcc-entropy()-Y',\n",
       " 'tBodyAcc-arCoeff()-X,3',\n",
       " 'tBodyAcc-arCoeff()-Y,2',\n",
       " 'tBodyAcc-arCoeff()-Y,3',\n",
       " 'tBodyAcc-arCoeff()-Y,4',\n",
       " 'tBodyAcc-arCoeff()-Z,3',\n",
       " 'tBodyAcc-arCoeff()-Z,4',\n",
       " 'tBodyAcc-correlation()-X,Y',\n",
       " 'tBodyAcc-correlation()-X,Z',\n",
       " 'tGravityAcc-mean()-X',\n",
       " 'tGravityAcc-mean()-Y',\n",
       " 'tGravityAcc-mean()-Z',\n",
       " 'tGravityAcc-max()-X',\n",
       " 'tGravityAcc-max()-Y',\n",
       " 'tGravityAcc-min()-X',\n",
       " 'tGravityAcc-min()-Y',\n",
       " 'tGravityAcc-sma()',\n",
       " 'tGravityAcc-energy()-X',\n",
       " 'tGravityAcc-energy()-Y',\n",
       " 'tGravityAcc-energy()-Z',\n",
       " 'tGravityAcc-entropy()-Y',\n",
       " 'tGravityAcc-entropy()-Z',\n",
       " 'tGravityAcc-arCoeff()-X,4',\n",
       " 'tGravityAcc-arCoeff()-Y,1',\n",
       " 'tGravityAcc-arCoeff()-Y,2',\n",
       " 'tBodyAccJerk-min()-Y',\n",
       " 'tBodyAccJerk-entropy()-X',\n",
       " 'tBodyAccJerk-entropy()-Y',\n",
       " 'tBodyAccJerk-entropy()-Z',\n",
       " 'tBodyAccJerk-arCoeff()-X,1',\n",
       " 'tBodyAccJerk-arCoeff()-Y,1',\n",
       " 'tBodyAccJerk-arCoeff()-Y,2',\n",
       " 'tBodyAccJerk-arCoeff()-Y,4',\n",
       " 'tBodyAccJerk-arCoeff()-Z,1',\n",
       " 'tBodyAccJerk-arCoeff()-Z,2',\n",
       " 'tBodyAccJerk-arCoeff()-Z,3',\n",
       " 'tBodyAccJerk-correlation()-X,Z',\n",
       " 'tBodyAccJerk-correlation()-Y,Z',\n",
       " 'tBodyGyro-mean()-X',\n",
       " 'tBodyGyro-mean()-Y',\n",
       " 'tBodyGyro-max()-Z',\n",
       " 'tBodyGyro-sma()',\n",
       " 'tBodyGyro-iqr()-Y',\n",
       " 'tBodyGyro-entropy()-X',\n",
       " 'tBodyGyro-arCoeff()-X,1',\n",
       " 'tBodyGyro-arCoeff()-X,3',\n",
       " 'tBodyGyro-arCoeff()-Y,1',\n",
       " 'tBodyGyro-arCoeff()-Y,4',\n",
       " 'tBodyGyro-arCoeff()-Z,1',\n",
       " 'tBodyGyro-arCoeff()-Z,4',\n",
       " 'tBodyGyro-correlation()-X,Z',\n",
       " 'tBodyGyroJerk-mad()-X',\n",
       " 'tBodyGyroJerk-iqr()-X',\n",
       " 'tBodyGyroJerk-entropy()-X',\n",
       " 'tBodyGyroJerk-entropy()-Y',\n",
       " 'tBodyGyroJerk-entropy()-Z',\n",
       " 'tBodyGyroJerk-arCoeff()-X,1',\n",
       " 'tBodyGyroJerk-arCoeff()-X,2',\n",
       " 'tBodyGyroJerk-arCoeff()-X,3',\n",
       " 'tBodyGyroJerk-arCoeff()-Y,1',\n",
       " 'tBodyGyroJerk-arCoeff()-Y,2',\n",
       " 'tBodyGyroJerk-arCoeff()-Y,3',\n",
       " 'tBodyGyroJerk-arCoeff()-Y,4',\n",
       " 'tBodyGyroJerk-arCoeff()-Z,1',\n",
       " 'tBodyGyroJerk-arCoeff()-Z,2',\n",
       " 'tBodyGyroJerk-arCoeff()-Z,3',\n",
       " 'tBodyGyroJerk-arCoeff()-Z,4',\n",
       " 'tBodyGyroJerk-correlation()-X,Y',\n",
       " 'tBodyAccMag-entropy()',\n",
       " 'tGravityAccMag-entropy()',\n",
       " 'tBodyAccJerkMag-arCoeff()1',\n",
       " 'tBodyAccJerkMag-arCoeff()4',\n",
       " 'tBodyGyroMag-mean()',\n",
       " 'tBodyGyroMag-mad()',\n",
       " 'tBodyGyroMag-min()',\n",
       " 'tBodyGyroMag-sma()',\n",
       " 'tBodyGyroMag-iqr()',\n",
       " 'tBodyGyroMag-entropy()',\n",
       " 'tBodyGyroJerkMag-entropy()',\n",
       " 'fBodyAcc-mad()-Y',\n",
       " 'fBodyAcc-max()-Z',\n",
       " 'fBodyAcc-entropy()-X',\n",
       " 'fBodyAcc-entropy()-Z',\n",
       " 'fBodyAcc-meanFreq()-Z',\n",
       " 'fBodyAcc-skewness()-Y',\n",
       " 'fBodyAccJerk-entropy()-X',\n",
       " 'fBodyAccJerk-entropy()-Z',\n",
       " 'fBodyAccJerk-maxInds-X',\n",
       " 'fBodyAccJerk-meanFreq()-X',\n",
       " 'fBodyGyro-min()-Y',\n",
       " 'fBodyGyro-min()-Z',\n",
       " 'fBodyGyro-entropy()-X',\n",
       " 'fBodyGyro-entropy()-Y',\n",
       " 'fBodyGyro-entropy()-Z',\n",
       " 'fBodyGyro-maxInds-Z',\n",
       " 'fBodyGyro-meanFreq()-X',\n",
       " 'fBodyGyro-skewness()-X',\n",
       " 'fBodyGyro-kurtosis()-X',\n",
       " 'fBodyAccMag-maxInds',\n",
       " 'fBodyBodyAccJerkMag-entropy()',\n",
       " 'fBodyBodyAccJerkMag-kurtosis()',\n",
       " 'fBodyBodyGyroMag-max()',\n",
       " 'fBodyBodyGyroMag-iqr()',\n",
       " 'fBodyBodyGyroJerkMag-entropy()',\n",
       " 'fBodyBodyGyroJerkMag-maxInds',\n",
       " 'angle(X,gravityMean)',\n",
       " 'angle(Y,gravityMean)']"
      ]
     },
     "execution_count": 60,
     "metadata": {},
     "output_type": "execute_result"
    }
   ],
   "source": [
    "rfecv20_features"
   ]
  },
  {
   "cell_type": "code",
   "execution_count": null,
   "metadata": {},
   "outputs": [],
   "source": []
  },
  {
   "cell_type": "markdown",
   "metadata": {},
   "source": [
    "# 取交集"
   ]
  },
  {
   "cell_type": "markdown",
   "metadata": {},
   "source": [
    "### rfe to dic 120"
   ]
  },
  {
   "cell_type": "code",
   "execution_count": 70,
   "metadata": {},
   "outputs": [],
   "source": [
    "rfe_dict = dict(zip(rank_120_index, rank_120_feature))"
   ]
  },
  {
   "cell_type": "markdown",
   "metadata": {},
   "source": [
    "### gbc to dic 90"
   ]
  },
  {
   "cell_type": "code",
   "execution_count": 72,
   "metadata": {},
   "outputs": [],
   "source": [
    "gbc_dict = dict(zip(list(gbc_index), gbc_features))"
   ]
  },
  {
   "cell_type": "markdown",
   "metadata": {},
   "source": [
    "### rfecv to dic 111"
   ]
  },
  {
   "cell_type": "code",
   "execution_count": 73,
   "metadata": {},
   "outputs": [],
   "source": [
    "rfecv20_dict = dict(zip(list(rfecv20_index), rfecv20_features))"
   ]
  },
  {
   "cell_type": "markdown",
   "metadata": {},
   "source": [
    "### 取交集"
   ]
  },
  {
   "cell_type": "code",
   "execution_count": 84,
   "metadata": {},
   "outputs": [],
   "source": [
    "item = [item for item in gbc_dict.keys() if item in rfe_dict.keys()]"
   ]
  },
  {
   "cell_type": "code",
   "execution_count": 87,
   "metadata": {},
   "outputs": [],
   "source": [
    "item2 = [x for x in item if x in rfecv20_dict.keys()]"
   ]
  },
  {
   "cell_type": "code",
   "execution_count": 89,
   "metadata": {
    "collapsed": true
   },
   "outputs": [
    {
     "data": {
      "text/plain": [
       "[32,\n",
       " 38,\n",
       " 40,\n",
       " 41,\n",
       " 42,\n",
       " 49,\n",
       " 50,\n",
       " 52,\n",
       " 53,\n",
       " 55,\n",
       " 56,\n",
       " 57,\n",
       " 104,\n",
       " 113,\n",
       " 115,\n",
       " 135,\n",
       " 142,\n",
       " 149,\n",
       " 152,\n",
       " 158,\n",
       " 166,\n",
       " 179,\n",
       " 183,\n",
       " 186,\n",
       " 187,\n",
       " 192,\n",
       " 194,\n",
       " 196,\n",
       " 197,\n",
       " 366,\n",
       " 372,\n",
       " 445,\n",
       " 451,\n",
       " 454,\n",
       " 558,\n",
       " 559]"
      ]
     },
     "execution_count": 89,
     "metadata": {},
     "output_type": "execute_result"
    }
   ],
   "source": [
    "item2"
   ]
  },
  {
   "cell_type": "code",
   "execution_count": 90,
   "metadata": {},
   "outputs": [],
   "source": [
    "union_features = []\n",
    "\n",
    "for j in item2 :\n",
    "    for i in range( len(all_colums_list)) :\n",
    "        if i == j :\n",
    "            union_features.append(all_colums_list[i])  "
   ]
  },
  {
   "cell_type": "code",
   "execution_count": 91,
   "metadata": {
    "collapsed": true
   },
   "outputs": [
    {
     "data": {
      "text/plain": [
       "['tBodyAcc-arCoeff()-Y,4',\n",
       " 'tBodyAcc-correlation()-X,Z',\n",
       " 'tGravityAcc-mean()-X',\n",
       " 'tGravityAcc-mean()-Y',\n",
       " 'tGravityAcc-mean()-Z',\n",
       " 'tGravityAcc-max()-X',\n",
       " 'tGravityAcc-max()-Y',\n",
       " 'tGravityAcc-min()-X',\n",
       " 'tGravityAcc-min()-Y',\n",
       " 'tGravityAcc-sma()',\n",
       " 'tGravityAcc-energy()-X',\n",
       " 'tGravityAcc-energy()-Y',\n",
       " 'tBodyAccJerk-entropy()-Z',\n",
       " 'tBodyAccJerk-arCoeff()-Z,1',\n",
       " 'tBodyAccJerk-arCoeff()-Z,3',\n",
       " 'tBodyGyro-sma()',\n",
       " 'tBodyGyro-entropy()-X',\n",
       " 'tBodyGyro-arCoeff()-Y,1',\n",
       " 'tBodyGyro-arCoeff()-Y,4',\n",
       " 'tBodyGyro-correlation()-X,Z',\n",
       " 'tBodyGyroJerk-mad()-X',\n",
       " 'tBodyGyroJerk-iqr()-X',\n",
       " 'tBodyGyroJerk-entropy()-Y',\n",
       " 'tBodyGyroJerk-arCoeff()-X,2',\n",
       " 'tBodyGyroJerk-arCoeff()-X,3',\n",
       " 'tBodyGyroJerk-arCoeff()-Y,4',\n",
       " 'tBodyGyroJerk-arCoeff()-Z,2',\n",
       " 'tBodyGyroJerk-arCoeff()-Z,4',\n",
       " 'tBodyGyroJerk-correlation()-X,Y',\n",
       " 'fBodyAccJerk-entropy()-X',\n",
       " 'fBodyAccJerk-meanFreq()-X',\n",
       " 'fBodyGyro-entropy()-X',\n",
       " 'fBodyGyro-meanFreq()-X',\n",
       " 'fBodyGyro-skewness()-X',\n",
       " 'angle(X,gravityMean)',\n",
       " 'angle(Y,gravityMean)']"
      ]
     },
     "execution_count": 91,
     "metadata": {},
     "output_type": "execute_result"
    }
   ],
   "source": [
    "union_features"
   ]
  },
  {
   "cell_type": "markdown",
   "metadata": {},
   "source": [
    "## 篩選出的36個特徵分類效果"
   ]
  },
  {
   "cell_type": "code",
   "execution_count": 92,
   "metadata": {},
   "outputs": [],
   "source": [
    "f_X_train = pd.DataFrame()\n",
    "f_X_val = pd.DataFrame()\n",
    "f_X_test = pd.DataFrame()\n",
    "\n",
    "for i in range(X_train.shape[1]):\n",
    "    for rank in union_features:\n",
    "        if X_train.columns[i] == rank:\n",
    "            f_X_train = pd.concat([f_X_train, X_train.loc[:, rank]], axis= 1, ignore_index= False)\n",
    "            f_X_val = pd.concat([f_X_val, X_val.loc[:, rank]], axis= 1, ignore_index= False)\n",
    "            f_X_test = pd.concat([f_X_test, X_test.loc[:, rank]], axis= 1, ignore_index= False)\n",
    "            break"
   ]
  },
  {
   "cell_type": "code",
   "execution_count": 93,
   "metadata": {},
   "outputs": [
    {
     "data": {
      "text/plain": [
       "[0.97921914357682616,\n",
       " 0.98425692695214106,\n",
       " 0.96788413098236781,\n",
       " 0.97166246851385385,\n",
       " 0.97166246851385385,\n",
       " 0.96599496221662473]"
      ]
     },
     "execution_count": 93,
     "metadata": {},
     "output_type": "execute_result"
    }
   ],
   "source": [
    "model_final=[]\n",
    "out_accuracy_final=[]\n",
    "\n",
    "model_final, out_accuracy_final = run_Classifiers(model_final, out_accuracy_final, \n",
    "                                                  f_X_train, y_train, f_X_val, y_val)\n",
    "out_accuracy_final"
   ]
  },
  {
   "cell_type": "code",
   "execution_count": 94,
   "metadata": {},
   "outputs": [
    {
     "data": {
      "text/plain": [
       "[0.97795969773299751,\n",
       " 0.98425692695214106,\n",
       " 0.96788413098236781,\n",
       " 0.97166246851385385,\n",
       " 0.97166246851385385,\n",
       " 0.96599496221662473]"
      ]
     },
     "execution_count": 94,
     "metadata": {},
     "output_type": "execute_result"
    }
   ],
   "source": [
    "model_final_test=[]\n",
    "out_accuracy_final_test=[]\n",
    "\n",
    "model_final_test, out_accuracy_final_test = run_Classifiers(model_final_test, out_accuracy_final_test, \n",
    "                                                  f_X_train, y_train, f_X_val, y_val)\n",
    "out_accuracy_final_test"
   ]
  },
  {
   "cell_type": "code",
   "execution_count": null,
   "metadata": {},
   "outputs": [],
   "source": []
  }
 ],
 "metadata": {
  "kernelspec": {
   "display_name": "Python 3",
   "language": "python",
   "name": "python3"
  },
  "language_info": {
   "codemirror_mode": {
    "name": "ipython",
    "version": 3
   },
   "file_extension": ".py",
   "mimetype": "text/x-python",
   "name": "python",
   "nbconvert_exporter": "python",
   "pygments_lexer": "ipython3",
   "version": "3.6.3"
  }
 },
 "nbformat": 4,
 "nbformat_minor": 2
}
