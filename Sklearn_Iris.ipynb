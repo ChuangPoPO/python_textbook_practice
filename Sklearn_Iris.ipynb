{
 "cells": [
  {
   "cell_type": "markdown",
   "metadata": {},
   "source": [
    "# 引入模組"
   ]
  },
  {
   "cell_type": "code",
   "execution_count": 1,
   "metadata": {
    "collapsed": true
   },
   "outputs": [],
   "source": [
    "# 引入 numpy、pd 和 sklearn(scikit-learn) 模組\n",
    "import numpy as np\n",
    "import pandas as pd\n",
    "from sklearn import datasets\n",
    "# 引入 train_test_split 分割方法，\n",
    "# 注意在 sklearn v0.18 後 train_test_split 從 sklearn.cross_validation 子模組搬到 sklearn.model_selection 中\n",
    "from sklearn.model_selection import train_test_split\n",
    "# 引入 KNeighbors 模型\n",
    "from sklearn.neighbors import KNeighborsClassifier\n",
    "from sklearn.svm import LinearSVC"
   ]
  },
  {
   "cell_type": "markdown",
   "metadata": {},
   "source": [
    "# 2. 引入資料集(load)並進行探索性資料分析(Exploratory data analysis)"
   ]
  },
  {
   "cell_type": "code",
   "execution_count": 2,
   "metadata": {},
   "outputs": [
    {
     "name": "stdout",
     "output_type": "stream",
     "text": [
      "dict_keys(['data', 'target', 'target_names', 'DESCR', 'feature_names'])\n",
      "Iris Plants Database\n",
      "====================\n",
      "\n",
      "Notes\n",
      "-----\n",
      "Data Set Characteristics:\n",
      "    :Number of Instances: 150 (50 in each of three classes)\n",
      "    :Number of Attributes: 4 numeric, predictive attributes and the class\n",
      "    :Attribute Information:\n",
      "        - sepal length in cm\n",
      "        - sepal width in cm\n",
      "        - petal length in cm\n",
      "        - petal width in cm\n",
      "        - class:\n",
      "                - Iris-Setosa\n",
      "                - Iris-Versicolour\n",
      "                - Iris-Virginica\n",
      "    :Summary Statistics:\n",
      "\n",
      "    ============== ==== ==== ======= ===== ====================\n",
      "                    Min  Max   Mean    SD   Class Correlation\n",
      "    ============== ==== ==== ======= ===== ====================\n",
      "    sepal length:   4.3  7.9   5.84   0.83    0.7826\n",
      "    sepal width:    2.0  4.4   3.05   0.43   -0.4194\n",
      "    petal length:   1.0  6.9   3.76   1.76    0.9490  (high!)\n",
      "    petal width:    0.1  2.5   1.20  0.76     0.9565  (high!)\n",
      "    ============== ==== ==== ======= ===== ====================\n",
      "\n",
      "    :Missing Attribute Values: None\n",
      "    :Class Distribution: 33.3% for each of 3 classes.\n",
      "    :Creator: R.A. Fisher\n",
      "    :Donor: Michael Marshall (MARSHALL%PLU@io.arc.nasa.gov)\n",
      "    :Date: July, 1988\n",
      "\n",
      "This is a copy of UCI ML iris datasets.\n",
      "http://archive.ics.uci.edu/ml/datasets/Iris\n",
      "\n",
      "The famous Iris database, first used by Sir R.A Fisher\n",
      "\n",
      "This is perhaps the best known database to be found in the\n",
      "pattern recognition literature.  Fisher's paper is a classic in the field and\n",
      "is referenced frequently to this day.  (See Duda & Hart, for example.)  The\n",
      "data set contains 3 classes of 50 instances each, where each class refers to a\n",
      "type of iris plant.  One class is linearly separable from the other 2; the\n",
      "latter are NOT linearly separable from each other.\n",
      "\n",
      "References\n",
      "----------\n",
      "   - Fisher,R.A. \"The use of multiple measurements in taxonomic problems\"\n",
      "     Annual Eugenics, 7, Part II, 179-188 (1936); also in \"Contributions to\n",
      "     Mathematical Statistics\" (John Wiley, NY, 1950).\n",
      "   - Duda,R.O., & Hart,P.E. (1973) Pattern Classification and Scene Analysis.\n",
      "     (Q327.D83) John Wiley & Sons.  ISBN 0-471-22361-1.  See page 218.\n",
      "   - Dasarathy, B.V. (1980) \"Nosing Around the Neighborhood: A New System\n",
      "     Structure and Classification Rule for Recognition in Partially Exposed\n",
      "     Environments\".  IEEE Transactions on Pattern Analysis and Machine\n",
      "     Intelligence, Vol. PAMI-2, No. 1, 67-71.\n",
      "   - Gates, G.W. (1972) \"The Reduced Nearest Neighbor Rule\".  IEEE Transactions\n",
      "     on Information Theory, May 1972, 431-433.\n",
      "   - See also: 1988 MLC Proceedings, 54-64.  Cheeseman et al\"s AUTOCLASS II\n",
      "     conceptual clustering system finds 3 classes in the data.\n",
      "   - Many, many more ...\n",
      "\n",
      "[0 1 2]\n"
     ]
    }
   ],
   "source": [
    "# 引入 iris 資料集\n",
    "raw_iris = datasets.load_iris()\n",
    "\n",
    "# 探索性分析：了解資料集內容\n",
    "# 先印出 key 值，列出有哪些值：['data', 'target', 'target_names', 'DESCR', 'feature_names']\n",
    "# ‘data’, the data to learn -- X\n",
    "# ‘target’, the classification labels -- y 分類標籤(目標值)\n",
    "# ‘target_names’, the meaning of the labels -- 分類的標籤名稱\n",
    "# ‘feature_names’, the meaning of the features -- 特徵\n",
    "# ‘DESCR’, the full description of the dataset -- 資料及內容描述\n",
    "print(raw_iris.keys())\n",
    "\n",
    "# 印出 feature 值\n",
    "# print(raw_iris['data'])\n",
    "\n",
    "# 印出目標值，分別對應的是三種花的類別：['setosa 山鳶尾' 'versicolor 變色鳶尾' 'virginica 維吉尼亞鳶尾']\n",
    "# print(raw_iris['target'])\n",
    "\n",
    "# 印出目標標籤，三種花的類別：['setosa' 'versicolor' 'virginica']\n",
    "# print(raw_iris['target_names'])\n",
    "\n",
    "# 印出屬性名稱，\n",
    "# ['sepal length 花萼長度 (cm)', 'sepal width 花萼寬度 (cm)', 'petal length 花蕊/花瓣長度 (cm)', 'petal width 花蕊寬度 (cm)']\n",
    "# print(raw_iris['feature_names'])\n",
    "\n",
    "# 印出資料集內容描述\n",
    "print(raw_iris['DESCR'])\n",
    "\n",
    "# 類別種類\n",
    "# https://docs.scipy.org/doc/numpy-1.13.0/reference/generated/numpy.unique.html\n",
    "# https://www.tutorialspoint.com/numpy/numpy_unique.htm\n",
    "print(np.unique(raw_iris.target))"
   ]
  },
  {
   "cell_type": "markdown",
   "metadata": {},
   "source": [
    "#### 將資料轉成 dataFrame"
   ]
  },
  {
   "cell_type": "code",
   "execution_count": 3,
   "metadata": {
    "scrolled": true
   },
   "outputs": [
    {
     "data": {
      "text/html": [
       "<div>\n",
       "<style>\n",
       "    .dataframe thead tr:only-child th {\n",
       "        text-align: right;\n",
       "    }\n",
       "\n",
       "    .dataframe thead th {\n",
       "        text-align: left;\n",
       "    }\n",
       "\n",
       "    .dataframe tbody tr th {\n",
       "        vertical-align: top;\n",
       "    }\n",
       "</style>\n",
       "<table border=\"1\" class=\"dataframe\">\n",
       "  <thead>\n",
       "    <tr style=\"text-align: right;\">\n",
       "      <th></th>\n",
       "      <th>sepal length (cm)</th>\n",
       "      <th>sepal width (cm)</th>\n",
       "      <th>petal length (cm)</th>\n",
       "      <th>petal width (cm)</th>\n",
       "      <th>target_names</th>\n",
       "    </tr>\n",
       "  </thead>\n",
       "  <tbody>\n",
       "    <tr>\n",
       "      <th>0</th>\n",
       "      <td>5.1</td>\n",
       "      <td>3.5</td>\n",
       "      <td>1.4</td>\n",
       "      <td>0.2</td>\n",
       "      <td>0</td>\n",
       "    </tr>\n",
       "    <tr>\n",
       "      <th>1</th>\n",
       "      <td>4.9</td>\n",
       "      <td>3.0</td>\n",
       "      <td>1.4</td>\n",
       "      <td>0.2</td>\n",
       "      <td>0</td>\n",
       "    </tr>\n",
       "    <tr>\n",
       "      <th>2</th>\n",
       "      <td>4.7</td>\n",
       "      <td>3.2</td>\n",
       "      <td>1.3</td>\n",
       "      <td>0.2</td>\n",
       "      <td>0</td>\n",
       "    </tr>\n",
       "    <tr>\n",
       "      <th>3</th>\n",
       "      <td>4.6</td>\n",
       "      <td>3.1</td>\n",
       "      <td>1.5</td>\n",
       "      <td>0.2</td>\n",
       "      <td>0</td>\n",
       "    </tr>\n",
       "    <tr>\n",
       "      <th>4</th>\n",
       "      <td>5.0</td>\n",
       "      <td>3.6</td>\n",
       "      <td>1.4</td>\n",
       "      <td>0.2</td>\n",
       "      <td>0</td>\n",
       "    </tr>\n",
       "    <tr>\n",
       "      <th>5</th>\n",
       "      <td>5.4</td>\n",
       "      <td>3.9</td>\n",
       "      <td>1.7</td>\n",
       "      <td>0.4</td>\n",
       "      <td>0</td>\n",
       "    </tr>\n",
       "    <tr>\n",
       "      <th>6</th>\n",
       "      <td>4.6</td>\n",
       "      <td>3.4</td>\n",
       "      <td>1.4</td>\n",
       "      <td>0.3</td>\n",
       "      <td>0</td>\n",
       "    </tr>\n",
       "    <tr>\n",
       "      <th>7</th>\n",
       "      <td>5.0</td>\n",
       "      <td>3.4</td>\n",
       "      <td>1.5</td>\n",
       "      <td>0.2</td>\n",
       "      <td>0</td>\n",
       "    </tr>\n",
       "    <tr>\n",
       "      <th>8</th>\n",
       "      <td>4.4</td>\n",
       "      <td>2.9</td>\n",
       "      <td>1.4</td>\n",
       "      <td>0.2</td>\n",
       "      <td>0</td>\n",
       "    </tr>\n",
       "    <tr>\n",
       "      <th>9</th>\n",
       "      <td>4.9</td>\n",
       "      <td>3.1</td>\n",
       "      <td>1.5</td>\n",
       "      <td>0.1</td>\n",
       "      <td>0</td>\n",
       "    </tr>\n",
       "    <tr>\n",
       "      <th>10</th>\n",
       "      <td>5.4</td>\n",
       "      <td>3.7</td>\n",
       "      <td>1.5</td>\n",
       "      <td>0.2</td>\n",
       "      <td>0</td>\n",
       "    </tr>\n",
       "    <tr>\n",
       "      <th>11</th>\n",
       "      <td>4.8</td>\n",
       "      <td>3.4</td>\n",
       "      <td>1.6</td>\n",
       "      <td>0.2</td>\n",
       "      <td>0</td>\n",
       "    </tr>\n",
       "    <tr>\n",
       "      <th>12</th>\n",
       "      <td>4.8</td>\n",
       "      <td>3.0</td>\n",
       "      <td>1.4</td>\n",
       "      <td>0.1</td>\n",
       "      <td>0</td>\n",
       "    </tr>\n",
       "    <tr>\n",
       "      <th>13</th>\n",
       "      <td>4.3</td>\n",
       "      <td>3.0</td>\n",
       "      <td>1.1</td>\n",
       "      <td>0.1</td>\n",
       "      <td>0</td>\n",
       "    </tr>\n",
       "    <tr>\n",
       "      <th>14</th>\n",
       "      <td>5.8</td>\n",
       "      <td>4.0</td>\n",
       "      <td>1.2</td>\n",
       "      <td>0.2</td>\n",
       "      <td>0</td>\n",
       "    </tr>\n",
       "    <tr>\n",
       "      <th>15</th>\n",
       "      <td>5.7</td>\n",
       "      <td>4.4</td>\n",
       "      <td>1.5</td>\n",
       "      <td>0.4</td>\n",
       "      <td>0</td>\n",
       "    </tr>\n",
       "    <tr>\n",
       "      <th>16</th>\n",
       "      <td>5.4</td>\n",
       "      <td>3.9</td>\n",
       "      <td>1.3</td>\n",
       "      <td>0.4</td>\n",
       "      <td>0</td>\n",
       "    </tr>\n",
       "    <tr>\n",
       "      <th>17</th>\n",
       "      <td>5.1</td>\n",
       "      <td>3.5</td>\n",
       "      <td>1.4</td>\n",
       "      <td>0.3</td>\n",
       "      <td>0</td>\n",
       "    </tr>\n",
       "    <tr>\n",
       "      <th>18</th>\n",
       "      <td>5.7</td>\n",
       "      <td>3.8</td>\n",
       "      <td>1.7</td>\n",
       "      <td>0.3</td>\n",
       "      <td>0</td>\n",
       "    </tr>\n",
       "    <tr>\n",
       "      <th>19</th>\n",
       "      <td>5.1</td>\n",
       "      <td>3.8</td>\n",
       "      <td>1.5</td>\n",
       "      <td>0.3</td>\n",
       "      <td>0</td>\n",
       "    </tr>\n",
       "    <tr>\n",
       "      <th>20</th>\n",
       "      <td>5.4</td>\n",
       "      <td>3.4</td>\n",
       "      <td>1.7</td>\n",
       "      <td>0.2</td>\n",
       "      <td>0</td>\n",
       "    </tr>\n",
       "    <tr>\n",
       "      <th>21</th>\n",
       "      <td>5.1</td>\n",
       "      <td>3.7</td>\n",
       "      <td>1.5</td>\n",
       "      <td>0.4</td>\n",
       "      <td>0</td>\n",
       "    </tr>\n",
       "    <tr>\n",
       "      <th>22</th>\n",
       "      <td>4.6</td>\n",
       "      <td>3.6</td>\n",
       "      <td>1.0</td>\n",
       "      <td>0.2</td>\n",
       "      <td>0</td>\n",
       "    </tr>\n",
       "    <tr>\n",
       "      <th>23</th>\n",
       "      <td>5.1</td>\n",
       "      <td>3.3</td>\n",
       "      <td>1.7</td>\n",
       "      <td>0.5</td>\n",
       "      <td>0</td>\n",
       "    </tr>\n",
       "    <tr>\n",
       "      <th>24</th>\n",
       "      <td>4.8</td>\n",
       "      <td>3.4</td>\n",
       "      <td>1.9</td>\n",
       "      <td>0.2</td>\n",
       "      <td>0</td>\n",
       "    </tr>\n",
       "    <tr>\n",
       "      <th>25</th>\n",
       "      <td>5.0</td>\n",
       "      <td>3.0</td>\n",
       "      <td>1.6</td>\n",
       "      <td>0.2</td>\n",
       "      <td>0</td>\n",
       "    </tr>\n",
       "    <tr>\n",
       "      <th>26</th>\n",
       "      <td>5.0</td>\n",
       "      <td>3.4</td>\n",
       "      <td>1.6</td>\n",
       "      <td>0.4</td>\n",
       "      <td>0</td>\n",
       "    </tr>\n",
       "    <tr>\n",
       "      <th>27</th>\n",
       "      <td>5.2</td>\n",
       "      <td>3.5</td>\n",
       "      <td>1.5</td>\n",
       "      <td>0.2</td>\n",
       "      <td>0</td>\n",
       "    </tr>\n",
       "    <tr>\n",
       "      <th>28</th>\n",
       "      <td>5.2</td>\n",
       "      <td>3.4</td>\n",
       "      <td>1.4</td>\n",
       "      <td>0.2</td>\n",
       "      <td>0</td>\n",
       "    </tr>\n",
       "    <tr>\n",
       "      <th>29</th>\n",
       "      <td>4.7</td>\n",
       "      <td>3.2</td>\n",
       "      <td>1.6</td>\n",
       "      <td>0.2</td>\n",
       "      <td>0</td>\n",
       "    </tr>\n",
       "    <tr>\n",
       "      <th>...</th>\n",
       "      <td>...</td>\n",
       "      <td>...</td>\n",
       "      <td>...</td>\n",
       "      <td>...</td>\n",
       "      <td>...</td>\n",
       "    </tr>\n",
       "    <tr>\n",
       "      <th>120</th>\n",
       "      <td>6.9</td>\n",
       "      <td>3.2</td>\n",
       "      <td>5.7</td>\n",
       "      <td>2.3</td>\n",
       "      <td>2</td>\n",
       "    </tr>\n",
       "    <tr>\n",
       "      <th>121</th>\n",
       "      <td>5.6</td>\n",
       "      <td>2.8</td>\n",
       "      <td>4.9</td>\n",
       "      <td>2.0</td>\n",
       "      <td>2</td>\n",
       "    </tr>\n",
       "    <tr>\n",
       "      <th>122</th>\n",
       "      <td>7.7</td>\n",
       "      <td>2.8</td>\n",
       "      <td>6.7</td>\n",
       "      <td>2.0</td>\n",
       "      <td>2</td>\n",
       "    </tr>\n",
       "    <tr>\n",
       "      <th>123</th>\n",
       "      <td>6.3</td>\n",
       "      <td>2.7</td>\n",
       "      <td>4.9</td>\n",
       "      <td>1.8</td>\n",
       "      <td>2</td>\n",
       "    </tr>\n",
       "    <tr>\n",
       "      <th>124</th>\n",
       "      <td>6.7</td>\n",
       "      <td>3.3</td>\n",
       "      <td>5.7</td>\n",
       "      <td>2.1</td>\n",
       "      <td>2</td>\n",
       "    </tr>\n",
       "    <tr>\n",
       "      <th>125</th>\n",
       "      <td>7.2</td>\n",
       "      <td>3.2</td>\n",
       "      <td>6.0</td>\n",
       "      <td>1.8</td>\n",
       "      <td>2</td>\n",
       "    </tr>\n",
       "    <tr>\n",
       "      <th>126</th>\n",
       "      <td>6.2</td>\n",
       "      <td>2.8</td>\n",
       "      <td>4.8</td>\n",
       "      <td>1.8</td>\n",
       "      <td>2</td>\n",
       "    </tr>\n",
       "    <tr>\n",
       "      <th>127</th>\n",
       "      <td>6.1</td>\n",
       "      <td>3.0</td>\n",
       "      <td>4.9</td>\n",
       "      <td>1.8</td>\n",
       "      <td>2</td>\n",
       "    </tr>\n",
       "    <tr>\n",
       "      <th>128</th>\n",
       "      <td>6.4</td>\n",
       "      <td>2.8</td>\n",
       "      <td>5.6</td>\n",
       "      <td>2.1</td>\n",
       "      <td>2</td>\n",
       "    </tr>\n",
       "    <tr>\n",
       "      <th>129</th>\n",
       "      <td>7.2</td>\n",
       "      <td>3.0</td>\n",
       "      <td>5.8</td>\n",
       "      <td>1.6</td>\n",
       "      <td>2</td>\n",
       "    </tr>\n",
       "    <tr>\n",
       "      <th>130</th>\n",
       "      <td>7.4</td>\n",
       "      <td>2.8</td>\n",
       "      <td>6.1</td>\n",
       "      <td>1.9</td>\n",
       "      <td>2</td>\n",
       "    </tr>\n",
       "    <tr>\n",
       "      <th>131</th>\n",
       "      <td>7.9</td>\n",
       "      <td>3.8</td>\n",
       "      <td>6.4</td>\n",
       "      <td>2.0</td>\n",
       "      <td>2</td>\n",
       "    </tr>\n",
       "    <tr>\n",
       "      <th>132</th>\n",
       "      <td>6.4</td>\n",
       "      <td>2.8</td>\n",
       "      <td>5.6</td>\n",
       "      <td>2.2</td>\n",
       "      <td>2</td>\n",
       "    </tr>\n",
       "    <tr>\n",
       "      <th>133</th>\n",
       "      <td>6.3</td>\n",
       "      <td>2.8</td>\n",
       "      <td>5.1</td>\n",
       "      <td>1.5</td>\n",
       "      <td>2</td>\n",
       "    </tr>\n",
       "    <tr>\n",
       "      <th>134</th>\n",
       "      <td>6.1</td>\n",
       "      <td>2.6</td>\n",
       "      <td>5.6</td>\n",
       "      <td>1.4</td>\n",
       "      <td>2</td>\n",
       "    </tr>\n",
       "    <tr>\n",
       "      <th>135</th>\n",
       "      <td>7.7</td>\n",
       "      <td>3.0</td>\n",
       "      <td>6.1</td>\n",
       "      <td>2.3</td>\n",
       "      <td>2</td>\n",
       "    </tr>\n",
       "    <tr>\n",
       "      <th>136</th>\n",
       "      <td>6.3</td>\n",
       "      <td>3.4</td>\n",
       "      <td>5.6</td>\n",
       "      <td>2.4</td>\n",
       "      <td>2</td>\n",
       "    </tr>\n",
       "    <tr>\n",
       "      <th>137</th>\n",
       "      <td>6.4</td>\n",
       "      <td>3.1</td>\n",
       "      <td>5.5</td>\n",
       "      <td>1.8</td>\n",
       "      <td>2</td>\n",
       "    </tr>\n",
       "    <tr>\n",
       "      <th>138</th>\n",
       "      <td>6.0</td>\n",
       "      <td>3.0</td>\n",
       "      <td>4.8</td>\n",
       "      <td>1.8</td>\n",
       "      <td>2</td>\n",
       "    </tr>\n",
       "    <tr>\n",
       "      <th>139</th>\n",
       "      <td>6.9</td>\n",
       "      <td>3.1</td>\n",
       "      <td>5.4</td>\n",
       "      <td>2.1</td>\n",
       "      <td>2</td>\n",
       "    </tr>\n",
       "    <tr>\n",
       "      <th>140</th>\n",
       "      <td>6.7</td>\n",
       "      <td>3.1</td>\n",
       "      <td>5.6</td>\n",
       "      <td>2.4</td>\n",
       "      <td>2</td>\n",
       "    </tr>\n",
       "    <tr>\n",
       "      <th>141</th>\n",
       "      <td>6.9</td>\n",
       "      <td>3.1</td>\n",
       "      <td>5.1</td>\n",
       "      <td>2.3</td>\n",
       "      <td>2</td>\n",
       "    </tr>\n",
       "    <tr>\n",
       "      <th>142</th>\n",
       "      <td>5.8</td>\n",
       "      <td>2.7</td>\n",
       "      <td>5.1</td>\n",
       "      <td>1.9</td>\n",
       "      <td>2</td>\n",
       "    </tr>\n",
       "    <tr>\n",
       "      <th>143</th>\n",
       "      <td>6.8</td>\n",
       "      <td>3.2</td>\n",
       "      <td>5.9</td>\n",
       "      <td>2.3</td>\n",
       "      <td>2</td>\n",
       "    </tr>\n",
       "    <tr>\n",
       "      <th>144</th>\n",
       "      <td>6.7</td>\n",
       "      <td>3.3</td>\n",
       "      <td>5.7</td>\n",
       "      <td>2.5</td>\n",
       "      <td>2</td>\n",
       "    </tr>\n",
       "    <tr>\n",
       "      <th>145</th>\n",
       "      <td>6.7</td>\n",
       "      <td>3.0</td>\n",
       "      <td>5.2</td>\n",
       "      <td>2.3</td>\n",
       "      <td>2</td>\n",
       "    </tr>\n",
       "    <tr>\n",
       "      <th>146</th>\n",
       "      <td>6.3</td>\n",
       "      <td>2.5</td>\n",
       "      <td>5.0</td>\n",
       "      <td>1.9</td>\n",
       "      <td>2</td>\n",
       "    </tr>\n",
       "    <tr>\n",
       "      <th>147</th>\n",
       "      <td>6.5</td>\n",
       "      <td>3.0</td>\n",
       "      <td>5.2</td>\n",
       "      <td>2.0</td>\n",
       "      <td>2</td>\n",
       "    </tr>\n",
       "    <tr>\n",
       "      <th>148</th>\n",
       "      <td>6.2</td>\n",
       "      <td>3.4</td>\n",
       "      <td>5.4</td>\n",
       "      <td>2.3</td>\n",
       "      <td>2</td>\n",
       "    </tr>\n",
       "    <tr>\n",
       "      <th>149</th>\n",
       "      <td>5.9</td>\n",
       "      <td>3.0</td>\n",
       "      <td>5.1</td>\n",
       "      <td>1.8</td>\n",
       "      <td>2</td>\n",
       "    </tr>\n",
       "  </tbody>\n",
       "</table>\n",
       "<p>150 rows × 5 columns</p>\n",
       "</div>"
      ],
      "text/plain": [
       "     sepal length (cm)  sepal width (cm)  petal length (cm)  petal width (cm)  \\\n",
       "0                  5.1               3.5                1.4               0.2   \n",
       "1                  4.9               3.0                1.4               0.2   \n",
       "2                  4.7               3.2                1.3               0.2   \n",
       "3                  4.6               3.1                1.5               0.2   \n",
       "4                  5.0               3.6                1.4               0.2   \n",
       "5                  5.4               3.9                1.7               0.4   \n",
       "6                  4.6               3.4                1.4               0.3   \n",
       "7                  5.0               3.4                1.5               0.2   \n",
       "8                  4.4               2.9                1.4               0.2   \n",
       "9                  4.9               3.1                1.5               0.1   \n",
       "10                 5.4               3.7                1.5               0.2   \n",
       "11                 4.8               3.4                1.6               0.2   \n",
       "12                 4.8               3.0                1.4               0.1   \n",
       "13                 4.3               3.0                1.1               0.1   \n",
       "14                 5.8               4.0                1.2               0.2   \n",
       "15                 5.7               4.4                1.5               0.4   \n",
       "16                 5.4               3.9                1.3               0.4   \n",
       "17                 5.1               3.5                1.4               0.3   \n",
       "18                 5.7               3.8                1.7               0.3   \n",
       "19                 5.1               3.8                1.5               0.3   \n",
       "20                 5.4               3.4                1.7               0.2   \n",
       "21                 5.1               3.7                1.5               0.4   \n",
       "22                 4.6               3.6                1.0               0.2   \n",
       "23                 5.1               3.3                1.7               0.5   \n",
       "24                 4.8               3.4                1.9               0.2   \n",
       "25                 5.0               3.0                1.6               0.2   \n",
       "26                 5.0               3.4                1.6               0.4   \n",
       "27                 5.2               3.5                1.5               0.2   \n",
       "28                 5.2               3.4                1.4               0.2   \n",
       "29                 4.7               3.2                1.6               0.2   \n",
       "..                 ...               ...                ...               ...   \n",
       "120                6.9               3.2                5.7               2.3   \n",
       "121                5.6               2.8                4.9               2.0   \n",
       "122                7.7               2.8                6.7               2.0   \n",
       "123                6.3               2.7                4.9               1.8   \n",
       "124                6.7               3.3                5.7               2.1   \n",
       "125                7.2               3.2                6.0               1.8   \n",
       "126                6.2               2.8                4.8               1.8   \n",
       "127                6.1               3.0                4.9               1.8   \n",
       "128                6.4               2.8                5.6               2.1   \n",
       "129                7.2               3.0                5.8               1.6   \n",
       "130                7.4               2.8                6.1               1.9   \n",
       "131                7.9               3.8                6.4               2.0   \n",
       "132                6.4               2.8                5.6               2.2   \n",
       "133                6.3               2.8                5.1               1.5   \n",
       "134                6.1               2.6                5.6               1.4   \n",
       "135                7.7               3.0                6.1               2.3   \n",
       "136                6.3               3.4                5.6               2.4   \n",
       "137                6.4               3.1                5.5               1.8   \n",
       "138                6.0               3.0                4.8               1.8   \n",
       "139                6.9               3.1                5.4               2.1   \n",
       "140                6.7               3.1                5.6               2.4   \n",
       "141                6.9               3.1                5.1               2.3   \n",
       "142                5.8               2.7                5.1               1.9   \n",
       "143                6.8               3.2                5.9               2.3   \n",
       "144                6.7               3.3                5.7               2.5   \n",
       "145                6.7               3.0                5.2               2.3   \n",
       "146                6.3               2.5                5.0               1.9   \n",
       "147                6.5               3.0                5.2               2.0   \n",
       "148                6.2               3.4                5.4               2.3   \n",
       "149                5.9               3.0                5.1               1.8   \n",
       "\n",
       "     target_names  \n",
       "0               0  \n",
       "1               0  \n",
       "2               0  \n",
       "3               0  \n",
       "4               0  \n",
       "5               0  \n",
       "6               0  \n",
       "7               0  \n",
       "8               0  \n",
       "9               0  \n",
       "10              0  \n",
       "11              0  \n",
       "12              0  \n",
       "13              0  \n",
       "14              0  \n",
       "15              0  \n",
       "16              0  \n",
       "17              0  \n",
       "18              0  \n",
       "19              0  \n",
       "20              0  \n",
       "21              0  \n",
       "22              0  \n",
       "23              0  \n",
       "24              0  \n",
       "25              0  \n",
       "26              0  \n",
       "27              0  \n",
       "28              0  \n",
       "29              0  \n",
       "..            ...  \n",
       "120             2  \n",
       "121             2  \n",
       "122             2  \n",
       "123             2  \n",
       "124             2  \n",
       "125             2  \n",
       "126             2  \n",
       "127             2  \n",
       "128             2  \n",
       "129             2  \n",
       "130             2  \n",
       "131             2  \n",
       "132             2  \n",
       "133             2  \n",
       "134             2  \n",
       "135             2  \n",
       "136             2  \n",
       "137             2  \n",
       "138             2  \n",
       "139             2  \n",
       "140             2  \n",
       "141             2  \n",
       "142             2  \n",
       "143             2  \n",
       "144             2  \n",
       "145             2  \n",
       "146             2  \n",
       "147             2  \n",
       "148             2  \n",
       "149             2  \n",
       "\n",
       "[150 rows x 5 columns]"
      ]
     },
     "execution_count": 3,
     "metadata": {},
     "output_type": "execute_result"
    }
   ],
   "source": [
    "# 將資料轉為 pandas DataFrame\n",
    "# data 為觀察目標變數\n",
    "df_X = pd.DataFrame(raw_iris.data)\n",
    "\n",
    "# target 為預測變數\n",
    "df_y = pd.DataFrame(raw_iris.target)\n",
    "\n",
    "df = pd.merge(df_X, df_y, left_index=True, right_index=True)\n",
    "df = df.rename(columns={'0_x':'sepal length (cm)', 1: 'sepal width (cm)', 2:'petal length (cm)', 3:'petal width (cm)','0_y':'target_names'})\n",
    "df"
   ]
  },
  {
   "cell_type": "markdown",
   "metadata": {},
   "source": [
    "## 敘述性統計\n",
    "['setosa' 'versicolor' 'virginica']\n",
    "\n",
    "['sepal length (cm)', 'sepal width (cm)', 'petal length (cm)', 'petal width (cm)']"
   ]
  },
  {
   "cell_type": "code",
   "execution_count": 4,
   "metadata": {
    "scrolled": false
   },
   "outputs": [
    {
     "data": {
      "text/html": [
       "<div>\n",
       "<style>\n",
       "    .dataframe thead tr:only-child th {\n",
       "        text-align: right;\n",
       "    }\n",
       "\n",
       "    .dataframe thead th {\n",
       "        text-align: left;\n",
       "    }\n",
       "\n",
       "    .dataframe tbody tr th {\n",
       "        vertical-align: top;\n",
       "    }\n",
       "</style>\n",
       "<table border=\"1\" class=\"dataframe\">\n",
       "  <thead>\n",
       "    <tr style=\"text-align: right;\">\n",
       "      <th></th>\n",
       "      <th>sepal length (cm)</th>\n",
       "      <th>sepal width (cm)</th>\n",
       "      <th>petal length (cm)</th>\n",
       "      <th>petal width (cm)</th>\n",
       "      <th>target_names</th>\n",
       "    </tr>\n",
       "  </thead>\n",
       "  <tbody>\n",
       "    <tr>\n",
       "      <th>count</th>\n",
       "      <td>150.000000</td>\n",
       "      <td>150.000000</td>\n",
       "      <td>150.000000</td>\n",
       "      <td>150.000000</td>\n",
       "      <td>150.000000</td>\n",
       "    </tr>\n",
       "    <tr>\n",
       "      <th>mean</th>\n",
       "      <td>5.843333</td>\n",
       "      <td>3.054000</td>\n",
       "      <td>3.758667</td>\n",
       "      <td>1.198667</td>\n",
       "      <td>1.000000</td>\n",
       "    </tr>\n",
       "    <tr>\n",
       "      <th>std</th>\n",
       "      <td>0.828066</td>\n",
       "      <td>0.433594</td>\n",
       "      <td>1.764420</td>\n",
       "      <td>0.763161</td>\n",
       "      <td>0.819232</td>\n",
       "    </tr>\n",
       "    <tr>\n",
       "      <th>min</th>\n",
       "      <td>4.300000</td>\n",
       "      <td>2.000000</td>\n",
       "      <td>1.000000</td>\n",
       "      <td>0.100000</td>\n",
       "      <td>0.000000</td>\n",
       "    </tr>\n",
       "    <tr>\n",
       "      <th>25%</th>\n",
       "      <td>5.100000</td>\n",
       "      <td>2.800000</td>\n",
       "      <td>1.600000</td>\n",
       "      <td>0.300000</td>\n",
       "      <td>0.000000</td>\n",
       "    </tr>\n",
       "    <tr>\n",
       "      <th>50%</th>\n",
       "      <td>5.800000</td>\n",
       "      <td>3.000000</td>\n",
       "      <td>4.350000</td>\n",
       "      <td>1.300000</td>\n",
       "      <td>1.000000</td>\n",
       "    </tr>\n",
       "    <tr>\n",
       "      <th>75%</th>\n",
       "      <td>6.400000</td>\n",
       "      <td>3.300000</td>\n",
       "      <td>5.100000</td>\n",
       "      <td>1.800000</td>\n",
       "      <td>2.000000</td>\n",
       "    </tr>\n",
       "    <tr>\n",
       "      <th>max</th>\n",
       "      <td>7.900000</td>\n",
       "      <td>4.400000</td>\n",
       "      <td>6.900000</td>\n",
       "      <td>2.500000</td>\n",
       "      <td>2.000000</td>\n",
       "    </tr>\n",
       "  </tbody>\n",
       "</table>\n",
       "</div>"
      ],
      "text/plain": [
       "       sepal length (cm)  sepal width (cm)  petal length (cm)  \\\n",
       "count         150.000000        150.000000         150.000000   \n",
       "mean            5.843333          3.054000           3.758667   \n",
       "std             0.828066          0.433594           1.764420   \n",
       "min             4.300000          2.000000           1.000000   \n",
       "25%             5.100000          2.800000           1.600000   \n",
       "50%             5.800000          3.000000           4.350000   \n",
       "75%             6.400000          3.300000           5.100000   \n",
       "max             7.900000          4.400000           6.900000   \n",
       "\n",
       "       petal width (cm)  target_names  \n",
       "count        150.000000    150.000000  \n",
       "mean           1.198667      1.000000  \n",
       "std            0.763161      0.819232  \n",
       "min            0.100000      0.000000  \n",
       "25%            0.300000      0.000000  \n",
       "50%            1.300000      1.000000  \n",
       "75%            1.800000      2.000000  \n",
       "max            2.500000      2.000000  "
      ]
     },
     "execution_count": 4,
     "metadata": {},
     "output_type": "execute_result"
    }
   ],
   "source": [
    "df.describe()"
   ]
  },
  {
   "cell_type": "markdown",
   "metadata": {},
   "source": [
    "## 相關性分析"
   ]
  },
  {
   "cell_type": "code",
   "execution_count": 5,
   "metadata": {},
   "outputs": [],
   "source": [
    "corr = df[['sepal length (cm)', 'sepal width (cm)', 'petal length (cm)', 'petal width (cm)']].corr()\n"
   ]
  },
  {
   "cell_type": "markdown",
   "metadata": {},
   "source": [
    "https://seaborn.pydata.org/generated/seaborn.heatmap.html"
   ]
  },
  {
   "cell_type": "code",
   "execution_count": 6,
   "metadata": {},
   "outputs": [
    {
     "ename": "AttributeError",
     "evalue": "module 'seaborn' has no attribute 'plt'",
     "output_type": "error",
     "traceback": [
      "\u001b[1;31m---------------------------------------------------------------------------\u001b[0m",
      "\u001b[1;31mAttributeError\u001b[0m                            Traceback (most recent call last)",
      "\u001b[1;32m<ipython-input-6-1250a76da294>\u001b[0m in \u001b[0;36m<module>\u001b[1;34m()\u001b[0m\n\u001b[0;32m      8\u001b[0m \u001b[0max\u001b[0m\u001b[1;33m.\u001b[0m\u001b[0mset_yticklabels\u001b[0m\u001b[1;33m(\u001b[0m\u001b[0max\u001b[0m\u001b[1;33m.\u001b[0m\u001b[0mget_yticklabels\u001b[0m\u001b[1;33m(\u001b[0m\u001b[1;33m)\u001b[0m\u001b[1;33m,\u001b[0m\u001b[0mrotation\u001b[0m\u001b[1;33m=\u001b[0m\u001b[1;36m0\u001b[0m\u001b[1;33m)\u001b[0m\u001b[1;33m\u001b[0m\u001b[0m\n\u001b[0;32m      9\u001b[0m \u001b[1;33m\u001b[0m\u001b[0m\n\u001b[1;32m---> 10\u001b[1;33m \u001b[0msns\u001b[0m\u001b[1;33m.\u001b[0m\u001b[0mplt\u001b[0m\u001b[1;33m.\u001b[0m\u001b[0mshow\u001b[0m\u001b[1;33m(\u001b[0m\u001b[1;33m)\u001b[0m\u001b[1;33m\u001b[0m\u001b[0m\n\u001b[0m",
      "\u001b[1;31mAttributeError\u001b[0m: module 'seaborn' has no attribute 'plt'"
     ]
    },
    {
     "data": {
      "image/png": "[encoded data removed]",
      "text/plain": [
       "<matplotlib.figure.Figure at 0x24317f4eb38>"
      ]
     },
     "metadata": {},
     "output_type": "display_data"
    }
   ],
   "source": [
    "import matplotlib.pyplot as plt\n",
    "%matplotlib inline\n",
    "import seaborn as sns\n",
    "\n",
    "plt.rcParams['font.family']='DFKai-SB' #顯示中文(for Win10)\n",
    "plt.figure(figsize=(8,8))\n",
    "ax = sns.heatmap(corr, square=True, annot=True, cmap=\"YlGnBu\", annot_kws={\"size\": 20})\n",
    "ax.set_yticklabels(ax.get_yticklabels(),rotation=0)\n",
    "\n",
    "sns.plt.show()"
   ]
  },
  {
   "cell_type": "code",
   "execution_count": 7,
   "metadata": {},
   "outputs": [
    {
     "data": {
      "text/plain": [
       "<matplotlib.axes._subplots.AxesSubplot at 0x2431a074e10>"
      ]
     },
     "execution_count": 7,
     "metadata": {},
     "output_type": "execute_result"
    },
    {
     "data": {
      "image/png": "[encoded data removed]",
      "text/plain": [
       "<matplotlib.figure.Figure at 0x24319b6b940>"
      ]
     },
     "metadata": {},
     "output_type": "display_data"
    }
   ],
   "source": [
    "df.plot(kind='scatter',title='散佈圖',figsize=(10,6),x=2,y=3,marker='+')"
   ]
  },
  {
   "cell_type": "markdown",
   "metadata": {},
   "source": [
    "# 3. 資料預處理與特徵工程 (Data Clean/Preprocessing & Feature Engineering)\n",
    "良好的資料輸入 取決於資料預處理與特徵工程，\n",
    "\n",
    "而好的輸入 將大大影響到模型是否可以發揮其理論正常水準。\n",
    "\n",
    "以下把資料轉成 DataFrame 格式方便進行操作。\n",
    "\n",
    "真正在進行機器學習工作流程的時候資料預處理往往是最花時間的部份。\n",
    "\n",
    "同時為了方便模型的校調，我們這邊把資料集分為 70% 訓練資料，30% 驗證資料。"
   ]
  },
  {
   "cell_type": "markdown",
   "metadata": {},
   "source": [
    "#### 資料切割"
   ]
  },
  {
   "cell_type": "code",
   "execution_count": null,
   "metadata": {
    "collapsed": true
   },
   "outputs": [],
   "source": []
  },
  {
   "cell_type": "code",
   "execution_count": 8,
   "metadata": {
    "collapsed": true
   },
   "outputs": [],
   "source": [
    "# 將資料切分為 training data 和 testing data，\n",
    "\n",
    "# 其中 random_state 若設為 0 或不設則即便實例不同但因種子相同產生同樣隨機編號，若設為 1 則每次隨機產生不同編號\n",
    "# test_size 為切分 training data 和 testing data 的比例\n",
    "X_train, X_test, y_train, y_test = train_test_split(df[['sepal length (cm)', 'sepal width (cm)', 'petal length (cm)', 'petal width (cm)']], df[['target_names']], test_size=0.3)"
   ]
  },
  {
   "cell_type": "markdown",
   "metadata": {},
   "source": [
    "#### 資料標準化"
   ]
  },
  {
   "cell_type": "code",
   "execution_count": 9,
   "metadata": {
    "collapsed": true
   },
   "outputs": [],
   "source": [
    "from sklearn.preprocessing import StandardScaler\n",
    "sc = StandardScaler()\n",
    "sc.fit(X_train)\n",
    "X_train_std = sc.transform(X_train)\n",
    "X_test_std = sc.transform(X_test)"
   ]
  },
  {
   "cell_type": "markdown",
   "metadata": {},
   "source": [
    "### 4. 訓練模型與校調 (Model Training)\n",
    "1. 樣本資料是否大於 50 筆：範例資料集總共有 150 筆資料，大於 50\n",
    "2. 是否為分類問題：Iris 花朵類別預測是多類別分類問題\n",
    "3. 是否有標籤好的資料：已經有 label 資料\n",
    "4. 樣本資料是否小於 100K：資料小於 100K\n",
    "5. 選擇 Linear SVC 模型（第一個選擇的模型）\n",
    "6. 是否是文字資料：不是\n",
    "7. 選擇 KNeighborsClassifier 模型（第二個選擇的模型）\n",
    "8. 後續優化 / SVC / Ensemble"
   ]
  },
  {
   "cell_type": "markdown",
   "metadata": {},
   "source": [
    "### PCA n=4"
   ]
  },
  {
   "cell_type": "code",
   "execution_count": 11,
   "metadata": {
    "collapsed": true
   },
   "outputs": [],
   "source": [
    "from sklearn.decomposition import PCA"
   ]
  },
  {
   "cell_type": "code",
   "execution_count": 12,
   "metadata": {},
   "outputs": [
    {
     "data": {
      "text/html": [
       "<div>\n",
       "<style>\n",
       "    .dataframe thead tr:only-child th {\n",
       "        text-align: right;\n",
       "    }\n",
       "\n",
       "    .dataframe thead th {\n",
       "        text-align: left;\n",
       "    }\n",
       "\n",
       "    .dataframe tbody tr th {\n",
       "        vertical-align: top;\n",
       "    }\n",
       "</style>\n",
       "<table border=\"1\" class=\"dataframe\">\n",
       "  <thead>\n",
       "    <tr style=\"text-align: right;\">\n",
       "      <th></th>\n",
       "      <th>sepal length (cm)</th>\n",
       "      <th>sepal width (cm)</th>\n",
       "      <th>petal length (cm)</th>\n",
       "      <th>petal width (cm)</th>\n",
       "    </tr>\n",
       "  </thead>\n",
       "  <tbody>\n",
       "    <tr>\n",
       "      <th>sepal length (cm)</th>\n",
       "      <td>1.000000</td>\n",
       "      <td>-0.109369</td>\n",
       "      <td>0.871754</td>\n",
       "      <td>0.817954</td>\n",
       "    </tr>\n",
       "    <tr>\n",
       "      <th>sepal width (cm)</th>\n",
       "      <td>-0.109369</td>\n",
       "      <td>1.000000</td>\n",
       "      <td>-0.420516</td>\n",
       "      <td>-0.356544</td>\n",
       "    </tr>\n",
       "    <tr>\n",
       "      <th>petal length (cm)</th>\n",
       "      <td>0.871754</td>\n",
       "      <td>-0.420516</td>\n",
       "      <td>1.000000</td>\n",
       "      <td>0.962757</td>\n",
       "    </tr>\n",
       "    <tr>\n",
       "      <th>petal width (cm)</th>\n",
       "      <td>0.817954</td>\n",
       "      <td>-0.356544</td>\n",
       "      <td>0.962757</td>\n",
       "      <td>1.000000</td>\n",
       "    </tr>\n",
       "  </tbody>\n",
       "</table>\n",
       "</div>"
      ],
      "text/plain": [
       "                   sepal length (cm)  sepal width (cm)  petal length (cm)  \\\n",
       "sepal length (cm)           1.000000         -0.109369           0.871754   \n",
       "sepal width (cm)           -0.109369          1.000000          -0.420516   \n",
       "petal length (cm)           0.871754         -0.420516           1.000000   \n",
       "petal width (cm)            0.817954         -0.356544           0.962757   \n",
       "\n",
       "                   petal width (cm)  \n",
       "sepal length (cm)          0.817954  \n",
       "sepal width (cm)          -0.356544  \n",
       "petal length (cm)          0.962757  \n",
       "petal width (cm)           1.000000  "
      ]
     },
     "execution_count": 12,
     "metadata": {},
     "output_type": "execute_result"
    }
   ],
   "source": [
    "X_pca = df.drop('target_names',axis=1)\n",
    "y_pca = df['target_names']\n",
    "X_pca.corr()"
   ]
  },
  {
   "cell_type": "code",
   "execution_count": 13,
   "metadata": {},
   "outputs": [
    {
     "data": {
      "text/plain": [
       "array([ 0.92461621,  0.05301557,  0.01718514,  0.00518309])"
      ]
     },
     "execution_count": 13,
     "metadata": {},
     "output_type": "execute_result"
    }
   ],
   "source": [
    "pca = PCA(n_components=4)\n",
    "pca.fit(X_pca)\n",
    "X_pca = pca.transform(X_pca)\n",
    "pca.explained_variance_ratio_"
   ]
  },
  {
   "cell_type": "code",
   "execution_count": 14,
   "metadata": {},
   "outputs": [
    {
     "data": {
      "text/plain": [
       "array([ 4.22484077,  0.24224357,  0.07852391,  0.02368303])"
      ]
     },
     "execution_count": 14,
     "metadata": {},
     "output_type": "execute_result"
    }
   ],
   "source": [
    "pca.explained_variance_"
   ]
  },
  {
   "cell_type": "code",
   "execution_count": 15,
   "metadata": {},
   "outputs": [
    {
     "data": {
      "text/plain": [
       "array([[ -2.68420713e+00,   3.26607315e-01,  -2.15118370e-02,\n",
       "          1.00615724e-03],\n",
       "       [ -2.71539062e+00,  -1.69556848e-01,  -2.03521425e-01,\n",
       "          9.96024240e-02],\n",
       "       [ -2.88981954e+00,  -1.37345610e-01,   2.47092410e-02,\n",
       "          1.93045428e-02],\n",
       "       [ -2.74643720e+00,  -3.11124316e-01,   3.76719753e-02,\n",
       "         -7.59552741e-02],\n",
       "       [ -2.72859298e+00,   3.33924564e-01,   9.62296998e-02,\n",
       "         -6.31287327e-02],\n",
       "       [ -2.27989736e+00,   7.47782713e-01,   1.74325619e-01,\n",
       "         -2.71468037e-02],\n",
       "       [ -2.82089068e+00,  -8.21045110e-02,   2.64251085e-01,\n",
       "         -5.00996251e-02],\n",
       "       [ -2.62648199e+00,   1.70405349e-01,  -1.58015103e-02,\n",
       "         -4.62817610e-02],\n",
       "       [ -2.88795857e+00,  -5.70798026e-01,   2.73354061e-02,\n",
       "         -2.66154143e-02],\n",
       "       [ -2.67384469e+00,  -1.06691704e-01,  -1.91533300e-01,\n",
       "         -5.58909660e-02],\n",
       "       [ -2.50652679e+00,   6.51935014e-01,  -6.92749958e-02,\n",
       "         -1.66082478e-02],\n",
       "       [ -2.61314272e+00,   2.15206320e-02,   1.07650353e-01,\n",
       "         -1.57704569e-01],\n",
       "       [ -2.78743398e+00,  -2.27740189e-01,  -2.00327788e-01,\n",
       "         -7.23508674e-03],\n",
       "       [ -3.22520045e+00,  -5.03279909e-01,   6.84136292e-02,\n",
       "         -2.19466641e-02],\n",
       "       [ -2.64354322e+00,   1.18619490e+00,  -1.44505704e-01,\n",
       "          1.56980962e-01],\n",
       "       [ -2.38386932e+00,   1.34475434e+00,   2.83730664e-01,\n",
       "          1.92618171e-03],\n",
       "       [ -2.62252620e+00,   8.18089675e-01,   1.45315989e-01,\n",
       "          1.64740791e-01],\n",
       "       [ -2.64832273e+00,   3.19136668e-01,   3.33942541e-02,\n",
       "          7.61182133e-02],\n",
       "       [ -2.19907796e+00,   8.79244088e-01,  -1.14521465e-01,\n",
       "          2.53269397e-02],\n",
       "       [ -2.58734619e+00,   5.20473639e-01,   2.19572088e-01,\n",
       "         -6.90819912e-02],\n",
       "       [ -2.31053170e+00,   3.97867822e-01,  -2.33695607e-01,\n",
       "         -1.53237396e-02],\n",
       "       [ -2.54323491e+00,   4.40031755e-01,   2.14836370e-01,\n",
       "          3.84395001e-02],\n",
       "       [ -3.21585769e+00,   1.41615572e-01,   2.99618982e-01,\n",
       "          1.85704335e-03],\n",
       "       [ -2.30312854e+00,   1.05522678e-01,   4.56800413e-02,\n",
       "          1.47245500e-01],\n",
       "       [ -2.35617109e+00,  -3.12095891e-02,   1.29407576e-01,\n",
       "         -3.01620265e-01],\n",
       "       [ -2.50791723e+00,  -1.39056340e-01,  -2.47116338e-01,\n",
       "          3.53840813e-02],\n",
       "       [ -2.46905600e+00,   1.37887315e-01,   1.01263079e-01,\n",
       "          5.59704524e-02],\n",
       "       [ -2.56239095e+00,   3.74684563e-01,  -7.23591574e-02,\n",
       "         -1.52402868e-02],\n",
       "       [ -2.63982127e+00,   3.19290066e-01,  -1.39253374e-01,\n",
       "          6.51410472e-02],\n",
       "       [ -2.63284791e+00,  -1.90075831e-01,   4.64664636e-02,\n",
       "         -1.24611153e-01],\n",
       "       [ -2.58846205e+00,  -1.97393079e-01,  -7.12750731e-02,\n",
       "         -6.04762634e-02],\n",
       "       [ -2.41007734e+00,   4.18080008e-01,  -1.38388240e-01,\n",
       "          2.30844170e-01],\n",
       "       [ -2.64763667e+00,   8.19982633e-01,   2.30585604e-01,\n",
       "         -2.84808954e-01],\n",
       "       [ -2.59715948e+00,   1.10002193e+00,   1.63581913e-01,\n",
       "         -9.89580706e-02],\n",
       "       [ -2.67384469e+00,  -1.06691704e-01,  -1.91533300e-01,\n",
       "         -5.58909660e-02],\n",
       "       [ -2.86699985e+00,   7.71930957e-02,  -1.56842350e-01,\n",
       "          1.62452806e-01],\n",
       "       [ -2.62522846e+00,   6.06800008e-01,  -2.61163156e-01,\n",
       "          1.75879875e-01],\n",
       "       [ -2.67384469e+00,  -1.06691704e-01,  -1.91533300e-01,\n",
       "         -5.58909660e-02],\n",
       "       [ -2.98184266e+00,  -4.80250049e-01,   7.97248074e-02,\n",
       "         -1.10529508e-02],\n",
       "       [ -2.59032303e+00,   2.36059337e-01,  -7.39012382e-02,\n",
       "         -1.45563062e-02],\n",
       "       [ -2.77013891e+00,   2.71059420e-01,   8.42415745e-02,\n",
       "          9.23646573e-02],\n",
       "       [ -2.85221108e+00,  -9.32865367e-01,  -3.40961491e-01,\n",
       "          3.22650607e-01],\n",
       "       [ -2.99829644e+00,  -3.34307575e-01,   1.99008425e-01,\n",
       "         -7.58718213e-02],\n",
       "       [ -2.40551410e+00,   1.95917258e-01,   2.70717070e-01,\n",
       "          1.73785129e-01],\n",
       "       [ -2.20883295e+00,   4.42696030e-01,   3.03487809e-01,\n",
       "         -1.85857530e-01],\n",
       "       [ -2.71566519e+00,  -2.42681483e-01,  -9.05156060e-02,\n",
       "          1.42989025e-01],\n",
       "       [ -2.53757337e+00,   5.10367545e-01,   1.71918404e-01,\n",
       "         -1.92165946e-01],\n",
       "       [ -2.84032130e+00,  -2.20576338e-01,   9.00613765e-02,\n",
       "         -6.03928106e-02],\n",
       "       [ -2.54268576e+00,   5.86281025e-01,  -1.11752678e-02,\n",
       "         -4.83337025e-02],\n",
       "       [ -2.70391231e+00,   1.15010852e-01,  -8.26957266e-02,\n",
       "          3.40995730e-02],\n",
       "       [  1.28479459e+00,   6.85439186e-01,  -4.06129553e-01,\n",
       "          1.92901169e-02],\n",
       "       [  9.32410753e-01,   3.19198090e-01,  -1.71299092e-02,\n",
       "         -6.75794171e-06],\n",
       "       [  1.46406132e+00,   5.04189833e-01,  -3.38260728e-01,\n",
       "         -8.57644048e-04],\n",
       "       [  1.80967206e-01,  -8.25603944e-01,  -1.77082856e-01,\n",
       "          9.57844484e-02],\n",
       "       [  1.08713449e+00,   7.53903893e-02,  -3.06544465e-01,\n",
       "          1.13384539e-01],\n",
       "       [  6.40436750e-01,  -4.17323483e-01,   4.11887694e-02,\n",
       "         -2.42671312e-01],\n",
       "       [  1.09522371e+00,   2.83891211e-01,   1.70022534e-01,\n",
       "         -8.49733893e-02],\n",
       "       [ -7.51467141e-01,  -1.00110751e+00,   1.56721942e-02,\n",
       "         -1.65105922e-02],\n",
       "       [  1.04329778e+00,   2.28956909e-01,  -4.14814566e-01,\n",
       "         -3.75235536e-02],\n",
       "       [ -1.01900707e-02,  -7.20574867e-01,   2.83437246e-01,\n",
       "         -5.94570198e-03],\n",
       "       [ -5.11086196e-01,  -1.26249195e+00,  -2.66489954e-01,\n",
       "          4.89088061e-02],\n",
       "       [  5.11098061e-01,  -1.02284105e-01,   1.32327890e-01,\n",
       "          5.01005352e-02],\n",
       "       [  2.62335756e-01,  -5.47893298e-01,  -6.91941578e-01,\n",
       "          6.14849891e-02],\n",
       "       [  9.84044545e-01,  -1.24360420e-01,  -6.21574276e-02,\n",
       "         -1.69010670e-01],\n",
       "       [ -1.74864002e-01,  -2.51815571e-01,   9.36586382e-02,\n",
       "          1.24940887e-01],\n",
       "       [  9.27572942e-01,   4.68236205e-01,  -3.13229401e-01,\n",
       "          1.00438884e-01],\n",
       "       [  6.59592789e-01,  -3.51976291e-01,   3.28384297e-01,\n",
       "         -1.88991525e-01],\n",
       "       [  2.34540586e-01,  -3.31921829e-01,  -2.70280671e-01,\n",
       "         -2.11984995e-01],\n",
       "       [  9.42361707e-01,  -5.41822258e-01,  -4.97348541e-01,\n",
       "          2.60636685e-01],\n",
       "       [  4.32464003e-02,  -5.81489447e-01,  -2.32963556e-01,\n",
       "         -3.95611807e-02],\n",
       "       [  1.11624072e+00,  -8.42140139e-02,   4.59844227e-01,\n",
       "         -7.72135596e-02],\n",
       "       [  3.56786568e-01,  -6.68238279e-02,  -2.27472180e-01,\n",
       "          1.24090000e-01],\n",
       "       [  1.29646885e+00,  -3.27561520e-01,  -3.47513213e-01,\n",
       "          3.24623910e-03],\n",
       "       [  9.20502649e-01,  -1.82390363e-01,  -2.31611419e-01,\n",
       "         -2.86825347e-01],\n",
       "       [  7.14008214e-01,   1.50379153e-01,  -3.20372333e-01,\n",
       "          4.29412332e-02],\n",
       "       [  8.99640863e-01,   3.29610980e-01,  -3.14771481e-01,\n",
       "          1.01122865e-01],\n",
       "       [  1.33104142e+00,   2.44669521e-01,  -5.21244925e-01,\n",
       "          3.75050497e-02],\n",
       "       [  1.55739627e+00,   2.67392585e-01,  -1.64638491e-01,\n",
       "          7.03530951e-02],\n",
       "       [  8.12455549e-01,  -1.62331575e-01,   3.63435763e-02,\n",
       "         -2.96802711e-02],\n",
       "       [ -3.07334756e-01,  -3.65086613e-01,  -3.15337197e-01,\n",
       "          7.65303776e-02],\n",
       "       [ -7.03428889e-02,  -7.02537932e-01,  -2.41758045e-01,\n",
       "          9.09469852e-03],\n",
       "       [ -1.91884492e-01,  -6.77490544e-01,  -3.03916543e-01,\n",
       "         -1.80454588e-02],\n",
       "       [  1.34994950e-01,  -3.11709643e-01,  -1.74973304e-01,\n",
       "          3.41829142e-02],\n",
       "       [  1.37873698e+00,  -4.21205138e-01,   1.54804951e-02,\n",
       "         -1.77580737e-01],\n",
       "       [  5.87274854e-01,  -4.83284268e-01,   4.44583753e-01,\n",
       "         -2.52442435e-01],\n",
       "       [  8.07205497e-01,   1.95053964e-01,   3.89458711e-01,\n",
       "         -1.16615391e-01],\n",
       "       [  1.22042897e+00,   4.08035337e-01,  -2.36566087e-01,\n",
       "          3.16352440e-02],\n",
       "       [  8.12867790e-01,  -3.70678998e-01,  -6.12871050e-01,\n",
       "          1.57700491e-01],\n",
       "       [  2.45195162e-01,  -2.66728036e-01,   1.89562485e-01,\n",
       "         -1.47328042e-01],\n",
       "       [  1.64513428e-01,  -6.79661469e-01,  -5.77992388e-02,\n",
       "          3.09655779e-02],\n",
       "       [  4.63030989e-01,  -6.69526547e-01,  -2.40538909e-02,\n",
       "         -2.68443508e-01],\n",
       "       [  8.90160446e-01,  -3.38124427e-02,  -9.76802637e-03,\n",
       "         -1.53448206e-01],\n",
       "       [  2.28879050e-01,  -4.02257620e-01,  -2.27362705e-01,\n",
       "          1.86204508e-02],\n",
       "       [ -7.07081284e-01,  -1.00842476e+00,  -1.02069343e-01,\n",
       "          4.76242978e-02],\n",
       "       [  3.55533039e-01,  -5.03218487e-01,   1.78894659e-02,\n",
       "         -9.80716353e-02],\n",
       "       [  3.31126947e-01,  -2.11180141e-01,   8.38090732e-02,\n",
       "         -2.38686542e-01],\n",
       "       [  3.75238229e-01,  -2.91622025e-01,   7.90733555e-02,\n",
       "         -1.31165051e-01],\n",
       "       [  6.41690278e-01,   1.90711765e-02,  -2.04172877e-01,\n",
       "         -2.05096763e-02],\n",
       "       [ -9.08463333e-01,  -7.51568725e-01,  -7.73658451e-03,\n",
       "          2.33558634e-01],\n",
       "       [  2.97807907e-01,  -3.47016522e-01,   1.21791392e-02,\n",
       "         -5.07837171e-02],\n",
       "       [  2.53172698e+00,  -1.18422366e-02,   7.58458652e-01,\n",
       "         -3.25995685e-02],\n",
       "       [  1.41407223e+00,  -5.74925056e-01,   2.96398224e-01,\n",
       "         -1.56954783e-02],\n",
       "       [  2.61648461e+00,   3.41935287e-01,  -1.12141371e-01,\n",
       "          6.59560495e-02],\n",
       "       [  1.97081495e+00,  -1.81125695e-01,   1.06539149e-01,\n",
       "         -2.36858625e-01],\n",
       "       [  2.34975798e+00,  -4.18825497e-02,   2.84110681e-01,\n",
       "         -1.31272400e-03],\n",
       "       [  3.39687992e+00,   5.47168046e-01,  -3.51873158e-01,\n",
       "         -1.11219968e-01],\n",
       "       [  5.19383245e-01,  -1.19135169e+00,   5.46685531e-01,\n",
       "         -9.87984199e-02],\n",
       "       [  2.93200510e+00,   3.52377006e-01,  -4.23691278e-01,\n",
       "         -2.55407369e-01],\n",
       "       [  2.31967279e+00,  -2.45548171e-01,  -3.49922183e-01,\n",
       "         -7.62628625e-02],\n",
       "       [  2.91813423e+00,   7.80380629e-01,   4.21738934e-01,\n",
       "          1.07729319e-01],\n",
       "       [  1.66193495e+00,   2.42038401e-01,   2.42815263e-01,\n",
       "          1.19447585e-01],\n",
       "       [  1.80234045e+00,  -2.16154607e-01,  -3.76953285e-02,\n",
       "          7.87134526e-02],\n",
       "       [  2.16537886e+00,   2.15280283e-01,   3.31481832e-02,\n",
       "          1.62667280e-01],\n",
       "       [  1.34459422e+00,  -7.76415425e-01,   2.82868018e-01,\n",
       "          1.40481892e-01],\n",
       "       [  1.58526730e+00,  -5.39307054e-01,   6.30570488e-01,\n",
       "          3.27455367e-01],\n",
       "       [  1.90474358e+00,   1.18818991e-01,   4.80138080e-01,\n",
       "          2.17114500e-01],\n",
       "       [  1.94924878e+00,   4.07302594e-02,   4.27290939e-02,\n",
       "         -1.57845252e-01],\n",
       "       [  3.48876538e+00,   1.17154454e+00,   1.29320083e-01,\n",
       "         -3.11629838e-01],\n",
       "       [  3.79468686e+00,   2.53265571e-01,  -5.16970716e-01,\n",
       "          5.64516435e-02],\n",
       "       [  1.29832982e+00,  -7.61013937e-01,  -3.44887047e-01,\n",
       "         -4.26737181e-02],\n",
       "       [  2.42816726e+00,   3.76781971e-01,   2.18649070e-01,\n",
       "          1.83854179e-01],\n",
       "       [  1.19809737e+00,  -6.05578962e-01,   5.12640765e-01,\n",
       "          5.95000305e-02],\n",
       "       [  3.49926548e+00,   4.56773467e-01,  -5.76910187e-01,\n",
       "         -1.37759598e-01],\n",
       "       [  1.38766825e+00,  -2.04030987e-01,  -6.35113218e-02,\n",
       "          1.63763537e-01],\n",
       "       [  2.27585365e+00,   3.33386526e-01,   2.84678153e-01,\n",
       "         -6.22302776e-02],\n",
       "       [  2.61419383e+00,   5.58366950e-01,  -2.08423347e-01,\n",
       "         -2.40445433e-01],\n",
       "       [  1.25762518e+00,  -1.79136997e-01,   4.69778074e-02,\n",
       "          1.47600546e-01],\n",
       "       [  1.29066965e+00,  -1.16425252e-01,   2.31613561e-01,\n",
       "          3.08432157e-03],\n",
       "       [  2.12285398e+00,  -2.10854885e-01,   1.53515885e-01,\n",
       "          5.26124332e-02],\n",
       "       [  2.38756440e+00,   4.62519251e-01,  -4.52023961e-01,\n",
       "         -2.29906877e-01],\n",
       "       [  2.84096093e+00,   3.72742591e-01,  -5.01031539e-01,\n",
       "         -2.02166254e-02],\n",
       "       [  3.23234290e+00,   1.37052404e+00,  -1.18448777e-01,\n",
       "         -2.54487344e-01],\n",
       "       [  2.15873837e+00,  -2.18325532e-01,   2.08421976e-01,\n",
       "          1.27724489e-01],\n",
       "       [  1.44310260e+00,  -1.43801289e-01,  -1.54082971e-01,\n",
       "         -1.89925864e-01],\n",
       "       [  1.77964011e+00,  -5.01464795e-01,  -1.75811186e-01,\n",
       "         -5.03529453e-01],\n",
       "       [  3.07652162e+00,   6.85764442e-01,  -3.36422741e-01,\n",
       "          3.10589092e-01],\n",
       "       [  2.14498686e+00,   1.38906609e-01,   7.34184739e-01,\n",
       "          5.17665351e-02],\n",
       "       [  1.90486293e+00,   4.80475082e-02,   1.60470631e-01,\n",
       "         -2.21980142e-01],\n",
       "       [  1.16885347e+00,  -1.64502500e-01,   2.82460881e-01,\n",
       "          1.93307656e-02],\n",
       "       [  2.10765373e+00,   3.71482249e-01,   2.74378565e-02,\n",
       "          2.09955199e-01],\n",
       "       [  2.31430339e+00,   1.82608851e-01,   3.22860401e-01,\n",
       "          2.75896660e-01],\n",
       "       [  1.92245088e+00,   4.09271176e-01,   1.15492816e-01,\n",
       "          5.04095007e-01],\n",
       "       [  1.41407223e+00,  -5.74925056e-01,   2.96398224e-01,\n",
       "         -1.56954783e-02],\n",
       "       [  2.56332271e+00,   2.75974502e-01,   2.91253613e-01,\n",
       "          5.61849270e-02],\n",
       "       [  2.41939122e+00,   3.03503938e-01,   5.04302517e-01,\n",
       "          2.38217947e-01],\n",
       "       [  1.94401705e+00,   1.87415222e-01,   1.79302871e-01,\n",
       "          4.25081634e-01],\n",
       "       [  1.52566363e+00,  -3.75020848e-01,  -1.20636441e-01,\n",
       "          2.55722565e-01],\n",
       "       [  1.76404594e+00,   7.85191864e-02,   1.30784053e-01,\n",
       "          1.36294556e-01],\n",
       "       [  1.90162908e+00,   1.15876748e-01,   7.22873561e-01,\n",
       "          4.08728218e-02],\n",
       "       [  1.38966613e+00,  -2.82886709e-01,   3.62317832e-01,\n",
       "         -1.56310385e-01]])"
      ]
     },
     "execution_count": 15,
     "metadata": {},
     "output_type": "execute_result"
    }
   ],
   "source": [
    "X_pca"
   ]
  },
  {
   "cell_type": "code",
   "execution_count": 16,
   "metadata": {
    "collapsed": true
   },
   "outputs": [],
   "source": [
    "def accumulate(x):\n",
    "    p = []\n",
    "    for i in range(len(x)):\n",
    "        if(i==0):\n",
    "            p.append(x[i])\n",
    "        else:\n",
    "            p.append(p[i-1]+x[i])\n",
    "    return p"
   ]
  },
  {
   "cell_type": "code",
   "execution_count": 17,
   "metadata": {},
   "outputs": [
    {
     "data": {
      "image/png": "[encoded data removed]",
      "text/plain": [
       "<matplotlib.figure.Figure at 0x21ac301d1d0>"
      ]
     },
     "metadata": {},
     "output_type": "display_data"
    }
   ],
   "source": [
    "y1 = pca.explained_variance_ratio_\n",
    "y2 = accumulate(pca.explained_variance_ratio_)\n",
    "x = [i for i in range(len(y1))]\n",
    "\n",
    "plt.figure()\n",
    "plt.bar(x,y1,align='center')\n",
    "plt.plot(x, y2, 'r-o')\n",
    "\n",
    "plt.show()"
   ]
  },
  {
   "cell_type": "code",
   "execution_count": 18,
   "metadata": {},
   "outputs": [
    {
     "data": {
      "text/plain": [
       "numpy.ndarray"
      ]
     },
     "execution_count": 18,
     "metadata": {},
     "output_type": "execute_result"
    }
   ],
   "source": [
    "type(X_pca)"
   ]
  },
  {
   "cell_type": "code",
   "execution_count": 22,
   "metadata": {},
   "outputs": [
    {
     "data": {
      "text/html": [
       "<div>\n",
       "<style>\n",
       "    .dataframe thead tr:only-child th {\n",
       "        text-align: right;\n",
       "    }\n",
       "\n",
       "    .dataframe thead th {\n",
       "        text-align: left;\n",
       "    }\n",
       "\n",
       "    .dataframe tbody tr th {\n",
       "        vertical-align: top;\n",
       "    }\n",
       "</style>\n",
       "<table border=\"1\" class=\"dataframe\">\n",
       "  <thead>\n",
       "    <tr style=\"text-align: right;\">\n",
       "      <th></th>\n",
       "      <th>0</th>\n",
       "      <th>1</th>\n",
       "      <th>2</th>\n",
       "      <th>3</th>\n",
       "    </tr>\n",
       "  </thead>\n",
       "  <tbody>\n",
       "    <tr>\n",
       "      <th>0</th>\n",
       "      <td>1.000000e+00</td>\n",
       "      <td>6.466766e-16</td>\n",
       "      <td>-2.367385e-16</td>\n",
       "      <td>1.696027e-16</td>\n",
       "    </tr>\n",
       "    <tr>\n",
       "      <th>1</th>\n",
       "      <td>6.466766e-16</td>\n",
       "      <td>1.000000e+00</td>\n",
       "      <td>-1.002844e-15</td>\n",
       "      <td>-1.758431e-16</td>\n",
       "    </tr>\n",
       "    <tr>\n",
       "      <th>2</th>\n",
       "      <td>-2.367385e-16</td>\n",
       "      <td>-1.002844e-15</td>\n",
       "      <td>1.000000e+00</td>\n",
       "      <td>5.680285e-16</td>\n",
       "    </tr>\n",
       "    <tr>\n",
       "      <th>3</th>\n",
       "      <td>1.696027e-16</td>\n",
       "      <td>-1.758431e-16</td>\n",
       "      <td>5.680285e-16</td>\n",
       "      <td>1.000000e+00</td>\n",
       "    </tr>\n",
       "  </tbody>\n",
       "</table>\n",
       "</div>"
      ],
      "text/plain": [
       "              0             1             2             3\n",
       "0  1.000000e+00  6.466766e-16 -2.367385e-16  1.696027e-16\n",
       "1  6.466766e-16  1.000000e+00 -1.002844e-15 -1.758431e-16\n",
       "2 -2.367385e-16 -1.002844e-15  1.000000e+00  5.680285e-16\n",
       "3  1.696027e-16 -1.758431e-16  5.680285e-16  1.000000e+00"
      ]
     },
     "execution_count": 22,
     "metadata": {},
     "output_type": "execute_result"
    }
   ],
   "source": [
    "pd.DataFrame(X_pca).corr()"
   ]
  },
  {
   "cell_type": "markdown",
   "metadata": {},
   "source": [
    "## PCA n=2"
   ]
  },
  {
   "cell_type": "code",
   "execution_count": 10,
   "metadata": {
    "collapsed": true
   },
   "outputs": [],
   "source": [
    "X_pca2 = df.drop('target_names',axis=1)\n",
    "y_pca2 = df['target_names']"
   ]
  },
  {
   "cell_type": "code",
   "execution_count": 13,
   "metadata": {},
   "outputs": [
    {
     "data": {
      "text/plain": [
       "array([ 0.92461621,  0.05301557])"
      ]
     },
     "execution_count": 13,
     "metadata": {},
     "output_type": "execute_result"
    }
   ],
   "source": [
    "pca2 = PCA(n_components=2)\n",
    "pca2.fit(X_pca2)\n",
    "X_pca2 = pca2.transform(X_pca2)\n",
    "pca2.explained_variance_ratio_"
   ]
  },
  {
   "cell_type": "code",
   "execution_count": 14,
   "metadata": {},
   "outputs": [
    {
     "data": {
      "image/png": "[encoded data removed]",
      "text/plain": [
       "<matplotlib.figure.Figure at 0x24319e184e0>"
      ]
     },
     "metadata": {},
     "output_type": "display_data"
    }
   ],
   "source": [
    "plt.figure(figsize=(8, 6))\n",
    "plt.scatter(X_pca2[:, 0], X_pca2[:, 1], c=y_pca2, cmap=plt.cm.spectral, edgecolor='k')\n",
    "plt.show()"
   ]
  },
  {
   "cell_type": "markdown",
   "metadata": {},
   "source": [
    "### 將PCA資料切割 + 標準化"
   ]
  },
  {
   "cell_type": "code",
   "execution_count": 15,
   "metadata": {
    "collapsed": true
   },
   "outputs": [],
   "source": [
    "from sklearn.preprocessing import StandardScaler\n",
    "X_pca2_train, X_pca2_test, y_pca2_train, y_pca2_test = train_test_split(X_pca2, y_pca2, test_size = 0.3)"
   ]
  },
  {
   "cell_type": "code",
   "execution_count": 16,
   "metadata": {},
   "outputs": [],
   "source": [
    "sc = StandardScaler()\n",
    "sc.fit(X_pca2_train)\n",
    "X_pca2_train_std = sc.transform(X_pca2_train)\n",
    "X_pca2_test_std = sc.transform(X_pca2_test)"
   ]
  },
  {
   "cell_type": "markdown",
   "metadata": {},
   "source": [
    "#### Linear SVC 模型（第一個選擇的模型）\n",
    "\n",
    "沒有標準化的 結果比 標準化後的好"
   ]
  },
  {
   "cell_type": "markdown",
   "metadata": {},
   "source": [
    "#### PCA + 資料標準化 + LinearSVC"
   ]
  },
  {
   "cell_type": "code",
   "execution_count": 17,
   "metadata": {
    "scrolled": true
   },
   "outputs": [
    {
     "data": {
      "text/plain": [
       "LinearSVC(C=1.0, class_weight=None, dual=True, fit_intercept=True,\n",
       "     intercept_scaling=1, loss='squared_hinge', max_iter=1000,\n",
       "     multi_class='ovr', penalty='l2', random_state=None, tol=0.0001,\n",
       "     verbose=0)"
      ]
     },
     "execution_count": 17,
     "metadata": {},
     "output_type": "execute_result"
    }
   ],
   "source": [
    "# from sklearn.svm import LinearSVC\n",
    "lin_svc_pca2 = LinearSVC()\n",
    "lin_svc_pca2.fit(X_pca2_train_std, y_pca2_train)"
   ]
  },
  {
   "cell_type": "code",
   "execution_count": 20,
   "metadata": {},
   "outputs": [
    {
     "data": {
      "text/plain": [
       "numpy.ndarray"
      ]
     },
     "execution_count": 20,
     "metadata": {},
     "output_type": "execute_result"
    }
   ],
   "source": [
    "type(X_pca2_train_std)"
   ]
  },
  {
   "cell_type": "code",
   "execution_count": 21,
   "metadata": {
    "scrolled": true
   },
   "outputs": [
    {
     "name": "stdout",
     "output_type": "stream",
     "text": [
      "             precision    recall  f1-score   support\n",
      "\n",
      "          0       1.00      1.00      1.00        15\n",
      "          1       0.87      0.93      0.90        14\n",
      "          2       0.93      0.88      0.90        16\n",
      "\n",
      "avg / total       0.93      0.93      0.93        45\n",
      "\n",
      "[[15  0  0]\n",
      " [ 0 13  1]\n",
      " [ 0  2 14]]\n"
     ]
    }
   ],
   "source": [
    "from sklearn import metrics\n",
    "print(metrics.classification_report(y_pca2_test.values.ravel(), lin_svc_pca2.predict(X_pca2_test_std)))\n",
    "print(metrics.confusion_matrix(y_pca2_test.values.ravel(), lin_svc_pca2.predict(X_pca2_test_std)))\n",
    "# print(metrics.classification_report(y_pca_test.values.ravel(), lin_svc.predict(X_pca_test)))\n",
    "# print(metrics.confusion_matrix(y_pca_test.values.ravel(), lin_svc.predict(X_pca_test)))"
   ]
  },
  {
   "cell_type": "code",
   "execution_count": 22,
   "metadata": {},
   "outputs": [
    {
     "name": "stdout",
     "output_type": "stream",
     "text": [
      "各變項參數: [[-1.40809442  0.39591152]\n",
      " [ 0.22662649 -0.37109501]\n",
      " [ 2.83141758 -0.40458732]]\n",
      "MSE: 0.07\n",
      "R Square: 0.933333333333\n"
     ]
    }
   ],
   "source": [
    "print('各變項參數:', lin_svc_pca2.coef_)\n",
    "print(\"MSE: %.2f\" % np.mean((lin_svc_pca2.predict(X_pca2_test_std) - y_pca2_test.values.ravel()) ** 2))\n",
    "print(\"R Square:\",lin_svc_pca2.score(X_pca2_test_std,y_pca2_test))"
   ]
  },
  {
   "cell_type": "code",
   "execution_count": 23,
   "metadata": {},
   "outputs": [
    {
     "name": "stdout",
     "output_type": "stream",
     "text": [
      "Automatically created module for IPython interactive environment\n"
     ]
    }
   ],
   "source": [
    "# Scikit-Learn 官網作圖函式\n",
    "print(__doc__)\n",
    "\n",
    "import numpy as np\n",
    "import matplotlib.pyplot as plt\n",
    "from sklearn.naive_bayes import GaussianNB\n",
    "from sklearn.svm import SVC\n",
    "from sklearn.datasets import load_digits\n",
    "from sklearn.model_selection import learning_curve\n",
    "from sklearn.model_selection import ShuffleSplit\n",
    "\n",
    "\n",
    "def plot_learning_curve(estimator, title, X, y, ylim=None, cv=None,\n",
    "                        n_jobs=1, train_sizes=np.linspace(.1, 1.0, 5)):\n",
    "    \"\"\"\n",
    "    Generate a simple plot of the test and training learning curve.\n",
    "\n",
    "    Parameters\n",
    "    ----------\n",
    "    estimator : object type that implements the \"fit\" and \"predict\" methods\n",
    "        An object of that type which is cloned for each validation.\n",
    "\n",
    "    title : string\n",
    "        Title for the chart.\n",
    "\n",
    "    X : array-like, shape (n_samples, n_features)\n",
    "        Training vector, where n_samples is the number of samples and\n",
    "        n_features is the number of features.\n",
    "\n",
    "    y : array-like, shape (n_samples) or (n_samples, n_features), optional\n",
    "        Target relative to X for classification or regression;\n",
    "        None for unsupervised learning.\n",
    "\n",
    "    ylim : tuple, shape (ymin, ymax), optional\n",
    "        Defines minimum and maximum yvalues plotted.\n",
    "\n",
    "    cv : int, cross-validation generator or an iterable, optional\n",
    "        Determines the cross-validation splitting strategy.\n",
    "        Possible inputs for cv are:\n",
    "          - None, to use the default 3-fold cross-validation,\n",
    "          - integer, to specify the number of folds.\n",
    "          - An object to be used as a cross-validation generator.\n",
    "          - An iterable yielding train/test splits.\n",
    "\n",
    "        For integer/None inputs, if ``y`` is binary or multiclass,\n",
    "        :class:`StratifiedKFold` used. If the estimator is not a classifier\n",
    "        or if ``y`` is neither binary nor multiclass, :class:`KFold` is used.\n",
    "\n",
    "        Refer :ref:`User Guide <cross_validation>` for the various\n",
    "        cross-validators that can be used here.\n",
    "\n",
    "    n_jobs : integer, optional\n",
    "        Number of jobs to run in parallel (default 1).\n",
    "    \"\"\"\n",
    "    plt.figure(figsize=(10,6))  #調整作圖大小\n",
    "    plt.title(title)\n",
    "    if ylim is not None:\n",
    "        plt.ylim(*ylim)\n",
    "    plt.xlabel(\"Training examples\")\n",
    "    plt.ylabel(\"Score\")\n",
    "    train_sizes, train_scores, test_scores = learning_curve(\n",
    "        estimator, X, y, cv=cv, n_jobs=n_jobs, train_sizes=train_sizes)\n",
    "    train_scores_mean = np.mean(train_scores, axis=1)\n",
    "    train_scores_std = np.std(train_scores, axis=1)\n",
    "    test_scores_mean = np.mean(test_scores, axis=1)\n",
    "    test_scores_std = np.std(test_scores, axis=1)\n",
    "    plt.grid()\n",
    "\n",
    "    plt.fill_between(train_sizes, train_scores_mean - train_scores_std,\n",
    "                     train_scores_mean + train_scores_std, alpha=0.1,\n",
    "                     color=\"r\")\n",
    "    plt.fill_between(train_sizes, test_scores_mean - test_scores_std,\n",
    "                     test_scores_mean + test_scores_std, alpha=0.1, color=\"g\")\n",
    "    plt.plot(train_sizes, train_scores_mean, 'o-', color=\"r\",\n",
    "             label=\"Training score\")\n",
    "    plt.plot(train_sizes, test_scores_mean, 'o-', color=\"g\",\n",
    "             label=\"Cross-validation score\")\n",
    "\n",
    "    plt.legend(loc=\"best\")\n",
    "    return plt"
   ]
  },
  {
   "cell_type": "code",
   "execution_count": 61,
   "metadata": {},
   "outputs": [
    {
     "data": {
      "text/plain": [
       "array([0, 0, 0, 0, 0, 0, 0, 0, 0, 0, 0, 0, 0, 0, 0, 0, 0, 0, 0, 0, 0, 0, 0,\n",
       "       0, 0, 0, 0, 0, 0, 0, 0, 0, 0, 0, 0, 0, 0, 0, 0, 0, 0, 0, 0, 0, 0, 0,\n",
       "       0, 0, 0, 0, 1, 1, 1, 1, 1, 1, 1, 1, 1, 1, 1, 1, 1, 1, 1, 1, 1, 1, 1,\n",
       "       1, 1, 1, 1, 1, 1, 1, 1, 1, 1, 1, 1, 1, 1, 1, 1, 1, 1, 1, 1, 1, 1, 1,\n",
       "       1, 1, 1, 1, 1, 1, 1, 1, 2, 2, 2, 2, 2, 2, 2, 2, 2, 2, 2, 2, 2, 2, 2,\n",
       "       2, 2, 2, 2, 2, 2, 2, 2, 2, 2, 2, 2, 2, 2, 2, 2, 2, 2, 2, 2, 2, 2, 2,\n",
       "       2, 2, 2, 2, 2, 2, 2, 2, 2, 2, 2, 2])"
      ]
     },
     "execution_count": 61,
     "metadata": {},
     "output_type": "execute_result"
    }
   ],
   "source": [
    "y_pca2.values.ravel()"
   ]
  },
  {
   "cell_type": "code",
   "execution_count": 78,
   "metadata": {
    "scrolled": true
   },
   "outputs": [],
   "source": [
    "from sklearn.model_selection import KFold,StratifiedKFold\n",
    "from sklearn.learning_curve import learning_curve\n",
    "\n",
    "cv = KFold(n_splits=4, random_state=None, shuffle=True)\n",
    "estimator = LinearSVC()\n",
    "\n",
    "train_sizes, train_scores, valid_scores = learning_curve(estimator, X_pca2_train_std, y_pca2_train.values.ravel(), train_sizes=np.linspace(0.2, 1.0, 5), cv = 10)\n",
    "# plot_learning_curve(estimator, \"LinserSVC+PCA+Std\", sc.transform(X_pca2), y_pca2.values.ravel(), cv = kf, train_sizes=np.linspace(0.2, 1.0, 5))"
   ]
  },
  {
   "cell_type": "code",
   "execution_count": 79,
   "metadata": {},
   "outputs": [
    {
     "data": {
      "text/plain": [
       "<module 'matplotlib.pyplot' from 'C:\\\\Users\\\\poduo\\\\Anaconda3\\\\lib\\\\site-packages\\\\matplotlib\\\\pyplot.py'>"
      ]
     },
     "execution_count": 79,
     "metadata": {},
     "output_type": "execute_result"
    },
    {
     "data": {
      "image/png": "[encoded data removed]",
      "text/plain": [
       "<matplotlib.figure.Figure at 0x2431a7adeb8>"
      ]
     },
     "metadata": {},
     "output_type": "display_data"
    }
   ],
   "source": [
    "plot_learning_curve(estimator, \"LinserSVC+PCA+Std\", X_pca2_train_std, y_pca2_train.values.ravel(), cv = 10, train_sizes=np.linspace(0.2, 1.0, 5))"
   ]
  },
  {
   "cell_type": "code",
   "execution_count": 66,
   "metadata": {
    "scrolled": true
   },
   "outputs": [
    {
     "data": {
      "image/png": "[encoded data removed]",
      "text/plain": [
       "<matplotlib.figure.Figure at 0x2431a88b160>"
      ]
     },
     "metadata": {},
     "output_type": "display_data"
    }
   ],
   "source": [
    "from sklearn.model_selection import KFold,StratifiedKFold\n",
    "from sklearn.learning_curve import learning_curve\n",
    "from sklearn.pipeline import Pipeline\n",
    "\n",
    "pipe_lr = Pipeline([('sc',StandardScaler()),('linSVC',LinearSVC())])\n",
    "train_sizes, train_scores, test_scores = learning_curve(estimator= pipe_lr,\n",
    "                                                        X = X_pca2_train,\n",
    "                                                        y = y_pca2_train,\n",
    "                                                        train_sizes = np.linspace(0.2, 1.0, 5),\n",
    "                                                        cv = 10\n",
    "                                                       )\n",
    "train_mean = np.mean(train_scores, axis=1)\n",
    "train_std = np.std(train_scores, axis=1)\n",
    "test_mean = np.mean(test_scores, axis=1)\n",
    "test_std = np.std(test_scores, axis=1)\n",
    "\n",
    "plt.plot(train_sizes, train_mean, color = 'red', marker = 'o', markersize = 5, label = 'training accuracy')\n",
    "plt.fill_between(train_sizes, train_mean + train_std, train_mean - train_std, alpha = 0.15, color = 'red')\n",
    "\n",
    "plt.plot(train_sizes, test_mean, color = 'green', linestyle = '--', marker = 's', markersize = 5, label = 'validation accuracy')\n",
    "plt.fill_between(train_sizes, test_mean + test_std, test_mean - test_std, alpha = 0.15, color = 'green')\n",
    "\n",
    "plt.grid()\n",
    "plt.xlabel('Number of training samples')\n",
    "plt.ylabel('Accuracy')\n",
    "plt.legend(loc = 'lower right')\n",
    "plt.ylim([0.5, 1.0])\n",
    "plt.show()\n"
   ]
  },
  {
   "cell_type": "markdown",
   "metadata": {},
   "source": [
    "#### PCA + 資料 沒有 標準化 + LinearSVC"
   ]
  },
  {
   "cell_type": "code",
   "execution_count": 75,
   "metadata": {},
   "outputs": [
    {
     "data": {
      "text/plain": [
       "LinearSVC(C=1.0, class_weight=None, dual=True, fit_intercept=True,\n",
       "     intercept_scaling=1, loss='squared_hinge', max_iter=1000,\n",
       "     multi_class='ovr', penalty='l2', random_state=None, tol=0.0001,\n",
       "     verbose=0)"
      ]
     },
     "execution_count": 75,
     "metadata": {},
     "output_type": "execute_result"
    }
   ],
   "source": [
    "lin_svc_pca = LinearSVC()\n",
    "lin_svc_pca.fit(X_pca2_train, y_pca2_train)\n",
    "# lin_svc_pca.fit(X_pca_train, y_pca_train)"
   ]
  },
  {
   "cell_type": "code",
   "execution_count": 76,
   "metadata": {
    "scrolled": true
   },
   "outputs": [
    {
     "name": "stdout",
     "output_type": "stream",
     "text": [
      "             precision    recall  f1-score   support\n",
      "\n",
      "          0       1.00      1.00      1.00        15\n",
      "          1       0.87      0.93      0.90        14\n",
      "          2       0.93      0.88      0.90        16\n",
      "\n",
      "avg / total       0.93      0.93      0.93        45\n",
      "\n",
      "[[15  0  0]\n",
      " [ 0 13  1]\n",
      " [ 0  2 14]]\n"
     ]
    }
   ],
   "source": [
    "from sklearn import metrics\n",
    "print(metrics.classification_report(y_pca2_test.values.ravel(), lin_svc_pca.predict(X_pca2_test)))\n",
    "print(metrics.confusion_matrix(y_pca2_test.values.ravel(), lin_svc_pca.predict(X_pca2_test)))\n",
    "# print(metrics.classification_report(y_pca_test.values.ravel(), lin_svc.predict(X_pca_test)))\n",
    "# print(metrics.confusion_matrix(y_pca_test.values.ravel(), lin_svc.predict(X_pca_test)))"
   ]
  },
  {
   "cell_type": "code",
   "execution_count": 77,
   "metadata": {},
   "outputs": [
    {
     "name": "stdout",
     "output_type": "stream",
     "text": [
      "各變項參數: [[-0.72687954  0.63919343]\n",
      " [ 0.10772716 -0.78859588]\n",
      " [ 1.6412638  -0.95269972]]\n",
      "MSE: 0.07\n",
      "R Square: 0.933333333333\n"
     ]
    }
   ],
   "source": [
    "print('各變項參數:', lin_svc_pca.coef_)\n",
    "print(\"MSE: %.2f\" % np.mean((lin_svc_pca.predict(X_pca2_test) - y_pca2_test.values.ravel()) ** 2))\n",
    "print(\"R Square:\",lin_svc_pca.score(X_pca2_test,y_pca2_test))"
   ]
  },
  {
   "cell_type": "code",
   "execution_count": 104,
   "metadata": {
    "scrolled": true
   },
   "outputs": [],
   "source": [
    "# from sklearn.model_selection import KFold,StratifiedKFold\n",
    "from sklearn.learning_curve import learning_curve\n",
    "\n",
    "# cv = KFold(n_splits=4, random_state=None, shuffle=True)\n",
    "estimator = LinearSVC()\n",
    "\n",
    "train_sizes, train_scores, valid_scores = learning_curve(estimator, X_pca2_train, y_pca2_train.values.ravel(), train_sizes=np.linspace(0.2, 1.0, 5), cv = 10)\n",
    "# plot_learning_curve(estimator, \"LinserSVC+PCA+Std\", sc.transform(X_pca2), y_pca2.values.ravel(), cv = kf, train_sizes=np.linspace(0.2, 1.0, 5))"
   ]
  },
  {
   "cell_type": "code",
   "execution_count": 81,
   "metadata": {},
   "outputs": [
    {
     "data": {
      "text/plain": [
       "<module 'matplotlib.pyplot' from 'C:\\\\Users\\\\poduo\\\\Anaconda3\\\\lib\\\\site-packages\\\\matplotlib\\\\pyplot.py'>"
      ]
     },
     "execution_count": 81,
     "metadata": {},
     "output_type": "execute_result"
    },
    {
     "data": {
      "image/png": "[encoded data removed]",
      "text/plain": [
       "<matplotlib.figure.Figure at 0x2431a706e10>"
      ]
     },
     "metadata": {},
     "output_type": "display_data"
    }
   ],
   "source": [
    "plot_learning_curve(estimator, \"LinserSVC+PCA\", X_pca2_train, y_pca2_train.values.ravel(), cv = 10, train_sizes=np.linspace(0.2, 1.0, 5))"
   ]
  },
  {
   "cell_type": "markdown",
   "metadata": {},
   "source": [
    "#### 資料 沒有 標準化 + LinearSVC"
   ]
  },
  {
   "cell_type": "code",
   "execution_count": 25,
   "metadata": {},
   "outputs": [
    {
     "data": {
      "text/plain": [
       "LinearSVC(C=1.0, class_weight=None, dual=True, fit_intercept=True,\n",
       "     intercept_scaling=1, loss='squared_hinge', max_iter=1000,\n",
       "     multi_class='ovr', penalty='l2', random_state=None, tol=0.0001,\n",
       "     verbose=0)"
      ]
     },
     "execution_count": 25,
     "metadata": {},
     "output_type": "execute_result"
    }
   ],
   "source": [
    "# 初始化 LinearSVC 實例\n",
    "lin_svc = LinearSVC()\n",
    "# 使用 fit 來建置模型，其參數接收 training data matrix, testing data array，所以進行 y_train.values.ravel() Data Frame 轉換\n",
    "# y_train.values.ravel()\n",
    "lin_svc.fit(X_train, y_train.values.ravel())"
   ]
  },
  {
   "cell_type": "code",
   "execution_count": 26,
   "metadata": {},
   "outputs": [
    {
     "name": "stdout",
     "output_type": "stream",
     "text": [
      "             precision    recall  f1-score   support\n",
      "\n",
      "          0       1.00      1.00      1.00        16\n",
      "          1       0.87      1.00      0.93        13\n",
      "          2       1.00      0.88      0.93        16\n",
      "\n",
      "avg / total       0.96      0.96      0.96        45\n",
      "\n",
      "[[16  0  0]\n",
      " [ 0 13  0]\n",
      " [ 0  2 14]]\n"
     ]
    }
   ],
   "source": [
    "from sklearn import metrics\n",
    "print(metrics.classification_report(y_test.values.ravel(), lin_svc.predict(X_test)))\n",
    "print(metrics.confusion_matrix(y_test.values.ravel(), lin_svc.predict(X_test)))"
   ]
  },
  {
   "cell_type": "code",
   "execution_count": 27,
   "metadata": {
    "scrolled": true
   },
   "outputs": [
    {
     "name": "stdout",
     "output_type": "stream",
     "text": [
      "截距： [ 0.10956117  1.25204449 -0.93021881]\n",
      "各變項參數: [[ 0.18424299  0.45123007 -0.80793762 -0.45070939]\n",
      " [-0.10316163 -0.60875633  0.61556498 -1.1814235 ]\n",
      " [-0.80389044 -1.06882634  1.09715269  2.10340272]]\n",
      "MSE: 0.04\n",
      "R Square: 0.955555555556\n"
     ]
    }
   ],
   "source": [
    "print('截距：', lin_svc.intercept_)\n",
    "print('各變項參數:', lin_svc.coef_)\n",
    "print(\"MSE: %.2f\" % np.mean((lin_svc.predict(X_test) - y_test.values.ravel()) ** 2))\n",
    "print(\"R Square:\",lin_svc.score(X_test,y_test))"
   ]
  },
  {
   "cell_type": "markdown",
   "metadata": {},
   "source": [
    "## 重取資料"
   ]
  },
  {
   "cell_type": "code",
   "execution_count": 40,
   "metadata": {},
   "outputs": [],
   "source": [
    "y = df_y.values.ravel()"
   ]
  },
  {
   "cell_type": "code",
   "execution_count": 42,
   "metadata": {},
   "outputs": [],
   "source": [
    "X = df_X.as_matrix()"
   ]
  },
  {
   "cell_type": "code",
   "execution_count": 43,
   "metadata": {},
   "outputs": [],
   "source": [
    "# 產生一個和y一樣大小的 nparray\n",
    "indices = np.arange(df_y.shape[0])\n",
    "# 打亂 indices 的內容\n",
    "np.random.shuffle(indices)\n",
    "X, y = X[indices], y[indices]"
   ]
  },
  {
   "cell_type": "code",
   "execution_count": 73,
   "metadata": {},
   "outputs": [],
   "source": [
    "from sklearn.model_selection import KFold,StratifiedKFold\n",
    "from sklearn.learning_curve import learning_curve\n",
    "\n",
    "cv2 = KFold(n_splits=4, random_state=None, shuffle=True)\n",
    "estimator = LinearSVC()\n",
    "\n",
    "train_sizes, train_scores, valid_scores = learning_curve(estimator, X, y, train_sizes=np.linspace(0.2, 1.0, 5), cv = 10)"
   ]
  },
  {
   "cell_type": "code",
   "execution_count": 74,
   "metadata": {},
   "outputs": [
    {
     "data": {
      "text/plain": [
       "<module 'matplotlib.pyplot' from 'C:\\\\Users\\\\poduo\\\\Anaconda3\\\\lib\\\\site-packages\\\\matplotlib\\\\pyplot.py'>"
      ]
     },
     "execution_count": 74,
     "metadata": {},
     "output_type": "execute_result"
    },
    {
     "data": {
      "image/png": "[encoded data removed]",
      "text/plain": [
       "<matplotlib.figure.Figure at 0x2431a8880f0>"
      ]
     },
     "metadata": {},
     "output_type": "display_data"
    }
   ],
   "source": [
    "plot_learning_curve(estimator, \"LinserSVC\", X, y, cv = 10, train_sizes=np.linspace(0.2, 1.0, 5))"
   ]
  },
  {
   "cell_type": "markdown",
   "metadata": {},
   "source": [
    "#### 資料 標準化 + LinearSVC"
   ]
  },
  {
   "cell_type": "code",
   "execution_count": 82,
   "metadata": {
    "collapsed": true
   },
   "outputs": [],
   "source": [
    "y = df_y.values.ravel()"
   ]
  },
  {
   "cell_type": "code",
   "execution_count": 83,
   "metadata": {
    "collapsed": true
   },
   "outputs": [],
   "source": [
    "X = df_X.as_matrix()"
   ]
  },
  {
   "cell_type": "code",
   "execution_count": 84,
   "metadata": {
    "collapsed": true
   },
   "outputs": [],
   "source": [
    "# 產生一個和y一樣大小的 nparray\n",
    "indices = np.arange(df_y.shape[0])\n",
    "# 打亂 indices 的內容\n",
    "np.random.shuffle(indices)\n",
    "X, y = X[indices], y[indices]"
   ]
  },
  {
   "cell_type": "code",
   "execution_count": 85,
   "metadata": {
    "collapsed": true
   },
   "outputs": [],
   "source": [
    "X_train, X_test, y_train, y_test = train_test_split(X, y, test_size = 0.3)"
   ]
  },
  {
   "cell_type": "code",
   "execution_count": 86,
   "metadata": {
    "collapsed": true
   },
   "outputs": [],
   "source": [
    "from sklearn.preprocessing import StandardScaler"
   ]
  },
  {
   "cell_type": "code",
   "execution_count": 87,
   "metadata": {
    "collapsed": true
   },
   "outputs": [],
   "source": [
    "sc2 = StandardScaler()\n",
    "X_train_std = sc2.fit_transform(X_train)\n",
    "X_test_std = sc2.transform(X_test)"
   ]
  },
  {
   "cell_type": "code",
   "execution_count": 88,
   "metadata": {},
   "outputs": [
    {
     "data": {
      "text/plain": [
       "LinearSVC(C=1.0, class_weight=None, dual=True, fit_intercept=True,\n",
       "     intercept_scaling=1, loss='squared_hinge', max_iter=1000,\n",
       "     multi_class='ovr', penalty='l2', random_state=None, tol=0.0001,\n",
       "     verbose=0)"
      ]
     },
     "execution_count": 88,
     "metadata": {},
     "output_type": "execute_result"
    }
   ],
   "source": [
    "# 初始化 LinearSVC 實例\n",
    "lin_svc_st = LinearSVC()\n",
    "# 使用 fit 來建置模型，其參數接收 training data matrix, testing data array，所以進行 y_train.values.ravel() Data Frame 轉換\n",
    "# y_train.values.ravel()\n",
    "lin_svc_st.fit(X_train_std, y_train)"
   ]
  },
  {
   "cell_type": "code",
   "execution_count": 89,
   "metadata": {},
   "outputs": [
    {
     "name": "stdout",
     "output_type": "stream",
     "text": [
      "             precision    recall  f1-score   support\n",
      "\n",
      "          0       1.00      0.95      0.97        19\n",
      "          1       0.85      0.79      0.81        14\n",
      "          2       0.79      0.92      0.85        12\n",
      "\n",
      "avg / total       0.89      0.89      0.89        45\n",
      "\n",
      "[[18  1  0]\n",
      " [ 0 11  3]\n",
      " [ 0  1 11]]\n"
     ]
    }
   ],
   "source": [
    "print(metrics.classification_report(y_test, lin_svc_st.predict(X_test_std)))\n",
    "print(metrics.confusion_matrix(y_test, lin_svc_st.predict(X_test_std)))"
   ]
  },
  {
   "cell_type": "code",
   "execution_count": 90,
   "metadata": {},
   "outputs": [
    {
     "name": "stdout",
     "output_type": "stream",
     "text": [
      "各變項參數: [[-0.12166394  0.47745253 -0.57540228 -0.60608077]\n",
      " [ 0.24063447 -0.52995352  0.24244129 -0.54048766]\n",
      " [-0.37244491 -0.2535759   1.65091275  1.61675714]]\n",
      "MSE: 0.11\n",
      "R Square: 0.888888888889\n"
     ]
    }
   ],
   "source": [
    "print('各變項參數:', lin_svc_st.coef_)\n",
    "print(\"MSE: %.2f\" % np.mean((lin_svc_st.predict(X_test_std) - y_test) ** 2))\n",
    "print(\"R Square:\",lin_svc_st.score(X_test_std,y_test))"
   ]
  },
  {
   "cell_type": "code",
   "execution_count": 101,
   "metadata": {},
   "outputs": [],
   "source": [
    "estimator = LinearSVC()\n",
    "cv = KFold(n_splits=4, random_state=None, shuffle=True)\n",
    "sc3 = StandardScaler()\n",
    "sc3.fit(X_train)\n",
    "train_sizes, train_scores, valid_scores = learning_curve(estimator, sc3.transform(X), y, train_sizes=np.linspace(0.2, 1.0, 5), cv = 10)\n",
    "# plot_learning_curve(estimator, \"LinserSVC+PCA+Std\", sc.transform(X_pca2), y_pca2.values.ravel(), cv = kf, train_sizes=np.linspace(0.2, 1.0, 5))"
   ]
  },
  {
   "cell_type": "code",
   "execution_count": 102,
   "metadata": {},
   "outputs": [
    {
     "data": {
      "text/plain": [
       "<module 'matplotlib.pyplot' from 'C:\\\\Users\\\\poduo\\\\Anaconda3\\\\lib\\\\site-packages\\\\matplotlib\\\\pyplot.py'>"
      ]
     },
     "execution_count": 102,
     "metadata": {},
     "output_type": "execute_result"
    },
    {
     "data": {
      "image/png": "[encoded data removed]",
      "text/plain": [
       "<matplotlib.figure.Figure at 0x2431bb9b208>"
      ]
     },
     "metadata": {},
     "output_type": "display_data"
    }
   ],
   "source": [
    "plot_learning_curve(estimator, \"LinserSVC+Std\",  sc3.transform(X), y, train_sizes=np.linspace(0.2, 1.0, 5), cv = 10)"
   ]
  },
  {
   "cell_type": "markdown",
   "metadata": {},
   "source": [
    "### 2個feature ：sepal length (cm)、sepal width (cm)"
   ]
  },
  {
   "cell_type": "code",
   "execution_count": 55,
   "metadata": {
    "collapsed": true
   },
   "outputs": [],
   "source": [
    "X1 = df[['sepal length (cm)','sepal width (cm)']]\n",
    "y1 = df['target_names']"
   ]
  },
  {
   "cell_type": "code",
   "execution_count": 56,
   "metadata": {
    "collapsed": true
   },
   "outputs": [],
   "source": [
    "X1_train, X1_test, y1_train, y1_test = train_test_split(X1, y1, test_size = 0.3)"
   ]
  },
  {
   "cell_type": "code",
   "execution_count": 57,
   "metadata": {},
   "outputs": [
    {
     "data": {
      "text/plain": [
       "StandardScaler(copy=True, with_mean=True, with_std=True)"
      ]
     },
     "execution_count": 57,
     "metadata": {},
     "output_type": "execute_result"
    }
   ],
   "source": [
    "sc1 = StandardScaler()\n",
    "sc1.fit(X1_train)"
   ]
  },
  {
   "cell_type": "code",
   "execution_count": 58,
   "metadata": {
    "collapsed": true
   },
   "outputs": [],
   "source": [
    "X1_train_std = sc1.transform(X1_train)\n",
    "X1_test_std = sc1.transform(X1_test)"
   ]
  },
  {
   "cell_type": "code",
   "execution_count": 59,
   "metadata": {},
   "outputs": [
    {
     "data": {
      "text/plain": [
       "LinearSVC(C=1.0, class_weight=None, dual=True, fit_intercept=True,\n",
       "     intercept_scaling=1, loss='squared_hinge', max_iter=1000,\n",
       "     multi_class='ovr', penalty='l2', random_state=None, tol=0.0001,\n",
       "     verbose=0)"
      ]
     },
     "execution_count": 59,
     "metadata": {},
     "output_type": "execute_result"
    }
   ],
   "source": [
    "lin_svc1 = LinearSVC()\n",
    "lin_svc1.fit(X1_train_std, y1_train.values.ravel())"
   ]
  },
  {
   "cell_type": "code",
   "execution_count": 60,
   "metadata": {
    "scrolled": true
   },
   "outputs": [
    {
     "name": "stdout",
     "output_type": "stream",
     "text": [
      "             precision    recall  f1-score   support\n",
      "\n",
      "          0       1.00      1.00      1.00        13\n",
      "          1       0.73      0.69      0.71        16\n",
      "          2       0.71      0.75      0.73        16\n",
      "\n",
      "avg / total       0.80      0.80      0.80        45\n",
      "\n",
      "[[13  0  0]\n",
      " [ 0 11  5]\n",
      " [ 0  4 12]]\n"
     ]
    }
   ],
   "source": [
    "print(metrics.classification_report(y1_test.values.ravel(), lin_svc1.predict(X1_test_std)))\n",
    "print(metrics.confusion_matrix(y1_test.values.ravel(), lin_svc1.predict(X1_test_std)))"
   ]
  },
  {
   "cell_type": "markdown",
   "metadata": {},
   "source": [
    "#### KNeighborsClassifier 模型（第二個選擇的模型）+ 無 標準化"
   ]
  },
  {
   "cell_type": "code",
   "execution_count": 66,
   "metadata": {
    "scrolled": true
   },
   "outputs": [
    {
     "data": {
      "text/plain": [
       "KNeighborsClassifier(algorithm='auto', leaf_size=30, metric='minkowski',\n",
       "           metric_params=None, n_jobs=1, n_neighbors=3, p=2,\n",
       "           weights='uniform')"
      ]
     },
     "execution_count": 66,
     "metadata": {},
     "output_type": "execute_result"
    }
   ],
   "source": [
    "from sklearn.neighbors import KNeighborsClassifier\n",
    "from sklearn import metrics\n",
    "\n",
    "knn = KNeighborsClassifier(n_neighbors=3, weights='uniform')\n",
    "knn.fit(X_train, y_train.values.ravel())"
   ]
  },
  {
   "cell_type": "code",
   "execution_count": 67,
   "metadata": {
    "scrolled": false
   },
   "outputs": [
    {
     "name": "stdout",
     "output_type": "stream",
     "text": [
      "             precision    recall  f1-score   support\n",
      "\n",
      "          0       1.00      1.00      1.00        15\n",
      "          1       0.83      1.00      0.91        10\n",
      "          2       1.00      0.90      0.95        20\n",
      "\n",
      "avg / total       0.96      0.96      0.96        45\n",
      "\n",
      "[[15  0  0]\n",
      " [ 0 10  0]\n",
      " [ 0  2 18]]\n"
     ]
    }
   ],
   "source": [
    "print(metrics.classification_report(y_test, knn.predict(X_test)))\n",
    "print(metrics.confusion_matrix(y_test, knn.predict(X_test)))"
   ]
  },
  {
   "cell_type": "code",
   "execution_count": 126,
   "metadata": {
    "collapsed": true
   },
   "outputs": [],
   "source": [
    "estimator = KNeighborsClassifier(n_neighbors=3, weights='uniform')\n",
    "# cv = KFold(n_splits=4, random_state=None, shuffle=True)\n",
    "\n",
    "train_sizes, train_scores, valid_scores = learning_curve(estimator, X, y, train_sizes=np.linspace(0.2, 1.0, 5), cv = 10)"
   ]
  },
  {
   "cell_type": "code",
   "execution_count": 127,
   "metadata": {
    "scrolled": true
   },
   "outputs": [
    {
     "data": {
      "text/plain": [
       "<module 'matplotlib.pyplot' from 'C:\\\\Users\\\\poduo\\\\Anaconda3\\\\lib\\\\site-packages\\\\matplotlib\\\\pyplot.py'>"
      ]
     },
     "execution_count": 127,
     "metadata": {},
     "output_type": "execute_result"
    },
    {
     "data": {
      "image/png": "[encoded data removed]",
      "text/plain": [
       "<matplotlib.figure.Figure at 0x2431aad09e8>"
      ]
     },
     "metadata": {},
     "output_type": "display_data"
    }
   ],
   "source": [
    "plot_learning_curve(estimator, \"KNN\", X, y, train_sizes=np.linspace(0.2, 1.0, 5), cv = 10)"
   ]
  },
  {
   "cell_type": "markdown",
   "metadata": {},
   "source": [
    "#### KNeighborsClassifier 模型（第二個選擇的模型）+ 有標準化"
   ]
  },
  {
   "cell_type": "code",
   "execution_count": 121,
   "metadata": {
    "scrolled": true
   },
   "outputs": [
    {
     "data": {
      "text/plain": [
       "KNeighborsClassifier(algorithm='auto', leaf_size=30, metric='minkowski',\n",
       "           metric_params=None, n_jobs=1, n_neighbors=3, p=2,\n",
       "           weights='uniform')"
      ]
     },
     "execution_count": 121,
     "metadata": {},
     "output_type": "execute_result"
    }
   ],
   "source": [
    "from sklearn.neighbors import KNeighborsClassifier\n",
    "from sklearn import metrics\n",
    "\n",
    "knn = KNeighborsClassifier(n_neighbors=3, weights='uniform')\n",
    "knn.fit(X_train_std, y_train)"
   ]
  },
  {
   "cell_type": "code",
   "execution_count": 122,
   "metadata": {
    "scrolled": false
   },
   "outputs": [
    {
     "name": "stdout",
     "output_type": "stream",
     "text": [
      "             precision    recall  f1-score   support\n",
      "\n",
      "          0       1.00      0.95      0.97        19\n",
      "          1       0.87      0.93      0.90        14\n",
      "          2       0.92      0.92      0.92        12\n",
      "\n",
      "avg / total       0.94      0.93      0.93        45\n",
      "\n",
      "[[18  1  0]\n",
      " [ 0 13  1]\n",
      " [ 0  1 11]]\n"
     ]
    }
   ],
   "source": [
    "print(metrics.classification_report(y_test, knn.predict(X_test_std)))\n",
    "print(metrics.confusion_matrix(y_test, knn.predict(X_test_std)))"
   ]
  },
  {
   "cell_type": "code",
   "execution_count": 123,
   "metadata": {
    "collapsed": true
   },
   "outputs": [],
   "source": [
    "estimator = KNeighborsClassifier(n_neighbors=3, weights='uniform')\n",
    "# cv = KFold(n_splits=4, random_state=None, shuffle=True)\n",
    "sc5 = StandardScaler()\n",
    "sc5.fit(X_train)\n",
    "\n",
    "train_sizes, train_scores, valid_scores = learning_curve(estimator, sc5.transform(X), y, train_sizes=np.linspace(0.2, 1.0, 5), cv = 10)"
   ]
  },
  {
   "cell_type": "code",
   "execution_count": 125,
   "metadata": {
    "scrolled": true
   },
   "outputs": [
    {
     "data": {
      "text/plain": [
       "<module 'matplotlib.pyplot' from 'C:\\\\Users\\\\poduo\\\\Anaconda3\\\\lib\\\\site-packages\\\\matplotlib\\\\pyplot.py'>"
      ]
     },
     "execution_count": 125,
     "metadata": {},
     "output_type": "execute_result"
    },
    {
     "data": {
      "image/png": "[encoded data removed]",
      "text/plain": [
       "<matplotlib.figure.Figure at 0x2431aa7fbe0>"
      ]
     },
     "metadata": {},
     "output_type": "display_data"
    }
   ],
   "source": [
    "plot_learning_curve(estimator, \"KNN+std\",  sc5.transform(X), y, train_sizes=np.linspace(0.2, 1.0, 5), cv = 10)"
   ]
  },
  {
   "cell_type": "markdown",
   "metadata": {},
   "source": [
    "#### PCA+KNN + 資料無標準化"
   ]
  },
  {
   "cell_type": "code",
   "execution_count": 105,
   "metadata": {},
   "outputs": [
    {
     "data": {
      "text/plain": [
       "KNeighborsClassifier(algorithm='auto', leaf_size=30, metric='minkowski',\n",
       "           metric_params=None, n_jobs=1, n_neighbors=3, p=2,\n",
       "           weights='uniform')"
      ]
     },
     "execution_count": 105,
     "metadata": {},
     "output_type": "execute_result"
    }
   ],
   "source": [
    "knn_pca = KNeighborsClassifier(n_neighbors=3, weights='uniform')\n",
    "knn_pca.fit(X_pca2_train, y_pca2_train.values.ravel())"
   ]
  },
  {
   "cell_type": "code",
   "execution_count": 106,
   "metadata": {},
   "outputs": [
    {
     "name": "stdout",
     "output_type": "stream",
     "text": [
      "             precision    recall  f1-score   support\n",
      "\n",
      "          0       1.00      1.00      1.00        15\n",
      "          1       0.92      0.86      0.89        14\n",
      "          2       0.88      0.94      0.91        16\n",
      "\n",
      "avg / total       0.93      0.93      0.93        45\n",
      "\n",
      "[[15  0  0]\n",
      " [ 0 12  2]\n",
      " [ 0  1 15]]\n"
     ]
    }
   ],
   "source": [
    "print(metrics.classification_report(y_pca2_test, knn_pca.predict(X_pca2_test)))\n",
    "print(metrics.confusion_matrix(y_pca2_test, knn_pca.predict(X_pca2_test)))"
   ]
  },
  {
   "cell_type": "code",
   "execution_count": 112,
   "metadata": {},
   "outputs": [],
   "source": [
    "estimator = KNeighborsClassifier(n_neighbors=3, weights='uniform')\n",
    "# cv = KFold(n_splits=4, random_state=None, shuffle=True)\n",
    "\n",
    "train_sizes, train_scores, valid_scores = learning_curve(estimator, X_pca2_train, y_pca2_train, train_sizes=np.linspace(0.2, 1.0, 5), cv = 10)"
   ]
  },
  {
   "cell_type": "code",
   "execution_count": 114,
   "metadata": {},
   "outputs": [
    {
     "data": {
      "text/plain": [
       "<module 'matplotlib.pyplot' from 'C:\\\\Users\\\\poduo\\\\Anaconda3\\\\lib\\\\site-packages\\\\matplotlib\\\\pyplot.py'>"
      ]
     },
     "execution_count": 114,
     "metadata": {},
     "output_type": "execute_result"
    },
    {
     "data": {
      "image/png": "[encoded data removed]",
      "text/plain": [
       "<matplotlib.figure.Figure at 0x2431a9e9cc0>"
      ]
     },
     "metadata": {},
     "output_type": "display_data"
    }
   ],
   "source": [
    "plot_learning_curve(estimator, \"PCA+KNN\",  X_pca2_train, y_pca2_train, train_sizes=np.linspace(0.2, 1.0, 5), cv = 10)"
   ]
  },
  {
   "cell_type": "markdown",
   "metadata": {},
   "source": [
    "#### PCA + KNN + 資料 有 標準化"
   ]
  },
  {
   "cell_type": "code",
   "execution_count": 109,
   "metadata": {},
   "outputs": [
    {
     "data": {
      "text/plain": [
       "KNeighborsClassifier(algorithm='auto', leaf_size=30, metric='minkowski',\n",
       "           metric_params=None, n_jobs=1, n_neighbors=3, p=2,\n",
       "           weights='uniform')"
      ]
     },
     "execution_count": 109,
     "metadata": {},
     "output_type": "execute_result"
    }
   ],
   "source": [
    "knn_pca_std = KNeighborsClassifier(n_neighbors=3, weights='uniform')\n",
    "knn_pca_std.fit(X_pca2_train_std, y_pca2_train.values.ravel())"
   ]
  },
  {
   "cell_type": "code",
   "execution_count": 110,
   "metadata": {},
   "outputs": [
    {
     "name": "stdout",
     "output_type": "stream",
     "text": [
      "             precision    recall  f1-score   support\n",
      "\n",
      "          0       1.00      1.00      1.00        15\n",
      "          1       0.87      0.93      0.90        14\n",
      "          2       0.93      0.88      0.90        16\n",
      "\n",
      "avg / total       0.93      0.93      0.93        45\n",
      "\n",
      "[[15  0  0]\n",
      " [ 0 13  1]\n",
      " [ 0  2 14]]\n"
     ]
    }
   ],
   "source": [
    "print(metrics.classification_report(y_pca2_test, knn_pca_std.predict(X_pca2_test_std)))\n",
    "print(metrics.confusion_matrix(y_pca2_test, knn_pca_std.predict(X_pca2_test_std)))"
   ]
  },
  {
   "cell_type": "code",
   "execution_count": 116,
   "metadata": {},
   "outputs": [],
   "source": [
    "estimator = KNeighborsClassifier(n_neighbors=3, weights='uniform')\n",
    "# cv = KFold(n_splits=4, random_state=None, shuffle=True)\n",
    "\n",
    "train_sizes, train_scores, valid_scores = learning_curve(estimator, X_pca2_train_std, y_pca2_train, train_sizes=np.linspace(0.2, 1.0, 5), cv = 10)"
   ]
  },
  {
   "cell_type": "code",
   "execution_count": 119,
   "metadata": {},
   "outputs": [
    {
     "data": {
      "text/plain": [
       "<module 'matplotlib.pyplot' from 'C:\\\\Users\\\\poduo\\\\Anaconda3\\\\lib\\\\site-packages\\\\matplotlib\\\\pyplot.py'>"
      ]
     },
     "execution_count": 119,
     "metadata": {},
     "output_type": "execute_result"
    },
    {
     "data": {
      "image/png": "[encoded data removed]",
      "text/plain": [
       "<matplotlib.figure.Figure at 0x2431a852d68>"
      ]
     },
     "metadata": {},
     "output_type": "display_data"
    }
   ],
   "source": [
    "plot_learning_curve(estimator, \"PCA+KNN+std\",  X_pca2_train_std, y_pca2_train, train_sizes=np.linspace(0.1, 1.0, 5), cv = 10)"
   ]
  },
  {
   "cell_type": "markdown",
   "metadata": {},
   "source": [
    "## 後續優化：SVC / Ensemble"
   ]
  },
  {
   "cell_type": "markdown",
   "metadata": {
    "collapsed": true
   },
   "source": [
    "### SVC"
   ]
  },
  {
   "cell_type": "markdown",
   "metadata": {},
   "source": [
    "SVC_rbf + std"
   ]
  },
  {
   "cell_type": "code",
   "execution_count": 129,
   "metadata": {},
   "outputs": [],
   "source": [
    "from sklearn.svm import SVC"
   ]
  },
  {
   "cell_type": "code",
   "execution_count": 149,
   "metadata": {},
   "outputs": [
    {
     "data": {
      "text/plain": [
       "SVC(C=1, cache_size=200, class_weight=None, coef0=0.0,\n",
       "  decision_function_shape='ovr', degree=3, gamma='auto', kernel='rbf',\n",
       "  max_iter=-1, probability=False, random_state=None, shrinking=True,\n",
       "  tol=0.001, verbose=False)"
      ]
     },
     "execution_count": 149,
     "metadata": {},
     "output_type": "execute_result"
    }
   ],
   "source": [
    "svc_rbf = SVC(C = 1, kernel = 'rbf')\n",
    "svc_rbf.fit(X_train_std,y_train)"
   ]
  },
  {
   "cell_type": "code",
   "execution_count": 150,
   "metadata": {},
   "outputs": [
    {
     "name": "stdout",
     "output_type": "stream",
     "text": [
      "             precision    recall  f1-score   support\n",
      "\n",
      "          0       1.00      1.00      1.00        19\n",
      "          1       0.93      1.00      0.97        14\n",
      "          2       1.00      0.92      0.96        12\n",
      "\n",
      "avg / total       0.98      0.98      0.98        45\n",
      "\n",
      "[[19  0  0]\n",
      " [ 0 14  0]\n",
      " [ 0  1 11]]\n"
     ]
    }
   ],
   "source": [
    "print(metrics.classification_report(y_test, svc_rbf.predict(X_test_std)))\n",
    "print(metrics.confusion_matrix(y_test, svc_rbf.predict(X_test_std)))"
   ]
  },
  {
   "cell_type": "code",
   "execution_count": 135,
   "metadata": {
    "collapsed": true
   },
   "outputs": [],
   "source": [
    "estimator = SVC(C = 1, kernel = 'rbf')\n",
    "sc_svc_std = StandardScaler()\n",
    "sc_svc_std.fit(X_train)\n",
    "train_sizes, train_scores, valid_scores = learning_curve(estimator, sc_svc_std.transform(X), y, train_sizes=np.linspace(0.2, 1.0, 5), cv = 10)"
   ]
  },
  {
   "cell_type": "code",
   "execution_count": 136,
   "metadata": {
    "scrolled": false
   },
   "outputs": [
    {
     "data": {
      "text/plain": [
       "<module 'matplotlib.pyplot' from 'C:\\\\Users\\\\poduo\\\\Anaconda3\\\\lib\\\\site-packages\\\\matplotlib\\\\pyplot.py'>"
      ]
     },
     "execution_count": 136,
     "metadata": {},
     "output_type": "execute_result"
    },
    {
     "data": {
      "image/png": "[encoded data removed]",
      "text/plain": [
       "<matplotlib.figure.Figure at 0x2431be2cac8>"
      ]
     },
     "metadata": {},
     "output_type": "display_data"
    }
   ],
   "source": [
    "plot_learning_curve(estimator, \"SVC_rbf+std\",   sc_svc_std.transform(X), y, train_sizes=np.linspace(0.1, 1.0, 5), cv = 10)"
   ]
  },
  {
   "cell_type": "markdown",
   "metadata": {},
   "source": [
    "SVC_rbf + no std"
   ]
  },
  {
   "cell_type": "code",
   "execution_count": 129,
   "metadata": {
    "collapsed": true
   },
   "outputs": [],
   "source": [
    "from sklearn.svm import SVC"
   ]
  },
  {
   "cell_type": "code",
   "execution_count": 137,
   "metadata": {},
   "outputs": [
    {
     "data": {
      "text/plain": [
       "SVC(C=1, cache_size=200, class_weight=None, coef0=0.0,\n",
       "  decision_function_shape='ovr', degree=3, gamma='auto', kernel='rbf',\n",
       "  max_iter=-1, probability=False, random_state=None, shrinking=True,\n",
       "  tol=0.001, verbose=False)"
      ]
     },
     "execution_count": 137,
     "metadata": {},
     "output_type": "execute_result"
    }
   ],
   "source": [
    "svc_rbf_nostd = SVC(C = 1, kernel = 'rbf')\n",
    "svc_rbf_nostd.fit(X_train,y_train)"
   ]
  },
  {
   "cell_type": "code",
   "execution_count": 138,
   "metadata": {},
   "outputs": [
    {
     "name": "stdout",
     "output_type": "stream",
     "text": [
      "             precision    recall  f1-score   support\n",
      "\n",
      "          0       1.00      1.00      1.00        19\n",
      "          1       1.00      0.93      0.96        14\n",
      "          2       0.92      1.00      0.96        12\n",
      "\n",
      "avg / total       0.98      0.98      0.98        45\n",
      "\n",
      "[[19  0  0]\n",
      " [ 0 13  1]\n",
      " [ 0  0 12]]\n"
     ]
    }
   ],
   "source": [
    "print(metrics.classification_report(y_test, svc_rbf_nostd.predict(X_test)))\n",
    "print(metrics.confusion_matrix(y_test, svc_rbf_nostd.predict(X_test)))"
   ]
  },
  {
   "cell_type": "code",
   "execution_count": 139,
   "metadata": {
    "collapsed": true
   },
   "outputs": [],
   "source": [
    "estimator = SVC(C = 1, kernel = 'rbf')\n",
    "\n",
    "train_sizes, train_scores, valid_scores = learning_curve(estimator, X, y, train_sizes=np.linspace(0.2, 1.0, 5), cv = 10)"
   ]
  },
  {
   "cell_type": "code",
   "execution_count": 140,
   "metadata": {
    "scrolled": false
   },
   "outputs": [
    {
     "data": {
      "text/plain": [
       "<module 'matplotlib.pyplot' from 'C:\\\\Users\\\\poduo\\\\Anaconda3\\\\lib\\\\site-packages\\\\matplotlib\\\\pyplot.py'>"
      ]
     },
     "execution_count": 140,
     "metadata": {},
     "output_type": "execute_result"
    },
    {
     "data": {
      "image/png": "[encoded data removed]",
      "text/plain": [
       "<matplotlib.figure.Figure at 0x2431bcc9e80>"
      ]
     },
     "metadata": {},
     "output_type": "display_data"
    }
   ],
   "source": [
    "plot_learning_curve(estimator, \"SVC_rbf + no std\", X, y, train_sizes=np.linspace(0.1, 1.0, 5), cv = 10)"
   ]
  },
  {
   "cell_type": "markdown",
   "metadata": {},
   "source": [
    "SVC_rbf + PCA + no std"
   ]
  },
  {
   "cell_type": "code",
   "execution_count": 129,
   "metadata": {
    "collapsed": true
   },
   "outputs": [],
   "source": [
    "from sklearn.svm import SVC"
   ]
  },
  {
   "cell_type": "code",
   "execution_count": 151,
   "metadata": {},
   "outputs": [
    {
     "data": {
      "text/plain": [
       "SVC(C=1, cache_size=200, class_weight=None, coef0=0.0,\n",
       "  decision_function_shape='ovr', degree=3, gamma='auto', kernel='rbf',\n",
       "  max_iter=-1, probability=False, random_state=None, shrinking=True,\n",
       "  tol=0.001, verbose=False)"
      ]
     },
     "execution_count": 151,
     "metadata": {},
     "output_type": "execute_result"
    }
   ],
   "source": [
    "svc_rbf_pca2_nostd = SVC(C = 1, kernel = 'rbf')\n",
    "svc_rbf_pca2_nostd.fit(X_pca2_train,y_pca2_train)"
   ]
  },
  {
   "cell_type": "code",
   "execution_count": 152,
   "metadata": {
    "scrolled": true
   },
   "outputs": [
    {
     "name": "stdout",
     "output_type": "stream",
     "text": [
      "             precision    recall  f1-score   support\n",
      "\n",
      "          0       1.00      1.00      1.00        15\n",
      "          1       0.87      0.93      0.90        14\n",
      "          2       0.93      0.88      0.90        16\n",
      "\n",
      "avg / total       0.93      0.93      0.93        45\n",
      "\n",
      "[[15  0  0]\n",
      " [ 0 13  1]\n",
      " [ 0  2 14]]\n"
     ]
    }
   ],
   "source": [
    "print(metrics.classification_report(y_pca2_test, svc_rbf_pca2_nostd.predict(X_pca2_test)))\n",
    "print(metrics.confusion_matrix(y_pca2_test, svc_rbf_pca2_nostd.predict(X_pca2_test)))"
   ]
  },
  {
   "cell_type": "markdown",
   "metadata": {},
   "source": [
    "SVC_rbf + PCA + std"
   ]
  },
  {
   "cell_type": "code",
   "execution_count": 129,
   "metadata": {
    "collapsed": true
   },
   "outputs": [],
   "source": [
    "from sklearn.svm import SVC"
   ]
  },
  {
   "cell_type": "code",
   "execution_count": 153,
   "metadata": {},
   "outputs": [
    {
     "data": {
      "text/plain": [
       "SVC(C=1, cache_size=200, class_weight=None, coef0=0.0,\n",
       "  decision_function_shape='ovr', degree=3, gamma='auto', kernel='rbf',\n",
       "  max_iter=-1, probability=False, random_state=None, shrinking=True,\n",
       "  tol=0.001, verbose=False)"
      ]
     },
     "execution_count": 153,
     "metadata": {},
     "output_type": "execute_result"
    }
   ],
   "source": [
    "svc_rbf_pca2 = SVC(C = 1, kernel = 'rbf')\n",
    "svc_rbf_pca2.fit(X_pca2_train_std,y_pca2_train)"
   ]
  },
  {
   "cell_type": "code",
   "execution_count": 154,
   "metadata": {
    "scrolled": true
   },
   "outputs": [
    {
     "name": "stdout",
     "output_type": "stream",
     "text": [
      "             precision    recall  f1-score   support\n",
      "\n",
      "          0       1.00      1.00      1.00        15\n",
      "          1       0.93      1.00      0.97        14\n",
      "          2       1.00      0.94      0.97        16\n",
      "\n",
      "avg / total       0.98      0.98      0.98        45\n",
      "\n",
      "[[15  0  0]\n",
      " [ 0 14  0]\n",
      " [ 0  1 15]]\n"
     ]
    }
   ],
   "source": [
    "print(metrics.classification_report(y_pca2_test, svc_rbf_pca2.predict(X_pca2_test_std)))\n",
    "print(metrics.confusion_matrix(y_pca2_test, svc_rbf_pca2.predict(X_pca2_test_std)))"
   ]
  },
  {
   "cell_type": "markdown",
   "metadata": {},
   "source": [
    "SVC_poly + std"
   ]
  },
  {
   "cell_type": "code",
   "execution_count": 129,
   "metadata": {
    "collapsed": true
   },
   "outputs": [],
   "source": [
    "from sklearn.svm import SVC"
   ]
  },
  {
   "cell_type": "code",
   "execution_count": 155,
   "metadata": {},
   "outputs": [
    {
     "data": {
      "text/plain": [
       "SVC(C=1, cache_size=200, class_weight=None, coef0=0.0,\n",
       "  decision_function_shape='ovr', degree=3, gamma='auto', kernel='poly',\n",
       "  max_iter=-1, probability=False, random_state=None, shrinking=True,\n",
       "  tol=0.001, verbose=False)"
      ]
     },
     "execution_count": 155,
     "metadata": {},
     "output_type": "execute_result"
    }
   ],
   "source": [
    "svc_poly = SVC(C = 1, kernel = 'poly')\n",
    "svc_poly.fit(X_train_std,y_train)"
   ]
  },
  {
   "cell_type": "code",
   "execution_count": 156,
   "metadata": {
    "scrolled": false
   },
   "outputs": [
    {
     "name": "stdout",
     "output_type": "stream",
     "text": [
      "             precision    recall  f1-score   support\n",
      "\n",
      "          0       1.00      1.00      1.00        19\n",
      "          1       0.78      1.00      0.88        14\n",
      "          2       1.00      0.67      0.80        12\n",
      "\n",
      "avg / total       0.93      0.91      0.91        45\n",
      "\n",
      "[[19  0  0]\n",
      " [ 0 14  0]\n",
      " [ 0  4  8]]\n"
     ]
    }
   ],
   "source": [
    "print(metrics.classification_report(y_test, svc_poly.predict(X_test_std)))\n",
    "print(metrics.confusion_matrix(y_test, svc_poly.predict(X_test_std)))"
   ]
  },
  {
   "cell_type": "markdown",
   "metadata": {},
   "source": [
    "SVC_linear + std"
   ]
  },
  {
   "cell_type": "code",
   "execution_count": 129,
   "metadata": {
    "collapsed": true
   },
   "outputs": [],
   "source": [
    "from sklearn.svm import SVC"
   ]
  },
  {
   "cell_type": "code",
   "execution_count": 157,
   "metadata": {},
   "outputs": [
    {
     "data": {
      "text/plain": [
       "SVC(C=1, cache_size=200, class_weight=None, coef0=0.0,\n",
       "  decision_function_shape='ovr', degree=3, gamma='auto', kernel='linear',\n",
       "  max_iter=-1, probability=False, random_state=None, shrinking=True,\n",
       "  tol=0.001, verbose=False)"
      ]
     },
     "execution_count": 157,
     "metadata": {},
     "output_type": "execute_result"
    }
   ],
   "source": [
    "svc_linear = SVC(C = 1, kernel = 'linear')\n",
    "svc_linear.fit(X_train_std,y_train)"
   ]
  },
  {
   "cell_type": "code",
   "execution_count": 158,
   "metadata": {
    "scrolled": true
   },
   "outputs": [
    {
     "name": "stdout",
     "output_type": "stream",
     "text": [
      "             precision    recall  f1-score   support\n",
      "\n",
      "          0       1.00      1.00      1.00        19\n",
      "          1       0.92      0.86      0.89        14\n",
      "          2       0.85      0.92      0.88        12\n",
      "\n",
      "avg / total       0.94      0.93      0.93        45\n",
      "\n",
      "[[19  0  0]\n",
      " [ 0 12  2]\n",
      " [ 0  1 11]]\n"
     ]
    }
   ],
   "source": [
    "print(metrics.classification_report(y_test, svc_linear.predict(X_test_std)))\n",
    "print(metrics.confusion_matrix(y_test, svc_linear.predict(X_test_std)))"
   ]
  },
  {
   "cell_type": "markdown",
   "metadata": {},
   "source": [
    "### Ensemble"
   ]
  },
  {
   "cell_type": "markdown",
   "metadata": {},
   "source": [
    "#### Voting"
   ]
  },
  {
   "cell_type": "code",
   "execution_count": 173,
   "metadata": {
    "collapsed": true
   },
   "outputs": [],
   "source": [
    "from sklearn.ensemble import VotingClassifier\n",
    "\n",
    "from sklearn.svm import SVC\n",
    "from sklearn.neighbors import KNeighborsClassifier\n",
    "from sklearn.tree import DecisionTreeClassifier\n",
    "\n",
    "from sklearn import metrics"
   ]
  },
  {
   "cell_type": "code",
   "execution_count": 183,
   "metadata": {},
   "outputs": [
    {
     "name": "stdout",
     "output_type": "stream",
     "text": [
      "             precision    recall  f1-score   support\n",
      "\n",
      "          0       1.00      1.00      1.00        19\n",
      "          1       0.93      1.00      0.97        14\n",
      "          2       1.00      0.92      0.96        12\n",
      "\n",
      "avg / total       0.98      0.98      0.98        45\n",
      "\n"
     ]
    }
   ],
   "source": [
    "clf1 = KNeighborsClassifier(n_neighbors=3, weights='uniform')\n",
    "clf2 = SVC(C = 1, kernel = 'rbf', probability = True)\n",
    "clf3 = SVC(C = 1, kernel = 'poly', probability = True)\n",
    "clf4 = SVC(C = 1, kernel = 'linear', probability = True)\n",
    "clf5 = DecisionTreeClassifier(max_depth= 5)\n",
    "\n",
    "# vote = VotingClassifier(estimators = [('KNN', clf1), ('SVC_r', clf2), ('SVC_p', clf3), ('SVC_l', clf4), ('DT', clf5)], \\\n",
    "#                        voting = 'soft', \\\n",
    "#                        weights = [1, 2, 1, 1, 2])\n",
    "\n",
    "vote = VotingClassifier(estimators = [('KNN', clf1), ('SVC_r', clf2), ('SVC_p', clf3), ('SVC_l', clf4)], \\\n",
    "                       voting = 'soft', \\\n",
    "                       weights = [1, 5, 1, 1])\n",
    "\n",
    "vote.fit(X_train_std, y_train)\n",
    "\n",
    "print(metrics.classification_report(y_test, vote.predict(X_test_std)))"
   ]
  },
  {
   "cell_type": "markdown",
   "metadata": {},
   "source": [
    "#### Bagging"
   ]
  },
  {
   "cell_type": "code",
   "execution_count": 184,
   "metadata": {
    "collapsed": true
   },
   "outputs": [],
   "source": [
    "from sklearn.ensemble import BaggingClassifier"
   ]
  },
  {
   "cell_type": "markdown",
   "metadata": {},
   "source": [
    "#### Use OOB"
   ]
  },
  {
   "cell_type": "code",
   "execution_count": 206,
   "metadata": {},
   "outputs": [
    {
     "name": "stdout",
     "output_type": "stream",
     "text": [
      "oob_score： 0.96\n"
     ]
    }
   ],
   "source": [
    "bagg = BaggingClassifier(n_estimators= 100, oob_score= True)\n",
    "bagg.fit(X, y)\n",
    "print('oob_score：', bagg.oob_score_)"
   ]
  },
  {
   "cell_type": "code",
   "execution_count": 207,
   "metadata": {},
   "outputs": [
    {
     "name": "stdout",
     "output_type": "stream",
     "text": [
      "             precision    recall  f1-score   support\n",
      "\n",
      "          0       1.00      1.00      1.00        19\n",
      "          1       0.93      0.93      0.93        14\n",
      "          2       0.92      0.92      0.92        12\n",
      "\n",
      "avg / total       0.96      0.96      0.96        45\n",
      "\n"
     ]
    }
   ],
   "source": [
    "bagg2 = BaggingClassifier(n_estimators= 100)\n",
    "bagg2.fit(X_train, y_train)\n",
    "print(metrics.classification_report(y_test, bagg2.predict(X_test)))"
   ]
  },
  {
   "cell_type": "code",
   "execution_count": 209,
   "metadata": {},
   "outputs": [
    {
     "name": "stdout",
     "output_type": "stream",
     "text": [
      "oob_score： 0.973333333333\n"
     ]
    }
   ],
   "source": [
    "bagg3 = BaggingClassifier(base_estimator = SVC(C = 1, kernel = 'rbf', probability = True),\n",
    "                         n_estimators= 100, oob_score= True)\n",
    "bagg3.fit(X, y)\n",
    "print('oob_score：', bagg3.oob_score_)"
   ]
  },
  {
   "cell_type": "code",
   "execution_count": 214,
   "metadata": {},
   "outputs": [
    {
     "name": "stdout",
     "output_type": "stream",
     "text": [
      "             precision    recall  f1-score   support\n",
      "\n",
      "          0       1.00      1.00      1.00        19\n",
      "          1       1.00      0.93      0.96        14\n",
      "          2       0.92      1.00      0.96        12\n",
      "\n",
      "avg / total       0.98      0.98      0.98        45\n",
      "\n"
     ]
    }
   ],
   "source": [
    "bagg4 = BaggingClassifier(base_estimator = SVC(C = 1, kernel = 'rbf', probability = True),\n",
    "                         n_estimators= 100, oob_score= True)\n",
    "bagg4.fit(X_train, y_train)\n",
    "print(metrics.classification_report(y_test, bagg4.predict(X_test)))"
   ]
  },
  {
   "cell_type": "markdown",
   "metadata": {},
   "source": [
    "#### Random Forest"
   ]
  },
  {
   "cell_type": "code",
   "execution_count": 215,
   "metadata": {
    "collapsed": true
   },
   "outputs": [],
   "source": [
    "from sklearn.ensemble import RandomForestClassifier"
   ]
  },
  {
   "cell_type": "code",
   "execution_count": 223,
   "metadata": {},
   "outputs": [
    {
     "name": "stdout",
     "output_type": "stream",
     "text": [
      "oob_score： 0.96\n"
     ]
    }
   ],
   "source": [
    "rfc_oob = RandomForestClassifier(n_estimators= 90, criterion='gini', max_features= 'auto', oob_score=True)\n",
    "rfc_oob.fit(X, y)\n",
    "print('oob_score：', rfc_oob.oob_score_)"
   ]
  },
  {
   "cell_type": "code",
   "execution_count": 230,
   "metadata": {},
   "outputs": [
    {
     "name": "stdout",
     "output_type": "stream",
     "text": [
      "             precision    recall  f1-score   support\n",
      "\n",
      "          0       1.00      1.00      1.00        19\n",
      "          1       0.93      0.93      0.93        14\n",
      "          2       0.92      0.92      0.92        12\n",
      "\n",
      "avg / total       0.96      0.96      0.96        45\n",
      "\n"
     ]
    }
   ],
   "source": [
    "rfc = RandomForestClassifier(n_estimators= 100, criterion='gini', max_features= 'auto')\n",
    "rfc.fit(X_train, y_train)\n",
    "print(metrics.classification_report(y_test, rfc.predict(X_test)))"
   ]
  },
  {
   "cell_type": "markdown",
   "metadata": {},
   "source": [
    "#### Adaboost"
   ]
  },
  {
   "cell_type": "code",
   "execution_count": null,
   "metadata": {
    "collapsed": true
   },
   "outputs": [],
   "source": []
  },
  {
   "cell_type": "code",
   "execution_count": null,
   "metadata": {
    "collapsed": true
   },
   "outputs": [],
   "source": []
  }
 ],
 "metadata": {
  "kernelspec": {
   "display_name": "Python 3",
   "language": "python",
   "name": "python3"
  },
  "language_info": {
   "codemirror_mode": {
    "name": "ipython",
    "version": 3
   },
   "file_extension": ".py",
   "mimetype": "text/x-python",
   "name": "python",
   "nbconvert_exporter": "python",
   "pygments_lexer": "ipython3",
   "version": "3.6.3"
  }
 },
 "nbformat": 4,
 "nbformat_minor": 2
}
