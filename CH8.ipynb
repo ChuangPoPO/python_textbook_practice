{
 "cells": [
  {
   "cell_type": "markdown",
   "metadata": {},
   "source": [
    "# 8.1 類別"
   ]
  },
  {
   "cell_type": "markdown",
   "metadata": {},
   "source": [
    "### 8-1-1 實作類別"
   ]
  },
  {
   "cell_type": "code",
   "execution_count": 3,
   "metadata": {
    "collapsed": true,
    "scrolled": true
   },
   "outputs": [],
   "source": [
    "class Animal():\n",
    "    def __init__(self, name):\n",
    "        print(type(self))\n",
    "        print(type(name))\n",
    "        self.name = name"
   ]
  },
  {
   "cell_type": "code",
   "execution_count": 4,
   "metadata": {},
   "outputs": [
    {
     "name": "stdout",
     "output_type": "stream",
     "text": [
      "<class '__main__.Animal'>\n",
      "<class 'str'>\n",
      "動物\n"
     ]
    }
   ],
   "source": [
    "a = Animal('動物')\n",
    "print(a.name)"
   ]
  },
  {
   "cell_type": "markdown",
   "metadata": {},
   "source": [
    "### 8-1-2 繼承"
   ]
  },
  {
   "cell_type": "code",
   "execution_count": 6,
   "metadata": {
    "collapsed": true,
    "scrolled": true
   },
   "outputs": [],
   "source": [
    "class Animal():\n",
    "    def __init__(self, name):\n",
    "        self.name = name"
   ]
  },
  {
   "cell_type": "code",
   "execution_count": 9,
   "metadata": {
    "collapsed": true
   },
   "outputs": [],
   "source": [
    "# 繼承\n",
    "class Dog(Animal):\n",
    "    def __init__(self, name):\n",
    "        super().__init__('狗 - ' + name)"
   ]
  },
  {
   "cell_type": "code",
   "execution_count": 10,
   "metadata": {},
   "outputs": [
    {
     "name": "stdout",
     "output_type": "stream",
     "text": [
      "動物\n",
      "狗 - 憨吉\n"
     ]
    }
   ],
   "source": [
    "a = Animal('動物')\n",
    "d = Dog('憨吉')\n",
    "print(a.name)\n",
    "print(d.name)"
   ]
  },
  {
   "cell_type": "markdown",
   "metadata": {
    "collapsed": true
   },
   "source": [
    "### 8-1-3 覆寫函式"
   ]
  },
  {
   "cell_type": "code",
   "execution_count": 1,
   "metadata": {
    "collapsed": true
   },
   "outputs": [],
   "source": [
    "class Animal():\n",
    "    def __init__(self, name):\n",
    "        self.name = name\n",
    "    def sound(self):\n",
    "        pass"
   ]
  },
  {
   "cell_type": "code",
   "execution_count": 2,
   "metadata": {
    "collapsed": true
   },
   "outputs": [],
   "source": [
    "# 繼承\n",
    "class Dog(Animal):\n",
    "    def __init__(self, name):\n",
    "        super().__init__('(狗) ' + name)\n",
    "    def sound(self):\n",
    "        return '汪汪'"
   ]
  },
  {
   "cell_type": "code",
   "execution_count": 4,
   "metadata": {},
   "outputs": [
    {
     "name": "stdout",
     "output_type": "stream",
     "text": [
      "(狗) 憨吉\n",
      "汪汪\n"
     ]
    }
   ],
   "source": [
    "d = Dog('憨吉')\n",
    "print(d.name)\n",
    "print(d.sound())"
   ]
  },
  {
   "cell_type": "markdown",
   "metadata": {
    "collapsed": true
   },
   "source": [
    "### 8-1-4 新增參數的覆寫函式"
   ]
  },
  {
   "cell_type": "code",
   "execution_count": 5,
   "metadata": {
    "collapsed": true
   },
   "outputs": [],
   "source": [
    "class Animal():\n",
    "    def __init__(self, name):\n",
    "        self.name = name\n",
    "    def sound(self):\n",
    "        pass"
   ]
  },
  {
   "cell_type": "markdown",
   "metadata": {},
   "source": [
    "覆寫函式時，新增參數\n",
    "新增 leg 參數"
   ]
  },
  {
   "cell_type": "code",
   "execution_count": 6,
   "metadata": {
    "collapsed": true
   },
   "outputs": [],
   "source": [
    "# 繼承\n",
    "class Dog(Animal):\n",
    "    def __init__(self, name, leg):\n",
    "        super().__init__('(狗) ' + name)\n",
    "        self.leg = leg\n",
    "    def sound(self):\n",
    "        return '汪汪'"
   ]
  },
  {
   "cell_type": "code",
   "execution_count": 7,
   "metadata": {},
   "outputs": [
    {
     "name": "stdout",
     "output_type": "stream",
     "text": [
      "(狗) 憨吉 有 4 四條腿\n",
      "(狗) 憨吉 汪汪\n"
     ]
    }
   ],
   "source": [
    "d = Dog('憨吉', 4)\n",
    "print(d.name, '有', d.leg, '四條腿')\n",
    "print(d.name, d.sound())"
   ]
  },
  {
   "cell_type": "markdown",
   "metadata": {
    "collapsed": true
   },
   "source": [
    "### 8-1-5 新增函式"
   ]
  },
  {
   "cell_type": "code",
   "execution_count": 8,
   "metadata": {
    "collapsed": true
   },
   "outputs": [],
   "source": [
    "class Animal():\n",
    "    def __init__(self, name):\n",
    "        self.name = name\n",
    "    def sound(self):\n",
    "        pass"
   ]
  },
  {
   "cell_type": "markdown",
   "metadata": {},
   "source": [
    "在衍伸類別內，**新增基礎類別沒有的函式**\n",
    "\n",
    "新增 move 函式"
   ]
  },
  {
   "cell_type": "code",
   "execution_count": 12,
   "metadata": {
    "collapsed": true
   },
   "outputs": [],
   "source": [
    "# 繼承\n",
    "class Dog(Animal):\n",
    "    def __init__(self, name, leg):\n",
    "        super().__init__('(狗) ' + name)\n",
    "        self.leg = leg\n",
    "    def sound(self):\n",
    "        return '汪汪'\n",
    "    def move(self):\n",
    "        print(self.name + '在散步')"
   ]
  },
  {
   "cell_type": "code",
   "execution_count": 13,
   "metadata": {},
   "outputs": [
    {
     "name": "stdout",
     "output_type": "stream",
     "text": [
      "(狗) 憨吉 汪汪\n",
      "(狗) 憨吉在散步\n"
     ]
    }
   ],
   "source": [
    "d = Dog('憨吉', 4)\n",
    "print(d.name, d.sound())\n",
    "d.move()"
   ]
  },
  {
   "cell_type": "markdown",
   "metadata": {
    "collapsed": true
   },
   "source": [
    "### 8-1-6 多型(polymorphism)"
   ]
  },
  {
   "cell_type": "markdown",
   "metadata": {},
   "source": [
    "- 多個類別可以定義**相同的**函式名稱\n",
    "- 而相同的函式名稱在不同類別可以定義**各自特有的功能**\n",
    "    * call：物件的函式名稱\n",
    "\t* output：不同的物件都定義此 相同函式名稱 而產生的**不同功能**\n",
    "- python 中，類別不一定要有繼承關係"
   ]
  },
  {
   "cell_type": "code",
   "execution_count": 14,
   "metadata": {
    "collapsed": true
   },
   "outputs": [],
   "source": [
    "class Animal():\n",
    "    def __init__(self, name):\n",
    "        self.name = name\n",
    "    def who(self):\n",
    "        return self.name\n",
    "    def sound(self):\n",
    "        pass"
   ]
  },
  {
   "cell_type": "code",
   "execution_count": 19,
   "metadata": {
    "collapsed": true
   },
   "outputs": [],
   "source": [
    "# 繼承\n",
    "class Dog(Animal):\n",
    "    def __init__(self, name):\n",
    "        super().__init__('(狗) ' + name)\n",
    "    def sound(self):\n",
    "        return '汪汪'"
   ]
  },
  {
   "cell_type": "code",
   "execution_count": 20,
   "metadata": {
    "collapsed": true
   },
   "outputs": [],
   "source": [
    "class Bird():\n",
    "    def __init__(self, name):\n",
    "        self.name = '(鳥) ' + name\n",
    "    def who(self):\n",
    "        return self.name\n",
    "    def sound(self):\n",
    "        return '啾啾'"
   ]
  },
  {
   "cell_type": "code",
   "execution_count": 21,
   "metadata": {
    "collapsed": true
   },
   "outputs": [],
   "source": [
    "def talk(obj):\n",
    "    print(obj.who(), '正在', obj.sound())"
   ]
  },
  {
   "cell_type": "code",
   "execution_count": 22,
   "metadata": {},
   "outputs": [
    {
     "name": "stdout",
     "output_type": "stream",
     "text": [
      "動物 正在 None\n",
      "(狗) 憨吉 正在 汪汪\n",
      "(鳥) 阿弟 正在 啾啾\n"
     ]
    }
   ],
   "source": [
    "a = Animal('動物')\n",
    "talk(a)\n",
    "d = Dog('憨吉')\n",
    "talk(d)\n",
    "b = Bird('阿弟')\n",
    "talk(b)"
   ]
  },
  {
   "cell_type": "markdown",
   "metadata": {
    "collapsed": true
   },
   "source": [
    "### 8-1-7 類別內無法直接存取的變數"
   ]
  },
  {
   "cell_type": "markdown",
   "metadata": {},
   "source": [
    "- 目的：資料保護\n",
    "- 用法：變數名稱前加上 `__`\n",
    "- e.g. `__變數名稱`\n",
    "- 作用：其他物件 無法直接使用 `類別物件.__變數名稱` 來存取\n",
    "- 解法：需要在類別內定義函式，回傳 `self.__變數名稱` 才能讓 其他物件 存取到該變數"
   ]
  },
  {
   "cell_type": "code",
   "execution_count": 18,
   "metadata": {
    "collapsed": true
   },
   "outputs": [],
   "source": [
    "class Animal():\n",
    "    def __init__(self, name):\n",
    "        self.__name = name\n",
    "    def sound(self):\n",
    "        pass\n",
    "    def show_name(self):\n",
    "        return self.__name"
   ]
  },
  {
   "cell_type": "code",
   "execution_count": 19,
   "metadata": {
    "collapsed": true
   },
   "outputs": [],
   "source": [
    "# 繼承\n",
    "class Dog(Animal):\n",
    "    def __init__(self, name, leg):\n",
    "        super().__init__('(狗) ' + name)\n",
    "        self.leg = leg\n",
    "    def sound(self):\n",
    "        return '汪汪'"
   ]
  },
  {
   "cell_type": "code",
   "execution_count": 20,
   "metadata": {},
   "outputs": [
    {
     "name": "stdout",
     "output_type": "stream",
     "text": [
      "(狗) 憨吉 有 4 四條腿\n"
     ]
    }
   ],
   "source": [
    "d = Dog('憨吉', 4)\n",
    "# print(d.name, '有', d.leg, '四條腿')\n",
    "print(d.show_name(), '有', d.leg, '四條腿')"
   ]
  },
  {
   "cell_type": "markdown",
   "metadata": {
    "collapsed": true
   },
   "source": [
    "### 8-1-8 特殊函式(special method)"
   ]
  },
  {
   "cell_type": "code",
   "execution_count": 35,
   "metadata": {
    "collapsed": true
   },
   "outputs": [],
   "source": [
    "class Animal():\n",
    "    def __init__(self, name):\n",
    "        self.__name = name\n",
    "    def sound(self):\n",
    "        pass\n",
    "    def show_name(self):\n",
    "        return self.__name\n",
    "    \n",
    "    def eq(self, other):\n",
    "        return self.__name == other.show_name()\n",
    "    def __eq__(self, other):\n",
    "        return self.__name == other.show_name()\n",
    "    "
   ]
  },
  {
   "cell_type": "code",
   "execution_count": 36,
   "metadata": {
    "collapsed": true
   },
   "outputs": [],
   "source": [
    "# 繼承\n",
    "class Dog(Animal):\n",
    "    def __init__(self, name, leg):\n",
    "        super().__init__('(狗) ' + name)\n",
    "        self.leg = leg\n",
    "    def sound(self):\n",
    "        return '汪汪'"
   ]
  },
  {
   "cell_type": "code",
   "execution_count": 37,
   "metadata": {},
   "outputs": [
    {
     "name": "stdout",
     "output_type": "stream",
     "text": [
      "True\n",
      "True\n",
      "False\n",
      "False\n"
     ]
    }
   ],
   "source": [
    "d1 = Dog('阿弟', 4)\n",
    "d2 = Dog('阿弟', 4)\n",
    "d3 = Dog('憨吉', 4)\n",
    "print(d1 == d2)\n",
    "print(d1.eq(d2))\n",
    "print(d1 == d3)\n",
    "print(d1.eq(d3))"
   ]
  },
  {
   "cell_type": "markdown",
   "metadata": {
    "collapsed": true
   },
   "source": [
    "### 8-1-9 組合(composition)"
   ]
  },
  {
   "cell_type": "markdown",
   "metadata": {},
   "source": [
    "- 類別與類別間不全然是繼承關係\n",
    "- 也可能 類別A 是 類別B 的一部分\n",
    "\t- ex. 腳是動物的一部分，但腳不是動物，腳無法繼承動物\n",
    "\t- 因此在 動物類別 初始化時，將 腳 當成參數傳入，讓 腳 為 動物 的一部分"
   ]
  },
  {
   "cell_type": "code",
   "execution_count": 40,
   "metadata": {
    "collapsed": true
   },
   "outputs": [],
   "source": [
    "class Leg():\n",
    "    def __init__(self, num, look):\n",
    "        self.num = num\n",
    "        self.look = look"
   ]
  },
  {
   "cell_type": "code",
   "execution_count": 43,
   "metadata": {
    "collapsed": true
   },
   "outputs": [],
   "source": [
    "class Animal():\n",
    "    def __init__(self, name, leg):\n",
    "        self.__name = name\n",
    "        self.leg = leg\n",
    "    def show_name(self):\n",
    "        return self.__name\n",
    "    def show(self):\n",
    "        print(self.show_name(), '有', self.leg.num, '隻', self.leg.look, '腳')"
   ]
  },
  {
   "cell_type": "code",
   "execution_count": 44,
   "metadata": {},
   "outputs": [
    {
     "name": "stdout",
     "output_type": "stream",
     "text": [
      "狗 有 4 隻 短短的 腳\n"
     ]
    }
   ],
   "source": [
    "leg = Leg(4, '短短的')\n",
    "a = Animal('狗', leg)\n",
    "a.show()"
   ]
  },
  {
   "cell_type": "markdown",
   "metadata": {},
   "source": [
    "### 8-1-10"
   ]
  },
  {
   "cell_type": "code",
   "execution_count": null,
   "metadata": {
    "collapsed": true
   },
   "outputs": [],
   "source": []
  },
  {
   "cell_type": "code",
   "execution_count": null,
   "metadata": {
    "collapsed": true
   },
   "outputs": [],
   "source": []
  },
  {
   "cell_type": "markdown",
   "metadata": {},
   "source": [
    "### 8-1-11"
   ]
  },
  {
   "cell_type": "code",
   "execution_count": null,
   "metadata": {
    "collapsed": true
   },
   "outputs": [],
   "source": []
  },
  {
   "cell_type": "code",
   "execution_count": null,
   "metadata": {
    "collapsed": true
   },
   "outputs": [],
   "source": []
  },
  {
   "cell_type": "markdown",
   "metadata": {},
   "source": [
    "# 8.2 例外(exception)"
   ]
  },
  {
   "cell_type": "code",
   "execution_count": null,
   "metadata": {
    "collapsed": true
   },
   "outputs": [],
   "source": []
  }
 ],
 "metadata": {
  "kernelspec": {
   "display_name": "Python 3",
   "language": "python",
   "name": "python3"
  },
  "language_info": {
   "codemirror_mode": {
    "name": "ipython",
    "version": 3
   },
   "file_extension": ".py",
   "mimetype": "text/x-python",
   "name": "python",
   "nbconvert_exporter": "python",
   "pygments_lexer": "ipython3",
   "version": "3.6.3"
  }
 },
 "nbformat": 4,
 "nbformat_minor": 2
}
